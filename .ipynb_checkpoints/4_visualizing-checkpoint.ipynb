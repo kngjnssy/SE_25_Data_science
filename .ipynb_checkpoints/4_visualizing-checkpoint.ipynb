{
 "cells": [
  {
   "cell_type": "markdown",
   "id": "dietary-belize",
   "metadata": {},
   "source": [
    "### Visualizing data and Creating dataframes \n",
    "#### Reading a .csv file"
   ]
  },
  {
   "cell_type": "code",
   "execution_count": 102,
   "id": "worse-broadcast",
   "metadata": {},
   "outputs": [
    {
     "data": {
      "text/plain": [
       "(96453, 12)"
      ]
     },
     "execution_count": 102,
     "metadata": {},
     "output_type": "execute_result"
    }
   ],
   "source": [
    "import pandas as pd\n",
    "# import matplotlib as plt - this throws an error at plt.show()\n",
    "import matplotlib.pyplot as plt\n",
    "\n",
    "df = pd.read_csv('weatherHistory.csv')\n",
    "df.shape"
   ]
  },
  {
   "cell_type": "code",
   "execution_count": 20,
   "id": "insured-miniature",
   "metadata": {},
   "outputs": [
    {
     "data": {
      "text/html": [
       "<div>\n",
       "<style scoped>\n",
       "    .dataframe tbody tr th:only-of-type {\n",
       "        vertical-align: middle;\n",
       "    }\n",
       "\n",
       "    .dataframe tbody tr th {\n",
       "        vertical-align: top;\n",
       "    }\n",
       "\n",
       "    .dataframe thead th {\n",
       "        text-align: right;\n",
       "    }\n",
       "</style>\n",
       "<table border=\"1\" class=\"dataframe\">\n",
       "  <thead>\n",
       "    <tr style=\"text-align: right;\">\n",
       "      <th></th>\n",
       "      <th>Formatted Date</th>\n",
       "      <th>Summary</th>\n",
       "      <th>Precip Type</th>\n",
       "      <th>Temperature (C)</th>\n",
       "      <th>Apparent Temperature (C)</th>\n",
       "      <th>Humidity</th>\n",
       "      <th>Wind Speed (km/h)</th>\n",
       "      <th>Wind Bearing (degrees)</th>\n",
       "      <th>Visibility (km)</th>\n",
       "      <th>Loud Cover</th>\n",
       "      <th>Pressure (millibars)</th>\n",
       "      <th>Daily Summary</th>\n",
       "    </tr>\n",
       "  </thead>\n",
       "  <tbody>\n",
       "    <tr>\n",
       "      <th>0</th>\n",
       "      <td>2006-04-01 00:00:00.000 +0200</td>\n",
       "      <td>Partly Cloudy</td>\n",
       "      <td>rain</td>\n",
       "      <td>9.472222</td>\n",
       "      <td>7.388889</td>\n",
       "      <td>0.89</td>\n",
       "      <td>14.1197</td>\n",
       "      <td>251.0</td>\n",
       "      <td>15.8263</td>\n",
       "      <td>0.0</td>\n",
       "      <td>1015.13</td>\n",
       "      <td>Partly cloudy throughout the day.</td>\n",
       "    </tr>\n",
       "    <tr>\n",
       "      <th>1</th>\n",
       "      <td>2006-04-01 01:00:00.000 +0200</td>\n",
       "      <td>Partly Cloudy</td>\n",
       "      <td>rain</td>\n",
       "      <td>9.355556</td>\n",
       "      <td>7.227778</td>\n",
       "      <td>0.86</td>\n",
       "      <td>14.2646</td>\n",
       "      <td>259.0</td>\n",
       "      <td>15.8263</td>\n",
       "      <td>0.0</td>\n",
       "      <td>1015.63</td>\n",
       "      <td>Partly cloudy throughout the day.</td>\n",
       "    </tr>\n",
       "    <tr>\n",
       "      <th>2</th>\n",
       "      <td>2006-04-01 02:00:00.000 +0200</td>\n",
       "      <td>Mostly Cloudy</td>\n",
       "      <td>rain</td>\n",
       "      <td>9.377778</td>\n",
       "      <td>9.377778</td>\n",
       "      <td>0.89</td>\n",
       "      <td>3.9284</td>\n",
       "      <td>204.0</td>\n",
       "      <td>14.9569</td>\n",
       "      <td>0.0</td>\n",
       "      <td>1015.94</td>\n",
       "      <td>Partly cloudy throughout the day.</td>\n",
       "    </tr>\n",
       "    <tr>\n",
       "      <th>3</th>\n",
       "      <td>2006-04-01 03:00:00.000 +0200</td>\n",
       "      <td>Partly Cloudy</td>\n",
       "      <td>rain</td>\n",
       "      <td>8.288889</td>\n",
       "      <td>5.944444</td>\n",
       "      <td>0.83</td>\n",
       "      <td>14.1036</td>\n",
       "      <td>269.0</td>\n",
       "      <td>15.8263</td>\n",
       "      <td>0.0</td>\n",
       "      <td>1016.41</td>\n",
       "      <td>Partly cloudy throughout the day.</td>\n",
       "    </tr>\n",
       "    <tr>\n",
       "      <th>4</th>\n",
       "      <td>2006-04-01 04:00:00.000 +0200</td>\n",
       "      <td>Mostly Cloudy</td>\n",
       "      <td>rain</td>\n",
       "      <td>8.755556</td>\n",
       "      <td>6.977778</td>\n",
       "      <td>0.83</td>\n",
       "      <td>11.0446</td>\n",
       "      <td>259.0</td>\n",
       "      <td>15.8263</td>\n",
       "      <td>0.0</td>\n",
       "      <td>1016.51</td>\n",
       "      <td>Partly cloudy throughout the day.</td>\n",
       "    </tr>\n",
       "  </tbody>\n",
       "</table>\n",
       "</div>"
      ],
      "text/plain": [
       "                  Formatted Date        Summary Precip Type  Temperature (C)  \\\n",
       "0  2006-04-01 00:00:00.000 +0200  Partly Cloudy        rain         9.472222   \n",
       "1  2006-04-01 01:00:00.000 +0200  Partly Cloudy        rain         9.355556   \n",
       "2  2006-04-01 02:00:00.000 +0200  Mostly Cloudy        rain         9.377778   \n",
       "3  2006-04-01 03:00:00.000 +0200  Partly Cloudy        rain         8.288889   \n",
       "4  2006-04-01 04:00:00.000 +0200  Mostly Cloudy        rain         8.755556   \n",
       "\n",
       "   Apparent Temperature (C)  Humidity  Wind Speed (km/h)  \\\n",
       "0                  7.388889      0.89            14.1197   \n",
       "1                  7.227778      0.86            14.2646   \n",
       "2                  9.377778      0.89             3.9284   \n",
       "3                  5.944444      0.83            14.1036   \n",
       "4                  6.977778      0.83            11.0446   \n",
       "\n",
       "   Wind Bearing (degrees)  Visibility (km)  Loud Cover  Pressure (millibars)  \\\n",
       "0                   251.0          15.8263         0.0               1015.13   \n",
       "1                   259.0          15.8263         0.0               1015.63   \n",
       "2                   204.0          14.9569         0.0               1015.94   \n",
       "3                   269.0          15.8263         0.0               1016.41   \n",
       "4                   259.0          15.8263         0.0               1016.51   \n",
       "\n",
       "                       Daily Summary  \n",
       "0  Partly cloudy throughout the day.  \n",
       "1  Partly cloudy throughout the day.  \n",
       "2  Partly cloudy throughout the day.  \n",
       "3  Partly cloudy throughout the day.  \n",
       "4  Partly cloudy throughout the day.  "
      ]
     },
     "execution_count": 20,
     "metadata": {},
     "output_type": "execute_result"
    }
   ],
   "source": [
    "df.head()"
   ]
  },
  {
   "cell_type": "code",
   "execution_count": 24,
   "id": "contained-being",
   "metadata": {},
   "outputs": [
    {
     "data": {
      "text/html": [
       "<div>\n",
       "<style scoped>\n",
       "    .dataframe tbody tr th:only-of-type {\n",
       "        vertical-align: middle;\n",
       "    }\n",
       "\n",
       "    .dataframe tbody tr th {\n",
       "        vertical-align: top;\n",
       "    }\n",
       "\n",
       "    .dataframe thead th {\n",
       "        text-align: right;\n",
       "    }\n",
       "</style>\n",
       "<table border=\"1\" class=\"dataframe\">\n",
       "  <thead>\n",
       "    <tr style=\"text-align: right;\">\n",
       "      <th></th>\n",
       "      <th>Summary</th>\n",
       "      <th>Precip Type</th>\n",
       "      <th>Temperature (C)</th>\n",
       "      <th>Apparent Temperature (C)</th>\n",
       "      <th>Humidity</th>\n",
       "      <th>Wind Speed (km/h)</th>\n",
       "      <th>Wind Bearing (degrees)</th>\n",
       "      <th>Visibility (km)</th>\n",
       "      <th>Loud Cover</th>\n",
       "      <th>Pressure (millibars)</th>\n",
       "      <th>Daily Summary</th>\n",
       "    </tr>\n",
       "    <tr>\n",
       "      <th>Formatted Date</th>\n",
       "      <th></th>\n",
       "      <th></th>\n",
       "      <th></th>\n",
       "      <th></th>\n",
       "      <th></th>\n",
       "      <th></th>\n",
       "      <th></th>\n",
       "      <th></th>\n",
       "      <th></th>\n",
       "      <th></th>\n",
       "      <th></th>\n",
       "    </tr>\n",
       "  </thead>\n",
       "  <tbody>\n",
       "    <tr>\n",
       "      <th>2016-01-01 00:00:00.000 +0100</th>\n",
       "      <td>Clear</td>\n",
       "      <td>snow</td>\n",
       "      <td>-6.361111</td>\n",
       "      <td>-9.361111</td>\n",
       "      <td>0.82</td>\n",
       "      <td>6.0858</td>\n",
       "      <td>121.0</td>\n",
       "      <td>15.8263</td>\n",
       "      <td>0.0</td>\n",
       "      <td>1032.01</td>\n",
       "      <td>Mostly cloudy starting in the morning.</td>\n",
       "    </tr>\n",
       "    <tr>\n",
       "      <th>2016-01-01 01:00:00.000 +0100</th>\n",
       "      <td>Clear</td>\n",
       "      <td>snow</td>\n",
       "      <td>-7.900000</td>\n",
       "      <td>-7.900000</td>\n",
       "      <td>0.89</td>\n",
       "      <td>3.2200</td>\n",
       "      <td>140.0</td>\n",
       "      <td>14.8764</td>\n",
       "      <td>0.0</td>\n",
       "      <td>1031.85</td>\n",
       "      <td>Mostly cloudy starting in the morning.</td>\n",
       "    </tr>\n",
       "    <tr>\n",
       "      <th>2016-01-01 02:00:00.000 +0100</th>\n",
       "      <td>Clear</td>\n",
       "      <td>snow</td>\n",
       "      <td>-8.522222</td>\n",
       "      <td>-11.827778</td>\n",
       "      <td>0.88</td>\n",
       "      <td>6.0536</td>\n",
       "      <td>138.0</td>\n",
       "      <td>15.7297</td>\n",
       "      <td>0.0</td>\n",
       "      <td>1031.62</td>\n",
       "      <td>Mostly cloudy starting in the morning.</td>\n",
       "    </tr>\n",
       "    <tr>\n",
       "      <th>2016-01-01 03:00:00.000 +0100</th>\n",
       "      <td>Clear</td>\n",
       "      <td>snow</td>\n",
       "      <td>-8.561111</td>\n",
       "      <td>-12.072222</td>\n",
       "      <td>0.88</td>\n",
       "      <td>6.4400</td>\n",
       "      <td>140.0</td>\n",
       "      <td>15.7297</td>\n",
       "      <td>0.0</td>\n",
       "      <td>1031.31</td>\n",
       "      <td>Mostly cloudy starting in the morning.</td>\n",
       "    </tr>\n",
       "    <tr>\n",
       "      <th>2016-01-01 04:00:00.000 +0100</th>\n",
       "      <td>Partly Cloudy</td>\n",
       "      <td>snow</td>\n",
       "      <td>-8.577778</td>\n",
       "      <td>-11.644444</td>\n",
       "      <td>0.92</td>\n",
       "      <td>5.5867</td>\n",
       "      <td>137.0</td>\n",
       "      <td>14.0875</td>\n",
       "      <td>0.0</td>\n",
       "      <td>1031.04</td>\n",
       "      <td>Mostly cloudy starting in the morning.</td>\n",
       "    </tr>\n",
       "  </tbody>\n",
       "</table>\n",
       "</div>"
      ],
      "text/plain": [
       "                                     Summary Precip Type  Temperature (C)  \\\n",
       "Formatted Date                                                              \n",
       "2016-01-01 00:00:00.000 +0100          Clear        snow        -6.361111   \n",
       "2016-01-01 01:00:00.000 +0100          Clear        snow        -7.900000   \n",
       "2016-01-01 02:00:00.000 +0100          Clear        snow        -8.522222   \n",
       "2016-01-01 03:00:00.000 +0100          Clear        snow        -8.561111   \n",
       "2016-01-01 04:00:00.000 +0100  Partly Cloudy        snow        -8.577778   \n",
       "\n",
       "                               Apparent Temperature (C)  Humidity  \\\n",
       "Formatted Date                                                      \n",
       "2016-01-01 00:00:00.000 +0100                 -9.361111      0.82   \n",
       "2016-01-01 01:00:00.000 +0100                 -7.900000      0.89   \n",
       "2016-01-01 02:00:00.000 +0100                -11.827778      0.88   \n",
       "2016-01-01 03:00:00.000 +0100                -12.072222      0.88   \n",
       "2016-01-01 04:00:00.000 +0100                -11.644444      0.92   \n",
       "\n",
       "                               Wind Speed (km/h)  Wind Bearing (degrees)  \\\n",
       "Formatted Date                                                             \n",
       "2016-01-01 00:00:00.000 +0100             6.0858                   121.0   \n",
       "2016-01-01 01:00:00.000 +0100             3.2200                   140.0   \n",
       "2016-01-01 02:00:00.000 +0100             6.0536                   138.0   \n",
       "2016-01-01 03:00:00.000 +0100             6.4400                   140.0   \n",
       "2016-01-01 04:00:00.000 +0100             5.5867                   137.0   \n",
       "\n",
       "                               Visibility (km)  Loud Cover  \\\n",
       "Formatted Date                                               \n",
       "2016-01-01 00:00:00.000 +0100          15.8263         0.0   \n",
       "2016-01-01 01:00:00.000 +0100          14.8764         0.0   \n",
       "2016-01-01 02:00:00.000 +0100          15.7297         0.0   \n",
       "2016-01-01 03:00:00.000 +0100          15.7297         0.0   \n",
       "2016-01-01 04:00:00.000 +0100          14.0875         0.0   \n",
       "\n",
       "                               Pressure (millibars)  \\\n",
       "Formatted Date                                        \n",
       "2016-01-01 00:00:00.000 +0100               1032.01   \n",
       "2016-01-01 01:00:00.000 +0100               1031.85   \n",
       "2016-01-01 02:00:00.000 +0100               1031.62   \n",
       "2016-01-01 03:00:00.000 +0100               1031.31   \n",
       "2016-01-01 04:00:00.000 +0100               1031.04   \n",
       "\n",
       "                                                        Daily Summary  \n",
       "Formatted Date                                                         \n",
       "2016-01-01 00:00:00.000 +0100  Mostly cloudy starting in the morning.  \n",
       "2016-01-01 01:00:00.000 +0100  Mostly cloudy starting in the morning.  \n",
       "2016-01-01 02:00:00.000 +0100  Mostly cloudy starting in the morning.  \n",
       "2016-01-01 03:00:00.000 +0100  Mostly cloudy starting in the morning.  \n",
       "2016-01-01 04:00:00.000 +0100  Mostly cloudy starting in the morning.  "
      ]
     },
     "execution_count": 24,
     "metadata": {},
     "output_type": "execute_result"
    }
   ],
   "source": [
    "df_2016 = df.set_index('Formatted Date').sort_index().loc['2016':'2017'] \n",
    "df_2016.head()"
   ]
  },
  {
   "cell_type": "markdown",
   "id": "organizational-installation",
   "metadata": {},
   "source": [
    "#### Writing a .csv file"
   ]
  },
  {
   "cell_type": "code",
   "execution_count": 132,
   "id": "authorized-diameter",
   "metadata": {},
   "outputs": [],
   "source": [
    "df_2016.to_csv('weatherHistory_2016.csv')"
   ]
  },
  {
   "cell_type": "markdown",
   "id": "auburn-recognition",
   "metadata": {},
   "source": [
    "### Visualizing data with `matplotlib`\n",
    "#### 1. Histograms\n",
    "- `df['column_to_chart'].hist()`\n",
    "- `bins =`  (number of bars) can be passed as an argument\n"
   ]
  },
  {
   "cell_type": "code",
   "execution_count": 25,
   "id": "entitled-ukraine",
   "metadata": {},
   "outputs": [
    {
     "data": {
      "image/png": "[encoded data removed]",
      "text/plain": [
       "<Figure size 432x288 with 1 Axes>"
      ]
     },
     "metadata": {
      "needs_background": "light"
     },
     "output_type": "display_data"
    }
   ],
   "source": [
    "df_2016['Temperature (C)'].hist()\n",
    "plt.show()"
   ]
  },
  {
   "cell_type": "code",
   "execution_count": 27,
   "id": "large-party",
   "metadata": {},
   "outputs": [
    {
     "data": {
      "image/png": "[encoded data removed]",
      "text/plain": [
       "<Figure size 432x288 with 1 Axes>"
      ]
     },
     "metadata": {
      "needs_background": "light"
     },
     "output_type": "display_data"
    }
   ],
   "source": [
    "df_2016['Temperature (C)'].hist(bins = 15)\n",
    "plt.show()"
   ]
  },
  {
   "cell_type": "code",
   "execution_count": 37,
   "id": "hybrid-closer",
   "metadata": {},
   "outputs": [
    {
     "data": {
      "text/plain": [
       "Precip Type\n",
       "rain    13.852989\n",
       "snow    -3.270885\n",
       "Name: Temperature (C), dtype: float64"
      ]
     },
     "execution_count": 37,
     "metadata": {},
     "output_type": "execute_result"
    }
   ],
   "source": [
    "df.groupby('Precip Type')['Temperature (C)'].mean()"
   ]
  },
  {
   "cell_type": "markdown",
   "id": "anonymous-culture",
   "metadata": {},
   "source": [
    "#### 2. Barplots\n",
    "- `.plot(kind = 'bar')`\n",
    "- reveal relationships between a categorical variable and a numeric variable\n",
    "- add title via `title =`"
   ]
  },
  {
   "cell_type": "code",
   "execution_count": 43,
   "id": "changing-serial",
   "metadata": {},
   "outputs": [
    {
     "data": {
      "image/png": "[encoded data removed]",
      "text/plain": [
       "<Figure size 432x288 with 1 Axes>"
      ]
     },
     "metadata": {
      "needs_background": "light"
     },
     "output_type": "display_data"
    }
   ],
   "source": [
    "summary_2016 = df_2016.groupby('Summary')['Temperature (C)'].mean()\n",
    "summary_2016.plot(\n",
    "    kind = 'bar',\n",
    "    title = 'weather in Szeged, 2016')\n",
    "plt.show()"
   ]
  },
  {
   "cell_type": "markdown",
   "id": "norman-restoration",
   "metadata": {},
   "source": [
    "#### 3. Line plots"
   ]
  },
  {
   "cell_type": "code",
   "execution_count": 69,
   "id": "short-dairy",
   "metadata": {},
   "outputs": [
    {
     "data": {
      "image/png": "[encoded data removed]",
      "text/plain": [
       "<Figure size 432x288 with 1 Axes>"
      ]
     },
     "metadata": {
      "needs_background": "light"
     },
     "output_type": "display_data"
    }
   ],
   "source": [
    "df_2016.loc['2016-01':'2016-02'].reset_index().plot(x = \"Formatted Date\",\n",
    "                                                    y = \"Temperature (C)\",\n",
    "                                                    kind = \"line\",\n",
    "                                                    title = \"Temperature in Szeged, January, 2016\",\n",
    "                                                    rot = 45\n",
    "                                                   )\n",
    "plt.show()"
   ]
  },
  {
   "cell_type": "markdown",
   "id": "strange-turkey",
   "metadata": {},
   "source": [
    "#### 4. Scatter plots\n",
    "- for visualizing relationships between two numeric variables"
   ]
  },
  {
   "cell_type": "code",
   "execution_count": 70,
   "id": "english-daniel",
   "metadata": {},
   "outputs": [
    {
     "data": {
      "image/png": "[encoded data removed]",
      "text/plain": [
       "<Figure size 432x288 with 1 Axes>"
      ]
     },
     "metadata": {
      "needs_background": "light"
     },
     "output_type": "display_data"
    }
   ],
   "source": [
    "df_2016.plot(x = 'Humidity',\n",
    "             y = 'Visibility (km)',\n",
    "             kind = 'scatter'\n",
    "            )\n",
    "plt.show()"
   ]
  },
  {
   "cell_type": "code",
   "execution_count": 72,
   "id": "graphic-olympus",
   "metadata": {},
   "outputs": [
    {
     "data": {
      "image/png": "[encoded data removed]",
      "text/plain": [
       "<Figure size 432x288 with 1 Axes>"
      ]
     },
     "metadata": {
      "needs_background": "light"
     },
     "output_type": "display_data"
    }
   ],
   "source": [
    "df_2016.plot(x = 'Humidity',\n",
    "             y = 'Temperature (C)',\n",
    "             kind = 'scatter'\n",
    "            )\n",
    "plt.show()"
   ]
  },
  {
   "cell_type": "markdown",
   "id": "appreciated-ozone",
   "metadata": {},
   "source": [
    "#### 5. Layering plots"
   ]
  },
  {
   "cell_type": "code",
   "execution_count": 79,
   "id": "relative-franchise",
   "metadata": {},
   "outputs": [
    {
     "data": {
      "image/png": "[encoded data removed]",
      "text/plain": [
       "<Figure size 432x288 with 1 Axes>"
      ]
     },
     "metadata": {
      "needs_background": "light"
     },
     "output_type": "display_data"
    }
   ],
   "source": [
    "df_2016[df_2016['Summary'] == 'rain']['Humidity'].hist()\n",
    "df_2016[df_2016['Summary'] == 'snow']['Humidity'].hist()\n",
    "plt.legend(['rain', 'snow'])\n",
    "plt.show()"
   ]
  },
  {
   "cell_type": "code",
   "execution_count": 94,
   "id": "premium-senate",
   "metadata": {},
   "outputs": [
    {
     "data": {
      "text/plain": [
       "Partly Cloudy                          31733\n",
       "Mostly Cloudy                          28094\n",
       "Overcast                               16597\n",
       "Clear                                  10890\n",
       "Foggy                                   7148\n",
       "Breezy and Overcast                      528\n",
       "Breezy and Mostly Cloudy                 516\n",
       "Breezy and Partly Cloudy                 386\n",
       "Dry and Partly Cloudy                     86\n",
       "Windy and Partly Cloudy                   67\n",
       "Light Rain                                63\n",
       "Breezy                                    54\n",
       "Windy and Overcast                        45\n",
       "Humid and Mostly Cloudy                   40\n",
       "Drizzle                                   39\n",
       "Windy and Mostly Cloudy                   35\n",
       "Breezy and Foggy                          35\n",
       "Dry                                       34\n",
       "Humid and Partly Cloudy                   17\n",
       "Dry and Mostly Cloudy                     14\n",
       "Rain                                      10\n",
       "Windy                                      8\n",
       "Humid and Overcast                         7\n",
       "Windy and Foggy                            4\n",
       "Windy and Dry                              1\n",
       "Breezy and Dry                             1\n",
       "Dangerously Windy and Partly Cloudy        1\n",
       "Name: Summary, dtype: int64"
      ]
     },
     "execution_count": 94,
     "metadata": {},
     "output_type": "execute_result"
    }
   ],
   "source": [
    "df['Summary'].value_counts()"
   ]
  },
  {
   "cell_type": "code",
   "execution_count": 103,
   "id": "guided-migration",
   "metadata": {},
   "outputs": [
    {
     "data": {
      "image/png": "[encoded data removed]",
      "text/plain": [
       "<Figure size 432x288 with 1 Axes>"
      ]
     },
     "metadata": {
      "needs_background": "light"
     },
     "output_type": "display_data"
    }
   ],
   "source": [
    "df[df['Summary'] == 'Clear']['Temperature (C)'].hist()\n",
    "df[df['Summary'] == 'Foggy']['Temperature (C)'].hist(alpha = 0.7)\n",
    "plt.legend(['clear', 'foggy'])\n",
    "plt.show()"
   ]
  },
  {
   "cell_type": "markdown",
   "id": "interstate-proposal",
   "metadata": {},
   "source": [
    "### Missing values\n",
    "#### Detecting missing values - `.isna()`"
   ]
  },
  {
   "cell_type": "code",
   "execution_count": 110,
   "id": "western-mixer",
   "metadata": {},
   "outputs": [],
   "source": [
    "import numpy as np\n",
    "\n",
    "dfnas = pd.DataFrame({\n",
    "   'col1': ['Item0', 'Item0', 'Item0', 'Item1', 'ItemA', 'ItemA', 'ItemC'],\n",
    "   'col2': ['Gold', 'Bronze', np.NaN, np.NaN, 'Silver', 'Bronze', 'Gold',],\n",
    "   'col3': [1, 2, 5, 4, 2, 6, np.NaN],\n",
    "   'col4': [0.1, np.NaN, 35, np.NaN, np.NaN, np.NaN, 0.321],\n",
    "   'col5': ['moderate', 'easy', 'easy', 'hard', np.NaN, 'moderate', np.NaN],\n",
    "   'col6': ['2015-10-23', '2016-10-23', '2019-10-13', '2019-10-23', '2011-02-16', '2019-01-14', '2021-01-23']\n",
    "})"
   ]
  },
  {
   "cell_type": "code",
   "execution_count": 111,
   "id": "modern-notebook",
   "metadata": {},
   "outputs": [
    {
     "data": {
      "text/html": [
       "<div>\n",
       "<style scoped>\n",
       "    .dataframe tbody tr th:only-of-type {\n",
       "        vertical-align: middle;\n",
       "    }\n",
       "\n",
       "    .dataframe tbody tr th {\n",
       "        vertical-align: top;\n",
       "    }\n",
       "\n",
       "    .dataframe thead th {\n",
       "        text-align: right;\n",
       "    }\n",
       "</style>\n",
       "<table border=\"1\" class=\"dataframe\">\n",
       "  <thead>\n",
       "    <tr style=\"text-align: right;\">\n",
       "      <th></th>\n",
       "      <th>col1</th>\n",
       "      <th>col2</th>\n",
       "      <th>col3</th>\n",
       "      <th>col4</th>\n",
       "      <th>col5</th>\n",
       "      <th>col6</th>\n",
       "    </tr>\n",
       "  </thead>\n",
       "  <tbody>\n",
       "    <tr>\n",
       "      <th>0</th>\n",
       "      <td>False</td>\n",
       "      <td>False</td>\n",
       "      <td>False</td>\n",
       "      <td>False</td>\n",
       "      <td>False</td>\n",
       "      <td>False</td>\n",
       "    </tr>\n",
       "    <tr>\n",
       "      <th>1</th>\n",
       "      <td>False</td>\n",
       "      <td>False</td>\n",
       "      <td>False</td>\n",
       "      <td>True</td>\n",
       "      <td>False</td>\n",
       "      <td>False</td>\n",
       "    </tr>\n",
       "    <tr>\n",
       "      <th>2</th>\n",
       "      <td>False</td>\n",
       "      <td>True</td>\n",
       "      <td>False</td>\n",
       "      <td>False</td>\n",
       "      <td>False</td>\n",
       "      <td>False</td>\n",
       "    </tr>\n",
       "    <tr>\n",
       "      <th>3</th>\n",
       "      <td>False</td>\n",
       "      <td>True</td>\n",
       "      <td>False</td>\n",
       "      <td>True</td>\n",
       "      <td>False</td>\n",
       "      <td>False</td>\n",
       "    </tr>\n",
       "    <tr>\n",
       "      <th>4</th>\n",
       "      <td>False</td>\n",
       "      <td>False</td>\n",
       "      <td>False</td>\n",
       "      <td>True</td>\n",
       "      <td>True</td>\n",
       "      <td>False</td>\n",
       "    </tr>\n",
       "    <tr>\n",
       "      <th>5</th>\n",
       "      <td>False</td>\n",
       "      <td>False</td>\n",
       "      <td>False</td>\n",
       "      <td>True</td>\n",
       "      <td>False</td>\n",
       "      <td>False</td>\n",
       "    </tr>\n",
       "    <tr>\n",
       "      <th>6</th>\n",
       "      <td>False</td>\n",
       "      <td>False</td>\n",
       "      <td>True</td>\n",
       "      <td>False</td>\n",
       "      <td>True</td>\n",
       "      <td>False</td>\n",
       "    </tr>\n",
       "  </tbody>\n",
       "</table>\n",
       "</div>"
      ],
      "text/plain": [
       "    col1   col2   col3   col4   col5   col6\n",
       "0  False  False  False  False  False  False\n",
       "1  False  False  False   True  False  False\n",
       "2  False   True  False  False  False  False\n",
       "3  False   True  False   True  False  False\n",
       "4  False  False  False   True   True  False\n",
       "5  False  False  False   True  False  False\n",
       "6  False  False   True  False   True  False"
      ]
     },
     "execution_count": 111,
     "metadata": {},
     "output_type": "execute_result"
    }
   ],
   "source": [
    "dfnas.isna()"
   ]
  },
  {
   "cell_type": "markdown",
   "id": "circular-rating",
   "metadata": {},
   "source": [
    "#### `.isna().any()`\n",
    "- for large datasets, detecting ANY missing values\n",
    "- to count the number of missin values, chain `.sum()` after"
   ]
  },
  {
   "cell_type": "code",
   "execution_count": 113,
   "id": "prepared-accessory",
   "metadata": {},
   "outputs": [
    {
     "data": {
      "text/plain": [
       "Formatted Date              False\n",
       "Summary                     False\n",
       "Precip Type                  True\n",
       "Temperature (C)             False\n",
       "Apparent Temperature (C)    False\n",
       "Humidity                    False\n",
       "Wind Speed (km/h)           False\n",
       "Wind Bearing (degrees)      False\n",
       "Visibility (km)             False\n",
       "Loud Cover                  False\n",
       "Pressure (millibars)        False\n",
       "Daily Summary               False\n",
       "dtype: bool"
      ]
     },
     "execution_count": 113,
     "metadata": {},
     "output_type": "execute_result"
    }
   ],
   "source": [
    "df.isna().any()"
   ]
  },
  {
   "cell_type": "code",
   "execution_count": 114,
   "id": "right-vector",
   "metadata": {},
   "outputs": [
    {
     "data": {
      "text/plain": [
       "Formatted Date                0\n",
       "Summary                       0\n",
       "Precip Type                 517\n",
       "Temperature (C)               0\n",
       "Apparent Temperature (C)      0\n",
       "Humidity                      0\n",
       "Wind Speed (km/h)             0\n",
       "Wind Bearing (degrees)        0\n",
       "Visibility (km)               0\n",
       "Loud Cover                    0\n",
       "Pressure (millibars)          0\n",
       "Daily Summary                 0\n",
       "dtype: int64"
      ]
     },
     "execution_count": 114,
     "metadata": {},
     "output_type": "execute_result"
    }
   ],
   "source": [
    "df.isna().sum()"
   ]
  },
  {
   "cell_type": "code",
   "execution_count": 118,
   "id": "considerable-extreme",
   "metadata": {},
   "outputs": [
    {
     "data": {
      "text/plain": [
       "rain    85224\n",
       "snow    10712\n",
       "Name: Precip Type, dtype: int64"
      ]
     },
     "execution_count": 118,
     "metadata": {},
     "output_type": "execute_result"
    }
   ],
   "source": [
    "df['Precip Type'].value_counts()"
   ]
  },
  {
   "cell_type": "markdown",
   "id": "committed-turkish",
   "metadata": {},
   "source": [
    "#### Dealing with missing data\n",
    "- **removing** missing values with `.dropna()`\n",
    "- **replacing** missing values with `.fillna('what_to_fill_with')`"
   ]
  },
  {
   "cell_type": "code",
   "execution_count": 120,
   "id": "selected-madagascar",
   "metadata": {},
   "outputs": [
    {
     "data": {
      "text/plain": [
       "Formatted Date              False\n",
       "Summary                     False\n",
       "Precip Type                 False\n",
       "Temperature (C)             False\n",
       "Apparent Temperature (C)    False\n",
       "Humidity                    False\n",
       "Wind Speed (km/h)           False\n",
       "Wind Bearing (degrees)      False\n",
       "Visibility (km)             False\n",
       "Loud Cover                  False\n",
       "Pressure (millibars)        False\n",
       "Daily Summary               False\n",
       "dtype: bool"
      ]
     },
     "execution_count": 120,
     "metadata": {},
     "output_type": "execute_result"
    }
   ],
   "source": [
    "df.dropna().isna().any()"
   ]
  },
  {
   "cell_type": "code",
   "execution_count": 121,
   "id": "restricted-being",
   "metadata": {},
   "outputs": [
    {
     "data": {
      "text/html": [
       "<div>\n",
       "<style scoped>\n",
       "    .dataframe tbody tr th:only-of-type {\n",
       "        vertical-align: middle;\n",
       "    }\n",
       "\n",
       "    .dataframe tbody tr th {\n",
       "        vertical-align: top;\n",
       "    }\n",
       "\n",
       "    .dataframe thead th {\n",
       "        text-align: right;\n",
       "    }\n",
       "</style>\n",
       "<table border=\"1\" class=\"dataframe\">\n",
       "  <thead>\n",
       "    <tr style=\"text-align: right;\">\n",
       "      <th></th>\n",
       "      <th>col1</th>\n",
       "      <th>col2</th>\n",
       "      <th>col3</th>\n",
       "      <th>col4</th>\n",
       "      <th>col5</th>\n",
       "      <th>col6</th>\n",
       "    </tr>\n",
       "  </thead>\n",
       "  <tbody>\n",
       "    <tr>\n",
       "      <th>0</th>\n",
       "      <td>Item0</td>\n",
       "      <td>Gold</td>\n",
       "      <td>1.0</td>\n",
       "      <td>0.100</td>\n",
       "      <td>moderate</td>\n",
       "      <td>2015-10-23</td>\n",
       "    </tr>\n",
       "    <tr>\n",
       "      <th>1</th>\n",
       "      <td>Item0</td>\n",
       "      <td>Bronze</td>\n",
       "      <td>2.0</td>\n",
       "      <td>0.000</td>\n",
       "      <td>easy</td>\n",
       "      <td>2016-10-23</td>\n",
       "    </tr>\n",
       "    <tr>\n",
       "      <th>2</th>\n",
       "      <td>Item0</td>\n",
       "      <td>0</td>\n",
       "      <td>5.0</td>\n",
       "      <td>35.000</td>\n",
       "      <td>easy</td>\n",
       "      <td>2019-10-13</td>\n",
       "    </tr>\n",
       "    <tr>\n",
       "      <th>3</th>\n",
       "      <td>Item1</td>\n",
       "      <td>0</td>\n",
       "      <td>4.0</td>\n",
       "      <td>0.000</td>\n",
       "      <td>hard</td>\n",
       "      <td>2019-10-23</td>\n",
       "    </tr>\n",
       "    <tr>\n",
       "      <th>4</th>\n",
       "      <td>ItemA</td>\n",
       "      <td>Silver</td>\n",
       "      <td>2.0</td>\n",
       "      <td>0.000</td>\n",
       "      <td>0</td>\n",
       "      <td>2011-02-16</td>\n",
       "    </tr>\n",
       "    <tr>\n",
       "      <th>5</th>\n",
       "      <td>ItemA</td>\n",
       "      <td>Bronze</td>\n",
       "      <td>6.0</td>\n",
       "      <td>0.000</td>\n",
       "      <td>moderate</td>\n",
       "      <td>2019-01-14</td>\n",
       "    </tr>\n",
       "    <tr>\n",
       "      <th>6</th>\n",
       "      <td>ItemC</td>\n",
       "      <td>Gold</td>\n",
       "      <td>0.0</td>\n",
       "      <td>0.321</td>\n",
       "      <td>0</td>\n",
       "      <td>2021-01-23</td>\n",
       "    </tr>\n",
       "  </tbody>\n",
       "</table>\n",
       "</div>"
      ],
      "text/plain": [
       "    col1    col2  col3    col4      col5        col6\n",
       "0  Item0    Gold   1.0   0.100  moderate  2015-10-23\n",
       "1  Item0  Bronze   2.0   0.000      easy  2016-10-23\n",
       "2  Item0       0   5.0  35.000      easy  2019-10-13\n",
       "3  Item1       0   4.0   0.000      hard  2019-10-23\n",
       "4  ItemA  Silver   2.0   0.000         0  2011-02-16\n",
       "5  ItemA  Bronze   6.0   0.000  moderate  2019-01-14\n",
       "6  ItemC    Gold   0.0   0.321         0  2021-01-23"
      ]
     },
     "execution_count": 121,
     "metadata": {},
     "output_type": "execute_result"
    }
   ],
   "source": [
    "dfnas.fillna(0)"
   ]
  },
  {
   "cell_type": "code",
   "execution_count": 123,
   "id": "offensive-humor",
   "metadata": {},
   "outputs": [
    {
     "data": {
      "text/html": [
       "<div>\n",
       "<style scoped>\n",
       "    .dataframe tbody tr th:only-of-type {\n",
       "        vertical-align: middle;\n",
       "    }\n",
       "\n",
       "    .dataframe tbody tr th {\n",
       "        vertical-align: top;\n",
       "    }\n",
       "\n",
       "    .dataframe thead th {\n",
       "        text-align: right;\n",
       "    }\n",
       "</style>\n",
       "<table border=\"1\" class=\"dataframe\">\n",
       "  <thead>\n",
       "    <tr style=\"text-align: right;\">\n",
       "      <th></th>\n",
       "      <th>col1</th>\n",
       "      <th>col2</th>\n",
       "      <th>col3</th>\n",
       "      <th>col4</th>\n",
       "      <th>col5</th>\n",
       "      <th>col6</th>\n",
       "    </tr>\n",
       "  </thead>\n",
       "  <tbody>\n",
       "    <tr>\n",
       "      <th>0</th>\n",
       "      <td>Item0</td>\n",
       "      <td>Gold</td>\n",
       "      <td>1</td>\n",
       "      <td>0.1</td>\n",
       "      <td>moderate</td>\n",
       "      <td>2015-10-23</td>\n",
       "    </tr>\n",
       "    <tr>\n",
       "      <th>1</th>\n",
       "      <td>Item0</td>\n",
       "      <td>Bronze</td>\n",
       "      <td>2</td>\n",
       "      <td>-</td>\n",
       "      <td>easy</td>\n",
       "      <td>2016-10-23</td>\n",
       "    </tr>\n",
       "    <tr>\n",
       "      <th>2</th>\n",
       "      <td>Item0</td>\n",
       "      <td>-</td>\n",
       "      <td>5</td>\n",
       "      <td>35</td>\n",
       "      <td>easy</td>\n",
       "      <td>2019-10-13</td>\n",
       "    </tr>\n",
       "    <tr>\n",
       "      <th>3</th>\n",
       "      <td>Item1</td>\n",
       "      <td>-</td>\n",
       "      <td>4</td>\n",
       "      <td>-</td>\n",
       "      <td>hard</td>\n",
       "      <td>2019-10-23</td>\n",
       "    </tr>\n",
       "    <tr>\n",
       "      <th>4</th>\n",
       "      <td>ItemA</td>\n",
       "      <td>Silver</td>\n",
       "      <td>2</td>\n",
       "      <td>-</td>\n",
       "      <td>-</td>\n",
       "      <td>2011-02-16</td>\n",
       "    </tr>\n",
       "    <tr>\n",
       "      <th>5</th>\n",
       "      <td>ItemA</td>\n",
       "      <td>Bronze</td>\n",
       "      <td>6</td>\n",
       "      <td>-</td>\n",
       "      <td>moderate</td>\n",
       "      <td>2019-01-14</td>\n",
       "    </tr>\n",
       "    <tr>\n",
       "      <th>6</th>\n",
       "      <td>ItemC</td>\n",
       "      <td>Gold</td>\n",
       "      <td>-</td>\n",
       "      <td>0.321</td>\n",
       "      <td>-</td>\n",
       "      <td>2021-01-23</td>\n",
       "    </tr>\n",
       "  </tbody>\n",
       "</table>\n",
       "</div>"
      ],
      "text/plain": [
       "    col1    col2 col3   col4      col5        col6\n",
       "0  Item0    Gold    1    0.1  moderate  2015-10-23\n",
       "1  Item0  Bronze    2      -      easy  2016-10-23\n",
       "2  Item0       -    5     35      easy  2019-10-13\n",
       "3  Item1       -    4      -      hard  2019-10-23\n",
       "4  ItemA  Silver    2      -         -  2011-02-16\n",
       "5  ItemA  Bronze    6      -  moderate  2019-01-14\n",
       "6  ItemC    Gold    -  0.321         -  2021-01-23"
      ]
     },
     "execution_count": 123,
     "metadata": {},
     "output_type": "execute_result"
    }
   ],
   "source": [
    "dfnas.fillna('-')"
   ]
  },
  {
   "cell_type": "markdown",
   "id": "canadian-country",
   "metadata": {},
   "source": [
    "### Creating dataframes\n",
    "- dictionaries hold `{key:value, ...:...}` pairs\n",
    "- access values via keys: `my_dict['key1']` returns `key1`'s value\n",
    "- from list of dictionaries:"
   ]
  },
  {
   "cell_type": "code",
   "execution_count": 128,
   "id": "political-alliance",
   "metadata": {},
   "outputs": [
    {
     "data": {
      "text/html": [
       "<div>\n",
       "<style scoped>\n",
       "    .dataframe tbody tr th:only-of-type {\n",
       "        vertical-align: middle;\n",
       "    }\n",
       "\n",
       "    .dataframe tbody tr th {\n",
       "        vertical-align: top;\n",
       "    }\n",
       "\n",
       "    .dataframe thead th {\n",
       "        text-align: right;\n",
       "    }\n",
       "</style>\n",
       "<table border=\"1\" class=\"dataframe\">\n",
       "  <thead>\n",
       "    <tr style=\"text-align: right;\">\n",
       "      <th></th>\n",
       "      <th>name</th>\n",
       "      <th>color</th>\n",
       "      <th>weight</th>\n",
       "      <th>age</th>\n",
       "    </tr>\n",
       "  </thead>\n",
       "  <tbody>\n",
       "    <tr>\n",
       "      <th>0</th>\n",
       "      <td>ginger</td>\n",
       "      <td>orange</td>\n",
       "      <td>6</td>\n",
       "      <td>4</td>\n",
       "    </tr>\n",
       "    <tr>\n",
       "      <th>1</th>\n",
       "      <td>tabby</td>\n",
       "      <td>black</td>\n",
       "      <td>4</td>\n",
       "      <td>1</td>\n",
       "    </tr>\n",
       "    <tr>\n",
       "      <th>2</th>\n",
       "      <td>miu</td>\n",
       "      <td>white</td>\n",
       "      <td>3</td>\n",
       "      <td>3</td>\n",
       "    </tr>\n",
       "  </tbody>\n",
       "</table>\n",
       "</div>"
      ],
      "text/plain": [
       "     name   color  weight  age\n",
       "0  ginger  orange       6    4\n",
       "1   tabby   black       4    1\n",
       "2     miu   white       3    3"
      ]
     },
     "execution_count": 128,
     "metadata": {},
     "output_type": "execute_result"
    }
   ],
   "source": [
    "list_of_dicts = [\n",
    "    {'name':'ginger', 'color':'orange', 'weight':6, 'age':4},\n",
    "    {'name':'tabby', 'color':'black', 'weight':4, 'age':1},\n",
    "    {'name':'miu', 'color':'white', 'weight':3, 'age':3}\n",
    "]\n",
    "\n",
    "cats = pd.DataFrame(list_of_dicts)\n",
    "cats"
   ]
  },
  {
   "cell_type": "markdown",
   "id": "compact-shipping",
   "metadata": {},
   "source": [
    "- from dictionary of lists:"
   ]
  },
  {
   "cell_type": "code",
   "execution_count": 130,
   "id": "intimate-cartoon",
   "metadata": {},
   "outputs": [
    {
     "data": {
      "text/html": [
       "<div>\n",
       "<style scoped>\n",
       "    .dataframe tbody tr th:only-of-type {\n",
       "        vertical-align: middle;\n",
       "    }\n",
       "\n",
       "    .dataframe tbody tr th {\n",
       "        vertical-align: top;\n",
       "    }\n",
       "\n",
       "    .dataframe thead th {\n",
       "        text-align: right;\n",
       "    }\n",
       "</style>\n",
       "<table border=\"1\" class=\"dataframe\">\n",
       "  <thead>\n",
       "    <tr style=\"text-align: right;\">\n",
       "      <th></th>\n",
       "      <th>name</th>\n",
       "      <th>color</th>\n",
       "      <th>weight</th>\n",
       "      <th>age</th>\n",
       "    </tr>\n",
       "  </thead>\n",
       "  <tbody>\n",
       "    <tr>\n",
       "      <th>0</th>\n",
       "      <td>ginger</td>\n",
       "      <td>orange</td>\n",
       "      <td>6</td>\n",
       "      <td>4</td>\n",
       "    </tr>\n",
       "    <tr>\n",
       "      <th>1</th>\n",
       "      <td>tabby</td>\n",
       "      <td>black</td>\n",
       "      <td>4</td>\n",
       "      <td>1</td>\n",
       "    </tr>\n",
       "    <tr>\n",
       "      <th>2</th>\n",
       "      <td>miu</td>\n",
       "      <td>white</td>\n",
       "      <td>3</td>\n",
       "      <td>3</td>\n",
       "    </tr>\n",
       "  </tbody>\n",
       "</table>\n",
       "</div>"
      ],
      "text/plain": [
       "     name   color  weight  age\n",
       "0  ginger  orange       6    4\n",
       "1   tabby   black       4    1\n",
       "2     miu   white       3    3"
      ]
     },
     "execution_count": 130,
     "metadata": {},
     "output_type": "execute_result"
    }
   ],
   "source": [
    "dict_of_list = {\n",
    "    'name': ['ginger', 'tabby', 'miu'],\n",
    "    'color': ['orange', 'black', 'white'],\n",
    "    'weight': [6, 4, 3],\n",
    "    'age': [4, 1, 3],\n",
    "}\n",
    "\n",
    "cats_2 = pd.DataFrame(dict_of_list)\n",
    "cats_2"
   ]
  }
 ],
 "metadata": {
  "kernelspec": {
   "display_name": "Python 3",
   "language": "python",
   "name": "python3"
  },
  "language_info": {
   "codemirror_mode": {
    "name": "ipython",
    "version": 3
   },
   "file_extension": ".py",
   "mimetype": "text/x-python",
   "name": "python",
   "nbconvert_exporter": "python",
   "pygments_lexer": "ipython3",
   "version": "3.7.4"
  }
 },
 "nbformat": 4,
 "nbformat_minor": 5
}
