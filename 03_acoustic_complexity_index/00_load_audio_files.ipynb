{
 "cells": [
  {
   "cell_type": "code",
   "execution_count": 3,
   "id": "swiss-junior",
   "metadata": {},
   "outputs": [
    {
     "name": "stdout",
     "output_type": "stream",
     "text": [
      "Stored 'filenames' (list)\n"
     ]
    },
    {
     "data": {
      "text/plain": [
       "['PC0000_0187', 'PC0001_0187', 'PC0001_0828']"
      ]
     },
     "execution_count": 3,
     "metadata": {},
     "output_type": "execute_result"
    }
   ],
   "source": [
    "# list currently available audio files for cross-checking\n",
    "import os\n",
    "from os import listdir\n",
    "from os.path import isfile, join\n",
    "\n",
    "path = '../data/wavs'\n",
    "\n",
    "files = [f for f in listdir(path) if isfile(join(path, f))]\n",
    "filenames = [sub.replace('.wav', '') for sub in files]\n",
    "\n",
    "%store filenames\n",
    "\n",
    "filenames[:3]"
   ]
  },
  {
   "cell_type": "code",
   "execution_count": 4,
   "id": "caring-stations",
   "metadata": {},
   "outputs": [
    {
     "data": {
      "text/plain": [
       "['../data/wavs/PC0000_0187.wav',\n",
       " '../data/wavs/PC0001_0187.wav',\n",
       " '../data/wavs/PC0001_0828.wav']"
      ]
     },
     "execution_count": 4,
     "metadata": {},
     "output_type": "execute_result"
    }
   ],
   "source": [
    "# output\n",
    "def add_path(files, path):\n",
    "    output = []\n",
    "    for f in files:\n",
    "        filepath = path + f\n",
    "        output.append(filepath)\n",
    "    return output\n",
    "\n",
    "full_path = add_path(files, '../data/wavs/', )\n",
    "full_path[:3]"
   ]
  },
  {
   "cell_type": "code",
   "execution_count": null,
   "id": "greek-copying",
   "metadata": {},
   "outputs": [],
   "source": []
  }
 ],
 "metadata": {
  "kernelspec": {
   "display_name": "Python 3",
   "language": "python",
   "name": "python3"
  },
  "language_info": {
   "codemirror_mode": {
    "name": "ipython",
    "version": 3
   },
   "file_extension": ".py",
   "mimetype": "text/x-python",
   "name": "python",
   "nbconvert_exporter": "python",
   "pygments_lexer": "ipython3",
   "version": "3.7.4"
  }
 },
 "nbformat": 4,
 "nbformat_minor": 5
}
