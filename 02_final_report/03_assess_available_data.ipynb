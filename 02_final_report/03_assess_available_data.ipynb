{
 "cells": [
  {
   "cell_type": "code",
   "execution_count": 1,
   "id": "devoted-hurricane",
   "metadata": {},
   "outputs": [],
   "source": [
    "import pandas as pd\n",
    "from IPython.display import Image\n",
    "\n",
    "pd.options.mode.chained_assignment = None  # default='warn'\n",
    "\n",
    "%store -r recordings\n",
    "%store -r filenames\n",
    "%store -r arl"
   ]
  },
  {
   "cell_type": "code",
   "execution_count": 2,
   "id": "stretch-error",
   "metadata": {},
   "outputs": [
    {
     "data": {
      "text/plain": [
       "array(['E100 edge', 'D100 641', 'C10 621', 'B10', 'E1 648', 'D Matrix',\n",
       "       'C Matrix', 'Riparian 2', 'VJR 1', 'VJR 2', 'B1 602'], dtype=object)"
      ]
     },
     "execution_count": 2,
     "metadata": {},
     "output_type": "execute_result"
    }
   ],
   "source": [
    "arl['Location name'].unique()"
   ]
  },
  {
   "cell_type": "code",
   "execution_count": 3,
   "id": "functional-territory",
   "metadata": {},
   "outputs": [
    {
     "data": {
      "text/html": [
       "<div>\n",
       "<style scoped>\n",
       "    .dataframe tbody tr th:only-of-type {\n",
       "        vertical-align: middle;\n",
       "    }\n",
       "\n",
       "    .dataframe tbody tr th {\n",
       "        vertical-align: top;\n",
       "    }\n",
       "\n",
       "    .dataframe thead th {\n",
       "        text-align: right;\n",
       "    }\n",
       "</style>\n",
       "<table border=\"1\" class=\"dataframe\">\n",
       "  <thead>\n",
       "    <tr style=\"text-align: right;\">\n",
       "      <th>3</th>\n",
       "      <th>field_name</th>\n",
       "      <th>Point_count_ID</th>\n",
       "      <th>Audio_file</th>\n",
       "      <th>Site</th>\n",
       "      <th>Date</th>\n",
       "      <th>Time</th>\n",
       "      <th>Weather</th>\n",
       "      <th>Adi_Syamin</th>\n",
       "      <th>Jani</th>\n",
       "      <th>Notes</th>\n",
       "      <th>Site_type</th>\n",
       "    </tr>\n",
       "  </thead>\n",
       "  <tbody>\n",
       "    <tr>\n",
       "      <th>1395</th>\n",
       "      <td>1392</td>\n",
       "      <td>19_11_27_02</td>\n",
       "      <td>PC0001_1178</td>\n",
       "      <td>VJR 2</td>\n",
       "      <td>11/27/2019</td>\n",
       "      <td>07:00:00 AM</td>\n",
       "      <td>sun</td>\n",
       "      <td>0</td>\n",
       "      <td>1</td>\n",
       "      <td>NaN</td>\n",
       "      <td>old_growth_forest</td>\n",
       "    </tr>\n",
       "    <tr>\n",
       "      <th>386</th>\n",
       "      <td>383</td>\n",
       "      <td>18_06_30_4</td>\n",
       "      <td>PC0001_0093</td>\n",
       "      <td>VJR 1</td>\n",
       "      <td>6/30/2018</td>\n",
       "      <td>08:00:00 AM</td>\n",
       "      <td>clouded</td>\n",
       "      <td>1</td>\n",
       "      <td>1</td>\n",
       "      <td>NaN</td>\n",
       "      <td>old_growth_forest</td>\n",
       "    </tr>\n",
       "    <tr>\n",
       "      <th>384</th>\n",
       "      <td>381</td>\n",
       "      <td>18_06_30_2</td>\n",
       "      <td>PC0001_0091</td>\n",
       "      <td>VJR 1</td>\n",
       "      <td>6/30/2018</td>\n",
       "      <td>06:00:00 AM</td>\n",
       "      <td>dusk</td>\n",
       "      <td>1</td>\n",
       "      <td>1</td>\n",
       "      <td>NaN</td>\n",
       "      <td>old_growth_forest</td>\n",
       "    </tr>\n",
       "    <tr>\n",
       "      <th>1426</th>\n",
       "      <td>1423</td>\n",
       "      <td>19_12_09_04</td>\n",
       "      <td>PC0001_1204</td>\n",
       "      <td>VJR 1</td>\n",
       "      <td>12/9/2019</td>\n",
       "      <td>09:00:00 PM</td>\n",
       "      <td>dark</td>\n",
       "      <td>0</td>\n",
       "      <td>1</td>\n",
       "      <td>NaN</td>\n",
       "      <td>old_growth_forest</td>\n",
       "    </tr>\n",
       "    <tr>\n",
       "      <th>289</th>\n",
       "      <td>286</td>\n",
       "      <td>18_06_05_5</td>\n",
       "      <td>PC0001_0005</td>\n",
       "      <td>Riparian 2</td>\n",
       "      <td>6/5/2018</td>\n",
       "      <td>08:00:00 AM</td>\n",
       "      <td>clouded</td>\n",
       "      <td>1</td>\n",
       "      <td>1</td>\n",
       "      <td>NaN</td>\n",
       "      <td>old_growth_forest</td>\n",
       "    </tr>\n",
       "    <tr>\n",
       "      <th>174</th>\n",
       "      <td>171</td>\n",
       "      <td>18_04_26_4</td>\n",
       "      <td>PC0000_0176</td>\n",
       "      <td>D Matrix</td>\n",
       "      <td>4/26/2018</td>\n",
       "      <td>06:00:00 AM</td>\n",
       "      <td>dawn</td>\n",
       "      <td>0</td>\n",
       "      <td>1</td>\n",
       "      <td>NaN</td>\n",
       "      <td>salvage_logged_forest</td>\n",
       "    </tr>\n",
       "    <tr>\n",
       "      <th>175</th>\n",
       "      <td>172</td>\n",
       "      <td>18_04_26_5</td>\n",
       "      <td>PC0000_0177</td>\n",
       "      <td>D Matrix</td>\n",
       "      <td>4/26/2018</td>\n",
       "      <td>07:00:00 AM</td>\n",
       "      <td>clouded</td>\n",
       "      <td>0</td>\n",
       "      <td>1</td>\n",
       "      <td>NaN</td>\n",
       "      <td>salvage_logged_forest</td>\n",
       "    </tr>\n",
       "    <tr>\n",
       "      <th>278</th>\n",
       "      <td>275</td>\n",
       "      <td>18_06_02_6</td>\n",
       "      <td>PC0000_0276</td>\n",
       "      <td>C Matrix</td>\n",
       "      <td>6/2/2018</td>\n",
       "      <td>08:00:00 AM</td>\n",
       "      <td>after rain</td>\n",
       "      <td>1</td>\n",
       "      <td>1</td>\n",
       "      <td>NaN</td>\n",
       "      <td>salvage_logged_forest</td>\n",
       "    </tr>\n",
       "    <tr>\n",
       "      <th>1045</th>\n",
       "      <td>1042</td>\n",
       "      <td>19_09_07_03</td>\n",
       "      <td>PC0001_0828</td>\n",
       "      <td>C10 621</td>\n",
       "      <td>9/7/2019</td>\n",
       "      <td>08:00:00 AM</td>\n",
       "      <td>sun</td>\n",
       "      <td>0</td>\n",
       "      <td>1</td>\n",
       "      <td>NaN</td>\n",
       "      <td>selectively_logged_A</td>\n",
       "    </tr>\n",
       "    <tr>\n",
       "      <th>366</th>\n",
       "      <td>363</td>\n",
       "      <td>18_06_26_2</td>\n",
       "      <td>PC0001_0073</td>\n",
       "      <td>B10</td>\n",
       "      <td>6/26/2018</td>\n",
       "      <td>10:00:00 AM</td>\n",
       "      <td>clouded</td>\n",
       "      <td>1</td>\n",
       "      <td>1</td>\n",
       "      <td>NaN</td>\n",
       "      <td>selectively_logged_A</td>\n",
       "    </tr>\n",
       "    <tr>\n",
       "      <th>294</th>\n",
       "      <td>291</td>\n",
       "      <td>18_06_07_JA_4</td>\n",
       "      <td>PC0001_0010</td>\n",
       "      <td>C10 621</td>\n",
       "      <td>6/7/2018</td>\n",
       "      <td>06:00:00 AM</td>\n",
       "      <td>clouded</td>\n",
       "      <td>1</td>\n",
       "      <td>1</td>\n",
       "      <td>NaN</td>\n",
       "      <td>selectively_logged_A</td>\n",
       "    </tr>\n",
       "    <tr>\n",
       "      <th>187</th>\n",
       "      <td>184</td>\n",
       "      <td>18_04_28_6</td>\n",
       "      <td>PC0000_0189</td>\n",
       "      <td>B10</td>\n",
       "      <td>4/28/2018</td>\n",
       "      <td>08:00:00 AM</td>\n",
       "      <td>sun</td>\n",
       "      <td>0</td>\n",
       "      <td>1</td>\n",
       "      <td>NaN</td>\n",
       "      <td>selectively_logged_A</td>\n",
       "    </tr>\n",
       "    <tr>\n",
       "      <th>185</th>\n",
       "      <td>182</td>\n",
       "      <td>18_04_28_4</td>\n",
       "      <td>PC0000_0187</td>\n",
       "      <td>B10</td>\n",
       "      <td>4/28/2018</td>\n",
       "      <td>06:00:00 AM</td>\n",
       "      <td>dawn</td>\n",
       "      <td>0</td>\n",
       "      <td>1</td>\n",
       "      <td>NaN</td>\n",
       "      <td>selectively_logged_A</td>\n",
       "    </tr>\n",
       "    <tr>\n",
       "      <th>1485</th>\n",
       "      <td>1482</td>\n",
       "      <td>20_02_03_6</td>\n",
       "      <td>PC0001_1268</td>\n",
       "      <td>B1 602</td>\n",
       "      <td>2/3/2020</td>\n",
       "      <td>11:00:00 AM</td>\n",
       "      <td>clouded</td>\n",
       "      <td>0</td>\n",
       "      <td>1</td>\n",
       "      <td>NaN</td>\n",
       "      <td>selectively_logged_A</td>\n",
       "    </tr>\n",
       "    <tr>\n",
       "      <th>302</th>\n",
       "      <td>299</td>\n",
       "      <td>18_06_07_A_5</td>\n",
       "      <td>AD0000_0045</td>\n",
       "      <td>E1 648</td>\n",
       "      <td>6/7/2018</td>\n",
       "      <td>07:00:00 AM</td>\n",
       "      <td>sun</td>\n",
       "      <td>1</td>\n",
       "      <td>1</td>\n",
       "      <td>NaN</td>\n",
       "      <td>selectively_logged_B</td>\n",
       "    </tr>\n",
       "    <tr>\n",
       "      <th>252</th>\n",
       "      <td>249</td>\n",
       "      <td>18_05_24_5</td>\n",
       "      <td>PC0000_0250</td>\n",
       "      <td>D100 641</td>\n",
       "      <td>5/24/2018</td>\n",
       "      <td>07:00:00 AM</td>\n",
       "      <td>sunny</td>\n",
       "      <td>1</td>\n",
       "      <td>1</td>\n",
       "      <td>NaN</td>\n",
       "      <td>selectively_logged_B</td>\n",
       "    </tr>\n",
       "    <tr>\n",
       "      <th>251</th>\n",
       "      <td>248</td>\n",
       "      <td>18_05_24_4</td>\n",
       "      <td>PC0000_0249</td>\n",
       "      <td>D100 641</td>\n",
       "      <td>5/24/2018</td>\n",
       "      <td>06:00:00 AM</td>\n",
       "      <td>dusk</td>\n",
       "      <td>1</td>\n",
       "      <td>1</td>\n",
       "      <td>NaN</td>\n",
       "      <td>selectively_logged_B</td>\n",
       "    </tr>\n",
       "    <tr>\n",
       "      <th>479</th>\n",
       "      <td>476</td>\n",
       "      <td>18_08_17_1</td>\n",
       "      <td>PC0001_0187</td>\n",
       "      <td>D100 641</td>\n",
       "      <td>8/17/2018</td>\n",
       "      <td>04:00:00 PM</td>\n",
       "      <td>sun</td>\n",
       "      <td>0</td>\n",
       "      <td>1</td>\n",
       "      <td>NaN</td>\n",
       "      <td>selectively_logged_B</td>\n",
       "    </tr>\n",
       "    <tr>\n",
       "      <th>480</th>\n",
       "      <td>477</td>\n",
       "      <td>18_08_17_2</td>\n",
       "      <td>PC0001_0188</td>\n",
       "      <td>D100 641</td>\n",
       "      <td>8/17/2018</td>\n",
       "      <td>05:00:00 PM</td>\n",
       "      <td>sun</td>\n",
       "      <td>0</td>\n",
       "      <td>1</td>\n",
       "      <td>NaN</td>\n",
       "      <td>selectively_logged_B</td>\n",
       "    </tr>\n",
       "    <tr>\n",
       "      <th>481</th>\n",
       "      <td>478</td>\n",
       "      <td>18_08_17_3</td>\n",
       "      <td>PC0001_0189</td>\n",
       "      <td>D100 641</td>\n",
       "      <td>8/17/2018</td>\n",
       "      <td>06:00:00 PM</td>\n",
       "      <td>beginning of sunset</td>\n",
       "      <td>0</td>\n",
       "      <td>1</td>\n",
       "      <td>NaN</td>\n",
       "      <td>selectively_logged_B</td>\n",
       "    </tr>\n",
       "    <tr>\n",
       "      <th>179</th>\n",
       "      <td>176</td>\n",
       "      <td>18_04_27_3</td>\n",
       "      <td>PC0000_0181</td>\n",
       "      <td>E1 648</td>\n",
       "      <td>4/27/2018</td>\n",
       "      <td>06:00:00 AM</td>\n",
       "      <td>dawn</td>\n",
       "      <td>0</td>\n",
       "      <td>1</td>\n",
       "      <td>NaN</td>\n",
       "      <td>selectively_logged_B</td>\n",
       "    </tr>\n",
       "    <tr>\n",
       "      <th>281</th>\n",
       "      <td>278</td>\n",
       "      <td>18_06_03_3</td>\n",
       "      <td>PC0000_0279</td>\n",
       "      <td>E100 edge</td>\n",
       "      <td>6/3/2018</td>\n",
       "      <td>06:00:00 AM</td>\n",
       "      <td>after rain</td>\n",
       "      <td>1</td>\n",
       "      <td>1</td>\n",
       "      <td>NaN</td>\n",
       "      <td>selectively_logged_B</td>\n",
       "    </tr>\n",
       "  </tbody>\n",
       "</table>\n",
       "</div>"
      ],
      "text/plain": [
       "3    field_name Point_count_ID   Audio_file        Site        Date  \\\n",
       "1395       1392    19_11_27_02  PC0001_1178       VJR 2  11/27/2019   \n",
       "386         383     18_06_30_4  PC0001_0093       VJR 1   6/30/2018   \n",
       "384         381     18_06_30_2  PC0001_0091       VJR 1   6/30/2018   \n",
       "1426       1423    19_12_09_04  PC0001_1204       VJR 1   12/9/2019   \n",
       "289         286     18_06_05_5  PC0001_0005  Riparian 2    6/5/2018   \n",
       "174         171     18_04_26_4  PC0000_0176    D Matrix   4/26/2018   \n",
       "175         172     18_04_26_5  PC0000_0177    D Matrix   4/26/2018   \n",
       "278         275     18_06_02_6  PC0000_0276    C Matrix    6/2/2018   \n",
       "1045       1042    19_09_07_03  PC0001_0828     C10 621    9/7/2019   \n",
       "366         363     18_06_26_2  PC0001_0073         B10   6/26/2018   \n",
       "294         291  18_06_07_JA_4  PC0001_0010     C10 621    6/7/2018   \n",
       "187         184     18_04_28_6  PC0000_0189         B10   4/28/2018   \n",
       "185         182     18_04_28_4  PC0000_0187         B10   4/28/2018   \n",
       "1485       1482     20_02_03_6  PC0001_1268      B1 602    2/3/2020   \n",
       "302         299   18_06_07_A_5  AD0000_0045      E1 648    6/7/2018   \n",
       "252         249     18_05_24_5  PC0000_0250    D100 641   5/24/2018   \n",
       "251         248     18_05_24_4  PC0000_0249    D100 641   5/24/2018   \n",
       "479         476     18_08_17_1  PC0001_0187    D100 641   8/17/2018   \n",
       "480         477     18_08_17_2  PC0001_0188    D100 641   8/17/2018   \n",
       "481         478     18_08_17_3  PC0001_0189    D100 641   8/17/2018   \n",
       "179         176     18_04_27_3  PC0000_0181      E1 648   4/27/2018   \n",
       "281         278     18_06_03_3  PC0000_0279   E100 edge    6/3/2018   \n",
       "\n",
       "3            Time              Weather Adi_Syamin Jani Notes  \\\n",
       "1395  07:00:00 AM                  sun          0    1   NaN   \n",
       "386   08:00:00 AM              clouded          1    1   NaN   \n",
       "384   06:00:00 AM                 dusk          1    1   NaN   \n",
       "1426  09:00:00 PM                 dark          0    1   NaN   \n",
       "289   08:00:00 AM              clouded          1    1   NaN   \n",
       "174   06:00:00 AM                 dawn          0    1   NaN   \n",
       "175   07:00:00 AM              clouded          0    1   NaN   \n",
       "278   08:00:00 AM           after rain          1    1   NaN   \n",
       "1045  08:00:00 AM                  sun          0    1   NaN   \n",
       "366   10:00:00 AM              clouded          1    1   NaN   \n",
       "294   06:00:00 AM              clouded          1    1   NaN   \n",
       "187   08:00:00 AM                  sun          0    1   NaN   \n",
       "185   06:00:00 AM                 dawn          0    1   NaN   \n",
       "1485  11:00:00 AM              clouded          0    1   NaN   \n",
       "302   07:00:00 AM                  sun          1    1   NaN   \n",
       "252   07:00:00 AM                sunny          1    1   NaN   \n",
       "251   06:00:00 AM                 dusk          1    1   NaN   \n",
       "479   04:00:00 PM                  sun          0    1   NaN   \n",
       "480   05:00:00 PM                  sun          0    1   NaN   \n",
       "481   06:00:00 PM  beginning of sunset          0    1   NaN   \n",
       "179   06:00:00 AM                 dawn          0    1   NaN   \n",
       "281   06:00:00 AM           after rain          1    1   NaN   \n",
       "\n",
       "3                 Site_type  \n",
       "1395      old_growth_forest  \n",
       "386       old_growth_forest  \n",
       "384       old_growth_forest  \n",
       "1426      old_growth_forest  \n",
       "289       old_growth_forest  \n",
       "174   salvage_logged_forest  \n",
       "175   salvage_logged_forest  \n",
       "278   salvage_logged_forest  \n",
       "1045   selectively_logged_A  \n",
       "366    selectively_logged_A  \n",
       "294    selectively_logged_A  \n",
       "187    selectively_logged_A  \n",
       "185    selectively_logged_A  \n",
       "1485   selectively_logged_A  \n",
       "302    selectively_logged_B  \n",
       "252    selectively_logged_B  \n",
       "251    selectively_logged_B  \n",
       "479    selectively_logged_B  \n",
       "480    selectively_logged_B  \n",
       "481    selectively_logged_B  \n",
       "179    selectively_logged_B  \n",
       "281    selectively_logged_B  "
      ]
     },
     "execution_count": 3,
     "metadata": {},
     "output_type": "execute_result"
    }
   ],
   "source": [
    "# defining a dict of disturbance categories \n",
    "\n",
    "# the aim is to compare similarly different recordings / sites or at least site types\n",
    "# creating groups based on closeness of the location\n",
    "# group_selectively_logged_1 = ['B10', 'B1 602', 'C10 621' ]\n",
    "# group_selectively_logged_2 = ['E100 edge', 'E1 648', 'D100 641' ]\n",
    "\n",
    "disturbance = {\n",
    "    'VJR 1':'old_growth_forest', \n",
    "    'VJR 2':'old_growth_forest', \n",
    "    'Riparian 1':'old_growth_forest', \n",
    "    'Riparian 2':'old_growth_forest',\n",
    "    'OP Belian':'oil_palm',\n",
    "    'OP3 843':'oil_palm',\n",
    "    'C Matrix':'salvage_logged_forest',\n",
    "    'D Matrix':'salvage_logged_forest',\n",
    "    'B10':'selectively_logged_A', \n",
    "    'B1 602':'selectively_logged_A', \n",
    "    'C10 621':'selectively_logged_A',\n",
    "    'LFE river':'selectively_logged_A',\n",
    "}\n",
    "\n",
    "recordings['Site_type'] = recordings['Site'].map(disturbance)\n",
    "recordings['Site_type'] = recordings['Site_type'].fillna('selectively_logged_B')\n",
    "recordings.sort_values(by = 'Site_type')"
   ]
  },
  {
   "cell_type": "code",
   "execution_count": 9,
   "id": "legitimate-daniel",
   "metadata": {},
   "outputs": [
    {
     "data": {
      "text/html": [
       "<div>\n",
       "<style scoped>\n",
       "    .dataframe tbody tr th:only-of-type {\n",
       "        vertical-align: middle;\n",
       "    }\n",
       "\n",
       "    .dataframe tbody tr th {\n",
       "        vertical-align: top;\n",
       "    }\n",
       "\n",
       "    .dataframe thead th {\n",
       "        text-align: right;\n",
       "    }\n",
       "</style>\n",
       "<table border=\"1\" class=\"dataframe\">\n",
       "  <thead>\n",
       "    <tr style=\"text-align: right;\">\n",
       "      <th></th>\n",
       "      <th>field_name</th>\n",
       "      <th>Point_count_ID</th>\n",
       "      <th>Audio_file</th>\n",
       "      <th>Site</th>\n",
       "      <th>Weather</th>\n",
       "      <th>Site_type</th>\n",
       "      <th>year</th>\n",
       "      <th>month</th>\n",
       "      <th>day</th>\n",
       "      <th>time</th>\n",
       "      <th>am/pm</th>\n",
       "      <th>date</th>\n",
       "      <th>count</th>\n",
       "    </tr>\n",
       "  </thead>\n",
       "  <tbody>\n",
       "    <tr>\n",
       "      <th>14</th>\n",
       "      <td>383</td>\n",
       "      <td>18_06_30_4</td>\n",
       "      <td>PC0001_0093</td>\n",
       "      <td>VJR 1</td>\n",
       "      <td>clouded</td>\n",
       "      <td>old_growth_forest</td>\n",
       "      <td>2018</td>\n",
       "      <td>6</td>\n",
       "      <td>30</td>\n",
       "      <td>08:00:00</td>\n",
       "      <td>AM</td>\n",
       "      <td>2018-6-30</td>\n",
       "      <td>2</td>\n",
       "    </tr>\n",
       "    <tr>\n",
       "      <th>13</th>\n",
       "      <td>381</td>\n",
       "      <td>18_06_30_2</td>\n",
       "      <td>PC0001_0091</td>\n",
       "      <td>VJR 1</td>\n",
       "      <td>dusk</td>\n",
       "      <td>old_growth_forest</td>\n",
       "      <td>2018</td>\n",
       "      <td>6</td>\n",
       "      <td>30</td>\n",
       "      <td>06:00:00</td>\n",
       "      <td>AM</td>\n",
       "      <td>2018-6-30</td>\n",
       "      <td>2</td>\n",
       "    </tr>\n",
       "    <tr>\n",
       "      <th>16</th>\n",
       "      <td>1392</td>\n",
       "      <td>19_11_27_02</td>\n",
       "      <td>PC0001_1178</td>\n",
       "      <td>VJR 2</td>\n",
       "      <td>sun</td>\n",
       "      <td>old_growth_forest</td>\n",
       "      <td>2019</td>\n",
       "      <td>11</td>\n",
       "      <td>27</td>\n",
       "      <td>07:00:00</td>\n",
       "      <td>AM</td>\n",
       "      <td>2019-11-27</td>\n",
       "      <td>1</td>\n",
       "    </tr>\n",
       "    <tr>\n",
       "      <th>9</th>\n",
       "      <td>286</td>\n",
       "      <td>18_06_05_5</td>\n",
       "      <td>PC0001_0005</td>\n",
       "      <td>Riparian 2</td>\n",
       "      <td>clouded</td>\n",
       "      <td>old_growth_forest</td>\n",
       "      <td>2018</td>\n",
       "      <td>6</td>\n",
       "      <td>5</td>\n",
       "      <td>08:00:00</td>\n",
       "      <td>AM</td>\n",
       "      <td>2018-6-5</td>\n",
       "      <td>1</td>\n",
       "    </tr>\n",
       "    <tr>\n",
       "      <th>0</th>\n",
       "      <td>171</td>\n",
       "      <td>18_04_26_4</td>\n",
       "      <td>PC0000_0176</td>\n",
       "      <td>D Matrix</td>\n",
       "      <td>dawn</td>\n",
       "      <td>salvage_logged_forest</td>\n",
       "      <td>2018</td>\n",
       "      <td>4</td>\n",
       "      <td>26</td>\n",
       "      <td>06:00:00</td>\n",
       "      <td>AM</td>\n",
       "      <td>2018-4-26</td>\n",
       "      <td>2</td>\n",
       "    </tr>\n",
       "    <tr>\n",
       "      <th>1</th>\n",
       "      <td>172</td>\n",
       "      <td>18_04_26_5</td>\n",
       "      <td>PC0000_0177</td>\n",
       "      <td>D Matrix</td>\n",
       "      <td>clouded</td>\n",
       "      <td>salvage_logged_forest</td>\n",
       "      <td>2018</td>\n",
       "      <td>4</td>\n",
       "      <td>26</td>\n",
       "      <td>07:00:00</td>\n",
       "      <td>AM</td>\n",
       "      <td>2018-4-26</td>\n",
       "      <td>2</td>\n",
       "    </tr>\n",
       "    <tr>\n",
       "      <th>7</th>\n",
       "      <td>275</td>\n",
       "      <td>18_06_02_6</td>\n",
       "      <td>PC0000_0276</td>\n",
       "      <td>C Matrix</td>\n",
       "      <td>after rain</td>\n",
       "      <td>salvage_logged_forest</td>\n",
       "      <td>2018</td>\n",
       "      <td>6</td>\n",
       "      <td>2</td>\n",
       "      <td>08:00:00</td>\n",
       "      <td>AM</td>\n",
       "      <td>2018-6-2</td>\n",
       "      <td>1</td>\n",
       "    </tr>\n",
       "    <tr>\n",
       "      <th>15</th>\n",
       "      <td>1042</td>\n",
       "      <td>19_09_07_03</td>\n",
       "      <td>PC0001_0828</td>\n",
       "      <td>C10 621</td>\n",
       "      <td>sun</td>\n",
       "      <td>selectively_logged_A</td>\n",
       "      <td>2019</td>\n",
       "      <td>9</td>\n",
       "      <td>7</td>\n",
       "      <td>08:00:00</td>\n",
       "      <td>AM</td>\n",
       "      <td>2019-9-7</td>\n",
       "      <td>1</td>\n",
       "    </tr>\n",
       "    <tr>\n",
       "      <th>12</th>\n",
       "      <td>363</td>\n",
       "      <td>18_06_26_2</td>\n",
       "      <td>PC0001_0073</td>\n",
       "      <td>B10</td>\n",
       "      <td>clouded</td>\n",
       "      <td>selectively_logged_A</td>\n",
       "      <td>2018</td>\n",
       "      <td>6</td>\n",
       "      <td>26</td>\n",
       "      <td>10:00:00</td>\n",
       "      <td>AM</td>\n",
       "      <td>2018-6-26</td>\n",
       "      <td>1</td>\n",
       "    </tr>\n",
       "    <tr>\n",
       "      <th>10</th>\n",
       "      <td>291</td>\n",
       "      <td>18_06_07_JA_4</td>\n",
       "      <td>PC0001_0010</td>\n",
       "      <td>C10 621</td>\n",
       "      <td>clouded</td>\n",
       "      <td>selectively_logged_A</td>\n",
       "      <td>2018</td>\n",
       "      <td>6</td>\n",
       "      <td>7</td>\n",
       "      <td>06:00:00</td>\n",
       "      <td>AM</td>\n",
       "      <td>2018-6-7</td>\n",
       "      <td>2</td>\n",
       "    </tr>\n",
       "    <tr>\n",
       "      <th>17</th>\n",
       "      <td>1482</td>\n",
       "      <td>20_02_03_6</td>\n",
       "      <td>PC0001_1268</td>\n",
       "      <td>B1 602</td>\n",
       "      <td>clouded</td>\n",
       "      <td>selectively_logged_A</td>\n",
       "      <td>2020</td>\n",
       "      <td>2</td>\n",
       "      <td>3</td>\n",
       "      <td>11:00:00</td>\n",
       "      <td>AM</td>\n",
       "      <td>2020-2-3</td>\n",
       "      <td>1</td>\n",
       "    </tr>\n",
       "    <tr>\n",
       "      <th>4</th>\n",
       "      <td>184</td>\n",
       "      <td>18_04_28_6</td>\n",
       "      <td>PC0000_0189</td>\n",
       "      <td>B10</td>\n",
       "      <td>sun</td>\n",
       "      <td>selectively_logged_A</td>\n",
       "      <td>2018</td>\n",
       "      <td>4</td>\n",
       "      <td>28</td>\n",
       "      <td>08:00:00</td>\n",
       "      <td>AM</td>\n",
       "      <td>2018-4-28</td>\n",
       "      <td>2</td>\n",
       "    </tr>\n",
       "    <tr>\n",
       "      <th>3</th>\n",
       "      <td>182</td>\n",
       "      <td>18_04_28_4</td>\n",
       "      <td>PC0000_0187</td>\n",
       "      <td>B10</td>\n",
       "      <td>dawn</td>\n",
       "      <td>selectively_logged_A</td>\n",
       "      <td>2018</td>\n",
       "      <td>4</td>\n",
       "      <td>28</td>\n",
       "      <td>06:00:00</td>\n",
       "      <td>AM</td>\n",
       "      <td>2018-4-28</td>\n",
       "      <td>2</td>\n",
       "    </tr>\n",
       "    <tr>\n",
       "      <th>11</th>\n",
       "      <td>299</td>\n",
       "      <td>18_06_07_A_5</td>\n",
       "      <td>AD0000_0045</td>\n",
       "      <td>E1 648</td>\n",
       "      <td>sun</td>\n",
       "      <td>selectively_logged_B</td>\n",
       "      <td>2018</td>\n",
       "      <td>6</td>\n",
       "      <td>7</td>\n",
       "      <td>07:00:00</td>\n",
       "      <td>AM</td>\n",
       "      <td>2018-6-7</td>\n",
       "      <td>2</td>\n",
       "    </tr>\n",
       "    <tr>\n",
       "      <th>5</th>\n",
       "      <td>248</td>\n",
       "      <td>18_05_24_4</td>\n",
       "      <td>PC0000_0249</td>\n",
       "      <td>D100 641</td>\n",
       "      <td>dusk</td>\n",
       "      <td>selectively_logged_B</td>\n",
       "      <td>2018</td>\n",
       "      <td>5</td>\n",
       "      <td>24</td>\n",
       "      <td>06:00:00</td>\n",
       "      <td>AM</td>\n",
       "      <td>2018-5-24</td>\n",
       "      <td>2</td>\n",
       "    </tr>\n",
       "    <tr>\n",
       "      <th>2</th>\n",
       "      <td>176</td>\n",
       "      <td>18_04_27_3</td>\n",
       "      <td>PC0000_0181</td>\n",
       "      <td>E1 648</td>\n",
       "      <td>dawn</td>\n",
       "      <td>selectively_logged_B</td>\n",
       "      <td>2018</td>\n",
       "      <td>4</td>\n",
       "      <td>27</td>\n",
       "      <td>06:00:00</td>\n",
       "      <td>AM</td>\n",
       "      <td>2018-4-27</td>\n",
       "      <td>1</td>\n",
       "    </tr>\n",
       "    <tr>\n",
       "      <th>6</th>\n",
       "      <td>249</td>\n",
       "      <td>18_05_24_5</td>\n",
       "      <td>PC0000_0250</td>\n",
       "      <td>D100 641</td>\n",
       "      <td>sunny</td>\n",
       "      <td>selectively_logged_B</td>\n",
       "      <td>2018</td>\n",
       "      <td>5</td>\n",
       "      <td>24</td>\n",
       "      <td>07:00:00</td>\n",
       "      <td>AM</td>\n",
       "      <td>2018-5-24</td>\n",
       "      <td>2</td>\n",
       "    </tr>\n",
       "    <tr>\n",
       "      <th>8</th>\n",
       "      <td>278</td>\n",
       "      <td>18_06_03_3</td>\n",
       "      <td>PC0000_0279</td>\n",
       "      <td>E100 edge</td>\n",
       "      <td>after rain</td>\n",
       "      <td>selectively_logged_B</td>\n",
       "      <td>2018</td>\n",
       "      <td>6</td>\n",
       "      <td>3</td>\n",
       "      <td>06:00:00</td>\n",
       "      <td>AM</td>\n",
       "      <td>2018-6-3</td>\n",
       "      <td>1</td>\n",
       "    </tr>\n",
       "  </tbody>\n",
       "</table>\n",
       "</div>"
      ],
      "text/plain": [
       "   field_name Point_count_ID   Audio_file        Site     Weather  \\\n",
       "14        383     18_06_30_4  PC0001_0093       VJR 1     clouded   \n",
       "13        381     18_06_30_2  PC0001_0091       VJR 1        dusk   \n",
       "16       1392    19_11_27_02  PC0001_1178       VJR 2         sun   \n",
       "9         286     18_06_05_5  PC0001_0005  Riparian 2     clouded   \n",
       "0         171     18_04_26_4  PC0000_0176    D Matrix        dawn   \n",
       "1         172     18_04_26_5  PC0000_0177    D Matrix     clouded   \n",
       "7         275     18_06_02_6  PC0000_0276    C Matrix  after rain   \n",
       "15       1042    19_09_07_03  PC0001_0828     C10 621         sun   \n",
       "12        363     18_06_26_2  PC0001_0073         B10     clouded   \n",
       "10        291  18_06_07_JA_4  PC0001_0010     C10 621     clouded   \n",
       "17       1482     20_02_03_6  PC0001_1268      B1 602     clouded   \n",
       "4         184     18_04_28_6  PC0000_0189         B10         sun   \n",
       "3         182     18_04_28_4  PC0000_0187         B10        dawn   \n",
       "11        299   18_06_07_A_5  AD0000_0045      E1 648         sun   \n",
       "5         248     18_05_24_4  PC0000_0249    D100 641        dusk   \n",
       "2         176     18_04_27_3  PC0000_0181      E1 648        dawn   \n",
       "6         249     18_05_24_5  PC0000_0250    D100 641       sunny   \n",
       "8         278     18_06_03_3  PC0000_0279   E100 edge  after rain   \n",
       "\n",
       "                Site_type  year month day      time am/pm        date  count  \n",
       "14      old_growth_forest  2018     6  30  08:00:00    AM   2018-6-30      2  \n",
       "13      old_growth_forest  2018     6  30  06:00:00    AM   2018-6-30      2  \n",
       "16      old_growth_forest  2019    11  27  07:00:00    AM  2019-11-27      1  \n",
       "9       old_growth_forest  2018     6   5  08:00:00    AM    2018-6-5      1  \n",
       "0   salvage_logged_forest  2018     4  26  06:00:00    AM   2018-4-26      2  \n",
       "1   salvage_logged_forest  2018     4  26  07:00:00    AM   2018-4-26      2  \n",
       "7   salvage_logged_forest  2018     6   2  08:00:00    AM    2018-6-2      1  \n",
       "15   selectively_logged_A  2019     9   7  08:00:00    AM    2019-9-7      1  \n",
       "12   selectively_logged_A  2018     6  26  10:00:00    AM   2018-6-26      1  \n",
       "10   selectively_logged_A  2018     6   7  06:00:00    AM    2018-6-7      2  \n",
       "17   selectively_logged_A  2020     2   3  11:00:00    AM    2020-2-3      1  \n",
       "4    selectively_logged_A  2018     4  28  08:00:00    AM   2018-4-28      2  \n",
       "3    selectively_logged_A  2018     4  28  06:00:00    AM   2018-4-28      2  \n",
       "11   selectively_logged_B  2018     6   7  07:00:00    AM    2018-6-7      2  \n",
       "5    selectively_logged_B  2018     5  24  06:00:00    AM   2018-5-24      2  \n",
       "2    selectively_logged_B  2018     4  27  06:00:00    AM   2018-4-27      1  \n",
       "6    selectively_logged_B  2018     5  24  07:00:00    AM   2018-5-24      2  \n",
       "8    selectively_logged_B  2018     6   3  06:00:00    AM    2018-6-3      1  "
      ]
     },
     "execution_count": 9,
     "metadata": {},
     "output_type": "execute_result"
    }
   ],
   "source": [
    "dates = recordings['Date'].str.split('/', expand = True)\n",
    "dates.columns = ['month', 'day', 'year']\n",
    "\n",
    "ampm = recordings['Time'].str.split(' ', expand = True)\n",
    "ampm.columns = ['time', 'am/pm']\n",
    "\n",
    "df = pd.concat([recordings, dates, ampm], axis = 1)\n",
    "df = df.loc[ampm['am/pm'] == 'AM'] # excluding PM recordings are they are more rare\n",
    "\n",
    "df = df[['field_name', 'Point_count_ID', 'Audio_file', 'Site',\n",
    "       'Weather', 'Site_type', 'year', 'month', 'day', 'time', 'am/pm']] # narrowing down to what seems important going forward\n",
    "\n",
    "cols=[\"year\",\"month\",\"day\"]\n",
    "df['date'] = df[cols].apply(lambda x: '-'.join(x.values.astype(str)), axis=\"columns\")\n",
    "\n",
    "count = df['date'].value_counts().to_frame().reset_index()\n",
    "count.columns = ['date', 'count']\n",
    "\n",
    "df = pd.merge(df, count, on = 'date')\n",
    "df.sort_values(by = 'Site_type')"
   ]
  },
  {
   "cell_type": "code",
   "execution_count": 13,
   "id": "combined-gamma",
   "metadata": {},
   "outputs": [
    {
     "name": "stdout",
     "output_type": "stream",
     "text": [
      "looking at 18 available audio files only\n",
      "Stored 'files_available' (list)\n"
     ]
    }
   ],
   "source": [
    "print('looking at', len(df), 'available audio files only')\n",
    "files_available = df['Audio_file'].to_list()\n",
    "%store files_available"
   ]
  },
  {
   "cell_type": "markdown",
   "id": "palestinian-berkeley",
   "metadata": {},
   "source": [
    "### deciding how to decide.."
   ]
  },
  {
   "cell_type": "code",
   "execution_count": 5,
   "id": "bridal-wings",
   "metadata": {},
   "outputs": [
    {
     "data": {
      "image/png": "[encoded data removed]",
      "text/plain": [
       "<IPython.core.display.Image object>"
      ]
     },
     "metadata": {},
     "output_type": "display_data"
    },
    {
     "name": "stdout",
     "output_type": "stream",
     "text": [
      "© WeatherSpark.com\n"
     ]
    }
   ],
   "source": [
    "display(Image(filename='../data/temp_tawau.png')) # sunset and sunrise varies very little over time and the climate is rather even too\n",
    "print('© WeatherSpark.com')"
   ]
  },
  {
   "cell_type": "code",
   "execution_count": 25,
   "id": "charged-cliff",
   "metadata": {},
   "outputs": [
    {
     "data": {
      "application/vnd.plotly.v1+json": {
       "config": {
        "plotlyServerURL": "https://plot.ly"
       },
       "data": [
        {
         "hovertemplate": "Site_type=salvage_logged_forest<br>date=%{x}<br>Site=%{y}<br>count=%{marker.size}<extra></extra>",
         "legendgroup": "salvage_logged_forest",
         "marker": {
          "color": "LimeGreen",
          "opacity": 1,
          "size": [
           2,
           2,
           1
          ],
          "sizemode": "area",
          "sizeref": 0.005,
          "symbol": "circle"
         },
         "mode": "markers",
         "name": "salvage_logged_forest",
         "orientation": "v",
         "showlegend": true,
         "type": "scatter",
         "x": [
          "2018-4-26",
          "2018-4-26",
          "2018-6-2"
         ],
         "xaxis": "x",
         "y": [
          "D Matrix",
          "D Matrix",
          "C Matrix"
         ],
         "yaxis": "y"
        },
        {
         "hovertemplate": "Site_type=selectively_logged_B<br>date=%{x}<br>Site=%{y}<br>count=%{marker.size}<extra></extra>",
         "legendgroup": "selectively_logged_B",
         "marker": {
          "color": "MediumAquaMarine",
          "opacity": 1,
          "size": [
           1,
           2,
           2,
           1,
           2
          ],
          "sizemode": "area",
          "sizeref": 0.005,
          "symbol": "circle"
         },
         "mode": "markers",
         "name": "selectively_logged_B",
         "orientation": "v",
         "showlegend": true,
         "type": "scatter",
         "x": [
          "2018-4-27",
          "2018-5-24",
          "2018-5-24",
          "2018-6-3",
          "2018-6-7"
         ],
         "xaxis": "x",
         "y": [
          "E1 648",
          "D100 641",
          "D100 641",
          "E100 edge",
          "E1 648"
         ],
         "yaxis": "y"
        },
        {
         "hovertemplate": "Site_type=selectively_logged_A<br>date=%{x}<br>Site=%{y}<br>count=%{marker.size}<extra></extra>",
         "legendgroup": "selectively_logged_A",
         "marker": {
          "color": "MediumSeaGreen",
          "opacity": 1,
          "size": [
           2,
           2,
           2,
           1,
           1,
           1
          ],
          "sizemode": "area",
          "sizeref": 0.005,
          "symbol": "circle"
         },
         "mode": "markers",
         "name": "selectively_logged_A",
         "orientation": "v",
         "showlegend": true,
         "type": "scatter",
         "x": [
          "2018-4-28",
          "2018-4-28",
          "2018-6-7",
          "2018-6-26",
          "2019-9-7",
          "2020-2-3"
         ],
         "xaxis": "x",
         "y": [
          "B10",
          "B10",
          "C10 621",
          "B10",
          "C10 621",
          "B1 602"
         ],
         "yaxis": "y"
        },
        {
         "hovertemplate": "Site_type=old_growth_forest<br>date=%{x}<br>Site=%{y}<br>count=%{marker.size}<extra></extra>",
         "legendgroup": "old_growth_forest",
         "marker": {
          "color": "green",
          "opacity": 1,
          "size": [
           1,
           2,
           2,
           1
          ],
          "sizemode": "area",
          "sizeref": 0.005,
          "symbol": "circle"
         },
         "mode": "markers",
         "name": "old_growth_forest",
         "orientation": "v",
         "showlegend": true,
         "type": "scatter",
         "x": [
          "2018-6-5",
          "2018-6-30",
          "2018-6-30",
          "2019-11-27"
         ],
         "xaxis": "x",
         "y": [
          "Riparian 2",
          "VJR 1",
          "VJR 1",
          "VJR 2"
         ],
         "yaxis": "y"
        }
       ],
       "layout": {
        "autosize": true,
        "legend": {
         "itemsizing": "constant",
         "title": {
          "text": "Site_type"
         },
         "tracegroupgap": 0
        },
        "margin": {
         "t": 60
        },
        "template": {
         "data": {
          "bar": [
           {
            "error_x": {
             "color": "#2a3f5f"
            },
            "error_y": {
             "color": "#2a3f5f"
            },
            "marker": {
             "line": {
              "color": "#E5ECF6",
              "width": 0.5
             }
            },
            "type": "bar"
           }
          ],
          "barpolar": [
           {
            "marker": {
             "line": {
              "color": "#E5ECF6",
              "width": 0.5
             }
            },
            "type": "barpolar"
           }
          ],
          "carpet": [
           {
            "aaxis": {
             "endlinecolor": "#2a3f5f",
             "gridcolor": "white",
             "linecolor": "white",
             "minorgridcolor": "white",
             "startlinecolor": "#2a3f5f"
            },
            "baxis": {
             "endlinecolor": "#2a3f5f",
             "gridcolor": "white",
             "linecolor": "white",
             "minorgridcolor": "white",
             "startlinecolor": "#2a3f5f"
            },
            "type": "carpet"
           }
          ],
          "choropleth": [
           {
            "colorbar": {
             "outlinewidth": 0,
             "ticks": ""
            },
            "type": "choropleth"
           }
          ],
          "contour": [
           {
            "colorbar": {
             "outlinewidth": 0,
             "ticks": ""
            },
            "colorscale": [
             [
              0,
              "#0d0887"
             ],
             [
              0.1111111111111111,
              "#46039f"
             ],
             [
              0.2222222222222222,
              "#7201a8"
             ],
             [
              0.3333333333333333,
              "#9c179e"
             ],
             [
              0.4444444444444444,
              "#bd3786"
             ],
             [
              0.5555555555555556,
              "#d8576b"
             ],
             [
              0.6666666666666666,
              "#ed7953"
             ],
             [
              0.7777777777777778,
              "#fb9f3a"
             ],
             [
              0.8888888888888888,
              "#fdca26"
             ],
             [
              1,
              "#f0f921"
             ]
            ],
            "type": "contour"
           }
          ],
          "contourcarpet": [
           {
            "colorbar": {
             "outlinewidth": 0,
             "ticks": ""
            },
            "type": "contourcarpet"
           }
          ],
          "heatmap": [
           {
            "colorbar": {
             "outlinewidth": 0,
             "ticks": ""
            },
            "colorscale": [
             [
              0,
              "#0d0887"
             ],
             [
              0.1111111111111111,
              "#46039f"
             ],
             [
              0.2222222222222222,
              "#7201a8"
             ],
             [
              0.3333333333333333,
              "#9c179e"
             ],
             [
              0.4444444444444444,
              "#bd3786"
             ],
             [
              0.5555555555555556,
              "#d8576b"
             ],
             [
              0.6666666666666666,
              "#ed7953"
             ],
             [
              0.7777777777777778,
              "#fb9f3a"
             ],
             [
              0.8888888888888888,
              "#fdca26"
             ],
             [
              1,
              "#f0f921"
             ]
            ],
            "type": "heatmap"
           }
          ],
          "heatmapgl": [
           {
            "colorbar": {
             "outlinewidth": 0,
             "ticks": ""
            },
            "colorscale": [
             [
              0,
              "#0d0887"
             ],
             [
              0.1111111111111111,
              "#46039f"
             ],
             [
              0.2222222222222222,
              "#7201a8"
             ],
             [
              0.3333333333333333,
              "#9c179e"
             ],
             [
              0.4444444444444444,
              "#bd3786"
             ],
             [
              0.5555555555555556,
              "#d8576b"
             ],
             [
              0.6666666666666666,
              "#ed7953"
             ],
             [
              0.7777777777777778,
              "#fb9f3a"
             ],
             [
              0.8888888888888888,
              "#fdca26"
             ],
             [
              1,
              "#f0f921"
             ]
            ],
            "type": "heatmapgl"
           }
          ],
          "histogram": [
           {
            "marker": {
             "colorbar": {
              "outlinewidth": 0,
              "ticks": ""
             }
            },
            "type": "histogram"
           }
          ],
          "histogram2d": [
           {
            "colorbar": {
             "outlinewidth": 0,
             "ticks": ""
            },
            "colorscale": [
             [
              0,
              "#0d0887"
             ],
             [
              0.1111111111111111,
              "#46039f"
             ],
             [
              0.2222222222222222,
              "#7201a8"
             ],
             [
              0.3333333333333333,
              "#9c179e"
             ],
             [
              0.4444444444444444,
              "#bd3786"
             ],
             [
              0.5555555555555556,
              "#d8576b"
             ],
             [
              0.6666666666666666,
              "#ed7953"
             ],
             [
              0.7777777777777778,
              "#fb9f3a"
             ],
             [
              0.8888888888888888,
              "#fdca26"
             ],
             [
              1,
              "#f0f921"
             ]
            ],
            "type": "histogram2d"
           }
          ],
          "histogram2dcontour": [
           {
            "colorbar": {
             "outlinewidth": 0,
             "ticks": ""
            },
            "colorscale": [
             [
              0,
              "#0d0887"
             ],
             [
              0.1111111111111111,
              "#46039f"
             ],
             [
              0.2222222222222222,
              "#7201a8"
             ],
             [
              0.3333333333333333,
              "#9c179e"
             ],
             [
              0.4444444444444444,
              "#bd3786"
             ],
             [
              0.5555555555555556,
              "#d8576b"
             ],
             [
              0.6666666666666666,
              "#ed7953"
             ],
             [
              0.7777777777777778,
              "#fb9f3a"
             ],
             [
              0.8888888888888888,
              "#fdca26"
             ],
             [
              1,
              "#f0f921"
             ]
            ],
            "type": "histogram2dcontour"
           }
          ],
          "mesh3d": [
           {
            "colorbar": {
             "outlinewidth": 0,
             "ticks": ""
            },
            "type": "mesh3d"
           }
          ],
          "parcoords": [
           {
            "line": {
             "colorbar": {
              "outlinewidth": 0,
              "ticks": ""
             }
            },
            "type": "parcoords"
           }
          ],
          "pie": [
           {
            "automargin": true,
            "type": "pie"
           }
          ],
          "scatter": [
           {
            "marker": {
             "colorbar": {
              "outlinewidth": 0,
              "ticks": ""
             }
            },
            "type": "scatter"
           }
          ],
          "scatter3d": [
           {
            "line": {
             "colorbar": {
              "outlinewidth": 0,
              "ticks": ""
             }
            },
            "marker": {
             "colorbar": {
              "outlinewidth": 0,
              "ticks": ""
             }
            },
            "type": "scatter3d"
           }
          ],
          "scattercarpet": [
           {
            "marker": {
             "colorbar": {
              "outlinewidth": 0,
              "ticks": ""
             }
            },
            "type": "scattercarpet"
           }
          ],
          "scattergeo": [
           {
            "marker": {
             "colorbar": {
              "outlinewidth": 0,
              "ticks": ""
             }
            },
            "type": "scattergeo"
           }
          ],
          "scattergl": [
           {
            "marker": {
             "colorbar": {
              "outlinewidth": 0,
              "ticks": ""
             }
            },
            "type": "scattergl"
           }
          ],
          "scattermapbox": [
           {
            "marker": {
             "colorbar": {
              "outlinewidth": 0,
              "ticks": ""
             }
            },
            "type": "scattermapbox"
           }
          ],
          "scatterpolar": [
           {
            "marker": {
             "colorbar": {
              "outlinewidth": 0,
              "ticks": ""
             }
            },
            "type": "scatterpolar"
           }
          ],
          "scatterpolargl": [
           {
            "marker": {
             "colorbar": {
              "outlinewidth": 0,
              "ticks": ""
             }
            },
            "type": "scatterpolargl"
           }
          ],
          "scatterternary": [
           {
            "marker": {
             "colorbar": {
              "outlinewidth": 0,
              "ticks": ""
             }
            },
            "type": "scatterternary"
           }
          ],
          "surface": [
           {
            "colorbar": {
             "outlinewidth": 0,
             "ticks": ""
            },
            "colorscale": [
             [
              0,
              "#0d0887"
             ],
             [
              0.1111111111111111,
              "#46039f"
             ],
             [
              0.2222222222222222,
              "#7201a8"
             ],
             [
              0.3333333333333333,
              "#9c179e"
             ],
             [
              0.4444444444444444,
              "#bd3786"
             ],
             [
              0.5555555555555556,
              "#d8576b"
             ],
             [
              0.6666666666666666,
              "#ed7953"
             ],
             [
              0.7777777777777778,
              "#fb9f3a"
             ],
             [
              0.8888888888888888,
              "#fdca26"
             ],
             [
              1,
              "#f0f921"
             ]
            ],
            "type": "surface"
           }
          ],
          "table": [
           {
            "cells": {
             "fill": {
              "color": "#EBF0F8"
             },
             "line": {
              "color": "white"
             }
            },
            "header": {
             "fill": {
              "color": "#C8D4E3"
             },
             "line": {
              "color": "white"
             }
            },
            "type": "table"
           }
          ]
         },
         "layout": {
          "annotationdefaults": {
           "arrowcolor": "#2a3f5f",
           "arrowhead": 0,
           "arrowwidth": 1
          },
          "autotypenumbers": "strict",
          "coloraxis": {
           "colorbar": {
            "outlinewidth": 0,
            "ticks": ""
           }
          },
          "colorscale": {
           "diverging": [
            [
             0,
             "#8e0152"
            ],
            [
             0.1,
             "#c51b7d"
            ],
            [
             0.2,
             "#de77ae"
            ],
            [
             0.3,
             "#f1b6da"
            ],
            [
             0.4,
             "#fde0ef"
            ],
            [
             0.5,
             "#f7f7f7"
            ],
            [
             0.6,
             "#e6f5d0"
            ],
            [
             0.7,
             "#b8e186"
            ],
            [
             0.8,
             "#7fbc41"
            ],
            [
             0.9,
             "#4d9221"
            ],
            [
             1,
             "#276419"
            ]
           ],
           "sequential": [
            [
             0,
             "#0d0887"
            ],
            [
             0.1111111111111111,
             "#46039f"
            ],
            [
             0.2222222222222222,
             "#7201a8"
            ],
            [
             0.3333333333333333,
             "#9c179e"
            ],
            [
             0.4444444444444444,
             "#bd3786"
            ],
            [
             0.5555555555555556,
             "#d8576b"
            ],
            [
             0.6666666666666666,
             "#ed7953"
            ],
            [
             0.7777777777777778,
             "#fb9f3a"
            ],
            [
             0.8888888888888888,
             "#fdca26"
            ],
            [
             1,
             "#f0f921"
            ]
           ],
           "sequentialminus": [
            [
             0,
             "#0d0887"
            ],
            [
             0.1111111111111111,
             "#46039f"
            ],
            [
             0.2222222222222222,
             "#7201a8"
            ],
            [
             0.3333333333333333,
             "#9c179e"
            ],
            [
             0.4444444444444444,
             "#bd3786"
            ],
            [
             0.5555555555555556,
             "#d8576b"
            ],
            [
             0.6666666666666666,
             "#ed7953"
            ],
            [
             0.7777777777777778,
             "#fb9f3a"
            ],
            [
             0.8888888888888888,
             "#fdca26"
            ],
            [
             1,
             "#f0f921"
            ]
           ]
          },
          "colorway": [
           "#636efa",
           "#EF553B",
           "#00cc96",
           "#ab63fa",
           "#FFA15A",
           "#19d3f3",
           "#FF6692",
           "#B6E880",
           "#FF97FF",
           "#FECB52"
          ],
          "font": {
           "color": "#2a3f5f"
          },
          "geo": {
           "bgcolor": "white",
           "lakecolor": "white",
           "landcolor": "#E5ECF6",
           "showlakes": true,
           "showland": true,
           "subunitcolor": "white"
          },
          "hoverlabel": {
           "align": "left"
          },
          "hovermode": "closest",
          "mapbox": {
           "style": "light"
          },
          "paper_bgcolor": "white",
          "plot_bgcolor": "#E5ECF6",
          "polar": {
           "angularaxis": {
            "gridcolor": "white",
            "linecolor": "white",
            "ticks": ""
           },
           "bgcolor": "#E5ECF6",
           "radialaxis": {
            "gridcolor": "white",
            "linecolor": "white",
            "ticks": ""
           }
          },
          "scene": {
           "xaxis": {
            "backgroundcolor": "#E5ECF6",
            "gridcolor": "white",
            "gridwidth": 2,
            "linecolor": "white",
            "showbackground": true,
            "ticks": "",
            "zerolinecolor": "white"
           },
           "yaxis": {
            "backgroundcolor": "#E5ECF6",
            "gridcolor": "white",
            "gridwidth": 2,
            "linecolor": "white",
            "showbackground": true,
            "ticks": "",
            "zerolinecolor": "white"
           },
           "zaxis": {
            "backgroundcolor": "#E5ECF6",
            "gridcolor": "white",
            "gridwidth": 2,
            "linecolor": "white",
            "showbackground": true,
            "ticks": "",
            "zerolinecolor": "white"
           }
          },
          "shapedefaults": {
           "line": {
            "color": "#2a3f5f"
           }
          },
          "ternary": {
           "aaxis": {
            "gridcolor": "white",
            "linecolor": "white",
            "ticks": ""
           },
           "baxis": {
            "gridcolor": "white",
            "linecolor": "white",
            "ticks": ""
           },
           "bgcolor": "#E5ECF6",
           "caxis": {
            "gridcolor": "white",
            "linecolor": "white",
            "ticks": ""
           }
          },
          "title": {
           "x": 0.05
          },
          "xaxis": {
           "automargin": true,
           "gridcolor": "white",
           "linecolor": "white",
           "ticks": "",
           "title": {
            "standoff": 15
           },
           "zerolinecolor": "white",
           "zerolinewidth": 2
          },
          "yaxis": {
           "automargin": true,
           "gridcolor": "white",
           "linecolor": "white",
           "ticks": "",
           "title": {
            "standoff": 15
           },
           "zerolinecolor": "white",
           "zerolinewidth": 2
          }
         }
        },
        "xaxis": {
         "anchor": "y",
         "autorange": true,
         "domain": [
          0,
          1
         ],
         "range": [
          "2018-03-04 13:53:25.249",
          "2020-03-22 00:40:36.4227"
         ],
         "title": {
          "text": "date"
         },
         "type": "date"
        },
        "yaxis": {
         "anchor": "x",
         "autorange": true,
         "domain": [
          0,
          1
         ],
         "range": [
          -1.5678416030290485,
          11.297033158251397
         ],
         "title": {
          "text": "Site"
         },
         "type": "category"
        }
       }
      },
      "image/png": "[encoded data removed]",
      "text/html": [
       "<div>                            <div id=\"a527db0e-3cfa-4cfb-9798-c44bc58b70b0\" class=\"plotly-graph-div\" style=\"height:525px; width:100%;\"></div>            <script type=\"text/javascript\">                require([\"plotly\"], function(Plotly) {                    window.PLOTLYENV=window.PLOTLYENV || {};                                    if (document.getElementById(\"a527db0e-3cfa-4cfb-9798-c44bc58b70b0\")) {                    Plotly.newPlot(                        \"a527db0e-3cfa-4cfb-9798-c44bc58b70b0\",                        [{\"hovertemplate\": \"Site_type=salvage_logged_forest<br>date=%{x}<br>Site=%{y}<br>count=%{marker.size}<extra></extra>\", \"legendgroup\": \"salvage_logged_forest\", \"marker\": {\"color\": \"LimeGreen\", \"opacity\": 1, \"size\": [2, 2, 1], \"sizemode\": \"area\", \"sizeref\": 0.005, \"symbol\": \"circle\"}, \"mode\": \"markers\", \"name\": \"salvage_logged_forest\", \"orientation\": \"v\", \"showlegend\": true, \"type\": \"scatter\", \"x\": [\"2018-4-26\", \"2018-4-26\", \"2018-6-2\"], \"xaxis\": \"x\", \"y\": [\"D Matrix\", \"D Matrix\", \"C Matrix\"], \"yaxis\": \"y\"}, {\"hovertemplate\": \"Site_type=selectively_logged_B<br>date=%{x}<br>Site=%{y}<br>count=%{marker.size}<extra></extra>\", \"legendgroup\": \"selectively_logged_B\", \"marker\": {\"color\": \"MediumAquaMarine\", \"opacity\": 1, \"size\": [1, 2, 2, 1, 2], \"sizemode\": \"area\", \"sizeref\": 0.005, \"symbol\": \"circle\"}, \"mode\": \"markers\", \"name\": \"selectively_logged_B\", \"orientation\": \"v\", \"showlegend\": true, \"type\": \"scatter\", \"x\": [\"2018-4-27\", \"2018-5-24\", \"2018-5-24\", \"2018-6-3\", \"2018-6-7\"], \"xaxis\": \"x\", \"y\": [\"E1 648\", \"D100 641\", \"D100 641\", \"E100 edge\", \"E1 648\"], \"yaxis\": \"y\"}, {\"hovertemplate\": \"Site_type=selectively_logged_A<br>date=%{x}<br>Site=%{y}<br>count=%{marker.size}<extra></extra>\", \"legendgroup\": \"selectively_logged_A\", \"marker\": {\"color\": \"MediumSeaGreen\", \"opacity\": 1, \"size\": [2, 2, 2, 1, 1, 1], \"sizemode\": \"area\", \"sizeref\": 0.005, \"symbol\": \"circle\"}, \"mode\": \"markers\", \"name\": \"selectively_logged_A\", \"orientation\": \"v\", \"showlegend\": true, \"type\": \"scatter\", \"x\": [\"2018-4-28\", \"2018-4-28\", \"2018-6-7\", \"2018-6-26\", \"2019-9-7\", \"2020-2-3\"], \"xaxis\": \"x\", \"y\": [\"B10\", \"B10\", \"C10 621\", \"B10\", \"C10 621\", \"B1 602\"], \"yaxis\": \"y\"}, {\"hovertemplate\": \"Site_type=old_growth_forest<br>date=%{x}<br>Site=%{y}<br>count=%{marker.size}<extra></extra>\", \"legendgroup\": \"old_growth_forest\", \"marker\": {\"color\": \"green\", \"opacity\": 1, \"size\": [1, 2, 2, 1], \"sizemode\": \"area\", \"sizeref\": 0.005, \"symbol\": \"circle\"}, \"mode\": \"markers\", \"name\": \"old_growth_forest\", \"orientation\": \"v\", \"showlegend\": true, \"type\": \"scatter\", \"x\": [\"2018-6-5\", \"2018-6-30\", \"2018-6-30\", \"2019-11-27\"], \"xaxis\": \"x\", \"y\": [\"Riparian 2\", \"VJR 1\", \"VJR 1\", \"VJR 2\"], \"yaxis\": \"y\"}],                        {\"legend\": {\"itemsizing\": \"constant\", \"title\": {\"text\": \"Site_type\"}, \"tracegroupgap\": 0}, \"margin\": {\"t\": 60}, \"template\": {\"data\": {\"bar\": [{\"error_x\": {\"color\": \"#2a3f5f\"}, \"error_y\": {\"color\": \"#2a3f5f\"}, \"marker\": {\"line\": {\"color\": \"#E5ECF6\", \"width\": 0.5}}, \"type\": \"bar\"}], \"barpolar\": [{\"marker\": {\"line\": {\"color\": \"#E5ECF6\", \"width\": 0.5}}, \"type\": \"barpolar\"}], \"carpet\": [{\"aaxis\": {\"endlinecolor\": \"#2a3f5f\", \"gridcolor\": \"white\", \"linecolor\": \"white\", \"minorgridcolor\": \"white\", \"startlinecolor\": \"#2a3f5f\"}, \"baxis\": {\"endlinecolor\": \"#2a3f5f\", \"gridcolor\": \"white\", \"linecolor\": \"white\", \"minorgridcolor\": \"white\", \"startlinecolor\": \"#2a3f5f\"}, \"type\": \"carpet\"}], \"choropleth\": [{\"colorbar\": {\"outlinewidth\": 0, \"ticks\": \"\"}, \"type\": \"choropleth\"}], \"contour\": [{\"colorbar\": {\"outlinewidth\": 0, \"ticks\": \"\"}, \"colorscale\": [[0.0, \"#0d0887\"], [0.1111111111111111, \"#46039f\"], [0.2222222222222222, \"#7201a8\"], [0.3333333333333333, \"#9c179e\"], [0.4444444444444444, \"#bd3786\"], [0.5555555555555556, \"#d8576b\"], [0.6666666666666666, \"#ed7953\"], [0.7777777777777778, \"#fb9f3a\"], [0.8888888888888888, \"#fdca26\"], [1.0, \"#f0f921\"]], \"type\": \"contour\"}], \"contourcarpet\": [{\"colorbar\": {\"outlinewidth\": 0, \"ticks\": \"\"}, \"type\": \"contourcarpet\"}], \"heatmap\": [{\"colorbar\": {\"outlinewidth\": 0, \"ticks\": \"\"}, \"colorscale\": [[0.0, \"#0d0887\"], [0.1111111111111111, \"#46039f\"], [0.2222222222222222, \"#7201a8\"], [0.3333333333333333, \"#9c179e\"], [0.4444444444444444, \"#bd3786\"], [0.5555555555555556, \"#d8576b\"], [0.6666666666666666, \"#ed7953\"], [0.7777777777777778, \"#fb9f3a\"], [0.8888888888888888, \"#fdca26\"], [1.0, \"#f0f921\"]], \"type\": \"heatmap\"}], \"heatmapgl\": [{\"colorbar\": {\"outlinewidth\": 0, \"ticks\": \"\"}, \"colorscale\": [[0.0, \"#0d0887\"], [0.1111111111111111, \"#46039f\"], [0.2222222222222222, \"#7201a8\"], [0.3333333333333333, \"#9c179e\"], [0.4444444444444444, \"#bd3786\"], [0.5555555555555556, \"#d8576b\"], [0.6666666666666666, \"#ed7953\"], [0.7777777777777778, \"#fb9f3a\"], [0.8888888888888888, \"#fdca26\"], [1.0, \"#f0f921\"]], \"type\": \"heatmapgl\"}], \"histogram\": [{\"marker\": {\"colorbar\": {\"outlinewidth\": 0, \"ticks\": \"\"}}, \"type\": \"histogram\"}], \"histogram2d\": [{\"colorbar\": {\"outlinewidth\": 0, \"ticks\": \"\"}, \"colorscale\": [[0.0, \"#0d0887\"], [0.1111111111111111, \"#46039f\"], [0.2222222222222222, \"#7201a8\"], [0.3333333333333333, \"#9c179e\"], [0.4444444444444444, \"#bd3786\"], [0.5555555555555556, \"#d8576b\"], [0.6666666666666666, \"#ed7953\"], [0.7777777777777778, \"#fb9f3a\"], [0.8888888888888888, \"#fdca26\"], [1.0, \"#f0f921\"]], \"type\": \"histogram2d\"}], \"histogram2dcontour\": [{\"colorbar\": {\"outlinewidth\": 0, \"ticks\": \"\"}, \"colorscale\": [[0.0, \"#0d0887\"], [0.1111111111111111, \"#46039f\"], [0.2222222222222222, \"#7201a8\"], [0.3333333333333333, \"#9c179e\"], [0.4444444444444444, \"#bd3786\"], [0.5555555555555556, \"#d8576b\"], [0.6666666666666666, \"#ed7953\"], [0.7777777777777778, \"#fb9f3a\"], [0.8888888888888888, \"#fdca26\"], [1.0, \"#f0f921\"]], \"type\": \"histogram2dcontour\"}], \"mesh3d\": [{\"colorbar\": {\"outlinewidth\": 0, \"ticks\": \"\"}, \"type\": \"mesh3d\"}], \"parcoords\": [{\"line\": {\"colorbar\": {\"outlinewidth\": 0, \"ticks\": \"\"}}, \"type\": \"parcoords\"}], \"pie\": [{\"automargin\": true, \"type\": \"pie\"}], \"scatter\": [{\"marker\": {\"colorbar\": {\"outlinewidth\": 0, \"ticks\": \"\"}}, \"type\": \"scatter\"}], \"scatter3d\": [{\"line\": {\"colorbar\": {\"outlinewidth\": 0, \"ticks\": \"\"}}, \"marker\": {\"colorbar\": {\"outlinewidth\": 0, \"ticks\": \"\"}}, \"type\": \"scatter3d\"}], \"scattercarpet\": [{\"marker\": {\"colorbar\": {\"outlinewidth\": 0, \"ticks\": \"\"}}, \"type\": \"scattercarpet\"}], \"scattergeo\": [{\"marker\": {\"colorbar\": {\"outlinewidth\": 0, \"ticks\": \"\"}}, \"type\": \"scattergeo\"}], \"scattergl\": [{\"marker\": {\"colorbar\": {\"outlinewidth\": 0, \"ticks\": \"\"}}, \"type\": \"scattergl\"}], \"scattermapbox\": [{\"marker\": {\"colorbar\": {\"outlinewidth\": 0, \"ticks\": \"\"}}, \"type\": \"scattermapbox\"}], \"scatterpolar\": [{\"marker\": {\"colorbar\": {\"outlinewidth\": 0, \"ticks\": \"\"}}, \"type\": \"scatterpolar\"}], \"scatterpolargl\": [{\"marker\": {\"colorbar\": {\"outlinewidth\": 0, \"ticks\": \"\"}}, \"type\": \"scatterpolargl\"}], \"scatterternary\": [{\"marker\": {\"colorbar\": {\"outlinewidth\": 0, \"ticks\": \"\"}}, \"type\": \"scatterternary\"}], \"surface\": [{\"colorbar\": {\"outlinewidth\": 0, \"ticks\": \"\"}, \"colorscale\": [[0.0, \"#0d0887\"], [0.1111111111111111, \"#46039f\"], [0.2222222222222222, \"#7201a8\"], [0.3333333333333333, \"#9c179e\"], [0.4444444444444444, \"#bd3786\"], [0.5555555555555556, \"#d8576b\"], [0.6666666666666666, \"#ed7953\"], [0.7777777777777778, \"#fb9f3a\"], [0.8888888888888888, \"#fdca26\"], [1.0, \"#f0f921\"]], \"type\": \"surface\"}], \"table\": [{\"cells\": {\"fill\": {\"color\": \"#EBF0F8\"}, \"line\": {\"color\": \"white\"}}, \"header\": {\"fill\": {\"color\": \"#C8D4E3\"}, \"line\": {\"color\": \"white\"}}, \"type\": \"table\"}]}, \"layout\": {\"annotationdefaults\": {\"arrowcolor\": \"#2a3f5f\", \"arrowhead\": 0, \"arrowwidth\": 1}, \"autotypenumbers\": \"strict\", \"coloraxis\": {\"colorbar\": {\"outlinewidth\": 0, \"ticks\": \"\"}}, \"colorscale\": {\"diverging\": [[0, \"#8e0152\"], [0.1, \"#c51b7d\"], [0.2, \"#de77ae\"], [0.3, \"#f1b6da\"], [0.4, \"#fde0ef\"], [0.5, \"#f7f7f7\"], [0.6, \"#e6f5d0\"], [0.7, \"#b8e186\"], [0.8, \"#7fbc41\"], [0.9, \"#4d9221\"], [1, \"#276419\"]], \"sequential\": [[0.0, \"#0d0887\"], [0.1111111111111111, \"#46039f\"], [0.2222222222222222, \"#7201a8\"], [0.3333333333333333, \"#9c179e\"], [0.4444444444444444, \"#bd3786\"], [0.5555555555555556, \"#d8576b\"], [0.6666666666666666, \"#ed7953\"], [0.7777777777777778, \"#fb9f3a\"], [0.8888888888888888, \"#fdca26\"], [1.0, \"#f0f921\"]], \"sequentialminus\": [[0.0, \"#0d0887\"], [0.1111111111111111, \"#46039f\"], [0.2222222222222222, \"#7201a8\"], [0.3333333333333333, \"#9c179e\"], [0.4444444444444444, \"#bd3786\"], [0.5555555555555556, \"#d8576b\"], [0.6666666666666666, \"#ed7953\"], [0.7777777777777778, \"#fb9f3a\"], [0.8888888888888888, \"#fdca26\"], [1.0, \"#f0f921\"]]}, \"colorway\": [\"#636efa\", \"#EF553B\", \"#00cc96\", \"#ab63fa\", \"#FFA15A\", \"#19d3f3\", \"#FF6692\", \"#B6E880\", \"#FF97FF\", \"#FECB52\"], \"font\": {\"color\": \"#2a3f5f\"}, \"geo\": {\"bgcolor\": \"white\", \"lakecolor\": \"white\", \"landcolor\": \"#E5ECF6\", \"showlakes\": true, \"showland\": true, \"subunitcolor\": \"white\"}, \"hoverlabel\": {\"align\": \"left\"}, \"hovermode\": \"closest\", \"mapbox\": {\"style\": \"light\"}, \"paper_bgcolor\": \"white\", \"plot_bgcolor\": \"#E5ECF6\", \"polar\": {\"angularaxis\": {\"gridcolor\": \"white\", \"linecolor\": \"white\", \"ticks\": \"\"}, \"bgcolor\": \"#E5ECF6\", \"radialaxis\": {\"gridcolor\": \"white\", \"linecolor\": \"white\", \"ticks\": \"\"}}, \"scene\": {\"xaxis\": {\"backgroundcolor\": \"#E5ECF6\", \"gridcolor\": \"white\", \"gridwidth\": 2, \"linecolor\": \"white\", \"showbackground\": true, \"ticks\": \"\", \"zerolinecolor\": \"white\"}, \"yaxis\": {\"backgroundcolor\": \"#E5ECF6\", \"gridcolor\": \"white\", \"gridwidth\": 2, \"linecolor\": \"white\", \"showbackground\": true, \"ticks\": \"\", \"zerolinecolor\": \"white\"}, \"zaxis\": {\"backgroundcolor\": \"#E5ECF6\", \"gridcolor\": \"white\", \"gridwidth\": 2, \"linecolor\": \"white\", \"showbackground\": true, \"ticks\": \"\", \"zerolinecolor\": \"white\"}}, \"shapedefaults\": {\"line\": {\"color\": \"#2a3f5f\"}}, \"ternary\": {\"aaxis\": {\"gridcolor\": \"white\", \"linecolor\": \"white\", \"ticks\": \"\"}, \"baxis\": {\"gridcolor\": \"white\", \"linecolor\": \"white\", \"ticks\": \"\"}, \"bgcolor\": \"#E5ECF6\", \"caxis\": {\"gridcolor\": \"white\", \"linecolor\": \"white\", \"ticks\": \"\"}}, \"title\": {\"x\": 0.05}, \"xaxis\": {\"automargin\": true, \"gridcolor\": \"white\", \"linecolor\": \"white\", \"ticks\": \"\", \"title\": {\"standoff\": 15}, \"zerolinecolor\": \"white\", \"zerolinewidth\": 2}, \"yaxis\": {\"automargin\": true, \"gridcolor\": \"white\", \"linecolor\": \"white\", \"ticks\": \"\", \"title\": {\"standoff\": 15}, \"zerolinecolor\": \"white\", \"zerolinewidth\": 2}}}, \"xaxis\": {\"anchor\": \"y\", \"domain\": [0.0, 1.0], \"title\": {\"text\": \"date\"}}, \"yaxis\": {\"anchor\": \"x\", \"domain\": [0.0, 1.0], \"title\": {\"text\": \"Site\"}}},                        {\"responsive\": true}                    ).then(function(){\n",
       "                            \n",
       "var gd = document.getElementById('a527db0e-3cfa-4cfb-9798-c44bc58b70b0');\n",
       "var x = new MutationObserver(function (mutations, observer) {{\n",
       "        var display = window.getComputedStyle(gd).display;\n",
       "        if (!display || display === 'none') {{\n",
       "            console.log([gd, 'removed!']);\n",
       "            Plotly.purge(gd);\n",
       "            observer.disconnect();\n",
       "        }}\n",
       "}});\n",
       "\n",
       "// Listen for the removal of the full notebook cells\n",
       "var notebookContainer = gd.closest('#notebook-container');\n",
       "if (notebookContainer) {{\n",
       "    x.observe(notebookContainer, {childList: true});\n",
       "}}\n",
       "\n",
       "// Listen for the clearing of the current output cell\n",
       "var outputEl = gd.closest('.output');\n",
       "if (outputEl) {{\n",
       "    x.observe(outputEl, {childList: true});\n",
       "}}\n",
       "\n",
       "                        })                };                });            </script>        </div>"
      ]
     },
     "metadata": {},
     "output_type": "display_data"
    }
   ],
   "source": [
    "import plotly.express as px\n",
    "\n",
    "color_discrete_map = {'old_growth_forest': 'green', \n",
    "                      'selectively_logged_A': 'MediumSeaGreen',\n",
    "                      'selectively_logged_B': 'MediumAquaMarine', \n",
    "                      'salvage_logged_forest': 'LimeGreen',\n",
    "                     }\n",
    "px.scatter(df, y=\"Site\", x=\"date\", size = 'count', color=\"Site_type\", color_discrete_map = color_discrete_map, opacity = 1)"
   ]
  },
  {
   "cell_type": "markdown",
   "id": "genetic-sessions",
   "metadata": {},
   "source": [
    "#### conclusion\n",
    "- locations that have more than 1 recording on the same day (and same conditions) could be tested as control\n",
    "- an avarage of acoustic complexity could be calculated for the 4 different groups / 3 different landuses from the recordings of 2018\n",
    "- old_growth_forest and selectively_logged_A group could be comparead over time\n",
    "- salvage_logged_forest can be compared to selevtively logged forests (similar recording dates and times)"
   ]
  },
  {
   "cell_type": "code",
   "execution_count": 26,
   "id": "shaped-corpus",
   "metadata": {},
   "outputs": [
    {
     "data": {
      "application/vnd.plotly.v1+json": {
       "config": {
        "plotlyServerURL": "https://plot.ly"
       },
       "data": [
        {
         "hovertemplate": "Site_type=salvage_logged_forest<br>date=%{x}<br>time=%{y}<br>count=%{marker.size}<extra></extra>",
         "legendgroup": "salvage_logged_forest",
         "marker": {
          "color": "LimeGreen",
          "opacity": 1,
          "size": [
           2,
           2,
           1
          ],
          "sizemode": "area",
          "sizeref": 0.005,
          "symbol": "circle"
         },
         "mode": "markers",
         "name": "salvage_logged_forest",
         "orientation": "v",
         "showlegend": true,
         "type": "scatter",
         "x": [
          "2018-4-26",
          "2018-4-26",
          "2018-6-2"
         ],
         "xaxis": "x",
         "y": [
          "06:00:00",
          "07:00:00",
          "08:00:00"
         ],
         "yaxis": "y"
        },
        {
         "hovertemplate": "Site_type=selectively_logged_B<br>date=%{x}<br>time=%{y}<br>count=%{marker.size}<extra></extra>",
         "legendgroup": "selectively_logged_B",
         "marker": {
          "color": "MediumAquaMarine",
          "opacity": 1,
          "size": [
           1,
           2,
           2,
           1,
           2
          ],
          "sizemode": "area",
          "sizeref": 0.005,
          "symbol": "circle"
         },
         "mode": "markers",
         "name": "selectively_logged_B",
         "orientation": "v",
         "showlegend": true,
         "type": "scatter",
         "x": [
          "2018-4-27",
          "2018-5-24",
          "2018-5-24",
          "2018-6-3",
          "2018-6-7"
         ],
         "xaxis": "x",
         "y": [
          "06:00:00",
          "06:00:00",
          "07:00:00",
          "06:00:00",
          "07:00:00"
         ],
         "yaxis": "y"
        },
        {
         "hovertemplate": "Site_type=selectively_logged_A<br>date=%{x}<br>time=%{y}<br>count=%{marker.size}<extra></extra>",
         "legendgroup": "selectively_logged_A",
         "marker": {
          "color": "MediumSeaGreen",
          "opacity": 1,
          "size": [
           2,
           2,
           2,
           1
          ],
          "sizemode": "area",
          "sizeref": 0.005,
          "symbol": "circle"
         },
         "mode": "markers",
         "name": "selectively_logged_A",
         "orientation": "v",
         "showlegend": true,
         "type": "scatter",
         "x": [
          "2018-4-28",
          "2018-4-28",
          "2018-6-7",
          "2018-6-26"
         ],
         "xaxis": "x",
         "y": [
          "06:00:00",
          "08:00:00",
          "06:00:00",
          "10:00:00"
         ],
         "yaxis": "y"
        },
        {
         "hovertemplate": "Site_type=old_growth_forest<br>date=%{x}<br>time=%{y}<br>count=%{marker.size}<extra></extra>",
         "legendgroup": "old_growth_forest",
         "marker": {
          "color": "green",
          "opacity": 1,
          "size": [
           1,
           2,
           2
          ],
          "sizemode": "area",
          "sizeref": 0.005,
          "symbol": "circle"
         },
         "mode": "markers",
         "name": "old_growth_forest",
         "orientation": "v",
         "showlegend": true,
         "type": "scatter",
         "x": [
          "2018-6-5",
          "2018-6-30",
          "2018-6-30"
         ],
         "xaxis": "x",
         "y": [
          "08:00:00",
          "06:00:00",
          "08:00:00"
         ],
         "yaxis": "y"
        }
       ],
       "layout": {
        "autosize": true,
        "legend": {
         "itemsizing": "constant",
         "title": {
          "text": "Site_type"
         },
         "tracegroupgap": 0
        },
        "margin": {
         "t": 60
        },
        "template": {
         "data": {
          "bar": [
           {
            "error_x": {
             "color": "#2a3f5f"
            },
            "error_y": {
             "color": "#2a3f5f"
            },
            "marker": {
             "line": {
              "color": "#E5ECF6",
              "width": 0.5
             }
            },
            "type": "bar"
           }
          ],
          "barpolar": [
           {
            "marker": {
             "line": {
              "color": "#E5ECF6",
              "width": 0.5
             }
            },
            "type": "barpolar"
           }
          ],
          "carpet": [
           {
            "aaxis": {
             "endlinecolor": "#2a3f5f",
             "gridcolor": "white",
             "linecolor": "white",
             "minorgridcolor": "white",
             "startlinecolor": "#2a3f5f"
            },
            "baxis": {
             "endlinecolor": "#2a3f5f",
             "gridcolor": "white",
             "linecolor": "white",
             "minorgridcolor": "white",
             "startlinecolor": "#2a3f5f"
            },
            "type": "carpet"
           }
          ],
          "choropleth": [
           {
            "colorbar": {
             "outlinewidth": 0,
             "ticks": ""
            },
            "type": "choropleth"
           }
          ],
          "contour": [
           {
            "colorbar": {
             "outlinewidth": 0,
             "ticks": ""
            },
            "colorscale": [
             [
              0,
              "#0d0887"
             ],
             [
              0.1111111111111111,
              "#46039f"
             ],
             [
              0.2222222222222222,
              "#7201a8"
             ],
             [
              0.3333333333333333,
              "#9c179e"
             ],
             [
              0.4444444444444444,
              "#bd3786"
             ],
             [
              0.5555555555555556,
              "#d8576b"
             ],
             [
              0.6666666666666666,
              "#ed7953"
             ],
             [
              0.7777777777777778,
              "#fb9f3a"
             ],
             [
              0.8888888888888888,
              "#fdca26"
             ],
             [
              1,
              "#f0f921"
             ]
            ],
            "type": "contour"
           }
          ],
          "contourcarpet": [
           {
            "colorbar": {
             "outlinewidth": 0,
             "ticks": ""
            },
            "type": "contourcarpet"
           }
          ],
          "heatmap": [
           {
            "colorbar": {
             "outlinewidth": 0,
             "ticks": ""
            },
            "colorscale": [
             [
              0,
              "#0d0887"
             ],
             [
              0.1111111111111111,
              "#46039f"
             ],
             [
              0.2222222222222222,
              "#7201a8"
             ],
             [
              0.3333333333333333,
              "#9c179e"
             ],
             [
              0.4444444444444444,
              "#bd3786"
             ],
             [
              0.5555555555555556,
              "#d8576b"
             ],
             [
              0.6666666666666666,
              "#ed7953"
             ],
             [
              0.7777777777777778,
              "#fb9f3a"
             ],
             [
              0.8888888888888888,
              "#fdca26"
             ],
             [
              1,
              "#f0f921"
             ]
            ],
            "type": "heatmap"
           }
          ],
          "heatmapgl": [
           {
            "colorbar": {
             "outlinewidth": 0,
             "ticks": ""
            },
            "colorscale": [
             [
              0,
              "#0d0887"
             ],
             [
              0.1111111111111111,
              "#46039f"
             ],
             [
              0.2222222222222222,
              "#7201a8"
             ],
             [
              0.3333333333333333,
              "#9c179e"
             ],
             [
              0.4444444444444444,
              "#bd3786"
             ],
             [
              0.5555555555555556,
              "#d8576b"
             ],
             [
              0.6666666666666666,
              "#ed7953"
             ],
             [
              0.7777777777777778,
              "#fb9f3a"
             ],
             [
              0.8888888888888888,
              "#fdca26"
             ],
             [
              1,
              "#f0f921"
             ]
            ],
            "type": "heatmapgl"
           }
          ],
          "histogram": [
           {
            "marker": {
             "colorbar": {
              "outlinewidth": 0,
              "ticks": ""
             }
            },
            "type": "histogram"
           }
          ],
          "histogram2d": [
           {
            "colorbar": {
             "outlinewidth": 0,
             "ticks": ""
            },
            "colorscale": [
             [
              0,
              "#0d0887"
             ],
             [
              0.1111111111111111,
              "#46039f"
             ],
             [
              0.2222222222222222,
              "#7201a8"
             ],
             [
              0.3333333333333333,
              "#9c179e"
             ],
             [
              0.4444444444444444,
              "#bd3786"
             ],
             [
              0.5555555555555556,
              "#d8576b"
             ],
             [
              0.6666666666666666,
              "#ed7953"
             ],
             [
              0.7777777777777778,
              "#fb9f3a"
             ],
             [
              0.8888888888888888,
              "#fdca26"
             ],
             [
              1,
              "#f0f921"
             ]
            ],
            "type": "histogram2d"
           }
          ],
          "histogram2dcontour": [
           {
            "colorbar": {
             "outlinewidth": 0,
             "ticks": ""
            },
            "colorscale": [
             [
              0,
              "#0d0887"
             ],
             [
              0.1111111111111111,
              "#46039f"
             ],
             [
              0.2222222222222222,
              "#7201a8"
             ],
             [
              0.3333333333333333,
              "#9c179e"
             ],
             [
              0.4444444444444444,
              "#bd3786"
             ],
             [
              0.5555555555555556,
              "#d8576b"
             ],
             [
              0.6666666666666666,
              "#ed7953"
             ],
             [
              0.7777777777777778,
              "#fb9f3a"
             ],
             [
              0.8888888888888888,
              "#fdca26"
             ],
             [
              1,
              "#f0f921"
             ]
            ],
            "type": "histogram2dcontour"
           }
          ],
          "mesh3d": [
           {
            "colorbar": {
             "outlinewidth": 0,
             "ticks": ""
            },
            "type": "mesh3d"
           }
          ],
          "parcoords": [
           {
            "line": {
             "colorbar": {
              "outlinewidth": 0,
              "ticks": ""
             }
            },
            "type": "parcoords"
           }
          ],
          "pie": [
           {
            "automargin": true,
            "type": "pie"
           }
          ],
          "scatter": [
           {
            "marker": {
             "colorbar": {
              "outlinewidth": 0,
              "ticks": ""
             }
            },
            "type": "scatter"
           }
          ],
          "scatter3d": [
           {
            "line": {
             "colorbar": {
              "outlinewidth": 0,
              "ticks": ""
             }
            },
            "marker": {
             "colorbar": {
              "outlinewidth": 0,
              "ticks": ""
             }
            },
            "type": "scatter3d"
           }
          ],
          "scattercarpet": [
           {
            "marker": {
             "colorbar": {
              "outlinewidth": 0,
              "ticks": ""
             }
            },
            "type": "scattercarpet"
           }
          ],
          "scattergeo": [
           {
            "marker": {
             "colorbar": {
              "outlinewidth": 0,
              "ticks": ""
             }
            },
            "type": "scattergeo"
           }
          ],
          "scattergl": [
           {
            "marker": {
             "colorbar": {
              "outlinewidth": 0,
              "ticks": ""
             }
            },
            "type": "scattergl"
           }
          ],
          "scattermapbox": [
           {
            "marker": {
             "colorbar": {
              "outlinewidth": 0,
              "ticks": ""
             }
            },
            "type": "scattermapbox"
           }
          ],
          "scatterpolar": [
           {
            "marker": {
             "colorbar": {
              "outlinewidth": 0,
              "ticks": ""
             }
            },
            "type": "scatterpolar"
           }
          ],
          "scatterpolargl": [
           {
            "marker": {
             "colorbar": {
              "outlinewidth": 0,
              "ticks": ""
             }
            },
            "type": "scatterpolargl"
           }
          ],
          "scatterternary": [
           {
            "marker": {
             "colorbar": {
              "outlinewidth": 0,
              "ticks": ""
             }
            },
            "type": "scatterternary"
           }
          ],
          "surface": [
           {
            "colorbar": {
             "outlinewidth": 0,
             "ticks": ""
            },
            "colorscale": [
             [
              0,
              "#0d0887"
             ],
             [
              0.1111111111111111,
              "#46039f"
             ],
             [
              0.2222222222222222,
              "#7201a8"
             ],
             [
              0.3333333333333333,
              "#9c179e"
             ],
             [
              0.4444444444444444,
              "#bd3786"
             ],
             [
              0.5555555555555556,
              "#d8576b"
             ],
             [
              0.6666666666666666,
              "#ed7953"
             ],
             [
              0.7777777777777778,
              "#fb9f3a"
             ],
             [
              0.8888888888888888,
              "#fdca26"
             ],
             [
              1,
              "#f0f921"
             ]
            ],
            "type": "surface"
           }
          ],
          "table": [
           {
            "cells": {
             "fill": {
              "color": "#EBF0F8"
             },
             "line": {
              "color": "white"
             }
            },
            "header": {
             "fill": {
              "color": "#C8D4E3"
             },
             "line": {
              "color": "white"
             }
            },
            "type": "table"
           }
          ]
         },
         "layout": {
          "annotationdefaults": {
           "arrowcolor": "#2a3f5f",
           "arrowhead": 0,
           "arrowwidth": 1
          },
          "autotypenumbers": "strict",
          "coloraxis": {
           "colorbar": {
            "outlinewidth": 0,
            "ticks": ""
           }
          },
          "colorscale": {
           "diverging": [
            [
             0,
             "#8e0152"
            ],
            [
             0.1,
             "#c51b7d"
            ],
            [
             0.2,
             "#de77ae"
            ],
            [
             0.3,
             "#f1b6da"
            ],
            [
             0.4,
             "#fde0ef"
            ],
            [
             0.5,
             "#f7f7f7"
            ],
            [
             0.6,
             "#e6f5d0"
            ],
            [
             0.7,
             "#b8e186"
            ],
            [
             0.8,
             "#7fbc41"
            ],
            [
             0.9,
             "#4d9221"
            ],
            [
             1,
             "#276419"
            ]
           ],
           "sequential": [
            [
             0,
             "#0d0887"
            ],
            [
             0.1111111111111111,
             "#46039f"
            ],
            [
             0.2222222222222222,
             "#7201a8"
            ],
            [
             0.3333333333333333,
             "#9c179e"
            ],
            [
             0.4444444444444444,
             "#bd3786"
            ],
            [
             0.5555555555555556,
             "#d8576b"
            ],
            [
             0.6666666666666666,
             "#ed7953"
            ],
            [
             0.7777777777777778,
             "#fb9f3a"
            ],
            [
             0.8888888888888888,
             "#fdca26"
            ],
            [
             1,
             "#f0f921"
            ]
           ],
           "sequentialminus": [
            [
             0,
             "#0d0887"
            ],
            [
             0.1111111111111111,
             "#46039f"
            ],
            [
             0.2222222222222222,
             "#7201a8"
            ],
            [
             0.3333333333333333,
             "#9c179e"
            ],
            [
             0.4444444444444444,
             "#bd3786"
            ],
            [
             0.5555555555555556,
             "#d8576b"
            ],
            [
             0.6666666666666666,
             "#ed7953"
            ],
            [
             0.7777777777777778,
             "#fb9f3a"
            ],
            [
             0.8888888888888888,
             "#fdca26"
            ],
            [
             1,
             "#f0f921"
            ]
           ]
          },
          "colorway": [
           "#636efa",
           "#EF553B",
           "#00cc96",
           "#ab63fa",
           "#FFA15A",
           "#19d3f3",
           "#FF6692",
           "#B6E880",
           "#FF97FF",
           "#FECB52"
          ],
          "font": {
           "color": "#2a3f5f"
          },
          "geo": {
           "bgcolor": "white",
           "lakecolor": "white",
           "landcolor": "#E5ECF6",
           "showlakes": true,
           "showland": true,
           "subunitcolor": "white"
          },
          "hoverlabel": {
           "align": "left"
          },
          "hovermode": "closest",
          "mapbox": {
           "style": "light"
          },
          "paper_bgcolor": "white",
          "plot_bgcolor": "#E5ECF6",
          "polar": {
           "angularaxis": {
            "gridcolor": "white",
            "linecolor": "white",
            "ticks": ""
           },
           "bgcolor": "#E5ECF6",
           "radialaxis": {
            "gridcolor": "white",
            "linecolor": "white",
            "ticks": ""
           }
          },
          "scene": {
           "xaxis": {
            "backgroundcolor": "#E5ECF6",
            "gridcolor": "white",
            "gridwidth": 2,
            "linecolor": "white",
            "showbackground": true,
            "ticks": "",
            "zerolinecolor": "white"
           },
           "yaxis": {
            "backgroundcolor": "#E5ECF6",
            "gridcolor": "white",
            "gridwidth": 2,
            "linecolor": "white",
            "showbackground": true,
            "ticks": "",
            "zerolinecolor": "white"
           },
           "zaxis": {
            "backgroundcolor": "#E5ECF6",
            "gridcolor": "white",
            "gridwidth": 2,
            "linecolor": "white",
            "showbackground": true,
            "ticks": "",
            "zerolinecolor": "white"
           }
          },
          "shapedefaults": {
           "line": {
            "color": "#2a3f5f"
           }
          },
          "ternary": {
           "aaxis": {
            "gridcolor": "white",
            "linecolor": "white",
            "ticks": ""
           },
           "baxis": {
            "gridcolor": "white",
            "linecolor": "white",
            "ticks": ""
           },
           "bgcolor": "#E5ECF6",
           "caxis": {
            "gridcolor": "white",
            "linecolor": "white",
            "ticks": ""
           }
          },
          "title": {
           "x": 0.05
          },
          "xaxis": {
           "automargin": true,
           "gridcolor": "white",
           "linecolor": "white",
           "ticks": "",
           "title": {
            "standoff": 15
           },
           "zerolinecolor": "white",
           "zerolinewidth": 2
          },
          "yaxis": {
           "automargin": true,
           "gridcolor": "white",
           "linecolor": "white",
           "ticks": "",
           "title": {
            "standoff": 15
           },
           "zerolinecolor": "white",
           "zerolinewidth": 2
          }
         }
        },
        "xaxis": {
         "anchor": "y",
         "autorange": true,
         "domain": [
          0,
          1
         ],
         "range": [
          "2018-04-20 17:21:48.5892",
          "2018-07-05 06:38:11.4108"
         ],
         "title": {
          "text": "date"
         },
         "type": "date"
        },
        "yaxis": {
         "anchor": "x",
         "autorange": true,
         "domain": [
          0,
          1
         ],
         "range": [
          -0.4703524809087146,
          3.389109947475419
         ],
         "title": {
          "text": "time"
         },
         "type": "category"
        }
       }
      },
      "image/png": "[encoded data removed]",
      "text/html": [
       "<div>                            <div id=\"d98a15ec-81f2-45a2-b41c-6bfee145c586\" class=\"plotly-graph-div\" style=\"height:525px; width:100%;\"></div>            <script type=\"text/javascript\">                require([\"plotly\"], function(Plotly) {                    window.PLOTLYENV=window.PLOTLYENV || {};                                    if (document.getElementById(\"d98a15ec-81f2-45a2-b41c-6bfee145c586\")) {                    Plotly.newPlot(                        \"d98a15ec-81f2-45a2-b41c-6bfee145c586\",                        [{\"hovertemplate\": \"Site_type=salvage_logged_forest<br>date=%{x}<br>time=%{y}<br>count=%{marker.size}<extra></extra>\", \"legendgroup\": \"salvage_logged_forest\", \"marker\": {\"color\": \"LimeGreen\", \"opacity\": 1, \"size\": [2, 2, 1], \"sizemode\": \"area\", \"sizeref\": 0.005, \"symbol\": \"circle\"}, \"mode\": \"markers\", \"name\": \"salvage_logged_forest\", \"orientation\": \"v\", \"showlegend\": true, \"type\": \"scatter\", \"x\": [\"2018-4-26\", \"2018-4-26\", \"2018-6-2\"], \"xaxis\": \"x\", \"y\": [\"06:00:00\", \"07:00:00\", \"08:00:00\"], \"yaxis\": \"y\"}, {\"hovertemplate\": \"Site_type=selectively_logged_B<br>date=%{x}<br>time=%{y}<br>count=%{marker.size}<extra></extra>\", \"legendgroup\": \"selectively_logged_B\", \"marker\": {\"color\": \"MediumAquaMarine\", \"opacity\": 1, \"size\": [1, 2, 2, 1, 2], \"sizemode\": \"area\", \"sizeref\": 0.005, \"symbol\": \"circle\"}, \"mode\": \"markers\", \"name\": \"selectively_logged_B\", \"orientation\": \"v\", \"showlegend\": true, \"type\": \"scatter\", \"x\": [\"2018-4-27\", \"2018-5-24\", \"2018-5-24\", \"2018-6-3\", \"2018-6-7\"], \"xaxis\": \"x\", \"y\": [\"06:00:00\", \"06:00:00\", \"07:00:00\", \"06:00:00\", \"07:00:00\"], \"yaxis\": \"y\"}, {\"hovertemplate\": \"Site_type=selectively_logged_A<br>date=%{x}<br>time=%{y}<br>count=%{marker.size}<extra></extra>\", \"legendgroup\": \"selectively_logged_A\", \"marker\": {\"color\": \"MediumSeaGreen\", \"opacity\": 1, \"size\": [2, 2, 2, 1], \"sizemode\": \"area\", \"sizeref\": 0.005, \"symbol\": \"circle\"}, \"mode\": \"markers\", \"name\": \"selectively_logged_A\", \"orientation\": \"v\", \"showlegend\": true, \"type\": \"scatter\", \"x\": [\"2018-4-28\", \"2018-4-28\", \"2018-6-7\", \"2018-6-26\"], \"xaxis\": \"x\", \"y\": [\"06:00:00\", \"08:00:00\", \"06:00:00\", \"10:00:00\"], \"yaxis\": \"y\"}, {\"hovertemplate\": \"Site_type=old_growth_forest<br>date=%{x}<br>time=%{y}<br>count=%{marker.size}<extra></extra>\", \"legendgroup\": \"old_growth_forest\", \"marker\": {\"color\": \"green\", \"opacity\": 1, \"size\": [1, 2, 2], \"sizemode\": \"area\", \"sizeref\": 0.005, \"symbol\": \"circle\"}, \"mode\": \"markers\", \"name\": \"old_growth_forest\", \"orientation\": \"v\", \"showlegend\": true, \"type\": \"scatter\", \"x\": [\"2018-6-5\", \"2018-6-30\", \"2018-6-30\"], \"xaxis\": \"x\", \"y\": [\"08:00:00\", \"06:00:00\", \"08:00:00\"], \"yaxis\": \"y\"}],                        {\"legend\": {\"itemsizing\": \"constant\", \"title\": {\"text\": \"Site_type\"}, \"tracegroupgap\": 0}, \"margin\": {\"t\": 60}, \"template\": {\"data\": {\"bar\": [{\"error_x\": {\"color\": \"#2a3f5f\"}, \"error_y\": {\"color\": \"#2a3f5f\"}, \"marker\": {\"line\": {\"color\": \"#E5ECF6\", \"width\": 0.5}}, \"type\": \"bar\"}], \"barpolar\": [{\"marker\": {\"line\": {\"color\": \"#E5ECF6\", \"width\": 0.5}}, \"type\": \"barpolar\"}], \"carpet\": [{\"aaxis\": {\"endlinecolor\": \"#2a3f5f\", \"gridcolor\": \"white\", \"linecolor\": \"white\", \"minorgridcolor\": \"white\", \"startlinecolor\": \"#2a3f5f\"}, \"baxis\": {\"endlinecolor\": \"#2a3f5f\", \"gridcolor\": \"white\", \"linecolor\": \"white\", \"minorgridcolor\": \"white\", \"startlinecolor\": \"#2a3f5f\"}, \"type\": \"carpet\"}], \"choropleth\": [{\"colorbar\": {\"outlinewidth\": 0, \"ticks\": \"\"}, \"type\": \"choropleth\"}], \"contour\": [{\"colorbar\": {\"outlinewidth\": 0, \"ticks\": \"\"}, \"colorscale\": [[0.0, \"#0d0887\"], [0.1111111111111111, \"#46039f\"], [0.2222222222222222, \"#7201a8\"], [0.3333333333333333, \"#9c179e\"], [0.4444444444444444, \"#bd3786\"], [0.5555555555555556, \"#d8576b\"], [0.6666666666666666, \"#ed7953\"], [0.7777777777777778, \"#fb9f3a\"], [0.8888888888888888, \"#fdca26\"], [1.0, \"#f0f921\"]], \"type\": \"contour\"}], \"contourcarpet\": [{\"colorbar\": {\"outlinewidth\": 0, \"ticks\": \"\"}, \"type\": \"contourcarpet\"}], \"heatmap\": [{\"colorbar\": {\"outlinewidth\": 0, \"ticks\": \"\"}, \"colorscale\": [[0.0, \"#0d0887\"], [0.1111111111111111, \"#46039f\"], [0.2222222222222222, \"#7201a8\"], [0.3333333333333333, \"#9c179e\"], [0.4444444444444444, \"#bd3786\"], [0.5555555555555556, \"#d8576b\"], [0.6666666666666666, \"#ed7953\"], [0.7777777777777778, \"#fb9f3a\"], [0.8888888888888888, \"#fdca26\"], [1.0, \"#f0f921\"]], \"type\": \"heatmap\"}], \"heatmapgl\": [{\"colorbar\": {\"outlinewidth\": 0, \"ticks\": \"\"}, \"colorscale\": [[0.0, \"#0d0887\"], [0.1111111111111111, \"#46039f\"], [0.2222222222222222, \"#7201a8\"], [0.3333333333333333, \"#9c179e\"], [0.4444444444444444, \"#bd3786\"], [0.5555555555555556, \"#d8576b\"], [0.6666666666666666, \"#ed7953\"], [0.7777777777777778, \"#fb9f3a\"], [0.8888888888888888, \"#fdca26\"], [1.0, \"#f0f921\"]], \"type\": \"heatmapgl\"}], \"histogram\": [{\"marker\": {\"colorbar\": {\"outlinewidth\": 0, \"ticks\": \"\"}}, \"type\": \"histogram\"}], \"histogram2d\": [{\"colorbar\": {\"outlinewidth\": 0, \"ticks\": \"\"}, \"colorscale\": [[0.0, \"#0d0887\"], [0.1111111111111111, \"#46039f\"], [0.2222222222222222, \"#7201a8\"], [0.3333333333333333, \"#9c179e\"], [0.4444444444444444, \"#bd3786\"], [0.5555555555555556, \"#d8576b\"], [0.6666666666666666, \"#ed7953\"], [0.7777777777777778, \"#fb9f3a\"], [0.8888888888888888, \"#fdca26\"], [1.0, \"#f0f921\"]], \"type\": \"histogram2d\"}], \"histogram2dcontour\": [{\"colorbar\": {\"outlinewidth\": 0, \"ticks\": \"\"}, \"colorscale\": [[0.0, \"#0d0887\"], [0.1111111111111111, \"#46039f\"], [0.2222222222222222, \"#7201a8\"], [0.3333333333333333, \"#9c179e\"], [0.4444444444444444, \"#bd3786\"], [0.5555555555555556, \"#d8576b\"], [0.6666666666666666, \"#ed7953\"], [0.7777777777777778, \"#fb9f3a\"], [0.8888888888888888, \"#fdca26\"], [1.0, \"#f0f921\"]], \"type\": \"histogram2dcontour\"}], \"mesh3d\": [{\"colorbar\": {\"outlinewidth\": 0, \"ticks\": \"\"}, \"type\": \"mesh3d\"}], \"parcoords\": [{\"line\": {\"colorbar\": {\"outlinewidth\": 0, \"ticks\": \"\"}}, \"type\": \"parcoords\"}], \"pie\": [{\"automargin\": true, \"type\": \"pie\"}], \"scatter\": [{\"marker\": {\"colorbar\": {\"outlinewidth\": 0, \"ticks\": \"\"}}, \"type\": \"scatter\"}], \"scatter3d\": [{\"line\": {\"colorbar\": {\"outlinewidth\": 0, \"ticks\": \"\"}}, \"marker\": {\"colorbar\": {\"outlinewidth\": 0, \"ticks\": \"\"}}, \"type\": \"scatter3d\"}], \"scattercarpet\": [{\"marker\": {\"colorbar\": {\"outlinewidth\": 0, \"ticks\": \"\"}}, \"type\": \"scattercarpet\"}], \"scattergeo\": [{\"marker\": {\"colorbar\": {\"outlinewidth\": 0, \"ticks\": \"\"}}, \"type\": \"scattergeo\"}], \"scattergl\": [{\"marker\": {\"colorbar\": {\"outlinewidth\": 0, \"ticks\": \"\"}}, \"type\": \"scattergl\"}], \"scattermapbox\": [{\"marker\": {\"colorbar\": {\"outlinewidth\": 0, \"ticks\": \"\"}}, \"type\": \"scattermapbox\"}], \"scatterpolar\": [{\"marker\": {\"colorbar\": {\"outlinewidth\": 0, \"ticks\": \"\"}}, \"type\": \"scatterpolar\"}], \"scatterpolargl\": [{\"marker\": {\"colorbar\": {\"outlinewidth\": 0, \"ticks\": \"\"}}, \"type\": \"scatterpolargl\"}], \"scatterternary\": [{\"marker\": {\"colorbar\": {\"outlinewidth\": 0, \"ticks\": \"\"}}, \"type\": \"scatterternary\"}], \"surface\": [{\"colorbar\": {\"outlinewidth\": 0, \"ticks\": \"\"}, \"colorscale\": [[0.0, \"#0d0887\"], [0.1111111111111111, \"#46039f\"], [0.2222222222222222, \"#7201a8\"], [0.3333333333333333, \"#9c179e\"], [0.4444444444444444, \"#bd3786\"], [0.5555555555555556, \"#d8576b\"], [0.6666666666666666, \"#ed7953\"], [0.7777777777777778, \"#fb9f3a\"], [0.8888888888888888, \"#fdca26\"], [1.0, \"#f0f921\"]], \"type\": \"surface\"}], \"table\": [{\"cells\": {\"fill\": {\"color\": \"#EBF0F8\"}, \"line\": {\"color\": \"white\"}}, \"header\": {\"fill\": {\"color\": \"#C8D4E3\"}, \"line\": {\"color\": \"white\"}}, \"type\": \"table\"}]}, \"layout\": {\"annotationdefaults\": {\"arrowcolor\": \"#2a3f5f\", \"arrowhead\": 0, \"arrowwidth\": 1}, \"autotypenumbers\": \"strict\", \"coloraxis\": {\"colorbar\": {\"outlinewidth\": 0, \"ticks\": \"\"}}, \"colorscale\": {\"diverging\": [[0, \"#8e0152\"], [0.1, \"#c51b7d\"], [0.2, \"#de77ae\"], [0.3, \"#f1b6da\"], [0.4, \"#fde0ef\"], [0.5, \"#f7f7f7\"], [0.6, \"#e6f5d0\"], [0.7, \"#b8e186\"], [0.8, \"#7fbc41\"], [0.9, \"#4d9221\"], [1, \"#276419\"]], \"sequential\": [[0.0, \"#0d0887\"], [0.1111111111111111, \"#46039f\"], [0.2222222222222222, \"#7201a8\"], [0.3333333333333333, \"#9c179e\"], [0.4444444444444444, \"#bd3786\"], [0.5555555555555556, \"#d8576b\"], [0.6666666666666666, \"#ed7953\"], [0.7777777777777778, \"#fb9f3a\"], [0.8888888888888888, \"#fdca26\"], [1.0, \"#f0f921\"]], \"sequentialminus\": [[0.0, \"#0d0887\"], [0.1111111111111111, \"#46039f\"], [0.2222222222222222, \"#7201a8\"], [0.3333333333333333, \"#9c179e\"], [0.4444444444444444, \"#bd3786\"], [0.5555555555555556, \"#d8576b\"], [0.6666666666666666, \"#ed7953\"], [0.7777777777777778, \"#fb9f3a\"], [0.8888888888888888, \"#fdca26\"], [1.0, \"#f0f921\"]]}, \"colorway\": [\"#636efa\", \"#EF553B\", \"#00cc96\", \"#ab63fa\", \"#FFA15A\", \"#19d3f3\", \"#FF6692\", \"#B6E880\", \"#FF97FF\", \"#FECB52\"], \"font\": {\"color\": \"#2a3f5f\"}, \"geo\": {\"bgcolor\": \"white\", \"lakecolor\": \"white\", \"landcolor\": \"#E5ECF6\", \"showlakes\": true, \"showland\": true, \"subunitcolor\": \"white\"}, \"hoverlabel\": {\"align\": \"left\"}, \"hovermode\": \"closest\", \"mapbox\": {\"style\": \"light\"}, \"paper_bgcolor\": \"white\", \"plot_bgcolor\": \"#E5ECF6\", \"polar\": {\"angularaxis\": {\"gridcolor\": \"white\", \"linecolor\": \"white\", \"ticks\": \"\"}, \"bgcolor\": \"#E5ECF6\", \"radialaxis\": {\"gridcolor\": \"white\", \"linecolor\": \"white\", \"ticks\": \"\"}}, \"scene\": {\"xaxis\": {\"backgroundcolor\": \"#E5ECF6\", \"gridcolor\": \"white\", \"gridwidth\": 2, \"linecolor\": \"white\", \"showbackground\": true, \"ticks\": \"\", \"zerolinecolor\": \"white\"}, \"yaxis\": {\"backgroundcolor\": \"#E5ECF6\", \"gridcolor\": \"white\", \"gridwidth\": 2, \"linecolor\": \"white\", \"showbackground\": true, \"ticks\": \"\", \"zerolinecolor\": \"white\"}, \"zaxis\": {\"backgroundcolor\": \"#E5ECF6\", \"gridcolor\": \"white\", \"gridwidth\": 2, \"linecolor\": \"white\", \"showbackground\": true, \"ticks\": \"\", \"zerolinecolor\": \"white\"}}, \"shapedefaults\": {\"line\": {\"color\": \"#2a3f5f\"}}, \"ternary\": {\"aaxis\": {\"gridcolor\": \"white\", \"linecolor\": \"white\", \"ticks\": \"\"}, \"baxis\": {\"gridcolor\": \"white\", \"linecolor\": \"white\", \"ticks\": \"\"}, \"bgcolor\": \"#E5ECF6\", \"caxis\": {\"gridcolor\": \"white\", \"linecolor\": \"white\", \"ticks\": \"\"}}, \"title\": {\"x\": 0.05}, \"xaxis\": {\"automargin\": true, \"gridcolor\": \"white\", \"linecolor\": \"white\", \"ticks\": \"\", \"title\": {\"standoff\": 15}, \"zerolinecolor\": \"white\", \"zerolinewidth\": 2}, \"yaxis\": {\"automargin\": true, \"gridcolor\": \"white\", \"linecolor\": \"white\", \"ticks\": \"\", \"title\": {\"standoff\": 15}, \"zerolinecolor\": \"white\", \"zerolinewidth\": 2}}}, \"xaxis\": {\"anchor\": \"y\", \"domain\": [0.0, 1.0], \"title\": {\"text\": \"date\"}}, \"yaxis\": {\"anchor\": \"x\", \"domain\": [0.0, 1.0], \"title\": {\"text\": \"time\"}}},                        {\"responsive\": true}                    ).then(function(){\n",
       "                            \n",
       "var gd = document.getElementById('d98a15ec-81f2-45a2-b41c-6bfee145c586');\n",
       "var x = new MutationObserver(function (mutations, observer) {{\n",
       "        var display = window.getComputedStyle(gd).display;\n",
       "        if (!display || display === 'none') {{\n",
       "            console.log([gd, 'removed!']);\n",
       "            Plotly.purge(gd);\n",
       "            observer.disconnect();\n",
       "        }}\n",
       "}});\n",
       "\n",
       "// Listen for the removal of the full notebook cells\n",
       "var notebookContainer = gd.closest('#notebook-container');\n",
       "if (notebookContainer) {{\n",
       "    x.observe(notebookContainer, {childList: true});\n",
       "}}\n",
       "\n",
       "// Listen for the clearing of the current output cell\n",
       "var outputEl = gd.closest('.output');\n",
       "if (outputEl) {{\n",
       "    x.observe(outputEl, {childList: true});\n",
       "}}\n",
       "\n",
       "                        })                };                });            </script>        </div>"
      ]
     },
     "metadata": {},
     "output_type": "display_data"
    }
   ],
   "source": [
    "df18 = df.loc[df['year'] == '2018']\n",
    "\n",
    "# px.scatter(df18, y=\"time\", x=\"date\", size = 'count', color=\"Site\", color_discrete_map = color_discrete_map, opacity = 1)\n",
    "px.scatter(df18, y=\"time\", x=\"date\", size = 'count', color=\"Site_type\", color_discrete_map = color_discrete_map, opacity = 1)"
   ]
  },
  {
   "cell_type": "markdown",
   "id": "collect-feelings",
   "metadata": {},
   "source": [
    "- to compare the most recordings at once, we can take the 6 AM recordings across sites"
   ]
  },
  {
   "cell_type": "code",
   "execution_count": 27,
   "id": "steady-bibliography",
   "metadata": {},
   "outputs": [
    {
     "data": {
      "text/html": [
       "<div>\n",
       "<style scoped>\n",
       "    .dataframe tbody tr th:only-of-type {\n",
       "        vertical-align: middle;\n",
       "    }\n",
       "\n",
       "    .dataframe tbody tr th {\n",
       "        vertical-align: top;\n",
       "    }\n",
       "\n",
       "    .dataframe thead th {\n",
       "        text-align: right;\n",
       "    }\n",
       "</style>\n",
       "<table border=\"1\" class=\"dataframe\">\n",
       "  <thead>\n",
       "    <tr style=\"text-align: right;\">\n",
       "      <th></th>\n",
       "      <th>field_name</th>\n",
       "      <th>Point_count_ID</th>\n",
       "      <th>Audio_file</th>\n",
       "      <th>Site</th>\n",
       "      <th>Weather</th>\n",
       "      <th>Site_type</th>\n",
       "      <th>year</th>\n",
       "      <th>month</th>\n",
       "      <th>day</th>\n",
       "      <th>time</th>\n",
       "      <th>am/pm</th>\n",
       "      <th>date</th>\n",
       "      <th>count</th>\n",
       "    </tr>\n",
       "  </thead>\n",
       "  <tbody>\n",
       "    <tr>\n",
       "      <th>0</th>\n",
       "      <td>171</td>\n",
       "      <td>18_04_26_4</td>\n",
       "      <td>PC0000_0176</td>\n",
       "      <td>D Matrix</td>\n",
       "      <td>dawn</td>\n",
       "      <td>salvage_logged_forest</td>\n",
       "      <td>2018</td>\n",
       "      <td>4</td>\n",
       "      <td>26</td>\n",
       "      <td>06:00:00</td>\n",
       "      <td>AM</td>\n",
       "      <td>2018-4-26</td>\n",
       "      <td>2</td>\n",
       "    </tr>\n",
       "    <tr>\n",
       "      <th>2</th>\n",
       "      <td>176</td>\n",
       "      <td>18_04_27_3</td>\n",
       "      <td>PC0000_0181</td>\n",
       "      <td>E1 648</td>\n",
       "      <td>dawn</td>\n",
       "      <td>selectively_logged_B</td>\n",
       "      <td>2018</td>\n",
       "      <td>4</td>\n",
       "      <td>27</td>\n",
       "      <td>06:00:00</td>\n",
       "      <td>AM</td>\n",
       "      <td>2018-4-27</td>\n",
       "      <td>1</td>\n",
       "    </tr>\n",
       "    <tr>\n",
       "      <th>3</th>\n",
       "      <td>182</td>\n",
       "      <td>18_04_28_4</td>\n",
       "      <td>PC0000_0187</td>\n",
       "      <td>B10</td>\n",
       "      <td>dawn</td>\n",
       "      <td>selectively_logged_A</td>\n",
       "      <td>2018</td>\n",
       "      <td>4</td>\n",
       "      <td>28</td>\n",
       "      <td>06:00:00</td>\n",
       "      <td>AM</td>\n",
       "      <td>2018-4-28</td>\n",
       "      <td>2</td>\n",
       "    </tr>\n",
       "    <tr>\n",
       "      <th>5</th>\n",
       "      <td>248</td>\n",
       "      <td>18_05_24_4</td>\n",
       "      <td>PC0000_0249</td>\n",
       "      <td>D100 641</td>\n",
       "      <td>dusk</td>\n",
       "      <td>selectively_logged_B</td>\n",
       "      <td>2018</td>\n",
       "      <td>5</td>\n",
       "      <td>24</td>\n",
       "      <td>06:00:00</td>\n",
       "      <td>AM</td>\n",
       "      <td>2018-5-24</td>\n",
       "      <td>2</td>\n",
       "    </tr>\n",
       "    <tr>\n",
       "      <th>8</th>\n",
       "      <td>278</td>\n",
       "      <td>18_06_03_3</td>\n",
       "      <td>PC0000_0279</td>\n",
       "      <td>E100 edge</td>\n",
       "      <td>after rain</td>\n",
       "      <td>selectively_logged_B</td>\n",
       "      <td>2018</td>\n",
       "      <td>6</td>\n",
       "      <td>3</td>\n",
       "      <td>06:00:00</td>\n",
       "      <td>AM</td>\n",
       "      <td>2018-6-3</td>\n",
       "      <td>1</td>\n",
       "    </tr>\n",
       "    <tr>\n",
       "      <th>10</th>\n",
       "      <td>291</td>\n",
       "      <td>18_06_07_JA_4</td>\n",
       "      <td>PC0001_0010</td>\n",
       "      <td>C10 621</td>\n",
       "      <td>clouded</td>\n",
       "      <td>selectively_logged_A</td>\n",
       "      <td>2018</td>\n",
       "      <td>6</td>\n",
       "      <td>7</td>\n",
       "      <td>06:00:00</td>\n",
       "      <td>AM</td>\n",
       "      <td>2018-6-7</td>\n",
       "      <td>2</td>\n",
       "    </tr>\n",
       "    <tr>\n",
       "      <th>13</th>\n",
       "      <td>381</td>\n",
       "      <td>18_06_30_2</td>\n",
       "      <td>PC0001_0091</td>\n",
       "      <td>VJR 1</td>\n",
       "      <td>dusk</td>\n",
       "      <td>old_growth_forest</td>\n",
       "      <td>2018</td>\n",
       "      <td>6</td>\n",
       "      <td>30</td>\n",
       "      <td>06:00:00</td>\n",
       "      <td>AM</td>\n",
       "      <td>2018-6-30</td>\n",
       "      <td>2</td>\n",
       "    </tr>\n",
       "  </tbody>\n",
       "</table>\n",
       "</div>"
      ],
      "text/plain": [
       "   field_name Point_count_ID   Audio_file       Site     Weather  \\\n",
       "0         171     18_04_26_4  PC0000_0176   D Matrix        dawn   \n",
       "2         176     18_04_27_3  PC0000_0181     E1 648        dawn   \n",
       "3         182     18_04_28_4  PC0000_0187        B10        dawn   \n",
       "5         248     18_05_24_4  PC0000_0249   D100 641        dusk   \n",
       "8         278     18_06_03_3  PC0000_0279  E100 edge  after rain   \n",
       "10        291  18_06_07_JA_4  PC0001_0010    C10 621     clouded   \n",
       "13        381     18_06_30_2  PC0001_0091      VJR 1        dusk   \n",
       "\n",
       "                Site_type  year month day      time am/pm       date  count  \n",
       "0   salvage_logged_forest  2018     4  26  06:00:00    AM  2018-4-26      2  \n",
       "2    selectively_logged_B  2018     4  27  06:00:00    AM  2018-4-27      1  \n",
       "3    selectively_logged_A  2018     4  28  06:00:00    AM  2018-4-28      2  \n",
       "5    selectively_logged_B  2018     5  24  06:00:00    AM  2018-5-24      2  \n",
       "8    selectively_logged_B  2018     6   3  06:00:00    AM   2018-6-3      1  \n",
       "10   selectively_logged_A  2018     6   7  06:00:00    AM   2018-6-7      2  \n",
       "13      old_growth_forest  2018     6  30  06:00:00    AM  2018-6-30      2  "
      ]
     },
     "execution_count": 27,
     "metadata": {},
     "output_type": "execute_result"
    }
   ],
   "source": [
    "df6am = df18.loc[df18['time'] == '06:00:00']\n",
    "df6am"
   ]
  },
  {
   "cell_type": "code",
   "execution_count": 28,
   "id": "victorian-paraguay",
   "metadata": {},
   "outputs": [
    {
     "name": "stdout",
     "output_type": "stream",
     "text": [
      "Stored 'df' (DataFrame)\n",
      "Stored 'df6am' (DataFrame)\n",
      "Stored 'color_discrete_map' (dict)\n"
     ]
    }
   ],
   "source": [
    "%store df\n",
    "%store df6am\n",
    "%store color_discrete_map"
   ]
  },
  {
   "cell_type": "code",
   "execution_count": null,
   "id": "adjusted-logic",
   "metadata": {},
   "outputs": [],
   "source": []
  }
 ],
 "metadata": {
  "kernelspec": {
   "display_name": "Python 3",
   "language": "python",
   "name": "python3"
  },
  "language_info": {
   "codemirror_mode": {
    "name": "ipython",
    "version": 3
   },
   "file_extension": ".py",
   "mimetype": "text/x-python",
   "name": "python",
   "nbconvert_exporter": "python",
   "pygments_lexer": "ipython3",
   "version": "3.7.4"
  }
 },
 "nbformat": 4,
 "nbformat_minor": 5
}
