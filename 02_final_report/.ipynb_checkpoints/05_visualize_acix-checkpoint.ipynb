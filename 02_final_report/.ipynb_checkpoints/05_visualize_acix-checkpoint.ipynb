{
 "cells": [
  {
   "cell_type": "code",
   "execution_count": 7,
   "id": "yellow-washer",
   "metadata": {},
   "outputs": [
    {
     "data": {
      "text/html": [
       "<div>\n",
       "<style scoped>\n",
       "    .dataframe tbody tr th:only-of-type {\n",
       "        vertical-align: middle;\n",
       "    }\n",
       "\n",
       "    .dataframe tbody tr th {\n",
       "        vertical-align: top;\n",
       "    }\n",
       "\n",
       "    .dataframe thead th {\n",
       "        text-align: right;\n",
       "    }\n",
       "</style>\n",
       "<table border=\"1\" class=\"dataframe\">\n",
       "  <thead>\n",
       "    <tr style=\"text-align: right;\">\n",
       "      <th></th>\n",
       "      <th>Acoustic_Complexity_Index__main_value</th>\n",
       "      <th>Acoustic_Complexity_Index__min</th>\n",
       "      <th>Acoustic_Complexity_Index__max</th>\n",
       "      <th>Acoustic_Complexity_Index__mean</th>\n",
       "      <th>Acoustic_Complexity_Index__median</th>\n",
       "      <th>Acoustic_Complexity_Index__std</th>\n",
       "      <th>Acoustic_Complexity_Index__var</th>\n",
       "    </tr>\n",
       "  </thead>\n",
       "  <tbody>\n",
       "    <tr>\n",
       "      <th>count</th>\n",
       "      <td>18.000000</td>\n",
       "      <td>18.000000</td>\n",
       "      <td>18.000000</td>\n",
       "      <td>18.000000</td>\n",
       "      <td>18.000000</td>\n",
       "      <td>18.000000</td>\n",
       "      <td>18.000000</td>\n",
       "    </tr>\n",
       "    <tr>\n",
       "      <th>mean</th>\n",
       "      <td>38092.615044</td>\n",
       "      <td>147.956259</td>\n",
       "      <td>178.728586</td>\n",
       "      <td>154.003657</td>\n",
       "      <td>153.252655</td>\n",
       "      <td>3.933128</td>\n",
       "      <td>20.414819</td>\n",
       "    </tr>\n",
       "    <tr>\n",
       "      <th>std</th>\n",
       "      <td>1592.709874</td>\n",
       "      <td>3.858938</td>\n",
       "      <td>19.783288</td>\n",
       "      <td>4.648098</td>\n",
       "      <td>4.098466</td>\n",
       "      <td>2.288279</td>\n",
       "      <td>22.790719</td>\n",
       "    </tr>\n",
       "    <tr>\n",
       "      <th>min</th>\n",
       "      <td>36093.289825</td>\n",
       "      <td>140.742471</td>\n",
       "      <td>156.498406</td>\n",
       "      <td>149.121464</td>\n",
       "      <td>148.860498</td>\n",
       "      <td>1.155273</td>\n",
       "      <td>1.334656</td>\n",
       "    </tr>\n",
       "    <tr>\n",
       "      <th>25%</th>\n",
       "      <td>36862.940664</td>\n",
       "      <td>144.756379</td>\n",
       "      <td>164.434197</td>\n",
       "      <td>150.402219</td>\n",
       "      <td>150.087712</td>\n",
       "      <td>2.181227</td>\n",
       "      <td>4.798309</td>\n",
       "    </tr>\n",
       "    <tr>\n",
       "      <th>50%</th>\n",
       "      <td>37970.011661</td>\n",
       "      <td>148.841382</td>\n",
       "      <td>175.769839</td>\n",
       "      <td>152.186317</td>\n",
       "      <td>151.597751</td>\n",
       "      <td>3.863433</td>\n",
       "      <td>14.957402</td>\n",
       "    </tr>\n",
       "    <tr>\n",
       "      <th>75%</th>\n",
       "      <td>38736.130205</td>\n",
       "      <td>150.278194</td>\n",
       "      <td>186.263321</td>\n",
       "      <td>156.681407</td>\n",
       "      <td>156.473156</td>\n",
       "      <td>4.416212</td>\n",
       "      <td>19.505919</td>\n",
       "    </tr>\n",
       "    <tr>\n",
       "      <th>max</th>\n",
       "      <td>41920.502596</td>\n",
       "      <td>154.393794</td>\n",
       "      <td>223.122210</td>\n",
       "      <td>165.078029</td>\n",
       "      <td>161.788929</td>\n",
       "      <td>9.208511</td>\n",
       "      <td>84.796682</td>\n",
       "    </tr>\n",
       "  </tbody>\n",
       "</table>\n",
       "</div>"
      ],
      "text/plain": [
       "       Acoustic_Complexity_Index__main_value  Acoustic_Complexity_Index__min  \\\n",
       "count                              18.000000                       18.000000   \n",
       "mean                            38092.615044                      147.956259   \n",
       "std                              1592.709874                        3.858938   \n",
       "min                             36093.289825                      140.742471   \n",
       "25%                             36862.940664                      144.756379   \n",
       "50%                             37970.011661                      148.841382   \n",
       "75%                             38736.130205                      150.278194   \n",
       "max                             41920.502596                      154.393794   \n",
       "\n",
       "       Acoustic_Complexity_Index__max  Acoustic_Complexity_Index__mean  \\\n",
       "count                       18.000000                        18.000000   \n",
       "mean                       178.728586                       154.003657   \n",
       "std                         19.783288                         4.648098   \n",
       "min                        156.498406                       149.121464   \n",
       "25%                        164.434197                       150.402219   \n",
       "50%                        175.769839                       152.186317   \n",
       "75%                        186.263321                       156.681407   \n",
       "max                        223.122210                       165.078029   \n",
       "\n",
       "       Acoustic_Complexity_Index__median  Acoustic_Complexity_Index__std  \\\n",
       "count                          18.000000                       18.000000   \n",
       "mean                          153.252655                        3.933128   \n",
       "std                             4.098466                        2.288279   \n",
       "min                           148.860498                        1.155273   \n",
       "25%                           150.087712                        2.181227   \n",
       "50%                           151.597751                        3.863433   \n",
       "75%                           156.473156                        4.416212   \n",
       "max                           161.788929                        9.208511   \n",
       "\n",
       "       Acoustic_Complexity_Index__var  \n",
       "count                       18.000000  \n",
       "mean                        20.414819  \n",
       "std                         22.790719  \n",
       "min                          1.334656  \n",
       "25%                          4.798309  \n",
       "50%                         14.957402  \n",
       "75%                         19.505919  \n",
       "max                         84.796682  "
      ]
     },
     "execution_count": 7,
     "metadata": {},
     "output_type": "execute_result"
    }
   ],
   "source": [
    "import pandas as pd\n",
    "\n",
    "%store -r df6am\n",
    "list6am = df6am['Audio_file'].to_list()\n",
    "\n",
    "acix = pd.read_csv('dict.csv')\n",
    "acix.describe()"
   ]
  },
  {
   "cell_type": "code",
   "execution_count": 10,
   "id": "accepted-statement",
   "metadata": {},
   "outputs": [
    {
     "data": {
      "text/html": [
       "<div>\n",
       "<style scoped>\n",
       "    .dataframe tbody tr th:only-of-type {\n",
       "        vertical-align: middle;\n",
       "    }\n",
       "\n",
       "    .dataframe tbody tr th {\n",
       "        vertical-align: top;\n",
       "    }\n",
       "\n",
       "    .dataframe thead th {\n",
       "        text-align: right;\n",
       "    }\n",
       "</style>\n",
       "<table border=\"1\" class=\"dataframe\">\n",
       "  <thead>\n",
       "    <tr style=\"text-align: right;\">\n",
       "      <th></th>\n",
       "      <th>filename</th>\n",
       "      <th>Acoustic_Complexity_Index__main_value</th>\n",
       "      <th>Acoustic_Complexity_Index__min</th>\n",
       "      <th>Acoustic_Complexity_Index__max</th>\n",
       "      <th>Acoustic_Complexity_Index__mean</th>\n",
       "      <th>Acoustic_Complexity_Index__median</th>\n",
       "      <th>Acoustic_Complexity_Index__std</th>\n",
       "      <th>Acoustic_Complexity_Index__var</th>\n",
       "    </tr>\n",
       "  </thead>\n",
       "  <tbody>\n",
       "    <tr>\n",
       "      <th>0</th>\n",
       "      <td>PC0000_0176</td>\n",
       "      <td>39128.369746</td>\n",
       "      <td>149.247284</td>\n",
       "      <td>198.329026</td>\n",
       "      <td>158.414452</td>\n",
       "      <td>156.843596</td>\n",
       "      <td>7.536127</td>\n",
       "      <td>56.793212</td>\n",
       "    </tr>\n",
       "    <tr>\n",
       "      <th>1</th>\n",
       "      <td>PC0000_0177</td>\n",
       "      <td>37791.148398</td>\n",
       "      <td>150.740153</td>\n",
       "      <td>187.653143</td>\n",
       "      <td>155.519129</td>\n",
       "      <td>154.489769</td>\n",
       "      <td>4.104270</td>\n",
       "      <td>16.845036</td>\n",
       "    </tr>\n",
       "    <tr>\n",
       "      <th>2</th>\n",
       "      <td>PC0000_0181</td>\n",
       "      <td>38629.778899</td>\n",
       "      <td>149.557484</td>\n",
       "      <td>179.573339</td>\n",
       "      <td>157.031622</td>\n",
       "      <td>156.980394</td>\n",
       "      <td>4.321513</td>\n",
       "      <td>18.675471</td>\n",
       "    </tr>\n",
       "    <tr>\n",
       "      <th>3</th>\n",
       "      <td>PC0000_0187</td>\n",
       "      <td>38148.874924</td>\n",
       "      <td>148.940565</td>\n",
       "      <td>188.462532</td>\n",
       "      <td>152.595500</td>\n",
       "      <td>151.429510</td>\n",
       "      <td>4.299905</td>\n",
       "      <td>18.489180</td>\n",
       "    </tr>\n",
       "    <tr>\n",
       "      <th>4</th>\n",
       "      <td>PC0000_0189</td>\n",
       "      <td>36093.289825</td>\n",
       "      <td>140.742471</td>\n",
       "      <td>162.374767</td>\n",
       "      <td>149.145826</td>\n",
       "      <td>149.248136</td>\n",
       "      <td>2.064952</td>\n",
       "      <td>4.264026</td>\n",
       "    </tr>\n",
       "    <tr>\n",
       "      <th>5</th>\n",
       "      <td>PC0000_0249</td>\n",
       "      <td>36926.113257</td>\n",
       "      <td>143.129195</td>\n",
       "      <td>171.966339</td>\n",
       "      <td>150.106151</td>\n",
       "      <td>149.240098</td>\n",
       "      <td>4.040322</td>\n",
       "      <td>16.324202</td>\n",
       "    </tr>\n",
       "    <tr>\n",
       "      <th>6</th>\n",
       "      <td>PC0000_0250</td>\n",
       "      <td>38771.580641</td>\n",
       "      <td>145.331466</td>\n",
       "      <td>156.498406</td>\n",
       "      <td>149.121464</td>\n",
       "      <td>149.141034</td>\n",
       "      <td>1.518056</td>\n",
       "      <td>2.304494</td>\n",
       "    </tr>\n",
       "    <tr>\n",
       "      <th>7</th>\n",
       "      <td>PC0000_0276</td>\n",
       "      <td>41920.502596</td>\n",
       "      <td>154.393794</td>\n",
       "      <td>182.093857</td>\n",
       "      <td>161.232702</td>\n",
       "      <td>159.699022</td>\n",
       "      <td>5.942812</td>\n",
       "      <td>35.317016</td>\n",
       "    </tr>\n",
       "    <tr>\n",
       "      <th>8</th>\n",
       "      <td>PC0000_0279</td>\n",
       "      <td>38553.549813</td>\n",
       "      <td>148.878060</td>\n",
       "      <td>181.069336</td>\n",
       "      <td>159.312189</td>\n",
       "      <td>158.559128</td>\n",
       "      <td>4.447779</td>\n",
       "      <td>19.782735</td>\n",
       "    </tr>\n",
       "    <tr>\n",
       "      <th>9</th>\n",
       "      <td>PC0001_0005</td>\n",
       "      <td>36528.071831</td>\n",
       "      <td>148.804704</td>\n",
       "      <td>164.366361</td>\n",
       "      <td>150.321283</td>\n",
       "      <td>150.080381</td>\n",
       "      <td>1.601982</td>\n",
       "      <td>2.566347</td>\n",
       "    </tr>\n",
       "    <tr>\n",
       "      <th>10</th>\n",
       "      <td>PC0001_0010</td>\n",
       "      <td>40279.039111</td>\n",
       "      <td>154.312086</td>\n",
       "      <td>222.268439</td>\n",
       "      <td>165.078029</td>\n",
       "      <td>161.788929</td>\n",
       "      <td>9.208511</td>\n",
       "      <td>84.796682</td>\n",
       "    </tr>\n",
       "    <tr>\n",
       "      <th>11</th>\n",
       "      <td>AD0000_0045</td>\n",
       "      <td>40394.649499</td>\n",
       "      <td>151.689429</td>\n",
       "      <td>161.964559</td>\n",
       "      <td>154.178052</td>\n",
       "      <td>154.056256</td>\n",
       "      <td>1.395304</td>\n",
       "      <td>1.946872</td>\n",
       "    </tr>\n",
       "    <tr>\n",
       "      <th>12</th>\n",
       "      <td>PC0001_0073</td>\n",
       "      <td>37065.545675</td>\n",
       "      <td>143.797054</td>\n",
       "      <td>165.737485</td>\n",
       "      <td>149.457845</td>\n",
       "      <td>148.860498</td>\n",
       "      <td>2.943960</td>\n",
       "      <td>8.666898</td>\n",
       "    </tr>\n",
       "    <tr>\n",
       "      <th>13</th>\n",
       "      <td>PC0001_0091</td>\n",
       "      <td>36650.533271</td>\n",
       "      <td>144.564684</td>\n",
       "      <td>180.504330</td>\n",
       "      <td>150.825240</td>\n",
       "      <td>150.109707</td>\n",
       "      <td>3.686543</td>\n",
       "      <td>13.590602</td>\n",
       "    </tr>\n",
       "    <tr>\n",
       "      <th>14</th>\n",
       "      <td>PC0001_0093</td>\n",
       "      <td>36881.843773</td>\n",
       "      <td>142.933804</td>\n",
       "      <td>164.637704</td>\n",
       "      <td>151.777135</td>\n",
       "      <td>151.765991</td>\n",
       "      <td>2.833992</td>\n",
       "      <td>8.031509</td>\n",
       "    </tr>\n",
       "    <tr>\n",
       "      <th>15</th>\n",
       "      <td>PC0001_0828</td>\n",
       "      <td>38440.798606</td>\n",
       "      <td>150.518431</td>\n",
       "      <td>169.003644</td>\n",
       "      <td>155.630764</td>\n",
       "      <td>155.361837</td>\n",
       "      <td>2.530051</td>\n",
       "      <td>6.401157</td>\n",
       "    </tr>\n",
       "    <tr>\n",
       "      <th>16</th>\n",
       "      <td>PC0001_1178</td>\n",
       "      <td>36856.639627</td>\n",
       "      <td>147.811614</td>\n",
       "      <td>223.122210</td>\n",
       "      <td>151.673414</td>\n",
       "      <td>150.407042</td>\n",
       "      <td>7.164960</td>\n",
       "      <td>51.336653</td>\n",
       "    </tr>\n",
       "    <tr>\n",
       "      <th>17</th>\n",
       "      <td>PC0001_1268</td>\n",
       "      <td>36606.741294</td>\n",
       "      <td>147.820392</td>\n",
       "      <td>157.489072</td>\n",
       "      <td>150.645026</td>\n",
       "      <td>150.486456</td>\n",
       "      <td>1.155273</td>\n",
       "      <td>1.334656</td>\n",
       "    </tr>\n",
       "  </tbody>\n",
       "</table>\n",
       "</div>"
      ],
      "text/plain": [
       "       filename  Acoustic_Complexity_Index__main_value  \\\n",
       "0   PC0000_0176                           39128.369746   \n",
       "1   PC0000_0177                           37791.148398   \n",
       "2   PC0000_0181                           38629.778899   \n",
       "3   PC0000_0187                           38148.874924   \n",
       "4   PC0000_0189                           36093.289825   \n",
       "5   PC0000_0249                           36926.113257   \n",
       "6   PC0000_0250                           38771.580641   \n",
       "7   PC0000_0276                           41920.502596   \n",
       "8   PC0000_0279                           38553.549813   \n",
       "9   PC0001_0005                           36528.071831   \n",
       "10  PC0001_0010                           40279.039111   \n",
       "11  AD0000_0045                           40394.649499   \n",
       "12  PC0001_0073                           37065.545675   \n",
       "13  PC0001_0091                           36650.533271   \n",
       "14  PC0001_0093                           36881.843773   \n",
       "15  PC0001_0828                           38440.798606   \n",
       "16  PC0001_1178                           36856.639627   \n",
       "17  PC0001_1268                           36606.741294   \n",
       "\n",
       "    Acoustic_Complexity_Index__min  Acoustic_Complexity_Index__max  \\\n",
       "0                       149.247284                      198.329026   \n",
       "1                       150.740153                      187.653143   \n",
       "2                       149.557484                      179.573339   \n",
       "3                       148.940565                      188.462532   \n",
       "4                       140.742471                      162.374767   \n",
       "5                       143.129195                      171.966339   \n",
       "6                       145.331466                      156.498406   \n",
       "7                       154.393794                      182.093857   \n",
       "8                       148.878060                      181.069336   \n",
       "9                       148.804704                      164.366361   \n",
       "10                      154.312086                      222.268439   \n",
       "11                      151.689429                      161.964559   \n",
       "12                      143.797054                      165.737485   \n",
       "13                      144.564684                      180.504330   \n",
       "14                      142.933804                      164.637704   \n",
       "15                      150.518431                      169.003644   \n",
       "16                      147.811614                      223.122210   \n",
       "17                      147.820392                      157.489072   \n",
       "\n",
       "    Acoustic_Complexity_Index__mean  Acoustic_Complexity_Index__median  \\\n",
       "0                        158.414452                         156.843596   \n",
       "1                        155.519129                         154.489769   \n",
       "2                        157.031622                         156.980394   \n",
       "3                        152.595500                         151.429510   \n",
       "4                        149.145826                         149.248136   \n",
       "5                        150.106151                         149.240098   \n",
       "6                        149.121464                         149.141034   \n",
       "7                        161.232702                         159.699022   \n",
       "8                        159.312189                         158.559128   \n",
       "9                        150.321283                         150.080381   \n",
       "10                       165.078029                         161.788929   \n",
       "11                       154.178052                         154.056256   \n",
       "12                       149.457845                         148.860498   \n",
       "13                       150.825240                         150.109707   \n",
       "14                       151.777135                         151.765991   \n",
       "15                       155.630764                         155.361837   \n",
       "16                       151.673414                         150.407042   \n",
       "17                       150.645026                         150.486456   \n",
       "\n",
       "    Acoustic_Complexity_Index__std  Acoustic_Complexity_Index__var  \n",
       "0                         7.536127                       56.793212  \n",
       "1                         4.104270                       16.845036  \n",
       "2                         4.321513                       18.675471  \n",
       "3                         4.299905                       18.489180  \n",
       "4                         2.064952                        4.264026  \n",
       "5                         4.040322                       16.324202  \n",
       "6                         1.518056                        2.304494  \n",
       "7                         5.942812                       35.317016  \n",
       "8                         4.447779                       19.782735  \n",
       "9                         1.601982                        2.566347  \n",
       "10                        9.208511                       84.796682  \n",
       "11                        1.395304                        1.946872  \n",
       "12                        2.943960                        8.666898  \n",
       "13                        3.686543                       13.590602  \n",
       "14                        2.833992                        8.031509  \n",
       "15                        2.530051                        6.401157  \n",
       "16                        7.164960                       51.336653  \n",
       "17                        1.155273                        1.334656  "
      ]
     },
     "metadata": {},
     "output_type": "display_data"
    },
    {
     "data": {
      "text/plain": [
       "['PC0000_0176',\n",
       " 'PC0000_0181',\n",
       " 'PC0000_0187',\n",
       " 'PC0000_0249',\n",
       " 'PC0000_0279',\n",
       " 'PC0001_0010',\n",
       " 'PC0001_0091']"
      ]
     },
     "metadata": {},
     "output_type": "display_data"
    }
   ],
   "source": [
    "acix['filename'] = acix['filename'].str.replace('.wav', '')\n",
    "display(acix)\n",
    "display(list6am)"
   ]
  },
  {
   "cell_type": "code",
   "execution_count": 20,
   "id": "broken-retreat",
   "metadata": {},
   "outputs": [],
   "source": [
    "acix6am = acix[acix['filename'].isin(list6am)].reset_index() # location df only with recordings \n",
    "acix6am\n",
    "df6am.columns = ['field_name', 'Point_count_ID', 'filename', 'Site', 'Weather',\n",
    "       'Site_type', 'year', 'month', 'day', 'time', 'am/pm', 'date', 'count']"
   ]
  },
  {
   "cell_type": "code",
   "execution_count": 35,
   "id": "waiting-dover",
   "metadata": {},
   "outputs": [
    {
     "data": {
      "text/html": [
       "<div>\n",
       "<style scoped>\n",
       "    .dataframe tbody tr th:only-of-type {\n",
       "        vertical-align: middle;\n",
       "    }\n",
       "\n",
       "    .dataframe tbody tr th {\n",
       "        vertical-align: top;\n",
       "    }\n",
       "\n",
       "    .dataframe thead th {\n",
       "        text-align: right;\n",
       "    }\n",
       "</style>\n",
       "<table border=\"1\" class=\"dataframe\">\n",
       "  <thead>\n",
       "    <tr style=\"text-align: right;\">\n",
       "      <th></th>\n",
       "      <th>field_name</th>\n",
       "      <th>Point_count_ID</th>\n",
       "      <th>filename</th>\n",
       "      <th>Site</th>\n",
       "      <th>Weather</th>\n",
       "      <th>Site_type</th>\n",
       "      <th>year</th>\n",
       "      <th>month</th>\n",
       "      <th>day</th>\n",
       "      <th>time</th>\n",
       "      <th>...</th>\n",
       "      <th>date</th>\n",
       "      <th>count</th>\n",
       "      <th>index</th>\n",
       "      <th>Acoustic_Complexity_Index__main_value</th>\n",
       "      <th>Acoustic_Complexity_Index__min</th>\n",
       "      <th>Acoustic_Complexity_Index__max</th>\n",
       "      <th>Acoustic_Complexity_Index__mean</th>\n",
       "      <th>Acoustic_Complexity_Index__median</th>\n",
       "      <th>Acoustic_Complexity_Index__std</th>\n",
       "      <th>Acoustic_Complexity_Index__var</th>\n",
       "    </tr>\n",
       "  </thead>\n",
       "  <tbody>\n",
       "    <tr>\n",
       "      <th>5</th>\n",
       "      <td>291</td>\n",
       "      <td>18_06_07_JA_4</td>\n",
       "      <td>PC0001_0010</td>\n",
       "      <td>C10 621</td>\n",
       "      <td>clouded</td>\n",
       "      <td>selectively_logged_A</td>\n",
       "      <td>2018</td>\n",
       "      <td>6</td>\n",
       "      <td>7</td>\n",
       "      <td>06:00:00</td>\n",
       "      <td>...</td>\n",
       "      <td>2018-6-7</td>\n",
       "      <td>2</td>\n",
       "      <td>10</td>\n",
       "      <td>40279.039111</td>\n",
       "      <td>154.312086</td>\n",
       "      <td>222.268439</td>\n",
       "      <td>165.078029</td>\n",
       "      <td>161.788929</td>\n",
       "      <td>9.208511</td>\n",
       "      <td>84.796682</td>\n",
       "    </tr>\n",
       "    <tr>\n",
       "      <th>0</th>\n",
       "      <td>171</td>\n",
       "      <td>18_04_26_4</td>\n",
       "      <td>PC0000_0176</td>\n",
       "      <td>D Matrix</td>\n",
       "      <td>dawn</td>\n",
       "      <td>salvage_logged_forest</td>\n",
       "      <td>2018</td>\n",
       "      <td>4</td>\n",
       "      <td>26</td>\n",
       "      <td>06:00:00</td>\n",
       "      <td>...</td>\n",
       "      <td>2018-4-26</td>\n",
       "      <td>2</td>\n",
       "      <td>0</td>\n",
       "      <td>39128.369746</td>\n",
       "      <td>149.247284</td>\n",
       "      <td>198.329026</td>\n",
       "      <td>158.414452</td>\n",
       "      <td>156.843596</td>\n",
       "      <td>7.536127</td>\n",
       "      <td>56.793212</td>\n",
       "    </tr>\n",
       "    <tr>\n",
       "      <th>1</th>\n",
       "      <td>176</td>\n",
       "      <td>18_04_27_3</td>\n",
       "      <td>PC0000_0181</td>\n",
       "      <td>E1 648</td>\n",
       "      <td>dawn</td>\n",
       "      <td>selectively_logged_B</td>\n",
       "      <td>2018</td>\n",
       "      <td>4</td>\n",
       "      <td>27</td>\n",
       "      <td>06:00:00</td>\n",
       "      <td>...</td>\n",
       "      <td>2018-4-27</td>\n",
       "      <td>1</td>\n",
       "      <td>2</td>\n",
       "      <td>38629.778899</td>\n",
       "      <td>149.557484</td>\n",
       "      <td>179.573339</td>\n",
       "      <td>157.031622</td>\n",
       "      <td>156.980394</td>\n",
       "      <td>4.321513</td>\n",
       "      <td>18.675471</td>\n",
       "    </tr>\n",
       "    <tr>\n",
       "      <th>4</th>\n",
       "      <td>278</td>\n",
       "      <td>18_06_03_3</td>\n",
       "      <td>PC0000_0279</td>\n",
       "      <td>E100 edge</td>\n",
       "      <td>after rain</td>\n",
       "      <td>selectively_logged_B</td>\n",
       "      <td>2018</td>\n",
       "      <td>6</td>\n",
       "      <td>3</td>\n",
       "      <td>06:00:00</td>\n",
       "      <td>...</td>\n",
       "      <td>2018-6-3</td>\n",
       "      <td>1</td>\n",
       "      <td>8</td>\n",
       "      <td>38553.549813</td>\n",
       "      <td>148.878060</td>\n",
       "      <td>181.069336</td>\n",
       "      <td>159.312189</td>\n",
       "      <td>158.559128</td>\n",
       "      <td>4.447779</td>\n",
       "      <td>19.782735</td>\n",
       "    </tr>\n",
       "    <tr>\n",
       "      <th>2</th>\n",
       "      <td>182</td>\n",
       "      <td>18_04_28_4</td>\n",
       "      <td>PC0000_0187</td>\n",
       "      <td>B10</td>\n",
       "      <td>dawn</td>\n",
       "      <td>selectively_logged_A</td>\n",
       "      <td>2018</td>\n",
       "      <td>4</td>\n",
       "      <td>28</td>\n",
       "      <td>06:00:00</td>\n",
       "      <td>...</td>\n",
       "      <td>2018-4-28</td>\n",
       "      <td>2</td>\n",
       "      <td>3</td>\n",
       "      <td>38148.874924</td>\n",
       "      <td>148.940565</td>\n",
       "      <td>188.462532</td>\n",
       "      <td>152.595500</td>\n",
       "      <td>151.429510</td>\n",
       "      <td>4.299905</td>\n",
       "      <td>18.489180</td>\n",
       "    </tr>\n",
       "    <tr>\n",
       "      <th>3</th>\n",
       "      <td>248</td>\n",
       "      <td>18_05_24_4</td>\n",
       "      <td>PC0000_0249</td>\n",
       "      <td>D100 641</td>\n",
       "      <td>dusk</td>\n",
       "      <td>selectively_logged_B</td>\n",
       "      <td>2018</td>\n",
       "      <td>5</td>\n",
       "      <td>24</td>\n",
       "      <td>06:00:00</td>\n",
       "      <td>...</td>\n",
       "      <td>2018-5-24</td>\n",
       "      <td>2</td>\n",
       "      <td>5</td>\n",
       "      <td>36926.113257</td>\n",
       "      <td>143.129195</td>\n",
       "      <td>171.966339</td>\n",
       "      <td>150.106151</td>\n",
       "      <td>149.240098</td>\n",
       "      <td>4.040322</td>\n",
       "      <td>16.324202</td>\n",
       "    </tr>\n",
       "    <tr>\n",
       "      <th>6</th>\n",
       "      <td>381</td>\n",
       "      <td>18_06_30_2</td>\n",
       "      <td>PC0001_0091</td>\n",
       "      <td>VJR 1</td>\n",
       "      <td>dusk</td>\n",
       "      <td>old_growth_forest</td>\n",
       "      <td>2018</td>\n",
       "      <td>6</td>\n",
       "      <td>30</td>\n",
       "      <td>06:00:00</td>\n",
       "      <td>...</td>\n",
       "      <td>2018-6-30</td>\n",
       "      <td>2</td>\n",
       "      <td>13</td>\n",
       "      <td>36650.533271</td>\n",
       "      <td>144.564684</td>\n",
       "      <td>180.504330</td>\n",
       "      <td>150.825240</td>\n",
       "      <td>150.109707</td>\n",
       "      <td>3.686543</td>\n",
       "      <td>13.590602</td>\n",
       "    </tr>\n",
       "  </tbody>\n",
       "</table>\n",
       "<p>7 rows × 21 columns</p>\n",
       "</div>"
      ],
      "text/plain": [
       "  field_name Point_count_ID     filename       Site     Weather  \\\n",
       "5        291  18_06_07_JA_4  PC0001_0010    C10 621     clouded   \n",
       "0        171     18_04_26_4  PC0000_0176   D Matrix        dawn   \n",
       "1        176     18_04_27_3  PC0000_0181     E1 648        dawn   \n",
       "4        278     18_06_03_3  PC0000_0279  E100 edge  after rain   \n",
       "2        182     18_04_28_4  PC0000_0187        B10        dawn   \n",
       "3        248     18_05_24_4  PC0000_0249   D100 641        dusk   \n",
       "6        381     18_06_30_2  PC0001_0091      VJR 1        dusk   \n",
       "\n",
       "               Site_type  year month day      time  ...       date count  \\\n",
       "5   selectively_logged_A  2018     6   7  06:00:00  ...   2018-6-7     2   \n",
       "0  salvage_logged_forest  2018     4  26  06:00:00  ...  2018-4-26     2   \n",
       "1   selectively_logged_B  2018     4  27  06:00:00  ...  2018-4-27     1   \n",
       "4   selectively_logged_B  2018     6   3  06:00:00  ...   2018-6-3     1   \n",
       "2   selectively_logged_A  2018     4  28  06:00:00  ...  2018-4-28     2   \n",
       "3   selectively_logged_B  2018     5  24  06:00:00  ...  2018-5-24     2   \n",
       "6      old_growth_forest  2018     6  30  06:00:00  ...  2018-6-30     2   \n",
       "\n",
       "   index  Acoustic_Complexity_Index__main_value  \\\n",
       "5     10                           40279.039111   \n",
       "0      0                           39128.369746   \n",
       "1      2                           38629.778899   \n",
       "4      8                           38553.549813   \n",
       "2      3                           38148.874924   \n",
       "3      5                           36926.113257   \n",
       "6     13                           36650.533271   \n",
       "\n",
       "   Acoustic_Complexity_Index__min  Acoustic_Complexity_Index__max  \\\n",
       "5                      154.312086                      222.268439   \n",
       "0                      149.247284                      198.329026   \n",
       "1                      149.557484                      179.573339   \n",
       "4                      148.878060                      181.069336   \n",
       "2                      148.940565                      188.462532   \n",
       "3                      143.129195                      171.966339   \n",
       "6                      144.564684                      180.504330   \n",
       "\n",
       "   Acoustic_Complexity_Index__mean  Acoustic_Complexity_Index__median  \\\n",
       "5                       165.078029                         161.788929   \n",
       "0                       158.414452                         156.843596   \n",
       "1                       157.031622                         156.980394   \n",
       "4                       159.312189                         158.559128   \n",
       "2                       152.595500                         151.429510   \n",
       "3                       150.106151                         149.240098   \n",
       "6                       150.825240                         150.109707   \n",
       "\n",
       "   Acoustic_Complexity_Index__std  Acoustic_Complexity_Index__var  \n",
       "5                        9.208511                       84.796682  \n",
       "0                        7.536127                       56.793212  \n",
       "1                        4.321513                       18.675471  \n",
       "4                        4.447779                       19.782735  \n",
       "2                        4.299905                       18.489180  \n",
       "3                        4.040322                       16.324202  \n",
       "6                        3.686543                       13.590602  \n",
       "\n",
       "[7 rows x 21 columns]"
      ]
     },
     "execution_count": 35,
     "metadata": {},
     "output_type": "execute_result"
    }
   ],
   "source": [
    "dfaxic6am = pd.merge(df6am, acix6am, on = 'filename')\n",
    "dfaxic6am = dfaxic6am.sort_values(by = 'Acoustic_Complexity_Index__main_value', ascending = False)\n",
    "dfaxic6am"
   ]
  },
  {
   "cell_type": "code",
   "execution_count": 67,
   "id": "expanded-structure",
   "metadata": {},
   "outputs": [
    {
     "data": {
      "application/vnd.plotly.v1+json": {
       "config": {
        "plotlyServerURL": "https://plot.ly"
       },
       "data": [
        {
         "alignmentgroup": "True",
         "hovertemplate": "Site_type=selectively_logged_A<br>Site=%{x}<br>Acoustic_Complexity_Index__main_value=%{y}<extra></extra>",
         "legendgroup": "selectively_logged_A",
         "marker": {
          "color": "khaki"
         },
         "name": "selectively_logged_A",
         "offsetgroup": "selectively_logged_A",
         "orientation": "v",
         "showlegend": true,
         "textposition": "auto",
         "type": "bar",
         "x": [
          "C10 621",
          "B10"
         ],
         "xaxis": "x",
         "y": [
          40279.03911076766,
          38148.87492386964
         ],
         "yaxis": "y"
        },
        {
         "alignmentgroup": "True",
         "hovertemplate": "Site_type=salvage_logged_forest<br>Site=%{x}<br>Acoustic_Complexity_Index__main_value=%{y}<extra></extra>",
         "legendgroup": "salvage_logged_forest",
         "marker": {
          "color": "turquoise"
         },
         "name": "salvage_logged_forest",
         "offsetgroup": "salvage_logged_forest",
         "orientation": "v",
         "showlegend": true,
         "textposition": "auto",
         "type": "bar",
         "x": [
          "D Matrix"
         ],
         "xaxis": "x",
         "y": [
          39128.36974579912
         ],
         "yaxis": "y"
        },
        {
         "alignmentgroup": "True",
         "hovertemplate": "Site_type=selectively_logged_B<br>Site=%{x}<br>Acoustic_Complexity_Index__main_value=%{y}<extra></extra>",
         "legendgroup": "selectively_logged_B",
         "marker": {
          "color": "lawngreen"
         },
         "name": "selectively_logged_B",
         "offsetgroup": "selectively_logged_B",
         "orientation": "v",
         "showlegend": true,
         "textposition": "auto",
         "type": "bar",
         "x": [
          "E1 648",
          "E100 edge",
          "D100 641"
         ],
         "xaxis": "x",
         "y": [
          38629.77889942605,
          38553.54981298348,
          36926.11325720513
         ],
         "yaxis": "y"
        },
        {
         "alignmentgroup": "True",
         "hovertemplate": "Site_type=old_growth_forest<br>Site=%{x}<br>Acoustic_Complexity_Index__main_value=%{y}<extra></extra>",
         "legendgroup": "old_growth_forest",
         "marker": {
          "color": "green"
         },
         "name": "old_growth_forest",
         "offsetgroup": "old_growth_forest",
         "orientation": "v",
         "showlegend": true,
         "textposition": "auto",
         "type": "bar",
         "x": [
          "VJR 1"
         ],
         "xaxis": "x",
         "y": [
          36650.53327122272
         ],
         "yaxis": "y"
        }
       ],
       "layout": {
        "autosize": true,
        "barmode": "relative",
        "legend": {
         "title": {
          "text": "Site_type"
         },
         "tracegroupgap": 0
        },
        "margin": {
         "t": 60
        },
        "template": {
         "data": {
          "bar": [
           {
            "error_x": {
             "color": "#2a3f5f"
            },
            "error_y": {
             "color": "#2a3f5f"
            },
            "marker": {
             "line": {
              "color": "#E5ECF6",
              "width": 0.5
             }
            },
            "type": "bar"
           }
          ],
          "barpolar": [
           {
            "marker": {
             "line": {
              "color": "#E5ECF6",
              "width": 0.5
             }
            },
            "type": "barpolar"
           }
          ],
          "carpet": [
           {
            "aaxis": {
             "endlinecolor": "#2a3f5f",
             "gridcolor": "white",
             "linecolor": "white",
             "minorgridcolor": "white",
             "startlinecolor": "#2a3f5f"
            },
            "baxis": {
             "endlinecolor": "#2a3f5f",
             "gridcolor": "white",
             "linecolor": "white",
             "minorgridcolor": "white",
             "startlinecolor": "#2a3f5f"
            },
            "type": "carpet"
           }
          ],
          "choropleth": [
           {
            "colorbar": {
             "outlinewidth": 0,
             "ticks": ""
            },
            "type": "choropleth"
           }
          ],
          "contour": [
           {
            "colorbar": {
             "outlinewidth": 0,
             "ticks": ""
            },
            "colorscale": [
             [
              0,
              "#0d0887"
             ],
             [
              0.1111111111111111,
              "#46039f"
             ],
             [
              0.2222222222222222,
              "#7201a8"
             ],
             [
              0.3333333333333333,
              "#9c179e"
             ],
             [
              0.4444444444444444,
              "#bd3786"
             ],
             [
              0.5555555555555556,
              "#d8576b"
             ],
             [
              0.6666666666666666,
              "#ed7953"
             ],
             [
              0.7777777777777778,
              "#fb9f3a"
             ],
             [
              0.8888888888888888,
              "#fdca26"
             ],
             [
              1,
              "#f0f921"
             ]
            ],
            "type": "contour"
           }
          ],
          "contourcarpet": [
           {
            "colorbar": {
             "outlinewidth": 0,
             "ticks": ""
            },
            "type": "contourcarpet"
           }
          ],
          "heatmap": [
           {
            "colorbar": {
             "outlinewidth": 0,
             "ticks": ""
            },
            "colorscale": [
             [
              0,
              "#0d0887"
             ],
             [
              0.1111111111111111,
              "#46039f"
             ],
             [
              0.2222222222222222,
              "#7201a8"
             ],
             [
              0.3333333333333333,
              "#9c179e"
             ],
             [
              0.4444444444444444,
              "#bd3786"
             ],
             [
              0.5555555555555556,
              "#d8576b"
             ],
             [
              0.6666666666666666,
              "#ed7953"
             ],
             [
              0.7777777777777778,
              "#fb9f3a"
             ],
             [
              0.8888888888888888,
              "#fdca26"
             ],
             [
              1,
              "#f0f921"
             ]
            ],
            "type": "heatmap"
           }
          ],
          "heatmapgl": [
           {
            "colorbar": {
             "outlinewidth": 0,
             "ticks": ""
            },
            "colorscale": [
             [
              0,
              "#0d0887"
             ],
             [
              0.1111111111111111,
              "#46039f"
             ],
             [
              0.2222222222222222,
              "#7201a8"
             ],
             [
              0.3333333333333333,
              "#9c179e"
             ],
             [
              0.4444444444444444,
              "#bd3786"
             ],
             [
              0.5555555555555556,
              "#d8576b"
             ],
             [
              0.6666666666666666,
              "#ed7953"
             ],
             [
              0.7777777777777778,
              "#fb9f3a"
             ],
             [
              0.8888888888888888,
              "#fdca26"
             ],
             [
              1,
              "#f0f921"
             ]
            ],
            "type": "heatmapgl"
           }
          ],
          "histogram": [
           {
            "marker": {
             "colorbar": {
              "outlinewidth": 0,
              "ticks": ""
             }
            },
            "type": "histogram"
           }
          ],
          "histogram2d": [
           {
            "colorbar": {
             "outlinewidth": 0,
             "ticks": ""
            },
            "colorscale": [
             [
              0,
              "#0d0887"
             ],
             [
              0.1111111111111111,
              "#46039f"
             ],
             [
              0.2222222222222222,
              "#7201a8"
             ],
             [
              0.3333333333333333,
              "#9c179e"
             ],
             [
              0.4444444444444444,
              "#bd3786"
             ],
             [
              0.5555555555555556,
              "#d8576b"
             ],
             [
              0.6666666666666666,
              "#ed7953"
             ],
             [
              0.7777777777777778,
              "#fb9f3a"
             ],
             [
              0.8888888888888888,
              "#fdca26"
             ],
             [
              1,
              "#f0f921"
             ]
            ],
            "type": "histogram2d"
           }
          ],
          "histogram2dcontour": [
           {
            "colorbar": {
             "outlinewidth": 0,
             "ticks": ""
            },
            "colorscale": [
             [
              0,
              "#0d0887"
             ],
             [
              0.1111111111111111,
              "#46039f"
             ],
             [
              0.2222222222222222,
              "#7201a8"
             ],
             [
              0.3333333333333333,
              "#9c179e"
             ],
             [
              0.4444444444444444,
              "#bd3786"
             ],
             [
              0.5555555555555556,
              "#d8576b"
             ],
             [
              0.6666666666666666,
              "#ed7953"
             ],
             [
              0.7777777777777778,
              "#fb9f3a"
             ],
             [
              0.8888888888888888,
              "#fdca26"
             ],
             [
              1,
              "#f0f921"
             ]
            ],
            "type": "histogram2dcontour"
           }
          ],
          "mesh3d": [
           {
            "colorbar": {
             "outlinewidth": 0,
             "ticks": ""
            },
            "type": "mesh3d"
           }
          ],
          "parcoords": [
           {
            "line": {
             "colorbar": {
              "outlinewidth": 0,
              "ticks": ""
             }
            },
            "type": "parcoords"
           }
          ],
          "pie": [
           {
            "automargin": true,
            "type": "pie"
           }
          ],
          "scatter": [
           {
            "marker": {
             "colorbar": {
              "outlinewidth": 0,
              "ticks": ""
             }
            },
            "type": "scatter"
           }
          ],
          "scatter3d": [
           {
            "line": {
             "colorbar": {
              "outlinewidth": 0,
              "ticks": ""
             }
            },
            "marker": {
             "colorbar": {
              "outlinewidth": 0,
              "ticks": ""
             }
            },
            "type": "scatter3d"
           }
          ],
          "scattercarpet": [
           {
            "marker": {
             "colorbar": {
              "outlinewidth": 0,
              "ticks": ""
             }
            },
            "type": "scattercarpet"
           }
          ],
          "scattergeo": [
           {
            "marker": {
             "colorbar": {
              "outlinewidth": 0,
              "ticks": ""
             }
            },
            "type": "scattergeo"
           }
          ],
          "scattergl": [
           {
            "marker": {
             "colorbar": {
              "outlinewidth": 0,
              "ticks": ""
             }
            },
            "type": "scattergl"
           }
          ],
          "scattermapbox": [
           {
            "marker": {
             "colorbar": {
              "outlinewidth": 0,
              "ticks": ""
             }
            },
            "type": "scattermapbox"
           }
          ],
          "scatterpolar": [
           {
            "marker": {
             "colorbar": {
              "outlinewidth": 0,
              "ticks": ""
             }
            },
            "type": "scatterpolar"
           }
          ],
          "scatterpolargl": [
           {
            "marker": {
             "colorbar": {
              "outlinewidth": 0,
              "ticks": ""
             }
            },
            "type": "scatterpolargl"
           }
          ],
          "scatterternary": [
           {
            "marker": {
             "colorbar": {
              "outlinewidth": 0,
              "ticks": ""
             }
            },
            "type": "scatterternary"
           }
          ],
          "surface": [
           {
            "colorbar": {
             "outlinewidth": 0,
             "ticks": ""
            },
            "colorscale": [
             [
              0,
              "#0d0887"
             ],
             [
              0.1111111111111111,
              "#46039f"
             ],
             [
              0.2222222222222222,
              "#7201a8"
             ],
             [
              0.3333333333333333,
              "#9c179e"
             ],
             [
              0.4444444444444444,
              "#bd3786"
             ],
             [
              0.5555555555555556,
              "#d8576b"
             ],
             [
              0.6666666666666666,
              "#ed7953"
             ],
             [
              0.7777777777777778,
              "#fb9f3a"
             ],
             [
              0.8888888888888888,
              "#fdca26"
             ],
             [
              1,
              "#f0f921"
             ]
            ],
            "type": "surface"
           }
          ],
          "table": [
           {
            "cells": {
             "fill": {
              "color": "#EBF0F8"
             },
             "line": {
              "color": "white"
             }
            },
            "header": {
             "fill": {
              "color": "#C8D4E3"
             },
             "line": {
              "color": "white"
             }
            },
            "type": "table"
           }
          ]
         },
         "layout": {
          "annotationdefaults": {
           "arrowcolor": "#2a3f5f",
           "arrowhead": 0,
           "arrowwidth": 1
          },
          "autotypenumbers": "strict",
          "coloraxis": {
           "colorbar": {
            "outlinewidth": 0,
            "ticks": ""
           }
          },
          "colorscale": {
           "diverging": [
            [
             0,
             "#8e0152"
            ],
            [
             0.1,
             "#c51b7d"
            ],
            [
             0.2,
             "#de77ae"
            ],
            [
             0.3,
             "#f1b6da"
            ],
            [
             0.4,
             "#fde0ef"
            ],
            [
             0.5,
             "#f7f7f7"
            ],
            [
             0.6,
             "#e6f5d0"
            ],
            [
             0.7,
             "#b8e186"
            ],
            [
             0.8,
             "#7fbc41"
            ],
            [
             0.9,
             "#4d9221"
            ],
            [
             1,
             "#276419"
            ]
           ],
           "sequential": [
            [
             0,
             "#0d0887"
            ],
            [
             0.1111111111111111,
             "#46039f"
            ],
            [
             0.2222222222222222,
             "#7201a8"
            ],
            [
             0.3333333333333333,
             "#9c179e"
            ],
            [
             0.4444444444444444,
             "#bd3786"
            ],
            [
             0.5555555555555556,
             "#d8576b"
            ],
            [
             0.6666666666666666,
             "#ed7953"
            ],
            [
             0.7777777777777778,
             "#fb9f3a"
            ],
            [
             0.8888888888888888,
             "#fdca26"
            ],
            [
             1,
             "#f0f921"
            ]
           ],
           "sequentialminus": [
            [
             0,
             "#0d0887"
            ],
            [
             0.1111111111111111,
             "#46039f"
            ],
            [
             0.2222222222222222,
             "#7201a8"
            ],
            [
             0.3333333333333333,
             "#9c179e"
            ],
            [
             0.4444444444444444,
             "#bd3786"
            ],
            [
             0.5555555555555556,
             "#d8576b"
            ],
            [
             0.6666666666666666,
             "#ed7953"
            ],
            [
             0.7777777777777778,
             "#fb9f3a"
            ],
            [
             0.8888888888888888,
             "#fdca26"
            ],
            [
             1,
             "#f0f921"
            ]
           ]
          },
          "colorway": [
           "#636efa",
           "#EF553B",
           "#00cc96",
           "#ab63fa",
           "#FFA15A",
           "#19d3f3",
           "#FF6692",
           "#B6E880",
           "#FF97FF",
           "#FECB52"
          ],
          "font": {
           "color": "#2a3f5f"
          },
          "geo": {
           "bgcolor": "white",
           "lakecolor": "white",
           "landcolor": "#E5ECF6",
           "showlakes": true,
           "showland": true,
           "subunitcolor": "white"
          },
          "hoverlabel": {
           "align": "left"
          },
          "hovermode": "closest",
          "mapbox": {
           "style": "light"
          },
          "paper_bgcolor": "white",
          "plot_bgcolor": "#E5ECF6",
          "polar": {
           "angularaxis": {
            "gridcolor": "white",
            "linecolor": "white",
            "ticks": ""
           },
           "bgcolor": "#E5ECF6",
           "radialaxis": {
            "gridcolor": "white",
            "linecolor": "white",
            "ticks": ""
           }
          },
          "scene": {
           "xaxis": {
            "backgroundcolor": "#E5ECF6",
            "gridcolor": "white",
            "gridwidth": 2,
            "linecolor": "white",
            "showbackground": true,
            "ticks": "",
            "zerolinecolor": "white"
           },
           "yaxis": {
            "backgroundcolor": "#E5ECF6",
            "gridcolor": "white",
            "gridwidth": 2,
            "linecolor": "white",
            "showbackground": true,
            "ticks": "",
            "zerolinecolor": "white"
           },
           "zaxis": {
            "backgroundcolor": "#E5ECF6",
            "gridcolor": "white",
            "gridwidth": 2,
            "linecolor": "white",
            "showbackground": true,
            "ticks": "",
            "zerolinecolor": "white"
           }
          },
          "shapedefaults": {
           "line": {
            "color": "#2a3f5f"
           }
          },
          "ternary": {
           "aaxis": {
            "gridcolor": "white",
            "linecolor": "white",
            "ticks": ""
           },
           "baxis": {
            "gridcolor": "white",
            "linecolor": "white",
            "ticks": ""
           },
           "bgcolor": "#E5ECF6",
           "caxis": {
            "gridcolor": "white",
            "linecolor": "white",
            "ticks": ""
           }
          },
          "title": {
           "x": 0.05
          },
          "xaxis": {
           "automargin": true,
           "gridcolor": "white",
           "linecolor": "white",
           "ticks": "",
           "title": {
            "standoff": 15
           },
           "zerolinecolor": "white",
           "zerolinewidth": 2
          },
          "yaxis": {
           "automargin": true,
           "gridcolor": "white",
           "linecolor": "white",
           "ticks": "",
           "title": {
            "standoff": 15
           },
           "zerolinecolor": "white",
           "zerolinewidth": 2
          }
         }
        },
        "xaxis": {
         "anchor": "y",
         "autorange": true,
         "categoryorder": "total descending",
         "domain": [
          0,
          1
         ],
         "range": [
          -0.5,
          6.5
         ],
         "title": {
          "text": "Site"
         },
         "type": "category"
        },
        "yaxis": {
         "anchor": "x",
         "autorange": true,
         "domain": [
          0,
          1
         ],
         "range": [
          0,
          42398.98853765017
         ],
         "title": {
          "text": "Acoustic_Complexity_Index__main_value"
         },
         "type": "linear"
        }
       }
      },
      "image/png": "[encoded data removed]",
      "text/html": [
       "<div>                            <div id=\"956cedcb-f243-45bf-8436-6a3af583cd7f\" class=\"plotly-graph-div\" style=\"height:525px; width:100%;\"></div>            <script type=\"text/javascript\">                require([\"plotly\"], function(Plotly) {                    window.PLOTLYENV=window.PLOTLYENV || {};                                    if (document.getElementById(\"956cedcb-f243-45bf-8436-6a3af583cd7f\")) {                    Plotly.newPlot(                        \"956cedcb-f243-45bf-8436-6a3af583cd7f\",                        [{\"alignmentgroup\": \"True\", \"hovertemplate\": \"Site_type=selectively_logged_A<br>Site=%{x}<br>Acoustic_Complexity_Index__main_value=%{y}<extra></extra>\", \"legendgroup\": \"selectively_logged_A\", \"marker\": {\"color\": \"khaki\"}, \"name\": \"selectively_logged_A\", \"offsetgroup\": \"selectively_logged_A\", \"orientation\": \"v\", \"showlegend\": true, \"textposition\": \"auto\", \"type\": \"bar\", \"x\": [\"C10 621\", \"B10\"], \"xaxis\": \"x\", \"y\": [40279.03911076766, 38148.87492386964], \"yaxis\": \"y\"}, {\"alignmentgroup\": \"True\", \"hovertemplate\": \"Site_type=salvage_logged_forest<br>Site=%{x}<br>Acoustic_Complexity_Index__main_value=%{y}<extra></extra>\", \"legendgroup\": \"salvage_logged_forest\", \"marker\": {\"color\": \"turquoise\"}, \"name\": \"salvage_logged_forest\", \"offsetgroup\": \"salvage_logged_forest\", \"orientation\": \"v\", \"showlegend\": true, \"textposition\": \"auto\", \"type\": \"bar\", \"x\": [\"D Matrix\"], \"xaxis\": \"x\", \"y\": [39128.36974579912], \"yaxis\": \"y\"}, {\"alignmentgroup\": \"True\", \"hovertemplate\": \"Site_type=selectively_logged_B<br>Site=%{x}<br>Acoustic_Complexity_Index__main_value=%{y}<extra></extra>\", \"legendgroup\": \"selectively_logged_B\", \"marker\": {\"color\": \"lawngreen\"}, \"name\": \"selectively_logged_B\", \"offsetgroup\": \"selectively_logged_B\", \"orientation\": \"v\", \"showlegend\": true, \"textposition\": \"auto\", \"type\": \"bar\", \"x\": [\"E1 648\", \"E100 edge\", \"D100 641\"], \"xaxis\": \"x\", \"y\": [38629.77889942605, 38553.54981298348, 36926.11325720513], \"yaxis\": \"y\"}, {\"alignmentgroup\": \"True\", \"hovertemplate\": \"Site_type=old_growth_forest<br>Site=%{x}<br>Acoustic_Complexity_Index__main_value=%{y}<extra></extra>\", \"legendgroup\": \"old_growth_forest\", \"marker\": {\"color\": \"green\"}, \"name\": \"old_growth_forest\", \"offsetgroup\": \"old_growth_forest\", \"orientation\": \"v\", \"showlegend\": true, \"textposition\": \"auto\", \"type\": \"bar\", \"x\": [\"VJR 1\"], \"xaxis\": \"x\", \"y\": [36650.53327122272], \"yaxis\": \"y\"}],                        {\"barmode\": \"relative\", \"legend\": {\"title\": {\"text\": \"Site_type\"}, \"tracegroupgap\": 0}, \"margin\": {\"t\": 60}, \"template\": {\"data\": {\"bar\": [{\"error_x\": {\"color\": \"#2a3f5f\"}, \"error_y\": {\"color\": \"#2a3f5f\"}, \"marker\": {\"line\": {\"color\": \"#E5ECF6\", \"width\": 0.5}}, \"type\": \"bar\"}], \"barpolar\": [{\"marker\": {\"line\": {\"color\": \"#E5ECF6\", \"width\": 0.5}}, \"type\": \"barpolar\"}], \"carpet\": [{\"aaxis\": {\"endlinecolor\": \"#2a3f5f\", \"gridcolor\": \"white\", \"linecolor\": \"white\", \"minorgridcolor\": \"white\", \"startlinecolor\": \"#2a3f5f\"}, \"baxis\": {\"endlinecolor\": \"#2a3f5f\", \"gridcolor\": \"white\", \"linecolor\": \"white\", \"minorgridcolor\": \"white\", \"startlinecolor\": \"#2a3f5f\"}, \"type\": \"carpet\"}], \"choropleth\": [{\"colorbar\": {\"outlinewidth\": 0, \"ticks\": \"\"}, \"type\": \"choropleth\"}], \"contour\": [{\"colorbar\": {\"outlinewidth\": 0, \"ticks\": \"\"}, \"colorscale\": [[0.0, \"#0d0887\"], [0.1111111111111111, \"#46039f\"], [0.2222222222222222, \"#7201a8\"], [0.3333333333333333, \"#9c179e\"], [0.4444444444444444, \"#bd3786\"], [0.5555555555555556, \"#d8576b\"], [0.6666666666666666, \"#ed7953\"], [0.7777777777777778, \"#fb9f3a\"], [0.8888888888888888, \"#fdca26\"], [1.0, \"#f0f921\"]], \"type\": \"contour\"}], \"contourcarpet\": [{\"colorbar\": {\"outlinewidth\": 0, \"ticks\": \"\"}, \"type\": \"contourcarpet\"}], \"heatmap\": [{\"colorbar\": {\"outlinewidth\": 0, \"ticks\": \"\"}, \"colorscale\": [[0.0, \"#0d0887\"], [0.1111111111111111, \"#46039f\"], [0.2222222222222222, \"#7201a8\"], [0.3333333333333333, \"#9c179e\"], [0.4444444444444444, \"#bd3786\"], [0.5555555555555556, \"#d8576b\"], [0.6666666666666666, \"#ed7953\"], [0.7777777777777778, \"#fb9f3a\"], [0.8888888888888888, \"#fdca26\"], [1.0, \"#f0f921\"]], \"type\": \"heatmap\"}], \"heatmapgl\": [{\"colorbar\": {\"outlinewidth\": 0, \"ticks\": \"\"}, \"colorscale\": [[0.0, \"#0d0887\"], [0.1111111111111111, \"#46039f\"], [0.2222222222222222, \"#7201a8\"], [0.3333333333333333, \"#9c179e\"], [0.4444444444444444, \"#bd3786\"], [0.5555555555555556, \"#d8576b\"], [0.6666666666666666, \"#ed7953\"], [0.7777777777777778, \"#fb9f3a\"], [0.8888888888888888, \"#fdca26\"], [1.0, \"#f0f921\"]], \"type\": \"heatmapgl\"}], \"histogram\": [{\"marker\": {\"colorbar\": {\"outlinewidth\": 0, \"ticks\": \"\"}}, \"type\": \"histogram\"}], \"histogram2d\": [{\"colorbar\": {\"outlinewidth\": 0, \"ticks\": \"\"}, \"colorscale\": [[0.0, \"#0d0887\"], [0.1111111111111111, \"#46039f\"], [0.2222222222222222, \"#7201a8\"], [0.3333333333333333, \"#9c179e\"], [0.4444444444444444, \"#bd3786\"], [0.5555555555555556, \"#d8576b\"], [0.6666666666666666, \"#ed7953\"], [0.7777777777777778, \"#fb9f3a\"], [0.8888888888888888, \"#fdca26\"], [1.0, \"#f0f921\"]], \"type\": \"histogram2d\"}], \"histogram2dcontour\": [{\"colorbar\": {\"outlinewidth\": 0, \"ticks\": \"\"}, \"colorscale\": [[0.0, \"#0d0887\"], [0.1111111111111111, \"#46039f\"], [0.2222222222222222, \"#7201a8\"], [0.3333333333333333, \"#9c179e\"], [0.4444444444444444, \"#bd3786\"], [0.5555555555555556, \"#d8576b\"], [0.6666666666666666, \"#ed7953\"], [0.7777777777777778, \"#fb9f3a\"], [0.8888888888888888, \"#fdca26\"], [1.0, \"#f0f921\"]], \"type\": \"histogram2dcontour\"}], \"mesh3d\": [{\"colorbar\": {\"outlinewidth\": 0, \"ticks\": \"\"}, \"type\": \"mesh3d\"}], \"parcoords\": [{\"line\": {\"colorbar\": {\"outlinewidth\": 0, \"ticks\": \"\"}}, \"type\": \"parcoords\"}], \"pie\": [{\"automargin\": true, \"type\": \"pie\"}], \"scatter\": [{\"marker\": {\"colorbar\": {\"outlinewidth\": 0, \"ticks\": \"\"}}, \"type\": \"scatter\"}], \"scatter3d\": [{\"line\": {\"colorbar\": {\"outlinewidth\": 0, \"ticks\": \"\"}}, \"marker\": {\"colorbar\": {\"outlinewidth\": 0, \"ticks\": \"\"}}, \"type\": \"scatter3d\"}], \"scattercarpet\": [{\"marker\": {\"colorbar\": {\"outlinewidth\": 0, \"ticks\": \"\"}}, \"type\": \"scattercarpet\"}], \"scattergeo\": [{\"marker\": {\"colorbar\": {\"outlinewidth\": 0, \"ticks\": \"\"}}, \"type\": \"scattergeo\"}], \"scattergl\": [{\"marker\": {\"colorbar\": {\"outlinewidth\": 0, \"ticks\": \"\"}}, \"type\": \"scattergl\"}], \"scattermapbox\": [{\"marker\": {\"colorbar\": {\"outlinewidth\": 0, \"ticks\": \"\"}}, \"type\": \"scattermapbox\"}], \"scatterpolar\": [{\"marker\": {\"colorbar\": {\"outlinewidth\": 0, \"ticks\": \"\"}}, \"type\": \"scatterpolar\"}], \"scatterpolargl\": [{\"marker\": {\"colorbar\": {\"outlinewidth\": 0, \"ticks\": \"\"}}, \"type\": \"scatterpolargl\"}], \"scatterternary\": [{\"marker\": {\"colorbar\": {\"outlinewidth\": 0, \"ticks\": \"\"}}, \"type\": \"scatterternary\"}], \"surface\": [{\"colorbar\": {\"outlinewidth\": 0, \"ticks\": \"\"}, \"colorscale\": [[0.0, \"#0d0887\"], [0.1111111111111111, \"#46039f\"], [0.2222222222222222, \"#7201a8\"], [0.3333333333333333, \"#9c179e\"], [0.4444444444444444, \"#bd3786\"], [0.5555555555555556, \"#d8576b\"], [0.6666666666666666, \"#ed7953\"], [0.7777777777777778, \"#fb9f3a\"], [0.8888888888888888, \"#fdca26\"], [1.0, \"#f0f921\"]], \"type\": \"surface\"}], \"table\": [{\"cells\": {\"fill\": {\"color\": \"#EBF0F8\"}, \"line\": {\"color\": \"white\"}}, \"header\": {\"fill\": {\"color\": \"#C8D4E3\"}, \"line\": {\"color\": \"white\"}}, \"type\": \"table\"}]}, \"layout\": {\"annotationdefaults\": {\"arrowcolor\": \"#2a3f5f\", \"arrowhead\": 0, \"arrowwidth\": 1}, \"autotypenumbers\": \"strict\", \"coloraxis\": {\"colorbar\": {\"outlinewidth\": 0, \"ticks\": \"\"}}, \"colorscale\": {\"diverging\": [[0, \"#8e0152\"], [0.1, \"#c51b7d\"], [0.2, \"#de77ae\"], [0.3, \"#f1b6da\"], [0.4, \"#fde0ef\"], [0.5, \"#f7f7f7\"], [0.6, \"#e6f5d0\"], [0.7, \"#b8e186\"], [0.8, \"#7fbc41\"], [0.9, \"#4d9221\"], [1, \"#276419\"]], \"sequential\": [[0.0, \"#0d0887\"], [0.1111111111111111, \"#46039f\"], [0.2222222222222222, \"#7201a8\"], [0.3333333333333333, \"#9c179e\"], [0.4444444444444444, \"#bd3786\"], [0.5555555555555556, \"#d8576b\"], [0.6666666666666666, \"#ed7953\"], [0.7777777777777778, \"#fb9f3a\"], [0.8888888888888888, \"#fdca26\"], [1.0, \"#f0f921\"]], \"sequentialminus\": [[0.0, \"#0d0887\"], [0.1111111111111111, \"#46039f\"], [0.2222222222222222, \"#7201a8\"], [0.3333333333333333, \"#9c179e\"], [0.4444444444444444, \"#bd3786\"], [0.5555555555555556, \"#d8576b\"], [0.6666666666666666, \"#ed7953\"], [0.7777777777777778, \"#fb9f3a\"], [0.8888888888888888, \"#fdca26\"], [1.0, \"#f0f921\"]]}, \"colorway\": [\"#636efa\", \"#EF553B\", \"#00cc96\", \"#ab63fa\", \"#FFA15A\", \"#19d3f3\", \"#FF6692\", \"#B6E880\", \"#FF97FF\", \"#FECB52\"], \"font\": {\"color\": \"#2a3f5f\"}, \"geo\": {\"bgcolor\": \"white\", \"lakecolor\": \"white\", \"landcolor\": \"#E5ECF6\", \"showlakes\": true, \"showland\": true, \"subunitcolor\": \"white\"}, \"hoverlabel\": {\"align\": \"left\"}, \"hovermode\": \"closest\", \"mapbox\": {\"style\": \"light\"}, \"paper_bgcolor\": \"white\", \"plot_bgcolor\": \"#E5ECF6\", \"polar\": {\"angularaxis\": {\"gridcolor\": \"white\", \"linecolor\": \"white\", \"ticks\": \"\"}, \"bgcolor\": \"#E5ECF6\", \"radialaxis\": {\"gridcolor\": \"white\", \"linecolor\": \"white\", \"ticks\": \"\"}}, \"scene\": {\"xaxis\": {\"backgroundcolor\": \"#E5ECF6\", \"gridcolor\": \"white\", \"gridwidth\": 2, \"linecolor\": \"white\", \"showbackground\": true, \"ticks\": \"\", \"zerolinecolor\": \"white\"}, \"yaxis\": {\"backgroundcolor\": \"#E5ECF6\", \"gridcolor\": \"white\", \"gridwidth\": 2, \"linecolor\": \"white\", \"showbackground\": true, \"ticks\": \"\", \"zerolinecolor\": \"white\"}, \"zaxis\": {\"backgroundcolor\": \"#E5ECF6\", \"gridcolor\": \"white\", \"gridwidth\": 2, \"linecolor\": \"white\", \"showbackground\": true, \"ticks\": \"\", \"zerolinecolor\": \"white\"}}, \"shapedefaults\": {\"line\": {\"color\": \"#2a3f5f\"}}, \"ternary\": {\"aaxis\": {\"gridcolor\": \"white\", \"linecolor\": \"white\", \"ticks\": \"\"}, \"baxis\": {\"gridcolor\": \"white\", \"linecolor\": \"white\", \"ticks\": \"\"}, \"bgcolor\": \"#E5ECF6\", \"caxis\": {\"gridcolor\": \"white\", \"linecolor\": \"white\", \"ticks\": \"\"}}, \"title\": {\"x\": 0.05}, \"xaxis\": {\"automargin\": true, \"gridcolor\": \"white\", \"linecolor\": \"white\", \"ticks\": \"\", \"title\": {\"standoff\": 15}, \"zerolinecolor\": \"white\", \"zerolinewidth\": 2}, \"yaxis\": {\"automargin\": true, \"gridcolor\": \"white\", \"linecolor\": \"white\", \"ticks\": \"\", \"title\": {\"standoff\": 15}, \"zerolinecolor\": \"white\", \"zerolinewidth\": 2}}}, \"xaxis\": {\"anchor\": \"y\", \"categoryorder\": \"total descending\", \"domain\": [0.0, 1.0], \"title\": {\"text\": \"Site\"}}, \"yaxis\": {\"anchor\": \"x\", \"domain\": [0.0, 1.0], \"title\": {\"text\": \"Acoustic_Complexity_Index__main_value\"}}},                        {\"responsive\": true}                    ).then(function(){\n",
       "                            \n",
       "var gd = document.getElementById('956cedcb-f243-45bf-8436-6a3af583cd7f');\n",
       "var x = new MutationObserver(function (mutations, observer) {{\n",
       "        var display = window.getComputedStyle(gd).display;\n",
       "        if (!display || display === 'none') {{\n",
       "            console.log([gd, 'removed!']);\n",
       "            Plotly.purge(gd);\n",
       "            observer.disconnect();\n",
       "        }}\n",
       "}});\n",
       "\n",
       "// Listen for the removal of the full notebook cells\n",
       "var notebookContainer = gd.closest('#notebook-container');\n",
       "if (notebookContainer) {{\n",
       "    x.observe(notebookContainer, {childList: true});\n",
       "}}\n",
       "\n",
       "// Listen for the clearing of the current output cell\n",
       "var outputEl = gd.closest('.output');\n",
       "if (outputEl) {{\n",
       "    x.observe(outputEl, {childList: true});\n",
       "}}\n",
       "\n",
       "                        })                };                });            </script>        </div>"
      ]
     },
     "metadata": {},
     "output_type": "display_data"
    }
   ],
   "source": [
    "fig = px.bar(dfaxic6am, \n",
    "             x = 'Site', \n",
    "             y = 'Acoustic_Complexity_Index__main_value', \n",
    "             color = 'Site_type', \n",
    "             color_discrete_map = color_discrete_map,\n",
    "            )\n",
    "fig.update_layout(xaxis = {'categoryorder':'total descending'})\n",
    "\n",
    "fig.show()"
   ]
  },
  {
   "cell_type": "code",
   "execution_count": null,
   "id": "african-candy",
   "metadata": {},
   "outputs": [],
   "source": [
    "# this plot did not support my assumption, that old_growth_forests should have higher values\n",
    "# but as there was only one file in the 6am timeframe to check, i decided to extend the analysis"
   ]
  }
 ],
 "metadata": {
  "kernelspec": {
   "display_name": "Python 3",
   "language": "python",
   "name": "python3"
  },
  "language_info": {
   "codemirror_mode": {
    "name": "ipython",
    "version": 3
   },
   "file_extension": ".py",
   "mimetype": "text/x-python",
   "name": "python",
   "nbconvert_exporter": "python",
   "pygments_lexer": "ipython3",
   "version": "3.7.4"
  }
 },
 "nbformat": 4,
 "nbformat_minor": 5
}
