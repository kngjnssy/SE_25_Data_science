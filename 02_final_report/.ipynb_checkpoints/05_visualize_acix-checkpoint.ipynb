{
 "cells": [
  {
   "cell_type": "code",
   "execution_count": 17,
   "id": "oriental-lodge",
   "metadata": {},
   "outputs": [
    {
     "data": {
      "text/html": [
       "<div>\n",
       "<style scoped>\n",
       "    .dataframe tbody tr th:only-of-type {\n",
       "        vertical-align: middle;\n",
       "    }\n",
       "\n",
       "    .dataframe tbody tr th {\n",
       "        vertical-align: top;\n",
       "    }\n",
       "\n",
       "    .dataframe thead th {\n",
       "        text-align: right;\n",
       "    }\n",
       "</style>\n",
       "<table border=\"1\" class=\"dataframe\">\n",
       "  <thead>\n",
       "    <tr style=\"text-align: right;\">\n",
       "      <th></th>\n",
       "      <th>filename</th>\n",
       "      <th>Acoustic_Complexity_Index__main_value</th>\n",
       "      <th>Acoustic_Complexity_Index__min</th>\n",
       "      <th>Acoustic_Complexity_Index__max</th>\n",
       "      <th>Acoustic_Complexity_Index__mean</th>\n",
       "      <th>Acoustic_Complexity_Index__median</th>\n",
       "      <th>Acoustic_Complexity_Index__std</th>\n",
       "      <th>Acoustic_Complexity_Index__var</th>\n",
       "    </tr>\n",
       "  </thead>\n",
       "  <tbody>\n",
       "    <tr>\n",
       "      <th>count</th>\n",
       "      <td>37</td>\n",
       "      <td>37</td>\n",
       "      <td>37</td>\n",
       "      <td>37</td>\n",
       "      <td>37</td>\n",
       "      <td>37</td>\n",
       "      <td>37</td>\n",
       "      <td>37</td>\n",
       "    </tr>\n",
       "    <tr>\n",
       "      <th>unique</th>\n",
       "      <td>19</td>\n",
       "      <td>19</td>\n",
       "      <td>19</td>\n",
       "      <td>19</td>\n",
       "      <td>19</td>\n",
       "      <td>19</td>\n",
       "      <td>19</td>\n",
       "      <td>19</td>\n",
       "    </tr>\n",
       "    <tr>\n",
       "      <th>top</th>\n",
       "      <td>PC0001_0010</td>\n",
       "      <td>38553.54981298348</td>\n",
       "      <td>147.8116139711098</td>\n",
       "      <td>164.36636110709156</td>\n",
       "      <td>149.4578454650195</td>\n",
       "      <td>154.05625596316952</td>\n",
       "      <td>4.104270444499487</td>\n",
       "      <td>4.264025894148259</td>\n",
       "    </tr>\n",
       "    <tr>\n",
       "      <th>freq</th>\n",
       "      <td>2</td>\n",
       "      <td>2</td>\n",
       "      <td>2</td>\n",
       "      <td>2</td>\n",
       "      <td>2</td>\n",
       "      <td>2</td>\n",
       "      <td>2</td>\n",
       "      <td>2</td>\n",
       "    </tr>\n",
       "  </tbody>\n",
       "</table>\n",
       "</div>"
      ],
      "text/plain": [
       "           filename Acoustic_Complexity_Index__main_value  \\\n",
       "count            37                                    37   \n",
       "unique           19                                    19   \n",
       "top     PC0001_0010                     38553.54981298348   \n",
       "freq              2                                     2   \n",
       "\n",
       "       Acoustic_Complexity_Index__min Acoustic_Complexity_Index__max  \\\n",
       "count                              37                             37   \n",
       "unique                             19                             19   \n",
       "top                 147.8116139711098             164.36636110709156   \n",
       "freq                                2                              2   \n",
       "\n",
       "       Acoustic_Complexity_Index__mean Acoustic_Complexity_Index__median  \\\n",
       "count                               37                                37   \n",
       "unique                              19                                19   \n",
       "top                  149.4578454650195                154.05625596316952   \n",
       "freq                                 2                                 2   \n",
       "\n",
       "       Acoustic_Complexity_Index__std Acoustic_Complexity_Index__var  \n",
       "count                              37                             37  \n",
       "unique                             19                             19  \n",
       "top                 4.104270444499487              4.264025894148259  \n",
       "freq                                2                              2  "
      ]
     },
     "metadata": {},
     "output_type": "display_data"
    }
   ],
   "source": [
    "import pandas as pd\n",
    "import plotly.express as px\n",
    "\n",
    "%store -r df\n",
    "%store -r df6am\n",
    "\n",
    "list6am = df6am['Audio_file'].to_list()\n",
    "\n",
    "acix = pd.read_csv('Acoustic_Complexity_Index.csv')\n",
    "\n",
    "display(aci.describe())"
   ]
  },
  {
   "cell_type": "code",
   "execution_count": 18,
   "id": "authorized-object",
   "metadata": {},
   "outputs": [
    {
     "data": {
      "text/html": [
       "<div>\n",
       "<style scoped>\n",
       "    .dataframe tbody tr th:only-of-type {\n",
       "        vertical-align: middle;\n",
       "    }\n",
       "\n",
       "    .dataframe tbody tr th {\n",
       "        vertical-align: top;\n",
       "    }\n",
       "\n",
       "    .dataframe thead th {\n",
       "        text-align: right;\n",
       "    }\n",
       "</style>\n",
       "<table border=\"1\" class=\"dataframe\">\n",
       "  <thead>\n",
       "    <tr style=\"text-align: right;\">\n",
       "      <th></th>\n",
       "      <th>filename</th>\n",
       "      <th>Acoustic_Complexity_Index__main_value</th>\n",
       "      <th>Acoustic_Complexity_Index__min</th>\n",
       "      <th>Acoustic_Complexity_Index__max</th>\n",
       "      <th>Acoustic_Complexity_Index__mean</th>\n",
       "      <th>Acoustic_Complexity_Index__median</th>\n",
       "      <th>Acoustic_Complexity_Index__std</th>\n",
       "      <th>Acoustic_Complexity_Index__var</th>\n",
       "    </tr>\n",
       "  </thead>\n",
       "  <tbody>\n",
       "    <tr>\n",
       "      <th>0</th>\n",
       "      <td>PC0000_0176</td>\n",
       "      <td>39128.369746</td>\n",
       "      <td>149.247284</td>\n",
       "      <td>198.329026</td>\n",
       "      <td>158.414452</td>\n",
       "      <td>156.843596</td>\n",
       "      <td>7.536127</td>\n",
       "      <td>56.793212</td>\n",
       "    </tr>\n",
       "    <tr>\n",
       "      <th>1</th>\n",
       "      <td>PC0000_0177</td>\n",
       "      <td>37791.148398</td>\n",
       "      <td>150.740153</td>\n",
       "      <td>187.653143</td>\n",
       "      <td>155.519129</td>\n",
       "      <td>154.489769</td>\n",
       "      <td>4.104270</td>\n",
       "      <td>16.845036</td>\n",
       "    </tr>\n",
       "    <tr>\n",
       "      <th>2</th>\n",
       "      <td>PC0000_0181</td>\n",
       "      <td>38629.778899</td>\n",
       "      <td>149.557484</td>\n",
       "      <td>179.573339</td>\n",
       "      <td>157.031622</td>\n",
       "      <td>156.980394</td>\n",
       "      <td>4.321513</td>\n",
       "      <td>18.675471</td>\n",
       "    </tr>\n",
       "    <tr>\n",
       "      <th>3</th>\n",
       "      <td>PC0000_0187</td>\n",
       "      <td>38148.874924</td>\n",
       "      <td>148.940565</td>\n",
       "      <td>188.462532</td>\n",
       "      <td>152.595500</td>\n",
       "      <td>151.429510</td>\n",
       "      <td>4.299905</td>\n",
       "      <td>18.489180</td>\n",
       "    </tr>\n",
       "    <tr>\n",
       "      <th>4</th>\n",
       "      <td>PC0000_0189</td>\n",
       "      <td>36093.289825</td>\n",
       "      <td>140.742471</td>\n",
       "      <td>162.374767</td>\n",
       "      <td>149.145826</td>\n",
       "      <td>149.248136</td>\n",
       "      <td>2.064952</td>\n",
       "      <td>4.264026</td>\n",
       "    </tr>\n",
       "    <tr>\n",
       "      <th>5</th>\n",
       "      <td>PC0000_0249</td>\n",
       "      <td>36926.113257</td>\n",
       "      <td>143.129195</td>\n",
       "      <td>171.966339</td>\n",
       "      <td>150.106151</td>\n",
       "      <td>149.240098</td>\n",
       "      <td>4.040322</td>\n",
       "      <td>16.324202</td>\n",
       "    </tr>\n",
       "    <tr>\n",
       "      <th>6</th>\n",
       "      <td>PC0000_0250</td>\n",
       "      <td>38771.580641</td>\n",
       "      <td>145.331466</td>\n",
       "      <td>156.498406</td>\n",
       "      <td>149.121464</td>\n",
       "      <td>149.141034</td>\n",
       "      <td>1.518056</td>\n",
       "      <td>2.304494</td>\n",
       "    </tr>\n",
       "    <tr>\n",
       "      <th>7</th>\n",
       "      <td>PC0000_0276</td>\n",
       "      <td>41920.502596</td>\n",
       "      <td>154.393794</td>\n",
       "      <td>182.093857</td>\n",
       "      <td>161.232702</td>\n",
       "      <td>159.699022</td>\n",
       "      <td>5.942812</td>\n",
       "      <td>35.317016</td>\n",
       "    </tr>\n",
       "    <tr>\n",
       "      <th>8</th>\n",
       "      <td>PC0000_0279</td>\n",
       "      <td>38553.549813</td>\n",
       "      <td>148.878060</td>\n",
       "      <td>181.069336</td>\n",
       "      <td>159.312189</td>\n",
       "      <td>158.559128</td>\n",
       "      <td>4.447779</td>\n",
       "      <td>19.782735</td>\n",
       "    </tr>\n",
       "    <tr>\n",
       "      <th>9</th>\n",
       "      <td>PC0001_0005</td>\n",
       "      <td>36528.071831</td>\n",
       "      <td>148.804704</td>\n",
       "      <td>164.366361</td>\n",
       "      <td>150.321283</td>\n",
       "      <td>150.080381</td>\n",
       "      <td>1.601982</td>\n",
       "      <td>2.566347</td>\n",
       "    </tr>\n",
       "    <tr>\n",
       "      <th>10</th>\n",
       "      <td>PC0001_0010</td>\n",
       "      <td>40279.039111</td>\n",
       "      <td>154.312086</td>\n",
       "      <td>222.268439</td>\n",
       "      <td>165.078029</td>\n",
       "      <td>161.788929</td>\n",
       "      <td>9.208511</td>\n",
       "      <td>84.796682</td>\n",
       "    </tr>\n",
       "    <tr>\n",
       "      <th>11</th>\n",
       "      <td>AD0000_0045</td>\n",
       "      <td>40394.649499</td>\n",
       "      <td>151.689429</td>\n",
       "      <td>161.964559</td>\n",
       "      <td>154.178052</td>\n",
       "      <td>154.056256</td>\n",
       "      <td>1.395304</td>\n",
       "      <td>1.946872</td>\n",
       "    </tr>\n",
       "    <tr>\n",
       "      <th>12</th>\n",
       "      <td>PC0001_0073</td>\n",
       "      <td>37065.545675</td>\n",
       "      <td>143.797054</td>\n",
       "      <td>165.737485</td>\n",
       "      <td>149.457845</td>\n",
       "      <td>148.860498</td>\n",
       "      <td>2.943960</td>\n",
       "      <td>8.666898</td>\n",
       "    </tr>\n",
       "    <tr>\n",
       "      <th>13</th>\n",
       "      <td>PC0001_0091</td>\n",
       "      <td>36650.533271</td>\n",
       "      <td>144.564684</td>\n",
       "      <td>180.504330</td>\n",
       "      <td>150.825240</td>\n",
       "      <td>150.109707</td>\n",
       "      <td>3.686543</td>\n",
       "      <td>13.590602</td>\n",
       "    </tr>\n",
       "    <tr>\n",
       "      <th>14</th>\n",
       "      <td>PC0001_0093</td>\n",
       "      <td>36881.843773</td>\n",
       "      <td>142.933804</td>\n",
       "      <td>164.637704</td>\n",
       "      <td>151.777135</td>\n",
       "      <td>151.765991</td>\n",
       "      <td>2.833992</td>\n",
       "      <td>8.031509</td>\n",
       "    </tr>\n",
       "    <tr>\n",
       "      <th>15</th>\n",
       "      <td>PC0001_0828</td>\n",
       "      <td>38440.798606</td>\n",
       "      <td>150.518431</td>\n",
       "      <td>169.003644</td>\n",
       "      <td>155.630764</td>\n",
       "      <td>155.361837</td>\n",
       "      <td>2.530051</td>\n",
       "      <td>6.401157</td>\n",
       "    </tr>\n",
       "    <tr>\n",
       "      <th>16</th>\n",
       "      <td>PC0001_1178</td>\n",
       "      <td>36856.639627</td>\n",
       "      <td>147.811614</td>\n",
       "      <td>223.122210</td>\n",
       "      <td>151.673414</td>\n",
       "      <td>150.407042</td>\n",
       "      <td>7.164960</td>\n",
       "      <td>51.336653</td>\n",
       "    </tr>\n",
       "  </tbody>\n",
       "</table>\n",
       "</div>"
      ],
      "text/plain": [
       "       filename  Acoustic_Complexity_Index__main_value  \\\n",
       "0   PC0000_0176                           39128.369746   \n",
       "1   PC0000_0177                           37791.148398   \n",
       "2   PC0000_0181                           38629.778899   \n",
       "3   PC0000_0187                           38148.874924   \n",
       "4   PC0000_0189                           36093.289825   \n",
       "5   PC0000_0249                           36926.113257   \n",
       "6   PC0000_0250                           38771.580641   \n",
       "7   PC0000_0276                           41920.502596   \n",
       "8   PC0000_0279                           38553.549813   \n",
       "9   PC0001_0005                           36528.071831   \n",
       "10  PC0001_0010                           40279.039111   \n",
       "11  AD0000_0045                           40394.649499   \n",
       "12  PC0001_0073                           37065.545675   \n",
       "13  PC0001_0091                           36650.533271   \n",
       "14  PC0001_0093                           36881.843773   \n",
       "15  PC0001_0828                           38440.798606   \n",
       "16  PC0001_1178                           36856.639627   \n",
       "\n",
       "    Acoustic_Complexity_Index__min  Acoustic_Complexity_Index__max  \\\n",
       "0                       149.247284                      198.329026   \n",
       "1                       150.740153                      187.653143   \n",
       "2                       149.557484                      179.573339   \n",
       "3                       148.940565                      188.462532   \n",
       "4                       140.742471                      162.374767   \n",
       "5                       143.129195                      171.966339   \n",
       "6                       145.331466                      156.498406   \n",
       "7                       154.393794                      182.093857   \n",
       "8                       148.878060                      181.069336   \n",
       "9                       148.804704                      164.366361   \n",
       "10                      154.312086                      222.268439   \n",
       "11                      151.689429                      161.964559   \n",
       "12                      143.797054                      165.737485   \n",
       "13                      144.564684                      180.504330   \n",
       "14                      142.933804                      164.637704   \n",
       "15                      150.518431                      169.003644   \n",
       "16                      147.811614                      223.122210   \n",
       "\n",
       "    Acoustic_Complexity_Index__mean  Acoustic_Complexity_Index__median  \\\n",
       "0                        158.414452                         156.843596   \n",
       "1                        155.519129                         154.489769   \n",
       "2                        157.031622                         156.980394   \n",
       "3                        152.595500                         151.429510   \n",
       "4                        149.145826                         149.248136   \n",
       "5                        150.106151                         149.240098   \n",
       "6                        149.121464                         149.141034   \n",
       "7                        161.232702                         159.699022   \n",
       "8                        159.312189                         158.559128   \n",
       "9                        150.321283                         150.080381   \n",
       "10                       165.078029                         161.788929   \n",
       "11                       154.178052                         154.056256   \n",
       "12                       149.457845                         148.860498   \n",
       "13                       150.825240                         150.109707   \n",
       "14                       151.777135                         151.765991   \n",
       "15                       155.630764                         155.361837   \n",
       "16                       151.673414                         150.407042   \n",
       "\n",
       "    Acoustic_Complexity_Index__std  Acoustic_Complexity_Index__var  \n",
       "0                         7.536127                       56.793212  \n",
       "1                         4.104270                       16.845036  \n",
       "2                         4.321513                       18.675471  \n",
       "3                         4.299905                       18.489180  \n",
       "4                         2.064952                        4.264026  \n",
       "5                         4.040322                       16.324202  \n",
       "6                         1.518056                        2.304494  \n",
       "7                         5.942812                       35.317016  \n",
       "8                         4.447779                       19.782735  \n",
       "9                         1.601982                        2.566347  \n",
       "10                        9.208511                       84.796682  \n",
       "11                        1.395304                        1.946872  \n",
       "12                        2.943960                        8.666898  \n",
       "13                        3.686543                       13.590602  \n",
       "14                        2.833992                        8.031509  \n",
       "15                        2.530051                        6.401157  \n",
       "16                        7.164960                       51.336653  "
      ]
     },
     "metadata": {},
     "output_type": "display_data"
    },
    {
     "data": {
      "text/plain": [
       "['PC0000_0176',\n",
       " 'PC0000_0181',\n",
       " 'PC0000_0187',\n",
       " 'PC0000_0249',\n",
       " 'PC0000_0279',\n",
       " 'PC0001_0010',\n",
       " 'PC0001_0091']"
      ]
     },
     "metadata": {},
     "output_type": "display_data"
    }
   ],
   "source": [
    "acix['filename'] = acix['filename'].str.replace('.wav', '')\n",
    "display(acix)\n",
    "display(list6am)"
   ]
  },
  {
   "cell_type": "code",
   "execution_count": 19,
   "id": "contained-tampa",
   "metadata": {},
   "outputs": [
    {
     "data": {
      "text/html": [
       "<div>\n",
       "<style scoped>\n",
       "    .dataframe tbody tr th:only-of-type {\n",
       "        vertical-align: middle;\n",
       "    }\n",
       "\n",
       "    .dataframe tbody tr th {\n",
       "        vertical-align: top;\n",
       "    }\n",
       "\n",
       "    .dataframe thead th {\n",
       "        text-align: right;\n",
       "    }\n",
       "</style>\n",
       "<table border=\"1\" class=\"dataframe\">\n",
       "  <thead>\n",
       "    <tr style=\"text-align: right;\">\n",
       "      <th></th>\n",
       "      <th>field_name</th>\n",
       "      <th>Point_count_ID</th>\n",
       "      <th>filename</th>\n",
       "      <th>Site</th>\n",
       "      <th>Weather</th>\n",
       "      <th>Site_type</th>\n",
       "      <th>year</th>\n",
       "      <th>month</th>\n",
       "      <th>day</th>\n",
       "      <th>time</th>\n",
       "      <th>am/pm</th>\n",
       "      <th>date</th>\n",
       "      <th>count</th>\n",
       "      <th>Acoustic_Complexity_Index__main_value</th>\n",
       "      <th>Acoustic_Complexity_Index__min</th>\n",
       "      <th>Acoustic_Complexity_Index__max</th>\n",
       "      <th>Acoustic_Complexity_Index__mean</th>\n",
       "      <th>Acoustic_Complexity_Index__median</th>\n",
       "      <th>Acoustic_Complexity_Index__std</th>\n",
       "      <th>Acoustic_Complexity_Index__var</th>\n",
       "    </tr>\n",
       "  </thead>\n",
       "  <tbody>\n",
       "    <tr>\n",
       "      <th>0</th>\n",
       "      <td>171</td>\n",
       "      <td>18_04_26_4</td>\n",
       "      <td>PC0000_0176</td>\n",
       "      <td>D Matrix</td>\n",
       "      <td>dawn</td>\n",
       "      <td>salvage_logged_forest</td>\n",
       "      <td>2018</td>\n",
       "      <td>4</td>\n",
       "      <td>26</td>\n",
       "      <td>06:00:00</td>\n",
       "      <td>AM</td>\n",
       "      <td>2018-4-26</td>\n",
       "      <td>2</td>\n",
       "      <td>39128.369746</td>\n",
       "      <td>149.247284</td>\n",
       "      <td>198.329026</td>\n",
       "      <td>158.414452</td>\n",
       "      <td>156.843596</td>\n",
       "      <td>7.536127</td>\n",
       "      <td>56.793212</td>\n",
       "    </tr>\n",
       "    <tr>\n",
       "      <th>1</th>\n",
       "      <td>172</td>\n",
       "      <td>18_04_26_5</td>\n",
       "      <td>PC0000_0177</td>\n",
       "      <td>D Matrix</td>\n",
       "      <td>clouded</td>\n",
       "      <td>salvage_logged_forest</td>\n",
       "      <td>2018</td>\n",
       "      <td>4</td>\n",
       "      <td>26</td>\n",
       "      <td>07:00:00</td>\n",
       "      <td>AM</td>\n",
       "      <td>2018-4-26</td>\n",
       "      <td>2</td>\n",
       "      <td>37791.148398</td>\n",
       "      <td>150.740153</td>\n",
       "      <td>187.653143</td>\n",
       "      <td>155.519129</td>\n",
       "      <td>154.489769</td>\n",
       "      <td>4.104270</td>\n",
       "      <td>16.845036</td>\n",
       "    </tr>\n",
       "    <tr>\n",
       "      <th>2</th>\n",
       "      <td>176</td>\n",
       "      <td>18_04_27_3</td>\n",
       "      <td>PC0000_0181</td>\n",
       "      <td>E1 648</td>\n",
       "      <td>dawn</td>\n",
       "      <td>selectively_logged_B</td>\n",
       "      <td>2018</td>\n",
       "      <td>4</td>\n",
       "      <td>27</td>\n",
       "      <td>06:00:00</td>\n",
       "      <td>AM</td>\n",
       "      <td>2018-4-27</td>\n",
       "      <td>1</td>\n",
       "      <td>38629.778899</td>\n",
       "      <td>149.557484</td>\n",
       "      <td>179.573339</td>\n",
       "      <td>157.031622</td>\n",
       "      <td>156.980394</td>\n",
       "      <td>4.321513</td>\n",
       "      <td>18.675471</td>\n",
       "    </tr>\n",
       "    <tr>\n",
       "      <th>3</th>\n",
       "      <td>182</td>\n",
       "      <td>18_04_28_4</td>\n",
       "      <td>PC0000_0187</td>\n",
       "      <td>B10</td>\n",
       "      <td>dawn</td>\n",
       "      <td>selectively_logged_A</td>\n",
       "      <td>2018</td>\n",
       "      <td>4</td>\n",
       "      <td>28</td>\n",
       "      <td>06:00:00</td>\n",
       "      <td>AM</td>\n",
       "      <td>2018-4-28</td>\n",
       "      <td>2</td>\n",
       "      <td>38148.874924</td>\n",
       "      <td>148.940565</td>\n",
       "      <td>188.462532</td>\n",
       "      <td>152.595500</td>\n",
       "      <td>151.429510</td>\n",
       "      <td>4.299905</td>\n",
       "      <td>18.489180</td>\n",
       "    </tr>\n",
       "    <tr>\n",
       "      <th>4</th>\n",
       "      <td>184</td>\n",
       "      <td>18_04_28_6</td>\n",
       "      <td>PC0000_0189</td>\n",
       "      <td>B10</td>\n",
       "      <td>sun</td>\n",
       "      <td>selectively_logged_A</td>\n",
       "      <td>2018</td>\n",
       "      <td>4</td>\n",
       "      <td>28</td>\n",
       "      <td>08:00:00</td>\n",
       "      <td>AM</td>\n",
       "      <td>2018-4-28</td>\n",
       "      <td>2</td>\n",
       "      <td>36093.289825</td>\n",
       "      <td>140.742471</td>\n",
       "      <td>162.374767</td>\n",
       "      <td>149.145826</td>\n",
       "      <td>149.248136</td>\n",
       "      <td>2.064952</td>\n",
       "      <td>4.264026</td>\n",
       "    </tr>\n",
       "    <tr>\n",
       "      <th>5</th>\n",
       "      <td>248</td>\n",
       "      <td>18_05_24_4</td>\n",
       "      <td>PC0000_0249</td>\n",
       "      <td>D100 641</td>\n",
       "      <td>dusk</td>\n",
       "      <td>selectively_logged_B</td>\n",
       "      <td>2018</td>\n",
       "      <td>5</td>\n",
       "      <td>24</td>\n",
       "      <td>06:00:00</td>\n",
       "      <td>AM</td>\n",
       "      <td>2018-5-24</td>\n",
       "      <td>2</td>\n",
       "      <td>36926.113257</td>\n",
       "      <td>143.129195</td>\n",
       "      <td>171.966339</td>\n",
       "      <td>150.106151</td>\n",
       "      <td>149.240098</td>\n",
       "      <td>4.040322</td>\n",
       "      <td>16.324202</td>\n",
       "    </tr>\n",
       "    <tr>\n",
       "      <th>6</th>\n",
       "      <td>249</td>\n",
       "      <td>18_05_24_5</td>\n",
       "      <td>PC0000_0250</td>\n",
       "      <td>D100 641</td>\n",
       "      <td>sunny</td>\n",
       "      <td>selectively_logged_B</td>\n",
       "      <td>2018</td>\n",
       "      <td>5</td>\n",
       "      <td>24</td>\n",
       "      <td>07:00:00</td>\n",
       "      <td>AM</td>\n",
       "      <td>2018-5-24</td>\n",
       "      <td>2</td>\n",
       "      <td>38771.580641</td>\n",
       "      <td>145.331466</td>\n",
       "      <td>156.498406</td>\n",
       "      <td>149.121464</td>\n",
       "      <td>149.141034</td>\n",
       "      <td>1.518056</td>\n",
       "      <td>2.304494</td>\n",
       "    </tr>\n",
       "    <tr>\n",
       "      <th>7</th>\n",
       "      <td>275</td>\n",
       "      <td>18_06_02_6</td>\n",
       "      <td>PC0000_0276</td>\n",
       "      <td>C Matrix</td>\n",
       "      <td>after rain</td>\n",
       "      <td>salvage_logged_forest</td>\n",
       "      <td>2018</td>\n",
       "      <td>6</td>\n",
       "      <td>2</td>\n",
       "      <td>08:00:00</td>\n",
       "      <td>AM</td>\n",
       "      <td>2018-6-2</td>\n",
       "      <td>1</td>\n",
       "      <td>41920.502596</td>\n",
       "      <td>154.393794</td>\n",
       "      <td>182.093857</td>\n",
       "      <td>161.232702</td>\n",
       "      <td>159.699022</td>\n",
       "      <td>5.942812</td>\n",
       "      <td>35.317016</td>\n",
       "    </tr>\n",
       "    <tr>\n",
       "      <th>8</th>\n",
       "      <td>278</td>\n",
       "      <td>18_06_03_3</td>\n",
       "      <td>PC0000_0279</td>\n",
       "      <td>E100 edge</td>\n",
       "      <td>after rain</td>\n",
       "      <td>selectively_logged_B</td>\n",
       "      <td>2018</td>\n",
       "      <td>6</td>\n",
       "      <td>3</td>\n",
       "      <td>06:00:00</td>\n",
       "      <td>AM</td>\n",
       "      <td>2018-6-3</td>\n",
       "      <td>1</td>\n",
       "      <td>38553.549813</td>\n",
       "      <td>148.878060</td>\n",
       "      <td>181.069336</td>\n",
       "      <td>159.312189</td>\n",
       "      <td>158.559128</td>\n",
       "      <td>4.447779</td>\n",
       "      <td>19.782735</td>\n",
       "    </tr>\n",
       "    <tr>\n",
       "      <th>9</th>\n",
       "      <td>286</td>\n",
       "      <td>18_06_05_5</td>\n",
       "      <td>PC0001_0005</td>\n",
       "      <td>Riparian 2</td>\n",
       "      <td>clouded</td>\n",
       "      <td>old_growth_forest</td>\n",
       "      <td>2018</td>\n",
       "      <td>6</td>\n",
       "      <td>5</td>\n",
       "      <td>08:00:00</td>\n",
       "      <td>AM</td>\n",
       "      <td>2018-6-5</td>\n",
       "      <td>1</td>\n",
       "      <td>36528.071831</td>\n",
       "      <td>148.804704</td>\n",
       "      <td>164.366361</td>\n",
       "      <td>150.321283</td>\n",
       "      <td>150.080381</td>\n",
       "      <td>1.601982</td>\n",
       "      <td>2.566347</td>\n",
       "    </tr>\n",
       "    <tr>\n",
       "      <th>10</th>\n",
       "      <td>291</td>\n",
       "      <td>18_06_07_JA_4</td>\n",
       "      <td>PC0001_0010</td>\n",
       "      <td>C10 621</td>\n",
       "      <td>clouded</td>\n",
       "      <td>selectively_logged_A</td>\n",
       "      <td>2018</td>\n",
       "      <td>6</td>\n",
       "      <td>7</td>\n",
       "      <td>06:00:00</td>\n",
       "      <td>AM</td>\n",
       "      <td>2018-6-7</td>\n",
       "      <td>2</td>\n",
       "      <td>40279.039111</td>\n",
       "      <td>154.312086</td>\n",
       "      <td>222.268439</td>\n",
       "      <td>165.078029</td>\n",
       "      <td>161.788929</td>\n",
       "      <td>9.208511</td>\n",
       "      <td>84.796682</td>\n",
       "    </tr>\n",
       "    <tr>\n",
       "      <th>11</th>\n",
       "      <td>299</td>\n",
       "      <td>18_06_07_A_5</td>\n",
       "      <td>AD0000_0045</td>\n",
       "      <td>E1 648</td>\n",
       "      <td>sun</td>\n",
       "      <td>selectively_logged_B</td>\n",
       "      <td>2018</td>\n",
       "      <td>6</td>\n",
       "      <td>7</td>\n",
       "      <td>07:00:00</td>\n",
       "      <td>AM</td>\n",
       "      <td>2018-6-7</td>\n",
       "      <td>2</td>\n",
       "      <td>40394.649499</td>\n",
       "      <td>151.689429</td>\n",
       "      <td>161.964559</td>\n",
       "      <td>154.178052</td>\n",
       "      <td>154.056256</td>\n",
       "      <td>1.395304</td>\n",
       "      <td>1.946872</td>\n",
       "    </tr>\n",
       "    <tr>\n",
       "      <th>12</th>\n",
       "      <td>363</td>\n",
       "      <td>18_06_26_2</td>\n",
       "      <td>PC0001_0073</td>\n",
       "      <td>B10</td>\n",
       "      <td>clouded</td>\n",
       "      <td>selectively_logged_A</td>\n",
       "      <td>2018</td>\n",
       "      <td>6</td>\n",
       "      <td>26</td>\n",
       "      <td>10:00:00</td>\n",
       "      <td>AM</td>\n",
       "      <td>2018-6-26</td>\n",
       "      <td>1</td>\n",
       "      <td>37065.545675</td>\n",
       "      <td>143.797054</td>\n",
       "      <td>165.737485</td>\n",
       "      <td>149.457845</td>\n",
       "      <td>148.860498</td>\n",
       "      <td>2.943960</td>\n",
       "      <td>8.666898</td>\n",
       "    </tr>\n",
       "    <tr>\n",
       "      <th>13</th>\n",
       "      <td>381</td>\n",
       "      <td>18_06_30_2</td>\n",
       "      <td>PC0001_0091</td>\n",
       "      <td>VJR 1</td>\n",
       "      <td>dusk</td>\n",
       "      <td>old_growth_forest</td>\n",
       "      <td>2018</td>\n",
       "      <td>6</td>\n",
       "      <td>30</td>\n",
       "      <td>06:00:00</td>\n",
       "      <td>AM</td>\n",
       "      <td>2018-6-30</td>\n",
       "      <td>2</td>\n",
       "      <td>36650.533271</td>\n",
       "      <td>144.564684</td>\n",
       "      <td>180.504330</td>\n",
       "      <td>150.825240</td>\n",
       "      <td>150.109707</td>\n",
       "      <td>3.686543</td>\n",
       "      <td>13.590602</td>\n",
       "    </tr>\n",
       "    <tr>\n",
       "      <th>14</th>\n",
       "      <td>383</td>\n",
       "      <td>18_06_30_4</td>\n",
       "      <td>PC0001_0093</td>\n",
       "      <td>VJR 1</td>\n",
       "      <td>clouded</td>\n",
       "      <td>old_growth_forest</td>\n",
       "      <td>2018</td>\n",
       "      <td>6</td>\n",
       "      <td>30</td>\n",
       "      <td>08:00:00</td>\n",
       "      <td>AM</td>\n",
       "      <td>2018-6-30</td>\n",
       "      <td>2</td>\n",
       "      <td>36881.843773</td>\n",
       "      <td>142.933804</td>\n",
       "      <td>164.637704</td>\n",
       "      <td>151.777135</td>\n",
       "      <td>151.765991</td>\n",
       "      <td>2.833992</td>\n",
       "      <td>8.031509</td>\n",
       "    </tr>\n",
       "    <tr>\n",
       "      <th>15</th>\n",
       "      <td>1042</td>\n",
       "      <td>19_09_07_03</td>\n",
       "      <td>PC0001_0828</td>\n",
       "      <td>C10 621</td>\n",
       "      <td>sun</td>\n",
       "      <td>selectively_logged_A</td>\n",
       "      <td>2019</td>\n",
       "      <td>9</td>\n",
       "      <td>7</td>\n",
       "      <td>08:00:00</td>\n",
       "      <td>AM</td>\n",
       "      <td>2019-9-7</td>\n",
       "      <td>1</td>\n",
       "      <td>38440.798606</td>\n",
       "      <td>150.518431</td>\n",
       "      <td>169.003644</td>\n",
       "      <td>155.630764</td>\n",
       "      <td>155.361837</td>\n",
       "      <td>2.530051</td>\n",
       "      <td>6.401157</td>\n",
       "    </tr>\n",
       "    <tr>\n",
       "      <th>16</th>\n",
       "      <td>1392</td>\n",
       "      <td>19_11_27_02</td>\n",
       "      <td>PC0001_1178</td>\n",
       "      <td>VJR 2</td>\n",
       "      <td>sun</td>\n",
       "      <td>old_growth_forest</td>\n",
       "      <td>2019</td>\n",
       "      <td>11</td>\n",
       "      <td>27</td>\n",
       "      <td>07:00:00</td>\n",
       "      <td>AM</td>\n",
       "      <td>2019-11-27</td>\n",
       "      <td>1</td>\n",
       "      <td>36856.639627</td>\n",
       "      <td>147.811614</td>\n",
       "      <td>223.122210</td>\n",
       "      <td>151.673414</td>\n",
       "      <td>150.407042</td>\n",
       "      <td>7.164960</td>\n",
       "      <td>51.336653</td>\n",
       "    </tr>\n",
       "  </tbody>\n",
       "</table>\n",
       "</div>"
      ],
      "text/plain": [
       "   field_name Point_count_ID     filename        Site     Weather  \\\n",
       "0         171     18_04_26_4  PC0000_0176    D Matrix        dawn   \n",
       "1         172     18_04_26_5  PC0000_0177    D Matrix     clouded   \n",
       "2         176     18_04_27_3  PC0000_0181      E1 648        dawn   \n",
       "3         182     18_04_28_4  PC0000_0187         B10        dawn   \n",
       "4         184     18_04_28_6  PC0000_0189         B10         sun   \n",
       "5         248     18_05_24_4  PC0000_0249    D100 641        dusk   \n",
       "6         249     18_05_24_5  PC0000_0250    D100 641       sunny   \n",
       "7         275     18_06_02_6  PC0000_0276    C Matrix  after rain   \n",
       "8         278     18_06_03_3  PC0000_0279   E100 edge  after rain   \n",
       "9         286     18_06_05_5  PC0001_0005  Riparian 2     clouded   \n",
       "10        291  18_06_07_JA_4  PC0001_0010     C10 621     clouded   \n",
       "11        299   18_06_07_A_5  AD0000_0045      E1 648         sun   \n",
       "12        363     18_06_26_2  PC0001_0073         B10     clouded   \n",
       "13        381     18_06_30_2  PC0001_0091       VJR 1        dusk   \n",
       "14        383     18_06_30_4  PC0001_0093       VJR 1     clouded   \n",
       "15       1042    19_09_07_03  PC0001_0828     C10 621         sun   \n",
       "16       1392    19_11_27_02  PC0001_1178       VJR 2         sun   \n",
       "\n",
       "                Site_type  year month day      time am/pm        date  count  \\\n",
       "0   salvage_logged_forest  2018     4  26  06:00:00    AM   2018-4-26      2   \n",
       "1   salvage_logged_forest  2018     4  26  07:00:00    AM   2018-4-26      2   \n",
       "2    selectively_logged_B  2018     4  27  06:00:00    AM   2018-4-27      1   \n",
       "3    selectively_logged_A  2018     4  28  06:00:00    AM   2018-4-28      2   \n",
       "4    selectively_logged_A  2018     4  28  08:00:00    AM   2018-4-28      2   \n",
       "5    selectively_logged_B  2018     5  24  06:00:00    AM   2018-5-24      2   \n",
       "6    selectively_logged_B  2018     5  24  07:00:00    AM   2018-5-24      2   \n",
       "7   salvage_logged_forest  2018     6   2  08:00:00    AM    2018-6-2      1   \n",
       "8    selectively_logged_B  2018     6   3  06:00:00    AM    2018-6-3      1   \n",
       "9       old_growth_forest  2018     6   5  08:00:00    AM    2018-6-5      1   \n",
       "10   selectively_logged_A  2018     6   7  06:00:00    AM    2018-6-7      2   \n",
       "11   selectively_logged_B  2018     6   7  07:00:00    AM    2018-6-7      2   \n",
       "12   selectively_logged_A  2018     6  26  10:00:00    AM   2018-6-26      1   \n",
       "13      old_growth_forest  2018     6  30  06:00:00    AM   2018-6-30      2   \n",
       "14      old_growth_forest  2018     6  30  08:00:00    AM   2018-6-30      2   \n",
       "15   selectively_logged_A  2019     9   7  08:00:00    AM    2019-9-7      1   \n",
       "16      old_growth_forest  2019    11  27  07:00:00    AM  2019-11-27      1   \n",
       "\n",
       "    Acoustic_Complexity_Index__main_value  Acoustic_Complexity_Index__min  \\\n",
       "0                            39128.369746                      149.247284   \n",
       "1                            37791.148398                      150.740153   \n",
       "2                            38629.778899                      149.557484   \n",
       "3                            38148.874924                      148.940565   \n",
       "4                            36093.289825                      140.742471   \n",
       "5                            36926.113257                      143.129195   \n",
       "6                            38771.580641                      145.331466   \n",
       "7                            41920.502596                      154.393794   \n",
       "8                            38553.549813                      148.878060   \n",
       "9                            36528.071831                      148.804704   \n",
       "10                           40279.039111                      154.312086   \n",
       "11                           40394.649499                      151.689429   \n",
       "12                           37065.545675                      143.797054   \n",
       "13                           36650.533271                      144.564684   \n",
       "14                           36881.843773                      142.933804   \n",
       "15                           38440.798606                      150.518431   \n",
       "16                           36856.639627                      147.811614   \n",
       "\n",
       "    Acoustic_Complexity_Index__max  Acoustic_Complexity_Index__mean  \\\n",
       "0                       198.329026                       158.414452   \n",
       "1                       187.653143                       155.519129   \n",
       "2                       179.573339                       157.031622   \n",
       "3                       188.462532                       152.595500   \n",
       "4                       162.374767                       149.145826   \n",
       "5                       171.966339                       150.106151   \n",
       "6                       156.498406                       149.121464   \n",
       "7                       182.093857                       161.232702   \n",
       "8                       181.069336                       159.312189   \n",
       "9                       164.366361                       150.321283   \n",
       "10                      222.268439                       165.078029   \n",
       "11                      161.964559                       154.178052   \n",
       "12                      165.737485                       149.457845   \n",
       "13                      180.504330                       150.825240   \n",
       "14                      164.637704                       151.777135   \n",
       "15                      169.003644                       155.630764   \n",
       "16                      223.122210                       151.673414   \n",
       "\n",
       "    Acoustic_Complexity_Index__median  Acoustic_Complexity_Index__std  \\\n",
       "0                          156.843596                        7.536127   \n",
       "1                          154.489769                        4.104270   \n",
       "2                          156.980394                        4.321513   \n",
       "3                          151.429510                        4.299905   \n",
       "4                          149.248136                        2.064952   \n",
       "5                          149.240098                        4.040322   \n",
       "6                          149.141034                        1.518056   \n",
       "7                          159.699022                        5.942812   \n",
       "8                          158.559128                        4.447779   \n",
       "9                          150.080381                        1.601982   \n",
       "10                         161.788929                        9.208511   \n",
       "11                         154.056256                        1.395304   \n",
       "12                         148.860498                        2.943960   \n",
       "13                         150.109707                        3.686543   \n",
       "14                         151.765991                        2.833992   \n",
       "15                         155.361837                        2.530051   \n",
       "16                         150.407042                        7.164960   \n",
       "\n",
       "    Acoustic_Complexity_Index__var  \n",
       "0                        56.793212  \n",
       "1                        16.845036  \n",
       "2                        18.675471  \n",
       "3                        18.489180  \n",
       "4                         4.264026  \n",
       "5                        16.324202  \n",
       "6                         2.304494  \n",
       "7                        35.317016  \n",
       "8                        19.782735  \n",
       "9                         2.566347  \n",
       "10                       84.796682  \n",
       "11                        1.946872  \n",
       "12                        8.666898  \n",
       "13                       13.590602  \n",
       "14                        8.031509  \n",
       "15                        6.401157  \n",
       "16                       51.336653  "
      ]
     },
     "execution_count": 19,
     "metadata": {},
     "output_type": "execute_result"
    }
   ],
   "source": [
    "df.columns = ['field_name', 'Point_count_ID', 'filename', 'Site', 'Weather',\n",
    "       'Site_type', 'year', 'month', 'day', 'time', 'am/pm', 'date', 'count']\n",
    "dfmerged = pd.merge(df, acix, on = 'filename')\n",
    "dfmerged"
   ]
  },
  {
   "cell_type": "code",
   "execution_count": 31,
   "id": "peaceful-warehouse",
   "metadata": {},
   "outputs": [
    {
     "data": {
      "text/html": [
       "<div>\n",
       "<style scoped>\n",
       "    .dataframe tbody tr th:only-of-type {\n",
       "        vertical-align: middle;\n",
       "    }\n",
       "\n",
       "    .dataframe tbody tr th {\n",
       "        vertical-align: top;\n",
       "    }\n",
       "\n",
       "    .dataframe thead th {\n",
       "        text-align: right;\n",
       "    }\n",
       "</style>\n",
       "<table border=\"1\" class=\"dataframe\">\n",
       "  <thead>\n",
       "    <tr style=\"text-align: right;\">\n",
       "      <th></th>\n",
       "      <th>index</th>\n",
       "      <th>field_name</th>\n",
       "      <th>Point_count_ID</th>\n",
       "      <th>filename</th>\n",
       "      <th>Site</th>\n",
       "      <th>Weather</th>\n",
       "      <th>Site_type</th>\n",
       "      <th>year</th>\n",
       "      <th>month</th>\n",
       "      <th>day</th>\n",
       "      <th>...</th>\n",
       "      <th>am/pm</th>\n",
       "      <th>date</th>\n",
       "      <th>count</th>\n",
       "      <th>Acoustic_Complexity_Index__main_value</th>\n",
       "      <th>Acoustic_Complexity_Index__min</th>\n",
       "      <th>Acoustic_Complexity_Index__max</th>\n",
       "      <th>Acoustic_Complexity_Index__mean</th>\n",
       "      <th>Acoustic_Complexity_Index__median</th>\n",
       "      <th>Acoustic_Complexity_Index__std</th>\n",
       "      <th>Acoustic_Complexity_Index__var</th>\n",
       "    </tr>\n",
       "  </thead>\n",
       "  <tbody>\n",
       "    <tr>\n",
       "      <th>5</th>\n",
       "      <td>10</td>\n",
       "      <td>291</td>\n",
       "      <td>18_06_07_JA_4</td>\n",
       "      <td>PC0001_0010</td>\n",
       "      <td>C10 621</td>\n",
       "      <td>clouded</td>\n",
       "      <td>selectively_logged_A</td>\n",
       "      <td>2018</td>\n",
       "      <td>6</td>\n",
       "      <td>7</td>\n",
       "      <td>...</td>\n",
       "      <td>AM</td>\n",
       "      <td>2018-6-7</td>\n",
       "      <td>2</td>\n",
       "      <td>40279.039111</td>\n",
       "      <td>154.312086</td>\n",
       "      <td>222.268439</td>\n",
       "      <td>165.078029</td>\n",
       "      <td>161.788929</td>\n",
       "      <td>9.208511</td>\n",
       "      <td>84.796682</td>\n",
       "    </tr>\n",
       "    <tr>\n",
       "      <th>0</th>\n",
       "      <td>0</td>\n",
       "      <td>171</td>\n",
       "      <td>18_04_26_4</td>\n",
       "      <td>PC0000_0176</td>\n",
       "      <td>D Matrix</td>\n",
       "      <td>dawn</td>\n",
       "      <td>salvage_logged_forest</td>\n",
       "      <td>2018</td>\n",
       "      <td>4</td>\n",
       "      <td>26</td>\n",
       "      <td>...</td>\n",
       "      <td>AM</td>\n",
       "      <td>2018-4-26</td>\n",
       "      <td>2</td>\n",
       "      <td>39128.369746</td>\n",
       "      <td>149.247284</td>\n",
       "      <td>198.329026</td>\n",
       "      <td>158.414452</td>\n",
       "      <td>156.843596</td>\n",
       "      <td>7.536127</td>\n",
       "      <td>56.793212</td>\n",
       "    </tr>\n",
       "    <tr>\n",
       "      <th>1</th>\n",
       "      <td>2</td>\n",
       "      <td>176</td>\n",
       "      <td>18_04_27_3</td>\n",
       "      <td>PC0000_0181</td>\n",
       "      <td>E1 648</td>\n",
       "      <td>dawn</td>\n",
       "      <td>selectively_logged_B</td>\n",
       "      <td>2018</td>\n",
       "      <td>4</td>\n",
       "      <td>27</td>\n",
       "      <td>...</td>\n",
       "      <td>AM</td>\n",
       "      <td>2018-4-27</td>\n",
       "      <td>1</td>\n",
       "      <td>38629.778899</td>\n",
       "      <td>149.557484</td>\n",
       "      <td>179.573339</td>\n",
       "      <td>157.031622</td>\n",
       "      <td>156.980394</td>\n",
       "      <td>4.321513</td>\n",
       "      <td>18.675471</td>\n",
       "    </tr>\n",
       "    <tr>\n",
       "      <th>4</th>\n",
       "      <td>8</td>\n",
       "      <td>278</td>\n",
       "      <td>18_06_03_3</td>\n",
       "      <td>PC0000_0279</td>\n",
       "      <td>E100 edge</td>\n",
       "      <td>after rain</td>\n",
       "      <td>selectively_logged_B</td>\n",
       "      <td>2018</td>\n",
       "      <td>6</td>\n",
       "      <td>3</td>\n",
       "      <td>...</td>\n",
       "      <td>AM</td>\n",
       "      <td>2018-6-3</td>\n",
       "      <td>1</td>\n",
       "      <td>38553.549813</td>\n",
       "      <td>148.878060</td>\n",
       "      <td>181.069336</td>\n",
       "      <td>159.312189</td>\n",
       "      <td>158.559128</td>\n",
       "      <td>4.447779</td>\n",
       "      <td>19.782735</td>\n",
       "    </tr>\n",
       "    <tr>\n",
       "      <th>2</th>\n",
       "      <td>3</td>\n",
       "      <td>182</td>\n",
       "      <td>18_04_28_4</td>\n",
       "      <td>PC0000_0187</td>\n",
       "      <td>B10</td>\n",
       "      <td>dawn</td>\n",
       "      <td>selectively_logged_A</td>\n",
       "      <td>2018</td>\n",
       "      <td>4</td>\n",
       "      <td>28</td>\n",
       "      <td>...</td>\n",
       "      <td>AM</td>\n",
       "      <td>2018-4-28</td>\n",
       "      <td>2</td>\n",
       "      <td>38148.874924</td>\n",
       "      <td>148.940565</td>\n",
       "      <td>188.462532</td>\n",
       "      <td>152.595500</td>\n",
       "      <td>151.429510</td>\n",
       "      <td>4.299905</td>\n",
       "      <td>18.489180</td>\n",
       "    </tr>\n",
       "    <tr>\n",
       "      <th>3</th>\n",
       "      <td>5</td>\n",
       "      <td>248</td>\n",
       "      <td>18_05_24_4</td>\n",
       "      <td>PC0000_0249</td>\n",
       "      <td>D100 641</td>\n",
       "      <td>dusk</td>\n",
       "      <td>selectively_logged_B</td>\n",
       "      <td>2018</td>\n",
       "      <td>5</td>\n",
       "      <td>24</td>\n",
       "      <td>...</td>\n",
       "      <td>AM</td>\n",
       "      <td>2018-5-24</td>\n",
       "      <td>2</td>\n",
       "      <td>36926.113257</td>\n",
       "      <td>143.129195</td>\n",
       "      <td>171.966339</td>\n",
       "      <td>150.106151</td>\n",
       "      <td>149.240098</td>\n",
       "      <td>4.040322</td>\n",
       "      <td>16.324202</td>\n",
       "    </tr>\n",
       "    <tr>\n",
       "      <th>6</th>\n",
       "      <td>13</td>\n",
       "      <td>381</td>\n",
       "      <td>18_06_30_2</td>\n",
       "      <td>PC0001_0091</td>\n",
       "      <td>VJR 1</td>\n",
       "      <td>dusk</td>\n",
       "      <td>old_growth_forest</td>\n",
       "      <td>2018</td>\n",
       "      <td>6</td>\n",
       "      <td>30</td>\n",
       "      <td>...</td>\n",
       "      <td>AM</td>\n",
       "      <td>2018-6-30</td>\n",
       "      <td>2</td>\n",
       "      <td>36650.533271</td>\n",
       "      <td>144.564684</td>\n",
       "      <td>180.504330</td>\n",
       "      <td>150.825240</td>\n",
       "      <td>150.109707</td>\n",
       "      <td>3.686543</td>\n",
       "      <td>13.590602</td>\n",
       "    </tr>\n",
       "  </tbody>\n",
       "</table>\n",
       "<p>7 rows × 21 columns</p>\n",
       "</div>"
      ],
      "text/plain": [
       "   index field_name Point_count_ID     filename       Site     Weather  \\\n",
       "5     10        291  18_06_07_JA_4  PC0001_0010    C10 621     clouded   \n",
       "0      0        171     18_04_26_4  PC0000_0176   D Matrix        dawn   \n",
       "1      2        176     18_04_27_3  PC0000_0181     E1 648        dawn   \n",
       "4      8        278     18_06_03_3  PC0000_0279  E100 edge  after rain   \n",
       "2      3        182     18_04_28_4  PC0000_0187        B10        dawn   \n",
       "3      5        248     18_05_24_4  PC0000_0249   D100 641        dusk   \n",
       "6     13        381     18_06_30_2  PC0001_0091      VJR 1        dusk   \n",
       "\n",
       "               Site_type  year month day  ... am/pm       date count  \\\n",
       "5   selectively_logged_A  2018     6   7  ...    AM   2018-6-7     2   \n",
       "0  salvage_logged_forest  2018     4  26  ...    AM  2018-4-26     2   \n",
       "1   selectively_logged_B  2018     4  27  ...    AM  2018-4-27     1   \n",
       "4   selectively_logged_B  2018     6   3  ...    AM   2018-6-3     1   \n",
       "2   selectively_logged_A  2018     4  28  ...    AM  2018-4-28     2   \n",
       "3   selectively_logged_B  2018     5  24  ...    AM  2018-5-24     2   \n",
       "6      old_growth_forest  2018     6  30  ...    AM  2018-6-30     2   \n",
       "\n",
       "   Acoustic_Complexity_Index__main_value  Acoustic_Complexity_Index__min  \\\n",
       "5                           40279.039111                      154.312086   \n",
       "0                           39128.369746                      149.247284   \n",
       "1                           38629.778899                      149.557484   \n",
       "4                           38553.549813                      148.878060   \n",
       "2                           38148.874924                      148.940565   \n",
       "3                           36926.113257                      143.129195   \n",
       "6                           36650.533271                      144.564684   \n",
       "\n",
       "   Acoustic_Complexity_Index__max  Acoustic_Complexity_Index__mean  \\\n",
       "5                      222.268439                       165.078029   \n",
       "0                      198.329026                       158.414452   \n",
       "1                      179.573339                       157.031622   \n",
       "4                      181.069336                       159.312189   \n",
       "2                      188.462532                       152.595500   \n",
       "3                      171.966339                       150.106151   \n",
       "6                      180.504330                       150.825240   \n",
       "\n",
       "   Acoustic_Complexity_Index__median  Acoustic_Complexity_Index__std  \\\n",
       "5                         161.788929                        9.208511   \n",
       "0                         156.843596                        7.536127   \n",
       "1                         156.980394                        4.321513   \n",
       "4                         158.559128                        4.447779   \n",
       "2                         151.429510                        4.299905   \n",
       "3                         149.240098                        4.040322   \n",
       "6                         150.109707                        3.686543   \n",
       "\n",
       "   Acoustic_Complexity_Index__var  \n",
       "5                       84.796682  \n",
       "0                       56.793212  \n",
       "1                       18.675471  \n",
       "4                       19.782735  \n",
       "2                       18.489180  \n",
       "3                       16.324202  \n",
       "6                       13.590602  \n",
       "\n",
       "[7 rows x 21 columns]"
      ]
     },
     "execution_count": 31,
     "metadata": {},
     "output_type": "execute_result"
    }
   ],
   "source": [
    "dfaxic6am = dfmerged[dfmerged['filename'].isin(list6am)].reset_index() # location df only with recordings \n",
    "dfaxic6am.sort_values(by = 'Acoustic_Complexity_Index__main_value', ascending = False)"
   ]
  },
  {
   "cell_type": "code",
   "execution_count": 32,
   "id": "juvenile-vertical",
   "metadata": {},
   "outputs": [
    {
     "data": {
      "application/vnd.plotly.v1+json": {
       "config": {
        "plotlyServerURL": "https://plot.ly"
       },
       "data": [
        {
         "alignmentgroup": "True",
         "hovertemplate": "Site_type=salvage_logged_forest<br>Site=%{x}<br>Acoustic_Complexity_Index__main_value=%{y}<extra></extra>",
         "legendgroup": "salvage_logged_forest",
         "marker": {
          "color": "LimeGreen"
         },
         "name": "salvage_logged_forest",
         "offsetgroup": "salvage_logged_forest",
         "orientation": "v",
         "showlegend": true,
         "textposition": "auto",
         "type": "bar",
         "x": [
          "D Matrix"
         ],
         "xaxis": "x",
         "y": [
          39128.36974579912
         ],
         "yaxis": "y"
        },
        {
         "alignmentgroup": "True",
         "hovertemplate": "Site_type=selectively_logged_B<br>Site=%{x}<br>Acoustic_Complexity_Index__main_value=%{y}<extra></extra>",
         "legendgroup": "selectively_logged_B",
         "marker": {
          "color": "MediumAquaMarine"
         },
         "name": "selectively_logged_B",
         "offsetgroup": "selectively_logged_B",
         "orientation": "v",
         "showlegend": true,
         "textposition": "auto",
         "type": "bar",
         "x": [
          "E1 648",
          "D100 641",
          "E100 edge"
         ],
         "xaxis": "x",
         "y": [
          38629.77889942605,
          36926.11325720513,
          38553.54981298348
         ],
         "yaxis": "y"
        },
        {
         "alignmentgroup": "True",
         "hovertemplate": "Site_type=selectively_logged_A<br>Site=%{x}<br>Acoustic_Complexity_Index__main_value=%{y}<extra></extra>",
         "legendgroup": "selectively_logged_A",
         "marker": {
          "color": "MediumSeaGreen"
         },
         "name": "selectively_logged_A",
         "offsetgroup": "selectively_logged_A",
         "orientation": "v",
         "showlegend": true,
         "textposition": "auto",
         "type": "bar",
         "x": [
          "B10",
          "C10 621"
         ],
         "xaxis": "x",
         "y": [
          38148.87492386964,
          40279.03911076766
         ],
         "yaxis": "y"
        },
        {
         "alignmentgroup": "True",
         "hovertemplate": "Site_type=old_growth_forest<br>Site=%{x}<br>Acoustic_Complexity_Index__main_value=%{y}<extra></extra>",
         "legendgroup": "old_growth_forest",
         "marker": {
          "color": "green"
         },
         "name": "old_growth_forest",
         "offsetgroup": "old_growth_forest",
         "orientation": "v",
         "showlegend": true,
         "textposition": "auto",
         "type": "bar",
         "x": [
          "VJR 1"
         ],
         "xaxis": "x",
         "y": [
          36650.53327122272
         ],
         "yaxis": "y"
        }
       ],
       "layout": {
        "autosize": true,
        "barmode": "relative",
        "legend": {
         "title": {
          "text": "Site_type"
         },
         "tracegroupgap": 0
        },
        "margin": {
         "t": 60
        },
        "template": {
         "data": {
          "bar": [
           {
            "error_x": {
             "color": "#2a3f5f"
            },
            "error_y": {
             "color": "#2a3f5f"
            },
            "marker": {
             "line": {
              "color": "#E5ECF6",
              "width": 0.5
             }
            },
            "type": "bar"
           }
          ],
          "barpolar": [
           {
            "marker": {
             "line": {
              "color": "#E5ECF6",
              "width": 0.5
             }
            },
            "type": "barpolar"
           }
          ],
          "carpet": [
           {
            "aaxis": {
             "endlinecolor": "#2a3f5f",
             "gridcolor": "white",
             "linecolor": "white",
             "minorgridcolor": "white",
             "startlinecolor": "#2a3f5f"
            },
            "baxis": {
             "endlinecolor": "#2a3f5f",
             "gridcolor": "white",
             "linecolor": "white",
             "minorgridcolor": "white",
             "startlinecolor": "#2a3f5f"
            },
            "type": "carpet"
           }
          ],
          "choropleth": [
           {
            "colorbar": {
             "outlinewidth": 0,
             "ticks": ""
            },
            "type": "choropleth"
           }
          ],
          "contour": [
           {
            "colorbar": {
             "outlinewidth": 0,
             "ticks": ""
            },
            "colorscale": [
             [
              0,
              "#0d0887"
             ],
             [
              0.1111111111111111,
              "#46039f"
             ],
             [
              0.2222222222222222,
              "#7201a8"
             ],
             [
              0.3333333333333333,
              "#9c179e"
             ],
             [
              0.4444444444444444,
              "#bd3786"
             ],
             [
              0.5555555555555556,
              "#d8576b"
             ],
             [
              0.6666666666666666,
              "#ed7953"
             ],
             [
              0.7777777777777778,
              "#fb9f3a"
             ],
             [
              0.8888888888888888,
              "#fdca26"
             ],
             [
              1,
              "#f0f921"
             ]
            ],
            "type": "contour"
           }
          ],
          "contourcarpet": [
           {
            "colorbar": {
             "outlinewidth": 0,
             "ticks": ""
            },
            "type": "contourcarpet"
           }
          ],
          "heatmap": [
           {
            "colorbar": {
             "outlinewidth": 0,
             "ticks": ""
            },
            "colorscale": [
             [
              0,
              "#0d0887"
             ],
             [
              0.1111111111111111,
              "#46039f"
             ],
             [
              0.2222222222222222,
              "#7201a8"
             ],
             [
              0.3333333333333333,
              "#9c179e"
             ],
             [
              0.4444444444444444,
              "#bd3786"
             ],
             [
              0.5555555555555556,
              "#d8576b"
             ],
             [
              0.6666666666666666,
              "#ed7953"
             ],
             [
              0.7777777777777778,
              "#fb9f3a"
             ],
             [
              0.8888888888888888,
              "#fdca26"
             ],
             [
              1,
              "#f0f921"
             ]
            ],
            "type": "heatmap"
           }
          ],
          "heatmapgl": [
           {
            "colorbar": {
             "outlinewidth": 0,
             "ticks": ""
            },
            "colorscale": [
             [
              0,
              "#0d0887"
             ],
             [
              0.1111111111111111,
              "#46039f"
             ],
             [
              0.2222222222222222,
              "#7201a8"
             ],
             [
              0.3333333333333333,
              "#9c179e"
             ],
             [
              0.4444444444444444,
              "#bd3786"
             ],
             [
              0.5555555555555556,
              "#d8576b"
             ],
             [
              0.6666666666666666,
              "#ed7953"
             ],
             [
              0.7777777777777778,
              "#fb9f3a"
             ],
             [
              0.8888888888888888,
              "#fdca26"
             ],
             [
              1,
              "#f0f921"
             ]
            ],
            "type": "heatmapgl"
           }
          ],
          "histogram": [
           {
            "marker": {
             "colorbar": {
              "outlinewidth": 0,
              "ticks": ""
             }
            },
            "type": "histogram"
           }
          ],
          "histogram2d": [
           {
            "colorbar": {
             "outlinewidth": 0,
             "ticks": ""
            },
            "colorscale": [
             [
              0,
              "#0d0887"
             ],
             [
              0.1111111111111111,
              "#46039f"
             ],
             [
              0.2222222222222222,
              "#7201a8"
             ],
             [
              0.3333333333333333,
              "#9c179e"
             ],
             [
              0.4444444444444444,
              "#bd3786"
             ],
             [
              0.5555555555555556,
              "#d8576b"
             ],
             [
              0.6666666666666666,
              "#ed7953"
             ],
             [
              0.7777777777777778,
              "#fb9f3a"
             ],
             [
              0.8888888888888888,
              "#fdca26"
             ],
             [
              1,
              "#f0f921"
             ]
            ],
            "type": "histogram2d"
           }
          ],
          "histogram2dcontour": [
           {
            "colorbar": {
             "outlinewidth": 0,
             "ticks": ""
            },
            "colorscale": [
             [
              0,
              "#0d0887"
             ],
             [
              0.1111111111111111,
              "#46039f"
             ],
             [
              0.2222222222222222,
              "#7201a8"
             ],
             [
              0.3333333333333333,
              "#9c179e"
             ],
             [
              0.4444444444444444,
              "#bd3786"
             ],
             [
              0.5555555555555556,
              "#d8576b"
             ],
             [
              0.6666666666666666,
              "#ed7953"
             ],
             [
              0.7777777777777778,
              "#fb9f3a"
             ],
             [
              0.8888888888888888,
              "#fdca26"
             ],
             [
              1,
              "#f0f921"
             ]
            ],
            "type": "histogram2dcontour"
           }
          ],
          "mesh3d": [
           {
            "colorbar": {
             "outlinewidth": 0,
             "ticks": ""
            },
            "type": "mesh3d"
           }
          ],
          "parcoords": [
           {
            "line": {
             "colorbar": {
              "outlinewidth": 0,
              "ticks": ""
             }
            },
            "type": "parcoords"
           }
          ],
          "pie": [
           {
            "automargin": true,
            "type": "pie"
           }
          ],
          "scatter": [
           {
            "marker": {
             "colorbar": {
              "outlinewidth": 0,
              "ticks": ""
             }
            },
            "type": "scatter"
           }
          ],
          "scatter3d": [
           {
            "line": {
             "colorbar": {
              "outlinewidth": 0,
              "ticks": ""
             }
            },
            "marker": {
             "colorbar": {
              "outlinewidth": 0,
              "ticks": ""
             }
            },
            "type": "scatter3d"
           }
          ],
          "scattercarpet": [
           {
            "marker": {
             "colorbar": {
              "outlinewidth": 0,
              "ticks": ""
             }
            },
            "type": "scattercarpet"
           }
          ],
          "scattergeo": [
           {
            "marker": {
             "colorbar": {
              "outlinewidth": 0,
              "ticks": ""
             }
            },
            "type": "scattergeo"
           }
          ],
          "scattergl": [
           {
            "marker": {
             "colorbar": {
              "outlinewidth": 0,
              "ticks": ""
             }
            },
            "type": "scattergl"
           }
          ],
          "scattermapbox": [
           {
            "marker": {
             "colorbar": {
              "outlinewidth": 0,
              "ticks": ""
             }
            },
            "type": "scattermapbox"
           }
          ],
          "scatterpolar": [
           {
            "marker": {
             "colorbar": {
              "outlinewidth": 0,
              "ticks": ""
             }
            },
            "type": "scatterpolar"
           }
          ],
          "scatterpolargl": [
           {
            "marker": {
             "colorbar": {
              "outlinewidth": 0,
              "ticks": ""
             }
            },
            "type": "scatterpolargl"
           }
          ],
          "scatterternary": [
           {
            "marker": {
             "colorbar": {
              "outlinewidth": 0,
              "ticks": ""
             }
            },
            "type": "scatterternary"
           }
          ],
          "surface": [
           {
            "colorbar": {
             "outlinewidth": 0,
             "ticks": ""
            },
            "colorscale": [
             [
              0,
              "#0d0887"
             ],
             [
              0.1111111111111111,
              "#46039f"
             ],
             [
              0.2222222222222222,
              "#7201a8"
             ],
             [
              0.3333333333333333,
              "#9c179e"
             ],
             [
              0.4444444444444444,
              "#bd3786"
             ],
             [
              0.5555555555555556,
              "#d8576b"
             ],
             [
              0.6666666666666666,
              "#ed7953"
             ],
             [
              0.7777777777777778,
              "#fb9f3a"
             ],
             [
              0.8888888888888888,
              "#fdca26"
             ],
             [
              1,
              "#f0f921"
             ]
            ],
            "type": "surface"
           }
          ],
          "table": [
           {
            "cells": {
             "fill": {
              "color": "#EBF0F8"
             },
             "line": {
              "color": "white"
             }
            },
            "header": {
             "fill": {
              "color": "#C8D4E3"
             },
             "line": {
              "color": "white"
             }
            },
            "type": "table"
           }
          ]
         },
         "layout": {
          "annotationdefaults": {
           "arrowcolor": "#2a3f5f",
           "arrowhead": 0,
           "arrowwidth": 1
          },
          "autotypenumbers": "strict",
          "coloraxis": {
           "colorbar": {
            "outlinewidth": 0,
            "ticks": ""
           }
          },
          "colorscale": {
           "diverging": [
            [
             0,
             "#8e0152"
            ],
            [
             0.1,
             "#c51b7d"
            ],
            [
             0.2,
             "#de77ae"
            ],
            [
             0.3,
             "#f1b6da"
            ],
            [
             0.4,
             "#fde0ef"
            ],
            [
             0.5,
             "#f7f7f7"
            ],
            [
             0.6,
             "#e6f5d0"
            ],
            [
             0.7,
             "#b8e186"
            ],
            [
             0.8,
             "#7fbc41"
            ],
            [
             0.9,
             "#4d9221"
            ],
            [
             1,
             "#276419"
            ]
           ],
           "sequential": [
            [
             0,
             "#0d0887"
            ],
            [
             0.1111111111111111,
             "#46039f"
            ],
            [
             0.2222222222222222,
             "#7201a8"
            ],
            [
             0.3333333333333333,
             "#9c179e"
            ],
            [
             0.4444444444444444,
             "#bd3786"
            ],
            [
             0.5555555555555556,
             "#d8576b"
            ],
            [
             0.6666666666666666,
             "#ed7953"
            ],
            [
             0.7777777777777778,
             "#fb9f3a"
            ],
            [
             0.8888888888888888,
             "#fdca26"
            ],
            [
             1,
             "#f0f921"
            ]
           ],
           "sequentialminus": [
            [
             0,
             "#0d0887"
            ],
            [
             0.1111111111111111,
             "#46039f"
            ],
            [
             0.2222222222222222,
             "#7201a8"
            ],
            [
             0.3333333333333333,
             "#9c179e"
            ],
            [
             0.4444444444444444,
             "#bd3786"
            ],
            [
             0.5555555555555556,
             "#d8576b"
            ],
            [
             0.6666666666666666,
             "#ed7953"
            ],
            [
             0.7777777777777778,
             "#fb9f3a"
            ],
            [
             0.8888888888888888,
             "#fdca26"
            ],
            [
             1,
             "#f0f921"
            ]
           ]
          },
          "colorway": [
           "#636efa",
           "#EF553B",
           "#00cc96",
           "#ab63fa",
           "#FFA15A",
           "#19d3f3",
           "#FF6692",
           "#B6E880",
           "#FF97FF",
           "#FECB52"
          ],
          "font": {
           "color": "#2a3f5f"
          },
          "geo": {
           "bgcolor": "white",
           "lakecolor": "white",
           "landcolor": "#E5ECF6",
           "showlakes": true,
           "showland": true,
           "subunitcolor": "white"
          },
          "hoverlabel": {
           "align": "left"
          },
          "hovermode": "closest",
          "mapbox": {
           "style": "light"
          },
          "paper_bgcolor": "white",
          "plot_bgcolor": "#E5ECF6",
          "polar": {
           "angularaxis": {
            "gridcolor": "white",
            "linecolor": "white",
            "ticks": ""
           },
           "bgcolor": "#E5ECF6",
           "radialaxis": {
            "gridcolor": "white",
            "linecolor": "white",
            "ticks": ""
           }
          },
          "scene": {
           "xaxis": {
            "backgroundcolor": "#E5ECF6",
            "gridcolor": "white",
            "gridwidth": 2,
            "linecolor": "white",
            "showbackground": true,
            "ticks": "",
            "zerolinecolor": "white"
           },
           "yaxis": {
            "backgroundcolor": "#E5ECF6",
            "gridcolor": "white",
            "gridwidth": 2,
            "linecolor": "white",
            "showbackground": true,
            "ticks": "",
            "zerolinecolor": "white"
           },
           "zaxis": {
            "backgroundcolor": "#E5ECF6",
            "gridcolor": "white",
            "gridwidth": 2,
            "linecolor": "white",
            "showbackground": true,
            "ticks": "",
            "zerolinecolor": "white"
           }
          },
          "shapedefaults": {
           "line": {
            "color": "#2a3f5f"
           }
          },
          "ternary": {
           "aaxis": {
            "gridcolor": "white",
            "linecolor": "white",
            "ticks": ""
           },
           "baxis": {
            "gridcolor": "white",
            "linecolor": "white",
            "ticks": ""
           },
           "bgcolor": "#E5ECF6",
           "caxis": {
            "gridcolor": "white",
            "linecolor": "white",
            "ticks": ""
           }
          },
          "title": {
           "x": 0.05
          },
          "xaxis": {
           "automargin": true,
           "gridcolor": "white",
           "linecolor": "white",
           "ticks": "",
           "title": {
            "standoff": 15
           },
           "zerolinecolor": "white",
           "zerolinewidth": 2
          },
          "yaxis": {
           "automargin": true,
           "gridcolor": "white",
           "linecolor": "white",
           "ticks": "",
           "title": {
            "standoff": 15
           },
           "zerolinecolor": "white",
           "zerolinewidth": 2
          }
         }
        },
        "xaxis": {
         "anchor": "y",
         "autorange": true,
         "categoryorder": "total descending",
         "domain": [
          0,
          1
         ],
         "range": [
          -0.5,
          6.5
         ],
         "title": {
          "text": "Site"
         },
         "type": "category"
        },
        "yaxis": {
         "anchor": "x",
         "autorange": true,
         "domain": [
          0,
          1
         ],
         "range": [
          0,
          42398.98853765017
         ],
         "title": {
          "text": "Acoustic_Complexity_Index__main_value"
         },
         "type": "linear"
        }
       }
      },
      "image/png": "[encoded data removed]",
      "text/html": [
       "<div>                            <div id=\"aa54e445-5d30-4569-b58c-761493acb605\" class=\"plotly-graph-div\" style=\"height:525px; width:100%;\"></div>            <script type=\"text/javascript\">                require([\"plotly\"], function(Plotly) {                    window.PLOTLYENV=window.PLOTLYENV || {};                                    if (document.getElementById(\"aa54e445-5d30-4569-b58c-761493acb605\")) {                    Plotly.newPlot(                        \"aa54e445-5d30-4569-b58c-761493acb605\",                        [{\"alignmentgroup\": \"True\", \"hovertemplate\": \"Site_type=salvage_logged_forest<br>Site=%{x}<br>Acoustic_Complexity_Index__main_value=%{y}<extra></extra>\", \"legendgroup\": \"salvage_logged_forest\", \"marker\": {\"color\": \"LimeGreen\"}, \"name\": \"salvage_logged_forest\", \"offsetgroup\": \"salvage_logged_forest\", \"orientation\": \"v\", \"showlegend\": true, \"textposition\": \"auto\", \"type\": \"bar\", \"x\": [\"D Matrix\"], \"xaxis\": \"x\", \"y\": [39128.36974579912], \"yaxis\": \"y\"}, {\"alignmentgroup\": \"True\", \"hovertemplate\": \"Site_type=selectively_logged_B<br>Site=%{x}<br>Acoustic_Complexity_Index__main_value=%{y}<extra></extra>\", \"legendgroup\": \"selectively_logged_B\", \"marker\": {\"color\": \"MediumAquaMarine\"}, \"name\": \"selectively_logged_B\", \"offsetgroup\": \"selectively_logged_B\", \"orientation\": \"v\", \"showlegend\": true, \"textposition\": \"auto\", \"type\": \"bar\", \"x\": [\"E1 648\", \"D100 641\", \"E100 edge\"], \"xaxis\": \"x\", \"y\": [38629.77889942605, 36926.11325720513, 38553.54981298348], \"yaxis\": \"y\"}, {\"alignmentgroup\": \"True\", \"hovertemplate\": \"Site_type=selectively_logged_A<br>Site=%{x}<br>Acoustic_Complexity_Index__main_value=%{y}<extra></extra>\", \"legendgroup\": \"selectively_logged_A\", \"marker\": {\"color\": \"MediumSeaGreen\"}, \"name\": \"selectively_logged_A\", \"offsetgroup\": \"selectively_logged_A\", \"orientation\": \"v\", \"showlegend\": true, \"textposition\": \"auto\", \"type\": \"bar\", \"x\": [\"B10\", \"C10 621\"], \"xaxis\": \"x\", \"y\": [38148.87492386964, 40279.03911076766], \"yaxis\": \"y\"}, {\"alignmentgroup\": \"True\", \"hovertemplate\": \"Site_type=old_growth_forest<br>Site=%{x}<br>Acoustic_Complexity_Index__main_value=%{y}<extra></extra>\", \"legendgroup\": \"old_growth_forest\", \"marker\": {\"color\": \"green\"}, \"name\": \"old_growth_forest\", \"offsetgroup\": \"old_growth_forest\", \"orientation\": \"v\", \"showlegend\": true, \"textposition\": \"auto\", \"type\": \"bar\", \"x\": [\"VJR 1\"], \"xaxis\": \"x\", \"y\": [36650.53327122272], \"yaxis\": \"y\"}],                        {\"barmode\": \"relative\", \"legend\": {\"title\": {\"text\": \"Site_type\"}, \"tracegroupgap\": 0}, \"margin\": {\"t\": 60}, \"template\": {\"data\": {\"bar\": [{\"error_x\": {\"color\": \"#2a3f5f\"}, \"error_y\": {\"color\": \"#2a3f5f\"}, \"marker\": {\"line\": {\"color\": \"#E5ECF6\", \"width\": 0.5}}, \"type\": \"bar\"}], \"barpolar\": [{\"marker\": {\"line\": {\"color\": \"#E5ECF6\", \"width\": 0.5}}, \"type\": \"barpolar\"}], \"carpet\": [{\"aaxis\": {\"endlinecolor\": \"#2a3f5f\", \"gridcolor\": \"white\", \"linecolor\": \"white\", \"minorgridcolor\": \"white\", \"startlinecolor\": \"#2a3f5f\"}, \"baxis\": {\"endlinecolor\": \"#2a3f5f\", \"gridcolor\": \"white\", \"linecolor\": \"white\", \"minorgridcolor\": \"white\", \"startlinecolor\": \"#2a3f5f\"}, \"type\": \"carpet\"}], \"choropleth\": [{\"colorbar\": {\"outlinewidth\": 0, \"ticks\": \"\"}, \"type\": \"choropleth\"}], \"contour\": [{\"colorbar\": {\"outlinewidth\": 0, \"ticks\": \"\"}, \"colorscale\": [[0.0, \"#0d0887\"], [0.1111111111111111, \"#46039f\"], [0.2222222222222222, \"#7201a8\"], [0.3333333333333333, \"#9c179e\"], [0.4444444444444444, \"#bd3786\"], [0.5555555555555556, \"#d8576b\"], [0.6666666666666666, \"#ed7953\"], [0.7777777777777778, \"#fb9f3a\"], [0.8888888888888888, \"#fdca26\"], [1.0, \"#f0f921\"]], \"type\": \"contour\"}], \"contourcarpet\": [{\"colorbar\": {\"outlinewidth\": 0, \"ticks\": \"\"}, \"type\": \"contourcarpet\"}], \"heatmap\": [{\"colorbar\": {\"outlinewidth\": 0, \"ticks\": \"\"}, \"colorscale\": [[0.0, \"#0d0887\"], [0.1111111111111111, \"#46039f\"], [0.2222222222222222, \"#7201a8\"], [0.3333333333333333, \"#9c179e\"], [0.4444444444444444, \"#bd3786\"], [0.5555555555555556, \"#d8576b\"], [0.6666666666666666, \"#ed7953\"], [0.7777777777777778, \"#fb9f3a\"], [0.8888888888888888, \"#fdca26\"], [1.0, \"#f0f921\"]], \"type\": \"heatmap\"}], \"heatmapgl\": [{\"colorbar\": {\"outlinewidth\": 0, \"ticks\": \"\"}, \"colorscale\": [[0.0, \"#0d0887\"], [0.1111111111111111, \"#46039f\"], [0.2222222222222222, \"#7201a8\"], [0.3333333333333333, \"#9c179e\"], [0.4444444444444444, \"#bd3786\"], [0.5555555555555556, \"#d8576b\"], [0.6666666666666666, \"#ed7953\"], [0.7777777777777778, \"#fb9f3a\"], [0.8888888888888888, \"#fdca26\"], [1.0, \"#f0f921\"]], \"type\": \"heatmapgl\"}], \"histogram\": [{\"marker\": {\"colorbar\": {\"outlinewidth\": 0, \"ticks\": \"\"}}, \"type\": \"histogram\"}], \"histogram2d\": [{\"colorbar\": {\"outlinewidth\": 0, \"ticks\": \"\"}, \"colorscale\": [[0.0, \"#0d0887\"], [0.1111111111111111, \"#46039f\"], [0.2222222222222222, \"#7201a8\"], [0.3333333333333333, \"#9c179e\"], [0.4444444444444444, \"#bd3786\"], [0.5555555555555556, \"#d8576b\"], [0.6666666666666666, \"#ed7953\"], [0.7777777777777778, \"#fb9f3a\"], [0.8888888888888888, \"#fdca26\"], [1.0, \"#f0f921\"]], \"type\": \"histogram2d\"}], \"histogram2dcontour\": [{\"colorbar\": {\"outlinewidth\": 0, \"ticks\": \"\"}, \"colorscale\": [[0.0, \"#0d0887\"], [0.1111111111111111, \"#46039f\"], [0.2222222222222222, \"#7201a8\"], [0.3333333333333333, \"#9c179e\"], [0.4444444444444444, \"#bd3786\"], [0.5555555555555556, \"#d8576b\"], [0.6666666666666666, \"#ed7953\"], [0.7777777777777778, \"#fb9f3a\"], [0.8888888888888888, \"#fdca26\"], [1.0, \"#f0f921\"]], \"type\": \"histogram2dcontour\"}], \"mesh3d\": [{\"colorbar\": {\"outlinewidth\": 0, \"ticks\": \"\"}, \"type\": \"mesh3d\"}], \"parcoords\": [{\"line\": {\"colorbar\": {\"outlinewidth\": 0, \"ticks\": \"\"}}, \"type\": \"parcoords\"}], \"pie\": [{\"automargin\": true, \"type\": \"pie\"}], \"scatter\": [{\"marker\": {\"colorbar\": {\"outlinewidth\": 0, \"ticks\": \"\"}}, \"type\": \"scatter\"}], \"scatter3d\": [{\"line\": {\"colorbar\": {\"outlinewidth\": 0, \"ticks\": \"\"}}, \"marker\": {\"colorbar\": {\"outlinewidth\": 0, \"ticks\": \"\"}}, \"type\": \"scatter3d\"}], \"scattercarpet\": [{\"marker\": {\"colorbar\": {\"outlinewidth\": 0, \"ticks\": \"\"}}, \"type\": \"scattercarpet\"}], \"scattergeo\": [{\"marker\": {\"colorbar\": {\"outlinewidth\": 0, \"ticks\": \"\"}}, \"type\": \"scattergeo\"}], \"scattergl\": [{\"marker\": {\"colorbar\": {\"outlinewidth\": 0, \"ticks\": \"\"}}, \"type\": \"scattergl\"}], \"scattermapbox\": [{\"marker\": {\"colorbar\": {\"outlinewidth\": 0, \"ticks\": \"\"}}, \"type\": \"scattermapbox\"}], \"scatterpolar\": [{\"marker\": {\"colorbar\": {\"outlinewidth\": 0, \"ticks\": \"\"}}, \"type\": \"scatterpolar\"}], \"scatterpolargl\": [{\"marker\": {\"colorbar\": {\"outlinewidth\": 0, \"ticks\": \"\"}}, \"type\": \"scatterpolargl\"}], \"scatterternary\": [{\"marker\": {\"colorbar\": {\"outlinewidth\": 0, \"ticks\": \"\"}}, \"type\": \"scatterternary\"}], \"surface\": [{\"colorbar\": {\"outlinewidth\": 0, \"ticks\": \"\"}, \"colorscale\": [[0.0, \"#0d0887\"], [0.1111111111111111, \"#46039f\"], [0.2222222222222222, \"#7201a8\"], [0.3333333333333333, \"#9c179e\"], [0.4444444444444444, \"#bd3786\"], [0.5555555555555556, \"#d8576b\"], [0.6666666666666666, \"#ed7953\"], [0.7777777777777778, \"#fb9f3a\"], [0.8888888888888888, \"#fdca26\"], [1.0, \"#f0f921\"]], \"type\": \"surface\"}], \"table\": [{\"cells\": {\"fill\": {\"color\": \"#EBF0F8\"}, \"line\": {\"color\": \"white\"}}, \"header\": {\"fill\": {\"color\": \"#C8D4E3\"}, \"line\": {\"color\": \"white\"}}, \"type\": \"table\"}]}, \"layout\": {\"annotationdefaults\": {\"arrowcolor\": \"#2a3f5f\", \"arrowhead\": 0, \"arrowwidth\": 1}, \"autotypenumbers\": \"strict\", \"coloraxis\": {\"colorbar\": {\"outlinewidth\": 0, \"ticks\": \"\"}}, \"colorscale\": {\"diverging\": [[0, \"#8e0152\"], [0.1, \"#c51b7d\"], [0.2, \"#de77ae\"], [0.3, \"#f1b6da\"], [0.4, \"#fde0ef\"], [0.5, \"#f7f7f7\"], [0.6, \"#e6f5d0\"], [0.7, \"#b8e186\"], [0.8, \"#7fbc41\"], [0.9, \"#4d9221\"], [1, \"#276419\"]], \"sequential\": [[0.0, \"#0d0887\"], [0.1111111111111111, \"#46039f\"], [0.2222222222222222, \"#7201a8\"], [0.3333333333333333, \"#9c179e\"], [0.4444444444444444, \"#bd3786\"], [0.5555555555555556, \"#d8576b\"], [0.6666666666666666, \"#ed7953\"], [0.7777777777777778, \"#fb9f3a\"], [0.8888888888888888, \"#fdca26\"], [1.0, \"#f0f921\"]], \"sequentialminus\": [[0.0, \"#0d0887\"], [0.1111111111111111, \"#46039f\"], [0.2222222222222222, \"#7201a8\"], [0.3333333333333333, \"#9c179e\"], [0.4444444444444444, \"#bd3786\"], [0.5555555555555556, \"#d8576b\"], [0.6666666666666666, \"#ed7953\"], [0.7777777777777778, \"#fb9f3a\"], [0.8888888888888888, \"#fdca26\"], [1.0, \"#f0f921\"]]}, \"colorway\": [\"#636efa\", \"#EF553B\", \"#00cc96\", \"#ab63fa\", \"#FFA15A\", \"#19d3f3\", \"#FF6692\", \"#B6E880\", \"#FF97FF\", \"#FECB52\"], \"font\": {\"color\": \"#2a3f5f\"}, \"geo\": {\"bgcolor\": \"white\", \"lakecolor\": \"white\", \"landcolor\": \"#E5ECF6\", \"showlakes\": true, \"showland\": true, \"subunitcolor\": \"white\"}, \"hoverlabel\": {\"align\": \"left\"}, \"hovermode\": \"closest\", \"mapbox\": {\"style\": \"light\"}, \"paper_bgcolor\": \"white\", \"plot_bgcolor\": \"#E5ECF6\", \"polar\": {\"angularaxis\": {\"gridcolor\": \"white\", \"linecolor\": \"white\", \"ticks\": \"\"}, \"bgcolor\": \"#E5ECF6\", \"radialaxis\": {\"gridcolor\": \"white\", \"linecolor\": \"white\", \"ticks\": \"\"}}, \"scene\": {\"xaxis\": {\"backgroundcolor\": \"#E5ECF6\", \"gridcolor\": \"white\", \"gridwidth\": 2, \"linecolor\": \"white\", \"showbackground\": true, \"ticks\": \"\", \"zerolinecolor\": \"white\"}, \"yaxis\": {\"backgroundcolor\": \"#E5ECF6\", \"gridcolor\": \"white\", \"gridwidth\": 2, \"linecolor\": \"white\", \"showbackground\": true, \"ticks\": \"\", \"zerolinecolor\": \"white\"}, \"zaxis\": {\"backgroundcolor\": \"#E5ECF6\", \"gridcolor\": \"white\", \"gridwidth\": 2, \"linecolor\": \"white\", \"showbackground\": true, \"ticks\": \"\", \"zerolinecolor\": \"white\"}}, \"shapedefaults\": {\"line\": {\"color\": \"#2a3f5f\"}}, \"ternary\": {\"aaxis\": {\"gridcolor\": \"white\", \"linecolor\": \"white\", \"ticks\": \"\"}, \"baxis\": {\"gridcolor\": \"white\", \"linecolor\": \"white\", \"ticks\": \"\"}, \"bgcolor\": \"#E5ECF6\", \"caxis\": {\"gridcolor\": \"white\", \"linecolor\": \"white\", \"ticks\": \"\"}}, \"title\": {\"x\": 0.05}, \"xaxis\": {\"automargin\": true, \"gridcolor\": \"white\", \"linecolor\": \"white\", \"ticks\": \"\", \"title\": {\"standoff\": 15}, \"zerolinecolor\": \"white\", \"zerolinewidth\": 2}, \"yaxis\": {\"automargin\": true, \"gridcolor\": \"white\", \"linecolor\": \"white\", \"ticks\": \"\", \"title\": {\"standoff\": 15}, \"zerolinecolor\": \"white\", \"zerolinewidth\": 2}}}, \"xaxis\": {\"anchor\": \"y\", \"categoryorder\": \"total descending\", \"domain\": [0.0, 1.0], \"title\": {\"text\": \"Site\"}}, \"yaxis\": {\"anchor\": \"x\", \"domain\": [0.0, 1.0], \"title\": {\"text\": \"Acoustic_Complexity_Index__main_value\"}}},                        {\"responsive\": true}                    ).then(function(){\n",
       "                            \n",
       "var gd = document.getElementById('aa54e445-5d30-4569-b58c-761493acb605');\n",
       "var x = new MutationObserver(function (mutations, observer) {{\n",
       "        var display = window.getComputedStyle(gd).display;\n",
       "        if (!display || display === 'none') {{\n",
       "            console.log([gd, 'removed!']);\n",
       "            Plotly.purge(gd);\n",
       "            observer.disconnect();\n",
       "        }}\n",
       "}});\n",
       "\n",
       "// Listen for the removal of the full notebook cells\n",
       "var notebookContainer = gd.closest('#notebook-container');\n",
       "if (notebookContainer) {{\n",
       "    x.observe(notebookContainer, {childList: true});\n",
       "}}\n",
       "\n",
       "// Listen for the clearing of the current output cell\n",
       "var outputEl = gd.closest('.output');\n",
       "if (outputEl) {{\n",
       "    x.observe(outputEl, {childList: true});\n",
       "}}\n",
       "\n",
       "                        })                };                });            </script>        </div>"
      ]
     },
     "metadata": {},
     "output_type": "display_data"
    }
   ],
   "source": [
    "%store -r color_discrete_map\n",
    "\n",
    "fig = px.bar(dfaxic6am, \n",
    "             x = 'Site', \n",
    "             y = 'Acoustic_Complexity_Index__main_value', \n",
    "             color = 'Site_type', \n",
    "             color_discrete_map = color_discrete_map,\n",
    "            )\n",
    "fig.update_layout(xaxis ={'categoryorder':'total descending'})\n",
    "\n",
    "fig.show()"
   ]
  },
  {
   "cell_type": "markdown",
   "id": "second-westminster",
   "metadata": {},
   "source": [
    "#### this plot did not support my assumption, that old_growth_forests should have higher values, but as there was only one file in the 6am timeframe to check, i decided to extend the analysis..."
   ]
  },
  {
   "cell_type": "code",
   "execution_count": 33,
   "id": "eligible-david",
   "metadata": {},
   "outputs": [
    {
     "data": {
      "application/vnd.plotly.v1+json": {
       "config": {
        "plotlyServerURL": "https://plot.ly"
       },
       "data": [
        {
         "alignmentgroup": "True",
         "hovertemplate": "Site_type=salvage_logged_forest<br>filename=%{x}<br>Acoustic_Complexity_Index__main_value=%{y}<br>Site=%{text}<extra></extra>",
         "legendgroup": "salvage_logged_forest",
         "marker": {
          "color": "LimeGreen"
         },
         "name": "salvage_logged_forest",
         "offsetgroup": "salvage_logged_forest",
         "orientation": "v",
         "showlegend": true,
         "text": [
          "D Matrix",
          "D Matrix",
          "C Matrix"
         ],
         "textposition": "auto",
         "type": "bar",
         "x": [
          "PC0000_0176",
          "PC0000_0177",
          "PC0000_0276"
         ],
         "xaxis": "x",
         "y": [
          39128.36974579912,
          37791.148398442245,
          41920.502596107064
         ],
         "yaxis": "y"
        },
        {
         "alignmentgroup": "True",
         "hovertemplate": "Site_type=selectively_logged_B<br>filename=%{x}<br>Acoustic_Complexity_Index__main_value=%{y}<br>Site=%{text}<extra></extra>",
         "legendgroup": "selectively_logged_B",
         "marker": {
          "color": "MediumAquaMarine"
         },
         "name": "selectively_logged_B",
         "offsetgroup": "selectively_logged_B",
         "orientation": "v",
         "showlegend": true,
         "text": [
          "E1 648",
          "D100 641",
          "D100 641",
          "E100 edge",
          "E1 648"
         ],
         "textposition": "auto",
         "type": "bar",
         "x": [
          "PC0000_0181",
          "PC0000_0249",
          "PC0000_0250",
          "PC0000_0279",
          "AD0000_0045"
         ],
         "xaxis": "x",
         "y": [
          38629.77889942605,
          36926.11325720513,
          38771.580640789245,
          38553.54981298348,
          40394.649498570136
         ],
         "yaxis": "y"
        },
        {
         "alignmentgroup": "True",
         "hovertemplate": "Site_type=selectively_logged_A<br>filename=%{x}<br>Acoustic_Complexity_Index__main_value=%{y}<br>Site=%{text}<extra></extra>",
         "legendgroup": "selectively_logged_A",
         "marker": {
          "color": "MediumSeaGreen"
         },
         "name": "selectively_logged_A",
         "offsetgroup": "selectively_logged_A",
         "orientation": "v",
         "showlegend": true,
         "text": [
          "B10",
          "B10",
          "C10 621",
          "B10",
          "C10 621"
         ],
         "textposition": "auto",
         "type": "bar",
         "x": [
          "PC0000_0187",
          "PC0000_0189",
          "PC0001_0010",
          "PC0001_0073",
          "PC0001_0828"
         ],
         "xaxis": "x",
         "y": [
          38148.87492386964,
          36093.28982528564,
          40279.03911076766,
          37065.545675324836,
          38440.798606294535
         ],
         "yaxis": "y"
        },
        {
         "alignmentgroup": "True",
         "hovertemplate": "Site_type=old_growth_forest<br>filename=%{x}<br>Acoustic_Complexity_Index__main_value=%{y}<br>Site=%{text}<extra></extra>",
         "legendgroup": "old_growth_forest",
         "marker": {
          "color": "green"
         },
         "name": "old_growth_forest",
         "offsetgroup": "old_growth_forest",
         "orientation": "v",
         "showlegend": true,
         "text": [
          "Riparian 2",
          "VJR 1",
          "VJR 1",
          "VJR 2"
         ],
         "textposition": "auto",
         "type": "bar",
         "x": [
          "PC0001_0005",
          "PC0001_0091",
          "PC0001_0093",
          "PC0001_1178"
         ],
         "xaxis": "x",
         "y": [
          36528.071831454894,
          36650.53327122272,
          36881.84377326063,
          36856.63962720549
         ],
         "yaxis": "y"
        }
       ],
       "layout": {
        "autosize": true,
        "barmode": "relative",
        "legend": {
         "title": {
          "text": "Site_type"
         },
         "tracegroupgap": 0
        },
        "margin": {
         "t": 60
        },
        "template": {
         "data": {
          "bar": [
           {
            "error_x": {
             "color": "#2a3f5f"
            },
            "error_y": {
             "color": "#2a3f5f"
            },
            "marker": {
             "line": {
              "color": "#E5ECF6",
              "width": 0.5
             }
            },
            "type": "bar"
           }
          ],
          "barpolar": [
           {
            "marker": {
             "line": {
              "color": "#E5ECF6",
              "width": 0.5
             }
            },
            "type": "barpolar"
           }
          ],
          "carpet": [
           {
            "aaxis": {
             "endlinecolor": "#2a3f5f",
             "gridcolor": "white",
             "linecolor": "white",
             "minorgridcolor": "white",
             "startlinecolor": "#2a3f5f"
            },
            "baxis": {
             "endlinecolor": "#2a3f5f",
             "gridcolor": "white",
             "linecolor": "white",
             "minorgridcolor": "white",
             "startlinecolor": "#2a3f5f"
            },
            "type": "carpet"
           }
          ],
          "choropleth": [
           {
            "colorbar": {
             "outlinewidth": 0,
             "ticks": ""
            },
            "type": "choropleth"
           }
          ],
          "contour": [
           {
            "colorbar": {
             "outlinewidth": 0,
             "ticks": ""
            },
            "colorscale": [
             [
              0,
              "#0d0887"
             ],
             [
              0.1111111111111111,
              "#46039f"
             ],
             [
              0.2222222222222222,
              "#7201a8"
             ],
             [
              0.3333333333333333,
              "#9c179e"
             ],
             [
              0.4444444444444444,
              "#bd3786"
             ],
             [
              0.5555555555555556,
              "#d8576b"
             ],
             [
              0.6666666666666666,
              "#ed7953"
             ],
             [
              0.7777777777777778,
              "#fb9f3a"
             ],
             [
              0.8888888888888888,
              "#fdca26"
             ],
             [
              1,
              "#f0f921"
             ]
            ],
            "type": "contour"
           }
          ],
          "contourcarpet": [
           {
            "colorbar": {
             "outlinewidth": 0,
             "ticks": ""
            },
            "type": "contourcarpet"
           }
          ],
          "heatmap": [
           {
            "colorbar": {
             "outlinewidth": 0,
             "ticks": ""
            },
            "colorscale": [
             [
              0,
              "#0d0887"
             ],
             [
              0.1111111111111111,
              "#46039f"
             ],
             [
              0.2222222222222222,
              "#7201a8"
             ],
             [
              0.3333333333333333,
              "#9c179e"
             ],
             [
              0.4444444444444444,
              "#bd3786"
             ],
             [
              0.5555555555555556,
              "#d8576b"
             ],
             [
              0.6666666666666666,
              "#ed7953"
             ],
             [
              0.7777777777777778,
              "#fb9f3a"
             ],
             [
              0.8888888888888888,
              "#fdca26"
             ],
             [
              1,
              "#f0f921"
             ]
            ],
            "type": "heatmap"
           }
          ],
          "heatmapgl": [
           {
            "colorbar": {
             "outlinewidth": 0,
             "ticks": ""
            },
            "colorscale": [
             [
              0,
              "#0d0887"
             ],
             [
              0.1111111111111111,
              "#46039f"
             ],
             [
              0.2222222222222222,
              "#7201a8"
             ],
             [
              0.3333333333333333,
              "#9c179e"
             ],
             [
              0.4444444444444444,
              "#bd3786"
             ],
             [
              0.5555555555555556,
              "#d8576b"
             ],
             [
              0.6666666666666666,
              "#ed7953"
             ],
             [
              0.7777777777777778,
              "#fb9f3a"
             ],
             [
              0.8888888888888888,
              "#fdca26"
             ],
             [
              1,
              "#f0f921"
             ]
            ],
            "type": "heatmapgl"
           }
          ],
          "histogram": [
           {
            "marker": {
             "colorbar": {
              "outlinewidth": 0,
              "ticks": ""
             }
            },
            "type": "histogram"
           }
          ],
          "histogram2d": [
           {
            "colorbar": {
             "outlinewidth": 0,
             "ticks": ""
            },
            "colorscale": [
             [
              0,
              "#0d0887"
             ],
             [
              0.1111111111111111,
              "#46039f"
             ],
             [
              0.2222222222222222,
              "#7201a8"
             ],
             [
              0.3333333333333333,
              "#9c179e"
             ],
             [
              0.4444444444444444,
              "#bd3786"
             ],
             [
              0.5555555555555556,
              "#d8576b"
             ],
             [
              0.6666666666666666,
              "#ed7953"
             ],
             [
              0.7777777777777778,
              "#fb9f3a"
             ],
             [
              0.8888888888888888,
              "#fdca26"
             ],
             [
              1,
              "#f0f921"
             ]
            ],
            "type": "histogram2d"
           }
          ],
          "histogram2dcontour": [
           {
            "colorbar": {
             "outlinewidth": 0,
             "ticks": ""
            },
            "colorscale": [
             [
              0,
              "#0d0887"
             ],
             [
              0.1111111111111111,
              "#46039f"
             ],
             [
              0.2222222222222222,
              "#7201a8"
             ],
             [
              0.3333333333333333,
              "#9c179e"
             ],
             [
              0.4444444444444444,
              "#bd3786"
             ],
             [
              0.5555555555555556,
              "#d8576b"
             ],
             [
              0.6666666666666666,
              "#ed7953"
             ],
             [
              0.7777777777777778,
              "#fb9f3a"
             ],
             [
              0.8888888888888888,
              "#fdca26"
             ],
             [
              1,
              "#f0f921"
             ]
            ],
            "type": "histogram2dcontour"
           }
          ],
          "mesh3d": [
           {
            "colorbar": {
             "outlinewidth": 0,
             "ticks": ""
            },
            "type": "mesh3d"
           }
          ],
          "parcoords": [
           {
            "line": {
             "colorbar": {
              "outlinewidth": 0,
              "ticks": ""
             }
            },
            "type": "parcoords"
           }
          ],
          "pie": [
           {
            "automargin": true,
            "type": "pie"
           }
          ],
          "scatter": [
           {
            "marker": {
             "colorbar": {
              "outlinewidth": 0,
              "ticks": ""
             }
            },
            "type": "scatter"
           }
          ],
          "scatter3d": [
           {
            "line": {
             "colorbar": {
              "outlinewidth": 0,
              "ticks": ""
             }
            },
            "marker": {
             "colorbar": {
              "outlinewidth": 0,
              "ticks": ""
             }
            },
            "type": "scatter3d"
           }
          ],
          "scattercarpet": [
           {
            "marker": {
             "colorbar": {
              "outlinewidth": 0,
              "ticks": ""
             }
            },
            "type": "scattercarpet"
           }
          ],
          "scattergeo": [
           {
            "marker": {
             "colorbar": {
              "outlinewidth": 0,
              "ticks": ""
             }
            },
            "type": "scattergeo"
           }
          ],
          "scattergl": [
           {
            "marker": {
             "colorbar": {
              "outlinewidth": 0,
              "ticks": ""
             }
            },
            "type": "scattergl"
           }
          ],
          "scattermapbox": [
           {
            "marker": {
             "colorbar": {
              "outlinewidth": 0,
              "ticks": ""
             }
            },
            "type": "scattermapbox"
           }
          ],
          "scatterpolar": [
           {
            "marker": {
             "colorbar": {
              "outlinewidth": 0,
              "ticks": ""
             }
            },
            "type": "scatterpolar"
           }
          ],
          "scatterpolargl": [
           {
            "marker": {
             "colorbar": {
              "outlinewidth": 0,
              "ticks": ""
             }
            },
            "type": "scatterpolargl"
           }
          ],
          "scatterternary": [
           {
            "marker": {
             "colorbar": {
              "outlinewidth": 0,
              "ticks": ""
             }
            },
            "type": "scatterternary"
           }
          ],
          "surface": [
           {
            "colorbar": {
             "outlinewidth": 0,
             "ticks": ""
            },
            "colorscale": [
             [
              0,
              "#0d0887"
             ],
             [
              0.1111111111111111,
              "#46039f"
             ],
             [
              0.2222222222222222,
              "#7201a8"
             ],
             [
              0.3333333333333333,
              "#9c179e"
             ],
             [
              0.4444444444444444,
              "#bd3786"
             ],
             [
              0.5555555555555556,
              "#d8576b"
             ],
             [
              0.6666666666666666,
              "#ed7953"
             ],
             [
              0.7777777777777778,
              "#fb9f3a"
             ],
             [
              0.8888888888888888,
              "#fdca26"
             ],
             [
              1,
              "#f0f921"
             ]
            ],
            "type": "surface"
           }
          ],
          "table": [
           {
            "cells": {
             "fill": {
              "color": "#EBF0F8"
             },
             "line": {
              "color": "white"
             }
            },
            "header": {
             "fill": {
              "color": "#C8D4E3"
             },
             "line": {
              "color": "white"
             }
            },
            "type": "table"
           }
          ]
         },
         "layout": {
          "annotationdefaults": {
           "arrowcolor": "#2a3f5f",
           "arrowhead": 0,
           "arrowwidth": 1
          },
          "autotypenumbers": "strict",
          "coloraxis": {
           "colorbar": {
            "outlinewidth": 0,
            "ticks": ""
           }
          },
          "colorscale": {
           "diverging": [
            [
             0,
             "#8e0152"
            ],
            [
             0.1,
             "#c51b7d"
            ],
            [
             0.2,
             "#de77ae"
            ],
            [
             0.3,
             "#f1b6da"
            ],
            [
             0.4,
             "#fde0ef"
            ],
            [
             0.5,
             "#f7f7f7"
            ],
            [
             0.6,
             "#e6f5d0"
            ],
            [
             0.7,
             "#b8e186"
            ],
            [
             0.8,
             "#7fbc41"
            ],
            [
             0.9,
             "#4d9221"
            ],
            [
             1,
             "#276419"
            ]
           ],
           "sequential": [
            [
             0,
             "#0d0887"
            ],
            [
             0.1111111111111111,
             "#46039f"
            ],
            [
             0.2222222222222222,
             "#7201a8"
            ],
            [
             0.3333333333333333,
             "#9c179e"
            ],
            [
             0.4444444444444444,
             "#bd3786"
            ],
            [
             0.5555555555555556,
             "#d8576b"
            ],
            [
             0.6666666666666666,
             "#ed7953"
            ],
            [
             0.7777777777777778,
             "#fb9f3a"
            ],
            [
             0.8888888888888888,
             "#fdca26"
            ],
            [
             1,
             "#f0f921"
            ]
           ],
           "sequentialminus": [
            [
             0,
             "#0d0887"
            ],
            [
             0.1111111111111111,
             "#46039f"
            ],
            [
             0.2222222222222222,
             "#7201a8"
            ],
            [
             0.3333333333333333,
             "#9c179e"
            ],
            [
             0.4444444444444444,
             "#bd3786"
            ],
            [
             0.5555555555555556,
             "#d8576b"
            ],
            [
             0.6666666666666666,
             "#ed7953"
            ],
            [
             0.7777777777777778,
             "#fb9f3a"
            ],
            [
             0.8888888888888888,
             "#fdca26"
            ],
            [
             1,
             "#f0f921"
            ]
           ]
          },
          "colorway": [
           "#636efa",
           "#EF553B",
           "#00cc96",
           "#ab63fa",
           "#FFA15A",
           "#19d3f3",
           "#FF6692",
           "#B6E880",
           "#FF97FF",
           "#FECB52"
          ],
          "font": {
           "color": "#2a3f5f"
          },
          "geo": {
           "bgcolor": "white",
           "lakecolor": "white",
           "landcolor": "#E5ECF6",
           "showlakes": true,
           "showland": true,
           "subunitcolor": "white"
          },
          "hoverlabel": {
           "align": "left"
          },
          "hovermode": "closest",
          "mapbox": {
           "style": "light"
          },
          "paper_bgcolor": "white",
          "plot_bgcolor": "#E5ECF6",
          "polar": {
           "angularaxis": {
            "gridcolor": "white",
            "linecolor": "white",
            "ticks": ""
           },
           "bgcolor": "#E5ECF6",
           "radialaxis": {
            "gridcolor": "white",
            "linecolor": "white",
            "ticks": ""
           }
          },
          "scene": {
           "xaxis": {
            "backgroundcolor": "#E5ECF6",
            "gridcolor": "white",
            "gridwidth": 2,
            "linecolor": "white",
            "showbackground": true,
            "ticks": "",
            "zerolinecolor": "white"
           },
           "yaxis": {
            "backgroundcolor": "#E5ECF6",
            "gridcolor": "white",
            "gridwidth": 2,
            "linecolor": "white",
            "showbackground": true,
            "ticks": "",
            "zerolinecolor": "white"
           },
           "zaxis": {
            "backgroundcolor": "#E5ECF6",
            "gridcolor": "white",
            "gridwidth": 2,
            "linecolor": "white",
            "showbackground": true,
            "ticks": "",
            "zerolinecolor": "white"
           }
          },
          "shapedefaults": {
           "line": {
            "color": "#2a3f5f"
           }
          },
          "ternary": {
           "aaxis": {
            "gridcolor": "white",
            "linecolor": "white",
            "ticks": ""
           },
           "baxis": {
            "gridcolor": "white",
            "linecolor": "white",
            "ticks": ""
           },
           "bgcolor": "#E5ECF6",
           "caxis": {
            "gridcolor": "white",
            "linecolor": "white",
            "ticks": ""
           }
          },
          "title": {
           "x": 0.05
          },
          "xaxis": {
           "automargin": true,
           "gridcolor": "white",
           "linecolor": "white",
           "ticks": "",
           "title": {
            "standoff": 15
           },
           "zerolinecolor": "white",
           "zerolinewidth": 2
          },
          "yaxis": {
           "automargin": true,
           "gridcolor": "white",
           "linecolor": "white",
           "ticks": "",
           "title": {
            "standoff": 15
           },
           "zerolinecolor": "white",
           "zerolinewidth": 2
          }
         }
        },
        "xaxis": {
         "anchor": "y",
         "autorange": true,
         "categoryorder": "total descending",
         "domain": [
          0,
          1
         ],
         "range": [
          -0.5,
          16.5
         ],
         "title": {
          "text": "filename"
         },
         "type": "category"
        },
        "yaxis": {
         "anchor": "x",
         "autorange": true,
         "domain": [
          0,
          1
         ],
         "range": [
          0,
          44126.84483800743
         ],
         "title": {
          "text": "Acoustic_Complexity_Index__main_value"
         },
         "type": "linear"
        }
       }
      },
      "image/png": "[encoded data removed]",
      "text/html": [
       "<div>                            <div id=\"75b87bc2-97d8-4620-bd80-b1e6b6eff06d\" class=\"plotly-graph-div\" style=\"height:525px; width:100%;\"></div>            <script type=\"text/javascript\">                require([\"plotly\"], function(Plotly) {                    window.PLOTLYENV=window.PLOTLYENV || {};                                    if (document.getElementById(\"75b87bc2-97d8-4620-bd80-b1e6b6eff06d\")) {                    Plotly.newPlot(                        \"75b87bc2-97d8-4620-bd80-b1e6b6eff06d\",                        [{\"alignmentgroup\": \"True\", \"hovertemplate\": \"Site_type=salvage_logged_forest<br>filename=%{x}<br>Acoustic_Complexity_Index__main_value=%{y}<br>Site=%{text}<extra></extra>\", \"legendgroup\": \"salvage_logged_forest\", \"marker\": {\"color\": \"LimeGreen\"}, \"name\": \"salvage_logged_forest\", \"offsetgroup\": \"salvage_logged_forest\", \"orientation\": \"v\", \"showlegend\": true, \"text\": [\"D Matrix\", \"D Matrix\", \"C Matrix\"], \"textposition\": \"auto\", \"type\": \"bar\", \"x\": [\"PC0000_0176\", \"PC0000_0177\", \"PC0000_0276\"], \"xaxis\": \"x\", \"y\": [39128.36974579912, 37791.148398442245, 41920.502596107064], \"yaxis\": \"y\"}, {\"alignmentgroup\": \"True\", \"hovertemplate\": \"Site_type=selectively_logged_B<br>filename=%{x}<br>Acoustic_Complexity_Index__main_value=%{y}<br>Site=%{text}<extra></extra>\", \"legendgroup\": \"selectively_logged_B\", \"marker\": {\"color\": \"MediumAquaMarine\"}, \"name\": \"selectively_logged_B\", \"offsetgroup\": \"selectively_logged_B\", \"orientation\": \"v\", \"showlegend\": true, \"text\": [\"E1 648\", \"D100 641\", \"D100 641\", \"E100 edge\", \"E1 648\"], \"textposition\": \"auto\", \"type\": \"bar\", \"x\": [\"PC0000_0181\", \"PC0000_0249\", \"PC0000_0250\", \"PC0000_0279\", \"AD0000_0045\"], \"xaxis\": \"x\", \"y\": [38629.77889942605, 36926.11325720513, 38771.580640789245, 38553.54981298348, 40394.649498570136], \"yaxis\": \"y\"}, {\"alignmentgroup\": \"True\", \"hovertemplate\": \"Site_type=selectively_logged_A<br>filename=%{x}<br>Acoustic_Complexity_Index__main_value=%{y}<br>Site=%{text}<extra></extra>\", \"legendgroup\": \"selectively_logged_A\", \"marker\": {\"color\": \"MediumSeaGreen\"}, \"name\": \"selectively_logged_A\", \"offsetgroup\": \"selectively_logged_A\", \"orientation\": \"v\", \"showlegend\": true, \"text\": [\"B10\", \"B10\", \"C10 621\", \"B10\", \"C10 621\"], \"textposition\": \"auto\", \"type\": \"bar\", \"x\": [\"PC0000_0187\", \"PC0000_0189\", \"PC0001_0010\", \"PC0001_0073\", \"PC0001_0828\"], \"xaxis\": \"x\", \"y\": [38148.87492386964, 36093.28982528564, 40279.03911076766, 37065.545675324836, 38440.798606294535], \"yaxis\": \"y\"}, {\"alignmentgroup\": \"True\", \"hovertemplate\": \"Site_type=old_growth_forest<br>filename=%{x}<br>Acoustic_Complexity_Index__main_value=%{y}<br>Site=%{text}<extra></extra>\", \"legendgroup\": \"old_growth_forest\", \"marker\": {\"color\": \"green\"}, \"name\": \"old_growth_forest\", \"offsetgroup\": \"old_growth_forest\", \"orientation\": \"v\", \"showlegend\": true, \"text\": [\"Riparian 2\", \"VJR 1\", \"VJR 1\", \"VJR 2\"], \"textposition\": \"auto\", \"type\": \"bar\", \"x\": [\"PC0001_0005\", \"PC0001_0091\", \"PC0001_0093\", \"PC0001_1178\"], \"xaxis\": \"x\", \"y\": [36528.071831454894, 36650.53327122272, 36881.84377326063, 36856.63962720549], \"yaxis\": \"y\"}],                        {\"barmode\": \"relative\", \"legend\": {\"title\": {\"text\": \"Site_type\"}, \"tracegroupgap\": 0}, \"margin\": {\"t\": 60}, \"template\": {\"data\": {\"bar\": [{\"error_x\": {\"color\": \"#2a3f5f\"}, \"error_y\": {\"color\": \"#2a3f5f\"}, \"marker\": {\"line\": {\"color\": \"#E5ECF6\", \"width\": 0.5}}, \"type\": \"bar\"}], \"barpolar\": [{\"marker\": {\"line\": {\"color\": \"#E5ECF6\", \"width\": 0.5}}, \"type\": \"barpolar\"}], \"carpet\": [{\"aaxis\": {\"endlinecolor\": \"#2a3f5f\", \"gridcolor\": \"white\", \"linecolor\": \"white\", \"minorgridcolor\": \"white\", \"startlinecolor\": \"#2a3f5f\"}, \"baxis\": {\"endlinecolor\": \"#2a3f5f\", \"gridcolor\": \"white\", \"linecolor\": \"white\", \"minorgridcolor\": \"white\", \"startlinecolor\": \"#2a3f5f\"}, \"type\": \"carpet\"}], \"choropleth\": [{\"colorbar\": {\"outlinewidth\": 0, \"ticks\": \"\"}, \"type\": \"choropleth\"}], \"contour\": [{\"colorbar\": {\"outlinewidth\": 0, \"ticks\": \"\"}, \"colorscale\": [[0.0, \"#0d0887\"], [0.1111111111111111, \"#46039f\"], [0.2222222222222222, \"#7201a8\"], [0.3333333333333333, \"#9c179e\"], [0.4444444444444444, \"#bd3786\"], [0.5555555555555556, \"#d8576b\"], [0.6666666666666666, \"#ed7953\"], [0.7777777777777778, \"#fb9f3a\"], [0.8888888888888888, \"#fdca26\"], [1.0, \"#f0f921\"]], \"type\": \"contour\"}], \"contourcarpet\": [{\"colorbar\": {\"outlinewidth\": 0, \"ticks\": \"\"}, \"type\": \"contourcarpet\"}], \"heatmap\": [{\"colorbar\": {\"outlinewidth\": 0, \"ticks\": \"\"}, \"colorscale\": [[0.0, \"#0d0887\"], [0.1111111111111111, \"#46039f\"], [0.2222222222222222, \"#7201a8\"], [0.3333333333333333, \"#9c179e\"], [0.4444444444444444, \"#bd3786\"], [0.5555555555555556, \"#d8576b\"], [0.6666666666666666, \"#ed7953\"], [0.7777777777777778, \"#fb9f3a\"], [0.8888888888888888, \"#fdca26\"], [1.0, \"#f0f921\"]], \"type\": \"heatmap\"}], \"heatmapgl\": [{\"colorbar\": {\"outlinewidth\": 0, \"ticks\": \"\"}, \"colorscale\": [[0.0, \"#0d0887\"], [0.1111111111111111, \"#46039f\"], [0.2222222222222222, \"#7201a8\"], [0.3333333333333333, \"#9c179e\"], [0.4444444444444444, \"#bd3786\"], [0.5555555555555556, \"#d8576b\"], [0.6666666666666666, \"#ed7953\"], [0.7777777777777778, \"#fb9f3a\"], [0.8888888888888888, \"#fdca26\"], [1.0, \"#f0f921\"]], \"type\": \"heatmapgl\"}], \"histogram\": [{\"marker\": {\"colorbar\": {\"outlinewidth\": 0, \"ticks\": \"\"}}, \"type\": \"histogram\"}], \"histogram2d\": [{\"colorbar\": {\"outlinewidth\": 0, \"ticks\": \"\"}, \"colorscale\": [[0.0, \"#0d0887\"], [0.1111111111111111, \"#46039f\"], [0.2222222222222222, \"#7201a8\"], [0.3333333333333333, \"#9c179e\"], [0.4444444444444444, \"#bd3786\"], [0.5555555555555556, \"#d8576b\"], [0.6666666666666666, \"#ed7953\"], [0.7777777777777778, \"#fb9f3a\"], [0.8888888888888888, \"#fdca26\"], [1.0, \"#f0f921\"]], \"type\": \"histogram2d\"}], \"histogram2dcontour\": [{\"colorbar\": {\"outlinewidth\": 0, \"ticks\": \"\"}, \"colorscale\": [[0.0, \"#0d0887\"], [0.1111111111111111, \"#46039f\"], [0.2222222222222222, \"#7201a8\"], [0.3333333333333333, \"#9c179e\"], [0.4444444444444444, \"#bd3786\"], [0.5555555555555556, \"#d8576b\"], [0.6666666666666666, \"#ed7953\"], [0.7777777777777778, \"#fb9f3a\"], [0.8888888888888888, \"#fdca26\"], [1.0, \"#f0f921\"]], \"type\": \"histogram2dcontour\"}], \"mesh3d\": [{\"colorbar\": {\"outlinewidth\": 0, \"ticks\": \"\"}, \"type\": \"mesh3d\"}], \"parcoords\": [{\"line\": {\"colorbar\": {\"outlinewidth\": 0, \"ticks\": \"\"}}, \"type\": \"parcoords\"}], \"pie\": [{\"automargin\": true, \"type\": \"pie\"}], \"scatter\": [{\"marker\": {\"colorbar\": {\"outlinewidth\": 0, \"ticks\": \"\"}}, \"type\": \"scatter\"}], \"scatter3d\": [{\"line\": {\"colorbar\": {\"outlinewidth\": 0, \"ticks\": \"\"}}, \"marker\": {\"colorbar\": {\"outlinewidth\": 0, \"ticks\": \"\"}}, \"type\": \"scatter3d\"}], \"scattercarpet\": [{\"marker\": {\"colorbar\": {\"outlinewidth\": 0, \"ticks\": \"\"}}, \"type\": \"scattercarpet\"}], \"scattergeo\": [{\"marker\": {\"colorbar\": {\"outlinewidth\": 0, \"ticks\": \"\"}}, \"type\": \"scattergeo\"}], \"scattergl\": [{\"marker\": {\"colorbar\": {\"outlinewidth\": 0, \"ticks\": \"\"}}, \"type\": \"scattergl\"}], \"scattermapbox\": [{\"marker\": {\"colorbar\": {\"outlinewidth\": 0, \"ticks\": \"\"}}, \"type\": \"scattermapbox\"}], \"scatterpolar\": [{\"marker\": {\"colorbar\": {\"outlinewidth\": 0, \"ticks\": \"\"}}, \"type\": \"scatterpolar\"}], \"scatterpolargl\": [{\"marker\": {\"colorbar\": {\"outlinewidth\": 0, \"ticks\": \"\"}}, \"type\": \"scatterpolargl\"}], \"scatterternary\": [{\"marker\": {\"colorbar\": {\"outlinewidth\": 0, \"ticks\": \"\"}}, \"type\": \"scatterternary\"}], \"surface\": [{\"colorbar\": {\"outlinewidth\": 0, \"ticks\": \"\"}, \"colorscale\": [[0.0, \"#0d0887\"], [0.1111111111111111, \"#46039f\"], [0.2222222222222222, \"#7201a8\"], [0.3333333333333333, \"#9c179e\"], [0.4444444444444444, \"#bd3786\"], [0.5555555555555556, \"#d8576b\"], [0.6666666666666666, \"#ed7953\"], [0.7777777777777778, \"#fb9f3a\"], [0.8888888888888888, \"#fdca26\"], [1.0, \"#f0f921\"]], \"type\": \"surface\"}], \"table\": [{\"cells\": {\"fill\": {\"color\": \"#EBF0F8\"}, \"line\": {\"color\": \"white\"}}, \"header\": {\"fill\": {\"color\": \"#C8D4E3\"}, \"line\": {\"color\": \"white\"}}, \"type\": \"table\"}]}, \"layout\": {\"annotationdefaults\": {\"arrowcolor\": \"#2a3f5f\", \"arrowhead\": 0, \"arrowwidth\": 1}, \"autotypenumbers\": \"strict\", \"coloraxis\": {\"colorbar\": {\"outlinewidth\": 0, \"ticks\": \"\"}}, \"colorscale\": {\"diverging\": [[0, \"#8e0152\"], [0.1, \"#c51b7d\"], [0.2, \"#de77ae\"], [0.3, \"#f1b6da\"], [0.4, \"#fde0ef\"], [0.5, \"#f7f7f7\"], [0.6, \"#e6f5d0\"], [0.7, \"#b8e186\"], [0.8, \"#7fbc41\"], [0.9, \"#4d9221\"], [1, \"#276419\"]], \"sequential\": [[0.0, \"#0d0887\"], [0.1111111111111111, \"#46039f\"], [0.2222222222222222, \"#7201a8\"], [0.3333333333333333, \"#9c179e\"], [0.4444444444444444, \"#bd3786\"], [0.5555555555555556, \"#d8576b\"], [0.6666666666666666, \"#ed7953\"], [0.7777777777777778, \"#fb9f3a\"], [0.8888888888888888, \"#fdca26\"], [1.0, \"#f0f921\"]], \"sequentialminus\": [[0.0, \"#0d0887\"], [0.1111111111111111, \"#46039f\"], [0.2222222222222222, \"#7201a8\"], [0.3333333333333333, \"#9c179e\"], [0.4444444444444444, \"#bd3786\"], [0.5555555555555556, \"#d8576b\"], [0.6666666666666666, \"#ed7953\"], [0.7777777777777778, \"#fb9f3a\"], [0.8888888888888888, \"#fdca26\"], [1.0, \"#f0f921\"]]}, \"colorway\": [\"#636efa\", \"#EF553B\", \"#00cc96\", \"#ab63fa\", \"#FFA15A\", \"#19d3f3\", \"#FF6692\", \"#B6E880\", \"#FF97FF\", \"#FECB52\"], \"font\": {\"color\": \"#2a3f5f\"}, \"geo\": {\"bgcolor\": \"white\", \"lakecolor\": \"white\", \"landcolor\": \"#E5ECF6\", \"showlakes\": true, \"showland\": true, \"subunitcolor\": \"white\"}, \"hoverlabel\": {\"align\": \"left\"}, \"hovermode\": \"closest\", \"mapbox\": {\"style\": \"light\"}, \"paper_bgcolor\": \"white\", \"plot_bgcolor\": \"#E5ECF6\", \"polar\": {\"angularaxis\": {\"gridcolor\": \"white\", \"linecolor\": \"white\", \"ticks\": \"\"}, \"bgcolor\": \"#E5ECF6\", \"radialaxis\": {\"gridcolor\": \"white\", \"linecolor\": \"white\", \"ticks\": \"\"}}, \"scene\": {\"xaxis\": {\"backgroundcolor\": \"#E5ECF6\", \"gridcolor\": \"white\", \"gridwidth\": 2, \"linecolor\": \"white\", \"showbackground\": true, \"ticks\": \"\", \"zerolinecolor\": \"white\"}, \"yaxis\": {\"backgroundcolor\": \"#E5ECF6\", \"gridcolor\": \"white\", \"gridwidth\": 2, \"linecolor\": \"white\", \"showbackground\": true, \"ticks\": \"\", \"zerolinecolor\": \"white\"}, \"zaxis\": {\"backgroundcolor\": \"#E5ECF6\", \"gridcolor\": \"white\", \"gridwidth\": 2, \"linecolor\": \"white\", \"showbackground\": true, \"ticks\": \"\", \"zerolinecolor\": \"white\"}}, \"shapedefaults\": {\"line\": {\"color\": \"#2a3f5f\"}}, \"ternary\": {\"aaxis\": {\"gridcolor\": \"white\", \"linecolor\": \"white\", \"ticks\": \"\"}, \"baxis\": {\"gridcolor\": \"white\", \"linecolor\": \"white\", \"ticks\": \"\"}, \"bgcolor\": \"#E5ECF6\", \"caxis\": {\"gridcolor\": \"white\", \"linecolor\": \"white\", \"ticks\": \"\"}}, \"title\": {\"x\": 0.05}, \"xaxis\": {\"automargin\": true, \"gridcolor\": \"white\", \"linecolor\": \"white\", \"ticks\": \"\", \"title\": {\"standoff\": 15}, \"zerolinecolor\": \"white\", \"zerolinewidth\": 2}, \"yaxis\": {\"automargin\": true, \"gridcolor\": \"white\", \"linecolor\": \"white\", \"ticks\": \"\", \"title\": {\"standoff\": 15}, \"zerolinecolor\": \"white\", \"zerolinewidth\": 2}}}, \"xaxis\": {\"anchor\": \"y\", \"categoryorder\": \"total descending\", \"domain\": [0.0, 1.0], \"title\": {\"text\": \"filename\"}}, \"yaxis\": {\"anchor\": \"x\", \"domain\": [0.0, 1.0], \"title\": {\"text\": \"Acoustic_Complexity_Index__main_value\"}}},                        {\"responsive\": true}                    ).then(function(){\n",
       "                            \n",
       "var gd = document.getElementById('75b87bc2-97d8-4620-bd80-b1e6b6eff06d');\n",
       "var x = new MutationObserver(function (mutations, observer) {{\n",
       "        var display = window.getComputedStyle(gd).display;\n",
       "        if (!display || display === 'none') {{\n",
       "            console.log([gd, 'removed!']);\n",
       "            Plotly.purge(gd);\n",
       "            observer.disconnect();\n",
       "        }}\n",
       "}});\n",
       "\n",
       "// Listen for the removal of the full notebook cells\n",
       "var notebookContainer = gd.closest('#notebook-container');\n",
       "if (notebookContainer) {{\n",
       "    x.observe(notebookContainer, {childList: true});\n",
       "}}\n",
       "\n",
       "// Listen for the clearing of the current output cell\n",
       "var outputEl = gd.closest('.output');\n",
       "if (outputEl) {{\n",
       "    x.observe(outputEl, {childList: true});\n",
       "}}\n",
       "\n",
       "                        })                };                });            </script>        </div>"
      ]
     },
     "metadata": {},
     "output_type": "display_data"
    }
   ],
   "source": [
    "fig = px.bar(dfmerged, \n",
    "             x = 'filename',\n",
    "             y = 'Acoustic_Complexity_Index__main_value', \n",
    "             color = 'Site_type', \n",
    "             color_discrete_map = color_discrete_map,\n",
    "             text = \"Site\"\n",
    "            )\n",
    "fig.update_layout(xaxis = {'categoryorder':'total descending'})\n",
    "\n",
    "fig.show()"
   ]
  },
  {
   "cell_type": "markdown",
   "id": "challenging-surveillance",
   "metadata": {},
   "source": [
    "### it seems like old_growth_forests indeed have lower values\n",
    "- or, we are looking at the wrong metric...\n",
    "- Acoustic_Complexity_Index__min is actually the single rounded value that is outputted why running the original funciton from the 'Acoustic_indices' repository\n"
   ]
  },
  {
   "cell_type": "code",
   "execution_count": 30,
   "id": "through-resident",
   "metadata": {},
   "outputs": [
    {
     "ename": "ValueError",
     "evalue": "Image generation requires the psutil package.\n\nInstall using pip:\n    $ pip install psutil\n\nInstall using conda:\n    $ conda install psutil\n",
     "output_type": "error",
     "traceback": [
      "\u001b[0;31m---------------------------------------------------------------------------\u001b[0m",
      "\u001b[0;31mValueError\u001b[0m                                Traceback (most recent call last)",
      "\u001b[0;32m<ipython-input-30-0ae4f8e97208>\u001b[0m in \u001b[0;36m<module>\u001b[0;34m\u001b[0m\n\u001b[1;32m      7\u001b[0m \u001b[0mfig\u001b[0m\u001b[0;34m.\u001b[0m\u001b[0mupdate_layout\u001b[0m\u001b[0;34m(\u001b[0m\u001b[0mxaxis\u001b[0m \u001b[0;34m=\u001b[0m\u001b[0;34m{\u001b[0m\u001b[0;34m'categoryorder'\u001b[0m\u001b[0;34m:\u001b[0m\u001b[0;34m'total descending'\u001b[0m\u001b[0;34m}\u001b[0m\u001b[0;34m)\u001b[0m\u001b[0;34m\u001b[0m\u001b[0;34m\u001b[0m\u001b[0m\n\u001b[1;32m      8\u001b[0m \u001b[0;34m\u001b[0m\u001b[0m\n\u001b[0;32m----> 9\u001b[0;31m \u001b[0mfig\u001b[0m\u001b[0;34m.\u001b[0m\u001b[0mshow\u001b[0m\u001b[0;34m(\u001b[0m\u001b[0;34m\"png\"\u001b[0m\u001b[0;34m)\u001b[0m\u001b[0;34m\u001b[0m\u001b[0;34m\u001b[0m\u001b[0m\n\u001b[0m",
      "\u001b[0;32m/Library/Frameworks/Python.framework/Versions/3.7/lib/python3.7/site-packages/plotly/basedatatypes.py\u001b[0m in \u001b[0;36mshow\u001b[0;34m(self, *args, **kwargs)\u001b[0m\n\u001b[1;32m   3395\u001b[0m         \u001b[0;32mimport\u001b[0m \u001b[0mplotly\u001b[0m\u001b[0;34m.\u001b[0m\u001b[0mio\u001b[0m \u001b[0;32mas\u001b[0m \u001b[0mpio\u001b[0m\u001b[0;34m\u001b[0m\u001b[0;34m\u001b[0m\u001b[0m\n\u001b[1;32m   3396\u001b[0m \u001b[0;34m\u001b[0m\u001b[0m\n\u001b[0;32m-> 3397\u001b[0;31m         \u001b[0;32mreturn\u001b[0m \u001b[0mpio\u001b[0m\u001b[0;34m.\u001b[0m\u001b[0mshow\u001b[0m\u001b[0;34m(\u001b[0m\u001b[0mself\u001b[0m\u001b[0;34m,\u001b[0m \u001b[0;34m*\u001b[0m\u001b[0margs\u001b[0m\u001b[0;34m,\u001b[0m \u001b[0;34m**\u001b[0m\u001b[0mkwargs\u001b[0m\u001b[0;34m)\u001b[0m\u001b[0;34m\u001b[0m\u001b[0;34m\u001b[0m\u001b[0m\n\u001b[0m\u001b[1;32m   3398\u001b[0m \u001b[0;34m\u001b[0m\u001b[0m\n\u001b[1;32m   3399\u001b[0m     \u001b[0;32mdef\u001b[0m \u001b[0mto_json\u001b[0m\u001b[0;34m(\u001b[0m\u001b[0mself\u001b[0m\u001b[0;34m,\u001b[0m \u001b[0;34m*\u001b[0m\u001b[0margs\u001b[0m\u001b[0;34m,\u001b[0m \u001b[0;34m**\u001b[0m\u001b[0mkwargs\u001b[0m\u001b[0;34m)\u001b[0m\u001b[0;34m:\u001b[0m\u001b[0;34m\u001b[0m\u001b[0;34m\u001b[0m\u001b[0m\n",
      "\u001b[0;32m/Library/Frameworks/Python.framework/Versions/3.7/lib/python3.7/site-packages/plotly/io/_renderers.py\u001b[0m in \u001b[0;36mshow\u001b[0;34m(fig, renderer, validate, **kwargs)\u001b[0m\n\u001b[1;32m    387\u001b[0m \u001b[0;34m\u001b[0m\u001b[0m\n\u001b[1;32m    388\u001b[0m     \u001b[0;31m# Mimetype renderers\u001b[0m\u001b[0;34m\u001b[0m\u001b[0;34m\u001b[0m\u001b[0;34m\u001b[0m\u001b[0m\n\u001b[0;32m--> 389\u001b[0;31m     \u001b[0mbundle\u001b[0m \u001b[0;34m=\u001b[0m \u001b[0mrenderers\u001b[0m\u001b[0;34m.\u001b[0m\u001b[0m_build_mime_bundle\u001b[0m\u001b[0;34m(\u001b[0m\u001b[0mfig_dict\u001b[0m\u001b[0;34m,\u001b[0m \u001b[0mrenderers_string\u001b[0m\u001b[0;34m=\u001b[0m\u001b[0mrenderer\u001b[0m\u001b[0;34m,\u001b[0m \u001b[0;34m**\u001b[0m\u001b[0mkwargs\u001b[0m\u001b[0;34m)\u001b[0m\u001b[0;34m\u001b[0m\u001b[0;34m\u001b[0m\u001b[0m\n\u001b[0m\u001b[1;32m    390\u001b[0m     \u001b[0;32mif\u001b[0m \u001b[0mbundle\u001b[0m\u001b[0;34m:\u001b[0m\u001b[0;34m\u001b[0m\u001b[0;34m\u001b[0m\u001b[0m\n\u001b[1;32m    391\u001b[0m         \u001b[0;32mif\u001b[0m \u001b[0;32mnot\u001b[0m \u001b[0mipython_display\u001b[0m\u001b[0;34m:\u001b[0m\u001b[0;34m\u001b[0m\u001b[0;34m\u001b[0m\u001b[0m\n",
      "\u001b[0;32m/Library/Frameworks/Python.framework/Versions/3.7/lib/python3.7/site-packages/plotly/io/_renderers.py\u001b[0m in \u001b[0;36m_build_mime_bundle\u001b[0;34m(self, fig_dict, renderers_string, **kwargs)\u001b[0m\n\u001b[1;32m    295\u001b[0m                         \u001b[0msetattr\u001b[0m\u001b[0;34m(\u001b[0m\u001b[0mrenderer\u001b[0m\u001b[0;34m,\u001b[0m \u001b[0mk\u001b[0m\u001b[0;34m,\u001b[0m \u001b[0mv\u001b[0m\u001b[0;34m)\u001b[0m\u001b[0;34m\u001b[0m\u001b[0;34m\u001b[0m\u001b[0m\n\u001b[1;32m    296\u001b[0m \u001b[0;34m\u001b[0m\u001b[0m\n\u001b[0;32m--> 297\u001b[0;31m                 \u001b[0mbundle\u001b[0m\u001b[0;34m.\u001b[0m\u001b[0mupdate\u001b[0m\u001b[0;34m(\u001b[0m\u001b[0mrenderer\u001b[0m\u001b[0;34m.\u001b[0m\u001b[0mto_mimebundle\u001b[0m\u001b[0;34m(\u001b[0m\u001b[0mfig_dict\u001b[0m\u001b[0;34m)\u001b[0m\u001b[0;34m)\u001b[0m\u001b[0;34m\u001b[0m\u001b[0;34m\u001b[0m\u001b[0m\n\u001b[0m\u001b[1;32m    298\u001b[0m \u001b[0;34m\u001b[0m\u001b[0m\n\u001b[1;32m    299\u001b[0m         \u001b[0;32mreturn\u001b[0m \u001b[0mbundle\u001b[0m\u001b[0;34m\u001b[0m\u001b[0;34m\u001b[0m\u001b[0m\n",
      "\u001b[0;32m/Library/Frameworks/Python.framework/Versions/3.7/lib/python3.7/site-packages/plotly/io/_base_renderers.py\u001b[0m in \u001b[0;36mto_mimebundle\u001b[0;34m(self, fig_dict)\u001b[0m\n\u001b[1;32m    132\u001b[0m             \u001b[0mscale\u001b[0m\u001b[0;34m=\u001b[0m\u001b[0mself\u001b[0m\u001b[0;34m.\u001b[0m\u001b[0mscale\u001b[0m\u001b[0;34m,\u001b[0m\u001b[0;34m\u001b[0m\u001b[0;34m\u001b[0m\u001b[0m\n\u001b[1;32m    133\u001b[0m             \u001b[0mvalidate\u001b[0m\u001b[0;34m=\u001b[0m\u001b[0;32mFalse\u001b[0m\u001b[0;34m,\u001b[0m\u001b[0;34m\u001b[0m\u001b[0;34m\u001b[0m\u001b[0m\n\u001b[0;32m--> 134\u001b[0;31m             \u001b[0mengine\u001b[0m\u001b[0;34m=\u001b[0m\u001b[0mself\u001b[0m\u001b[0;34m.\u001b[0m\u001b[0mengine\u001b[0m\u001b[0;34m,\u001b[0m\u001b[0;34m\u001b[0m\u001b[0;34m\u001b[0m\u001b[0m\n\u001b[0m\u001b[1;32m    135\u001b[0m         )\n\u001b[1;32m    136\u001b[0m \u001b[0;34m\u001b[0m\u001b[0m\n",
      "\u001b[0;32m/Library/Frameworks/Python.framework/Versions/3.7/lib/python3.7/site-packages/plotly/io/_kaleido.py\u001b[0m in \u001b[0;36mto_image\u001b[0;34m(fig, format, width, height, scale, validate, engine)\u001b[0m\n\u001b[1;32m    107\u001b[0m             \u001b[0mheight\u001b[0m\u001b[0;34m=\u001b[0m\u001b[0mheight\u001b[0m\u001b[0;34m,\u001b[0m\u001b[0;34m\u001b[0m\u001b[0;34m\u001b[0m\u001b[0m\n\u001b[1;32m    108\u001b[0m             \u001b[0mscale\u001b[0m\u001b[0;34m=\u001b[0m\u001b[0mscale\u001b[0m\u001b[0;34m,\u001b[0m\u001b[0;34m\u001b[0m\u001b[0;34m\u001b[0m\u001b[0m\n\u001b[0;32m--> 109\u001b[0;31m             \u001b[0mvalidate\u001b[0m\u001b[0;34m=\u001b[0m\u001b[0mvalidate\u001b[0m\u001b[0;34m,\u001b[0m\u001b[0;34m\u001b[0m\u001b[0;34m\u001b[0m\u001b[0m\n\u001b[0m\u001b[1;32m    110\u001b[0m         )\n\u001b[1;32m    111\u001b[0m     \u001b[0;32melif\u001b[0m \u001b[0mengine\u001b[0m \u001b[0;34m!=\u001b[0m \u001b[0;34m\"kaleido\"\u001b[0m\u001b[0;34m:\u001b[0m\u001b[0;34m\u001b[0m\u001b[0;34m\u001b[0m\u001b[0m\n",
      "\u001b[0;32m/Library/Frameworks/Python.framework/Versions/3.7/lib/python3.7/site-packages/plotly/io/_orca.py\u001b[0m in \u001b[0;36mto_image\u001b[0;34m(fig, format, width, height, scale, validate)\u001b[0m\n\u001b[1;32m   1533\u001b[0m     \u001b[0;31m# Make sure orca sever is running\u001b[0m\u001b[0;34m\u001b[0m\u001b[0;34m\u001b[0m\u001b[0;34m\u001b[0m\u001b[0m\n\u001b[1;32m   1534\u001b[0m     \u001b[0;31m# -------------------------------\u001b[0m\u001b[0;34m\u001b[0m\u001b[0;34m\u001b[0m\u001b[0;34m\u001b[0m\u001b[0m\n\u001b[0;32m-> 1535\u001b[0;31m     \u001b[0mensure_server\u001b[0m\u001b[0;34m(\u001b[0m\u001b[0;34m)\u001b[0m\u001b[0;34m\u001b[0m\u001b[0;34m\u001b[0m\u001b[0m\n\u001b[0m\u001b[1;32m   1536\u001b[0m \u001b[0;34m\u001b[0m\u001b[0m\n\u001b[1;32m   1537\u001b[0m     \u001b[0;31m# Handle defaults\u001b[0m\u001b[0;34m\u001b[0m\u001b[0;34m\u001b[0m\u001b[0;34m\u001b[0m\u001b[0m\n",
      "\u001b[0;32m/Library/Frameworks/Python.framework/Versions/3.7/lib/python3.7/site-packages/plotly/io/_orca.py\u001b[0m in \u001b[0;36mensure_server\u001b[0;34m()\u001b[0m\n\u001b[1;32m   1368\u001b[0m \u001b[0mInstall\u001b[0m \u001b[0musing\u001b[0m \u001b[0mconda\u001b[0m\u001b[0;34m:\u001b[0m\u001b[0;34m\u001b[0m\u001b[0;34m\u001b[0m\u001b[0m\n\u001b[1;32m   1369\u001b[0m     \u001b[0;31m$\u001b[0m \u001b[0mconda\u001b[0m \u001b[0minstall\u001b[0m \u001b[0mpsutil\u001b[0m\u001b[0;34m\u001b[0m\u001b[0;34m\u001b[0m\u001b[0m\n\u001b[0;32m-> 1370\u001b[0;31m \"\"\"\n\u001b[0m\u001b[1;32m   1371\u001b[0m         )\n\u001b[1;32m   1372\u001b[0m \u001b[0;34m\u001b[0m\u001b[0m\n",
      "\u001b[0;31mValueError\u001b[0m: Image generation requires the psutil package.\n\nInstall using pip:\n    $ pip install psutil\n\nInstall using conda:\n    $ conda install psutil\n"
     ]
    }
   ],
   "source": [
    "fig = px.bar(dfaxic6am, \n",
    "             x = 'Site', \n",
    "             y = 'Acoustic_Complexity_Index__min', \n",
    "             color = 'Site_type', \n",
    "             color_discrete_map = color_discrete_map,\n",
    "            )\n",
    "fig.update_layout(xaxis ={'categoryorder':'total descending'})\n",
    "\n",
    "fig.show(\"png\")"
   ]
  },
  {
   "cell_type": "code",
   "execution_count": 26,
   "id": "gothic-hamilton",
   "metadata": {},
   "outputs": [
    {
     "data": {
      "application/vnd.plotly.v1+json": {
       "config": {
        "plotlyServerURL": "https://plot.ly"
       },
       "data": [
        {
         "alignmentgroup": "True",
         "hovertemplate": "Site_type=salvage_logged_forest<br>filename=%{x}<br>Acoustic_Complexity_Index__min=%{y}<br>Site=%{text}<extra></extra>",
         "legendgroup": "salvage_logged_forest",
         "marker": {
          "color": "LimeGreen"
         },
         "name": "salvage_logged_forest",
         "offsetgroup": "salvage_logged_forest",
         "orientation": "v",
         "showlegend": true,
         "text": [
          "D Matrix",
          "D Matrix",
          "C Matrix"
         ],
         "textposition": "auto",
         "type": "bar",
         "x": [
          "PC0000_0176",
          "PC0000_0177",
          "PC0000_0276"
         ],
         "xaxis": "x",
         "y": [
          149.24728409402726,
          150.74015268422562,
          154.39379353607063
         ],
         "yaxis": "y"
        },
        {
         "alignmentgroup": "True",
         "hovertemplate": "Site_type=selectively_logged_B<br>filename=%{x}<br>Acoustic_Complexity_Index__min=%{y}<br>Site=%{text}<extra></extra>",
         "legendgroup": "selectively_logged_B",
         "marker": {
          "color": "MediumAquaMarine"
         },
         "name": "selectively_logged_B",
         "offsetgroup": "selectively_logged_B",
         "orientation": "v",
         "showlegend": true,
         "text": [
          "E1 648",
          "D100 641",
          "D100 641",
          "E100 edge",
          "E1 648"
         ],
         "textposition": "auto",
         "type": "bar",
         "x": [
          "PC0000_0181",
          "PC0000_0249",
          "PC0000_0250",
          "PC0000_0279",
          "AD0000_0045"
         ],
         "xaxis": "x",
         "y": [
          149.55748376314685,
          143.1291948131414,
          145.3314658372551,
          148.87805954907387,
          151.68942921038632
         ],
         "yaxis": "y"
        },
        {
         "alignmentgroup": "True",
         "hovertemplate": "Site_type=selectively_logged_A<br>filename=%{x}<br>Acoustic_Complexity_Index__min=%{y}<br>Site=%{text}<extra></extra>",
         "legendgroup": "selectively_logged_A",
         "marker": {
          "color": "MediumSeaGreen"
         },
         "name": "selectively_logged_A",
         "offsetgroup": "selectively_logged_A",
         "orientation": "v",
         "showlegend": true,
         "text": [
          "B10",
          "B10",
          "C10 621",
          "B10",
          "C10 621"
         ],
         "textposition": "auto",
         "type": "bar",
         "x": [
          "PC0000_0187",
          "PC0000_0189",
          "PC0001_0010",
          "PC0001_0073",
          "PC0001_0828"
         ],
         "xaxis": "x",
         "y": [
          148.94056545614353,
          140.74247068153156,
          154.31208576644673,
          143.79705445549112,
          150.5184305729573
         ],
         "yaxis": "y"
        },
        {
         "alignmentgroup": "True",
         "hovertemplate": "Site_type=old_growth_forest<br>filename=%{x}<br>Acoustic_Complexity_Index__min=%{y}<br>Site=%{text}<extra></extra>",
         "legendgroup": "old_growth_forest",
         "marker": {
          "color": "green"
         },
         "name": "old_growth_forest",
         "offsetgroup": "old_growth_forest",
         "orientation": "v",
         "showlegend": true,
         "text": [
          "Riparian 2",
          "VJR 1",
          "VJR 1",
          "VJR 2"
         ],
         "textposition": "auto",
         "type": "bar",
         "x": [
          "PC0001_0005",
          "PC0001_0091",
          "PC0001_0093",
          "PC0001_1178"
         ],
         "xaxis": "x",
         "y": [
          148.8047042661596,
          144.56468355996032,
          142.93380444124497,
          147.8116139711098
         ],
         "yaxis": "y"
        }
       ],
       "layout": {
        "autosize": true,
        "barmode": "relative",
        "legend": {
         "title": {
          "text": "Site_type"
         },
         "tracegroupgap": 0
        },
        "margin": {
         "t": 60
        },
        "template": {
         "data": {
          "bar": [
           {
            "error_x": {
             "color": "#2a3f5f"
            },
            "error_y": {
             "color": "#2a3f5f"
            },
            "marker": {
             "line": {
              "color": "#E5ECF6",
              "width": 0.5
             }
            },
            "type": "bar"
           }
          ],
          "barpolar": [
           {
            "marker": {
             "line": {
              "color": "#E5ECF6",
              "width": 0.5
             }
            },
            "type": "barpolar"
           }
          ],
          "carpet": [
           {
            "aaxis": {
             "endlinecolor": "#2a3f5f",
             "gridcolor": "white",
             "linecolor": "white",
             "minorgridcolor": "white",
             "startlinecolor": "#2a3f5f"
            },
            "baxis": {
             "endlinecolor": "#2a3f5f",
             "gridcolor": "white",
             "linecolor": "white",
             "minorgridcolor": "white",
             "startlinecolor": "#2a3f5f"
            },
            "type": "carpet"
           }
          ],
          "choropleth": [
           {
            "colorbar": {
             "outlinewidth": 0,
             "ticks": ""
            },
            "type": "choropleth"
           }
          ],
          "contour": [
           {
            "colorbar": {
             "outlinewidth": 0,
             "ticks": ""
            },
            "colorscale": [
             [
              0,
              "#0d0887"
             ],
             [
              0.1111111111111111,
              "#46039f"
             ],
             [
              0.2222222222222222,
              "#7201a8"
             ],
             [
              0.3333333333333333,
              "#9c179e"
             ],
             [
              0.4444444444444444,
              "#bd3786"
             ],
             [
              0.5555555555555556,
              "#d8576b"
             ],
             [
              0.6666666666666666,
              "#ed7953"
             ],
             [
              0.7777777777777778,
              "#fb9f3a"
             ],
             [
              0.8888888888888888,
              "#fdca26"
             ],
             [
              1,
              "#f0f921"
             ]
            ],
            "type": "contour"
           }
          ],
          "contourcarpet": [
           {
            "colorbar": {
             "outlinewidth": 0,
             "ticks": ""
            },
            "type": "contourcarpet"
           }
          ],
          "heatmap": [
           {
            "colorbar": {
             "outlinewidth": 0,
             "ticks": ""
            },
            "colorscale": [
             [
              0,
              "#0d0887"
             ],
             [
              0.1111111111111111,
              "#46039f"
             ],
             [
              0.2222222222222222,
              "#7201a8"
             ],
             [
              0.3333333333333333,
              "#9c179e"
             ],
             [
              0.4444444444444444,
              "#bd3786"
             ],
             [
              0.5555555555555556,
              "#d8576b"
             ],
             [
              0.6666666666666666,
              "#ed7953"
             ],
             [
              0.7777777777777778,
              "#fb9f3a"
             ],
             [
              0.8888888888888888,
              "#fdca26"
             ],
             [
              1,
              "#f0f921"
             ]
            ],
            "type": "heatmap"
           }
          ],
          "heatmapgl": [
           {
            "colorbar": {
             "outlinewidth": 0,
             "ticks": ""
            },
            "colorscale": [
             [
              0,
              "#0d0887"
             ],
             [
              0.1111111111111111,
              "#46039f"
             ],
             [
              0.2222222222222222,
              "#7201a8"
             ],
             [
              0.3333333333333333,
              "#9c179e"
             ],
             [
              0.4444444444444444,
              "#bd3786"
             ],
             [
              0.5555555555555556,
              "#d8576b"
             ],
             [
              0.6666666666666666,
              "#ed7953"
             ],
             [
              0.7777777777777778,
              "#fb9f3a"
             ],
             [
              0.8888888888888888,
              "#fdca26"
             ],
             [
              1,
              "#f0f921"
             ]
            ],
            "type": "heatmapgl"
           }
          ],
          "histogram": [
           {
            "marker": {
             "colorbar": {
              "outlinewidth": 0,
              "ticks": ""
             }
            },
            "type": "histogram"
           }
          ],
          "histogram2d": [
           {
            "colorbar": {
             "outlinewidth": 0,
             "ticks": ""
            },
            "colorscale": [
             [
              0,
              "#0d0887"
             ],
             [
              0.1111111111111111,
              "#46039f"
             ],
             [
              0.2222222222222222,
              "#7201a8"
             ],
             [
              0.3333333333333333,
              "#9c179e"
             ],
             [
              0.4444444444444444,
              "#bd3786"
             ],
             [
              0.5555555555555556,
              "#d8576b"
             ],
             [
              0.6666666666666666,
              "#ed7953"
             ],
             [
              0.7777777777777778,
              "#fb9f3a"
             ],
             [
              0.8888888888888888,
              "#fdca26"
             ],
             [
              1,
              "#f0f921"
             ]
            ],
            "type": "histogram2d"
           }
          ],
          "histogram2dcontour": [
           {
            "colorbar": {
             "outlinewidth": 0,
             "ticks": ""
            },
            "colorscale": [
             [
              0,
              "#0d0887"
             ],
             [
              0.1111111111111111,
              "#46039f"
             ],
             [
              0.2222222222222222,
              "#7201a8"
             ],
             [
              0.3333333333333333,
              "#9c179e"
             ],
             [
              0.4444444444444444,
              "#bd3786"
             ],
             [
              0.5555555555555556,
              "#d8576b"
             ],
             [
              0.6666666666666666,
              "#ed7953"
             ],
             [
              0.7777777777777778,
              "#fb9f3a"
             ],
             [
              0.8888888888888888,
              "#fdca26"
             ],
             [
              1,
              "#f0f921"
             ]
            ],
            "type": "histogram2dcontour"
           }
          ],
          "mesh3d": [
           {
            "colorbar": {
             "outlinewidth": 0,
             "ticks": ""
            },
            "type": "mesh3d"
           }
          ],
          "parcoords": [
           {
            "line": {
             "colorbar": {
              "outlinewidth": 0,
              "ticks": ""
             }
            },
            "type": "parcoords"
           }
          ],
          "pie": [
           {
            "automargin": true,
            "type": "pie"
           }
          ],
          "scatter": [
           {
            "marker": {
             "colorbar": {
              "outlinewidth": 0,
              "ticks": ""
             }
            },
            "type": "scatter"
           }
          ],
          "scatter3d": [
           {
            "line": {
             "colorbar": {
              "outlinewidth": 0,
              "ticks": ""
             }
            },
            "marker": {
             "colorbar": {
              "outlinewidth": 0,
              "ticks": ""
             }
            },
            "type": "scatter3d"
           }
          ],
          "scattercarpet": [
           {
            "marker": {
             "colorbar": {
              "outlinewidth": 0,
              "ticks": ""
             }
            },
            "type": "scattercarpet"
           }
          ],
          "scattergeo": [
           {
            "marker": {
             "colorbar": {
              "outlinewidth": 0,
              "ticks": ""
             }
            },
            "type": "scattergeo"
           }
          ],
          "scattergl": [
           {
            "marker": {
             "colorbar": {
              "outlinewidth": 0,
              "ticks": ""
             }
            },
            "type": "scattergl"
           }
          ],
          "scattermapbox": [
           {
            "marker": {
             "colorbar": {
              "outlinewidth": 0,
              "ticks": ""
             }
            },
            "type": "scattermapbox"
           }
          ],
          "scatterpolar": [
           {
            "marker": {
             "colorbar": {
              "outlinewidth": 0,
              "ticks": ""
             }
            },
            "type": "scatterpolar"
           }
          ],
          "scatterpolargl": [
           {
            "marker": {
             "colorbar": {
              "outlinewidth": 0,
              "ticks": ""
             }
            },
            "type": "scatterpolargl"
           }
          ],
          "scatterternary": [
           {
            "marker": {
             "colorbar": {
              "outlinewidth": 0,
              "ticks": ""
             }
            },
            "type": "scatterternary"
           }
          ],
          "surface": [
           {
            "colorbar": {
             "outlinewidth": 0,
             "ticks": ""
            },
            "colorscale": [
             [
              0,
              "#0d0887"
             ],
             [
              0.1111111111111111,
              "#46039f"
             ],
             [
              0.2222222222222222,
              "#7201a8"
             ],
             [
              0.3333333333333333,
              "#9c179e"
             ],
             [
              0.4444444444444444,
              "#bd3786"
             ],
             [
              0.5555555555555556,
              "#d8576b"
             ],
             [
              0.6666666666666666,
              "#ed7953"
             ],
             [
              0.7777777777777778,
              "#fb9f3a"
             ],
             [
              0.8888888888888888,
              "#fdca26"
             ],
             [
              1,
              "#f0f921"
             ]
            ],
            "type": "surface"
           }
          ],
          "table": [
           {
            "cells": {
             "fill": {
              "color": "#EBF0F8"
             },
             "line": {
              "color": "white"
             }
            },
            "header": {
             "fill": {
              "color": "#C8D4E3"
             },
             "line": {
              "color": "white"
             }
            },
            "type": "table"
           }
          ]
         },
         "layout": {
          "annotationdefaults": {
           "arrowcolor": "#2a3f5f",
           "arrowhead": 0,
           "arrowwidth": 1
          },
          "autotypenumbers": "strict",
          "coloraxis": {
           "colorbar": {
            "outlinewidth": 0,
            "ticks": ""
           }
          },
          "colorscale": {
           "diverging": [
            [
             0,
             "#8e0152"
            ],
            [
             0.1,
             "#c51b7d"
            ],
            [
             0.2,
             "#de77ae"
            ],
            [
             0.3,
             "#f1b6da"
            ],
            [
             0.4,
             "#fde0ef"
            ],
            [
             0.5,
             "#f7f7f7"
            ],
            [
             0.6,
             "#e6f5d0"
            ],
            [
             0.7,
             "#b8e186"
            ],
            [
             0.8,
             "#7fbc41"
            ],
            [
             0.9,
             "#4d9221"
            ],
            [
             1,
             "#276419"
            ]
           ],
           "sequential": [
            [
             0,
             "#0d0887"
            ],
            [
             0.1111111111111111,
             "#46039f"
            ],
            [
             0.2222222222222222,
             "#7201a8"
            ],
            [
             0.3333333333333333,
             "#9c179e"
            ],
            [
             0.4444444444444444,
             "#bd3786"
            ],
            [
             0.5555555555555556,
             "#d8576b"
            ],
            [
             0.6666666666666666,
             "#ed7953"
            ],
            [
             0.7777777777777778,
             "#fb9f3a"
            ],
            [
             0.8888888888888888,
             "#fdca26"
            ],
            [
             1,
             "#f0f921"
            ]
           ],
           "sequentialminus": [
            [
             0,
             "#0d0887"
            ],
            [
             0.1111111111111111,
             "#46039f"
            ],
            [
             0.2222222222222222,
             "#7201a8"
            ],
            [
             0.3333333333333333,
             "#9c179e"
            ],
            [
             0.4444444444444444,
             "#bd3786"
            ],
            [
             0.5555555555555556,
             "#d8576b"
            ],
            [
             0.6666666666666666,
             "#ed7953"
            ],
            [
             0.7777777777777778,
             "#fb9f3a"
            ],
            [
             0.8888888888888888,
             "#fdca26"
            ],
            [
             1,
             "#f0f921"
            ]
           ]
          },
          "colorway": [
           "#636efa",
           "#EF553B",
           "#00cc96",
           "#ab63fa",
           "#FFA15A",
           "#19d3f3",
           "#FF6692",
           "#B6E880",
           "#FF97FF",
           "#FECB52"
          ],
          "font": {
           "color": "#2a3f5f"
          },
          "geo": {
           "bgcolor": "white",
           "lakecolor": "white",
           "landcolor": "#E5ECF6",
           "showlakes": true,
           "showland": true,
           "subunitcolor": "white"
          },
          "hoverlabel": {
           "align": "left"
          },
          "hovermode": "closest",
          "mapbox": {
           "style": "light"
          },
          "paper_bgcolor": "white",
          "plot_bgcolor": "#E5ECF6",
          "polar": {
           "angularaxis": {
            "gridcolor": "white",
            "linecolor": "white",
            "ticks": ""
           },
           "bgcolor": "#E5ECF6",
           "radialaxis": {
            "gridcolor": "white",
            "linecolor": "white",
            "ticks": ""
           }
          },
          "scene": {
           "xaxis": {
            "backgroundcolor": "#E5ECF6",
            "gridcolor": "white",
            "gridwidth": 2,
            "linecolor": "white",
            "showbackground": true,
            "ticks": "",
            "zerolinecolor": "white"
           },
           "yaxis": {
            "backgroundcolor": "#E5ECF6",
            "gridcolor": "white",
            "gridwidth": 2,
            "linecolor": "white",
            "showbackground": true,
            "ticks": "",
            "zerolinecolor": "white"
           },
           "zaxis": {
            "backgroundcolor": "#E5ECF6",
            "gridcolor": "white",
            "gridwidth": 2,
            "linecolor": "white",
            "showbackground": true,
            "ticks": "",
            "zerolinecolor": "white"
           }
          },
          "shapedefaults": {
           "line": {
            "color": "#2a3f5f"
           }
          },
          "ternary": {
           "aaxis": {
            "gridcolor": "white",
            "linecolor": "white",
            "ticks": ""
           },
           "baxis": {
            "gridcolor": "white",
            "linecolor": "white",
            "ticks": ""
           },
           "bgcolor": "#E5ECF6",
           "caxis": {
            "gridcolor": "white",
            "linecolor": "white",
            "ticks": ""
           }
          },
          "title": {
           "x": 0.05
          },
          "xaxis": {
           "automargin": true,
           "gridcolor": "white",
           "linecolor": "white",
           "ticks": "",
           "title": {
            "standoff": 15
           },
           "zerolinecolor": "white",
           "zerolinewidth": 2
          },
          "yaxis": {
           "automargin": true,
           "gridcolor": "white",
           "linecolor": "white",
           "ticks": "",
           "title": {
            "standoff": 15
           },
           "zerolinecolor": "white",
           "zerolinewidth": 2
          }
         }
        },
        "xaxis": {
         "anchor": "y",
         "autorange": true,
         "categoryorder": "total descending",
         "domain": [
          0,
          1
         ],
         "range": [
          -0.5,
          16.5
         ],
         "title": {
          "text": "filename"
         },
         "type": "category"
        },
        "yaxis": {
         "anchor": "x",
         "autorange": true,
         "domain": [
          0,
          1
         ],
         "range": [
          0,
          162.51978266954802
         ],
         "title": {
          "text": "Acoustic_Complexity_Index__min"
         },
         "type": "linear"
        }
       }
      },
      "image/png": "[encoded data removed]",
      "text/html": [
       "<div>                            <div id=\"d2fe85eb-4ab5-480e-a1a1-568ff2eea0f3\" class=\"plotly-graph-div\" style=\"height:525px; width:100%;\"></div>            <script type=\"text/javascript\">                require([\"plotly\"], function(Plotly) {                    window.PLOTLYENV=window.PLOTLYENV || {};                                    if (document.getElementById(\"d2fe85eb-4ab5-480e-a1a1-568ff2eea0f3\")) {                    Plotly.newPlot(                        \"d2fe85eb-4ab5-480e-a1a1-568ff2eea0f3\",                        [{\"alignmentgroup\": \"True\", \"hovertemplate\": \"Site_type=salvage_logged_forest<br>filename=%{x}<br>Acoustic_Complexity_Index__min=%{y}<br>Site=%{text}<extra></extra>\", \"legendgroup\": \"salvage_logged_forest\", \"marker\": {\"color\": \"LimeGreen\"}, \"name\": \"salvage_logged_forest\", \"offsetgroup\": \"salvage_logged_forest\", \"orientation\": \"v\", \"showlegend\": true, \"text\": [\"D Matrix\", \"D Matrix\", \"C Matrix\"], \"textposition\": \"auto\", \"type\": \"bar\", \"x\": [\"PC0000_0176\", \"PC0000_0177\", \"PC0000_0276\"], \"xaxis\": \"x\", \"y\": [149.24728409402726, 150.74015268422562, 154.39379353607063], \"yaxis\": \"y\"}, {\"alignmentgroup\": \"True\", \"hovertemplate\": \"Site_type=selectively_logged_B<br>filename=%{x}<br>Acoustic_Complexity_Index__min=%{y}<br>Site=%{text}<extra></extra>\", \"legendgroup\": \"selectively_logged_B\", \"marker\": {\"color\": \"MediumAquaMarine\"}, \"name\": \"selectively_logged_B\", \"offsetgroup\": \"selectively_logged_B\", \"orientation\": \"v\", \"showlegend\": true, \"text\": [\"E1 648\", \"D100 641\", \"D100 641\", \"E100 edge\", \"E1 648\"], \"textposition\": \"auto\", \"type\": \"bar\", \"x\": [\"PC0000_0181\", \"PC0000_0249\", \"PC0000_0250\", \"PC0000_0279\", \"AD0000_0045\"], \"xaxis\": \"x\", \"y\": [149.55748376314685, 143.1291948131414, 145.3314658372551, 148.87805954907387, 151.68942921038632], \"yaxis\": \"y\"}, {\"alignmentgroup\": \"True\", \"hovertemplate\": \"Site_type=selectively_logged_A<br>filename=%{x}<br>Acoustic_Complexity_Index__min=%{y}<br>Site=%{text}<extra></extra>\", \"legendgroup\": \"selectively_logged_A\", \"marker\": {\"color\": \"MediumSeaGreen\"}, \"name\": \"selectively_logged_A\", \"offsetgroup\": \"selectively_logged_A\", \"orientation\": \"v\", \"showlegend\": true, \"text\": [\"B10\", \"B10\", \"C10 621\", \"B10\", \"C10 621\"], \"textposition\": \"auto\", \"type\": \"bar\", \"x\": [\"PC0000_0187\", \"PC0000_0189\", \"PC0001_0010\", \"PC0001_0073\", \"PC0001_0828\"], \"xaxis\": \"x\", \"y\": [148.94056545614353, 140.74247068153156, 154.31208576644673, 143.79705445549112, 150.5184305729573], \"yaxis\": \"y\"}, {\"alignmentgroup\": \"True\", \"hovertemplate\": \"Site_type=old_growth_forest<br>filename=%{x}<br>Acoustic_Complexity_Index__min=%{y}<br>Site=%{text}<extra></extra>\", \"legendgroup\": \"old_growth_forest\", \"marker\": {\"color\": \"green\"}, \"name\": \"old_growth_forest\", \"offsetgroup\": \"old_growth_forest\", \"orientation\": \"v\", \"showlegend\": true, \"text\": [\"Riparian 2\", \"VJR 1\", \"VJR 1\", \"VJR 2\"], \"textposition\": \"auto\", \"type\": \"bar\", \"x\": [\"PC0001_0005\", \"PC0001_0091\", \"PC0001_0093\", \"PC0001_1178\"], \"xaxis\": \"x\", \"y\": [148.8047042661596, 144.56468355996032, 142.93380444124497, 147.8116139711098], \"yaxis\": \"y\"}],                        {\"barmode\": \"relative\", \"legend\": {\"title\": {\"text\": \"Site_type\"}, \"tracegroupgap\": 0}, \"margin\": {\"t\": 60}, \"template\": {\"data\": {\"bar\": [{\"error_x\": {\"color\": \"#2a3f5f\"}, \"error_y\": {\"color\": \"#2a3f5f\"}, \"marker\": {\"line\": {\"color\": \"#E5ECF6\", \"width\": 0.5}}, \"type\": \"bar\"}], \"barpolar\": [{\"marker\": {\"line\": {\"color\": \"#E5ECF6\", \"width\": 0.5}}, \"type\": \"barpolar\"}], \"carpet\": [{\"aaxis\": {\"endlinecolor\": \"#2a3f5f\", \"gridcolor\": \"white\", \"linecolor\": \"white\", \"minorgridcolor\": \"white\", \"startlinecolor\": \"#2a3f5f\"}, \"baxis\": {\"endlinecolor\": \"#2a3f5f\", \"gridcolor\": \"white\", \"linecolor\": \"white\", \"minorgridcolor\": \"white\", \"startlinecolor\": \"#2a3f5f\"}, \"type\": \"carpet\"}], \"choropleth\": [{\"colorbar\": {\"outlinewidth\": 0, \"ticks\": \"\"}, \"type\": \"choropleth\"}], \"contour\": [{\"colorbar\": {\"outlinewidth\": 0, \"ticks\": \"\"}, \"colorscale\": [[0.0, \"#0d0887\"], [0.1111111111111111, \"#46039f\"], [0.2222222222222222, \"#7201a8\"], [0.3333333333333333, \"#9c179e\"], [0.4444444444444444, \"#bd3786\"], [0.5555555555555556, \"#d8576b\"], [0.6666666666666666, \"#ed7953\"], [0.7777777777777778, \"#fb9f3a\"], [0.8888888888888888, \"#fdca26\"], [1.0, \"#f0f921\"]], \"type\": \"contour\"}], \"contourcarpet\": [{\"colorbar\": {\"outlinewidth\": 0, \"ticks\": \"\"}, \"type\": \"contourcarpet\"}], \"heatmap\": [{\"colorbar\": {\"outlinewidth\": 0, \"ticks\": \"\"}, \"colorscale\": [[0.0, \"#0d0887\"], [0.1111111111111111, \"#46039f\"], [0.2222222222222222, \"#7201a8\"], [0.3333333333333333, \"#9c179e\"], [0.4444444444444444, \"#bd3786\"], [0.5555555555555556, \"#d8576b\"], [0.6666666666666666, \"#ed7953\"], [0.7777777777777778, \"#fb9f3a\"], [0.8888888888888888, \"#fdca26\"], [1.0, \"#f0f921\"]], \"type\": \"heatmap\"}], \"heatmapgl\": [{\"colorbar\": {\"outlinewidth\": 0, \"ticks\": \"\"}, \"colorscale\": [[0.0, \"#0d0887\"], [0.1111111111111111, \"#46039f\"], [0.2222222222222222, \"#7201a8\"], [0.3333333333333333, \"#9c179e\"], [0.4444444444444444, \"#bd3786\"], [0.5555555555555556, \"#d8576b\"], [0.6666666666666666, \"#ed7953\"], [0.7777777777777778, \"#fb9f3a\"], [0.8888888888888888, \"#fdca26\"], [1.0, \"#f0f921\"]], \"type\": \"heatmapgl\"}], \"histogram\": [{\"marker\": {\"colorbar\": {\"outlinewidth\": 0, \"ticks\": \"\"}}, \"type\": \"histogram\"}], \"histogram2d\": [{\"colorbar\": {\"outlinewidth\": 0, \"ticks\": \"\"}, \"colorscale\": [[0.0, \"#0d0887\"], [0.1111111111111111, \"#46039f\"], [0.2222222222222222, \"#7201a8\"], [0.3333333333333333, \"#9c179e\"], [0.4444444444444444, \"#bd3786\"], [0.5555555555555556, \"#d8576b\"], [0.6666666666666666, \"#ed7953\"], [0.7777777777777778, \"#fb9f3a\"], [0.8888888888888888, \"#fdca26\"], [1.0, \"#f0f921\"]], \"type\": \"histogram2d\"}], \"histogram2dcontour\": [{\"colorbar\": {\"outlinewidth\": 0, \"ticks\": \"\"}, \"colorscale\": [[0.0, \"#0d0887\"], [0.1111111111111111, \"#46039f\"], [0.2222222222222222, \"#7201a8\"], [0.3333333333333333, \"#9c179e\"], [0.4444444444444444, \"#bd3786\"], [0.5555555555555556, \"#d8576b\"], [0.6666666666666666, \"#ed7953\"], [0.7777777777777778, \"#fb9f3a\"], [0.8888888888888888, \"#fdca26\"], [1.0, \"#f0f921\"]], \"type\": \"histogram2dcontour\"}], \"mesh3d\": [{\"colorbar\": {\"outlinewidth\": 0, \"ticks\": \"\"}, \"type\": \"mesh3d\"}], \"parcoords\": [{\"line\": {\"colorbar\": {\"outlinewidth\": 0, \"ticks\": \"\"}}, \"type\": \"parcoords\"}], \"pie\": [{\"automargin\": true, \"type\": \"pie\"}], \"scatter\": [{\"marker\": {\"colorbar\": {\"outlinewidth\": 0, \"ticks\": \"\"}}, \"type\": \"scatter\"}], \"scatter3d\": [{\"line\": {\"colorbar\": {\"outlinewidth\": 0, \"ticks\": \"\"}}, \"marker\": {\"colorbar\": {\"outlinewidth\": 0, \"ticks\": \"\"}}, \"type\": \"scatter3d\"}], \"scattercarpet\": [{\"marker\": {\"colorbar\": {\"outlinewidth\": 0, \"ticks\": \"\"}}, \"type\": \"scattercarpet\"}], \"scattergeo\": [{\"marker\": {\"colorbar\": {\"outlinewidth\": 0, \"ticks\": \"\"}}, \"type\": \"scattergeo\"}], \"scattergl\": [{\"marker\": {\"colorbar\": {\"outlinewidth\": 0, \"ticks\": \"\"}}, \"type\": \"scattergl\"}], \"scattermapbox\": [{\"marker\": {\"colorbar\": {\"outlinewidth\": 0, \"ticks\": \"\"}}, \"type\": \"scattermapbox\"}], \"scatterpolar\": [{\"marker\": {\"colorbar\": {\"outlinewidth\": 0, \"ticks\": \"\"}}, \"type\": \"scatterpolar\"}], \"scatterpolargl\": [{\"marker\": {\"colorbar\": {\"outlinewidth\": 0, \"ticks\": \"\"}}, \"type\": \"scatterpolargl\"}], \"scatterternary\": [{\"marker\": {\"colorbar\": {\"outlinewidth\": 0, \"ticks\": \"\"}}, \"type\": \"scatterternary\"}], \"surface\": [{\"colorbar\": {\"outlinewidth\": 0, \"ticks\": \"\"}, \"colorscale\": [[0.0, \"#0d0887\"], [0.1111111111111111, \"#46039f\"], [0.2222222222222222, \"#7201a8\"], [0.3333333333333333, \"#9c179e\"], [0.4444444444444444, \"#bd3786\"], [0.5555555555555556, \"#d8576b\"], [0.6666666666666666, \"#ed7953\"], [0.7777777777777778, \"#fb9f3a\"], [0.8888888888888888, \"#fdca26\"], [1.0, \"#f0f921\"]], \"type\": \"surface\"}], \"table\": [{\"cells\": {\"fill\": {\"color\": \"#EBF0F8\"}, \"line\": {\"color\": \"white\"}}, \"header\": {\"fill\": {\"color\": \"#C8D4E3\"}, \"line\": {\"color\": \"white\"}}, \"type\": \"table\"}]}, \"layout\": {\"annotationdefaults\": {\"arrowcolor\": \"#2a3f5f\", \"arrowhead\": 0, \"arrowwidth\": 1}, \"autotypenumbers\": \"strict\", \"coloraxis\": {\"colorbar\": {\"outlinewidth\": 0, \"ticks\": \"\"}}, \"colorscale\": {\"diverging\": [[0, \"#8e0152\"], [0.1, \"#c51b7d\"], [0.2, \"#de77ae\"], [0.3, \"#f1b6da\"], [0.4, \"#fde0ef\"], [0.5, \"#f7f7f7\"], [0.6, \"#e6f5d0\"], [0.7, \"#b8e186\"], [0.8, \"#7fbc41\"], [0.9, \"#4d9221\"], [1, \"#276419\"]], \"sequential\": [[0.0, \"#0d0887\"], [0.1111111111111111, \"#46039f\"], [0.2222222222222222, \"#7201a8\"], [0.3333333333333333, \"#9c179e\"], [0.4444444444444444, \"#bd3786\"], [0.5555555555555556, \"#d8576b\"], [0.6666666666666666, \"#ed7953\"], [0.7777777777777778, \"#fb9f3a\"], [0.8888888888888888, \"#fdca26\"], [1.0, \"#f0f921\"]], \"sequentialminus\": [[0.0, \"#0d0887\"], [0.1111111111111111, \"#46039f\"], [0.2222222222222222, \"#7201a8\"], [0.3333333333333333, \"#9c179e\"], [0.4444444444444444, \"#bd3786\"], [0.5555555555555556, \"#d8576b\"], [0.6666666666666666, \"#ed7953\"], [0.7777777777777778, \"#fb9f3a\"], [0.8888888888888888, \"#fdca26\"], [1.0, \"#f0f921\"]]}, \"colorway\": [\"#636efa\", \"#EF553B\", \"#00cc96\", \"#ab63fa\", \"#FFA15A\", \"#19d3f3\", \"#FF6692\", \"#B6E880\", \"#FF97FF\", \"#FECB52\"], \"font\": {\"color\": \"#2a3f5f\"}, \"geo\": {\"bgcolor\": \"white\", \"lakecolor\": \"white\", \"landcolor\": \"#E5ECF6\", \"showlakes\": true, \"showland\": true, \"subunitcolor\": \"white\"}, \"hoverlabel\": {\"align\": \"left\"}, \"hovermode\": \"closest\", \"mapbox\": {\"style\": \"light\"}, \"paper_bgcolor\": \"white\", \"plot_bgcolor\": \"#E5ECF6\", \"polar\": {\"angularaxis\": {\"gridcolor\": \"white\", \"linecolor\": \"white\", \"ticks\": \"\"}, \"bgcolor\": \"#E5ECF6\", \"radialaxis\": {\"gridcolor\": \"white\", \"linecolor\": \"white\", \"ticks\": \"\"}}, \"scene\": {\"xaxis\": {\"backgroundcolor\": \"#E5ECF6\", \"gridcolor\": \"white\", \"gridwidth\": 2, \"linecolor\": \"white\", \"showbackground\": true, \"ticks\": \"\", \"zerolinecolor\": \"white\"}, \"yaxis\": {\"backgroundcolor\": \"#E5ECF6\", \"gridcolor\": \"white\", \"gridwidth\": 2, \"linecolor\": \"white\", \"showbackground\": true, \"ticks\": \"\", \"zerolinecolor\": \"white\"}, \"zaxis\": {\"backgroundcolor\": \"#E5ECF6\", \"gridcolor\": \"white\", \"gridwidth\": 2, \"linecolor\": \"white\", \"showbackground\": true, \"ticks\": \"\", \"zerolinecolor\": \"white\"}}, \"shapedefaults\": {\"line\": {\"color\": \"#2a3f5f\"}}, \"ternary\": {\"aaxis\": {\"gridcolor\": \"white\", \"linecolor\": \"white\", \"ticks\": \"\"}, \"baxis\": {\"gridcolor\": \"white\", \"linecolor\": \"white\", \"ticks\": \"\"}, \"bgcolor\": \"#E5ECF6\", \"caxis\": {\"gridcolor\": \"white\", \"linecolor\": \"white\", \"ticks\": \"\"}}, \"title\": {\"x\": 0.05}, \"xaxis\": {\"automargin\": true, \"gridcolor\": \"white\", \"linecolor\": \"white\", \"ticks\": \"\", \"title\": {\"standoff\": 15}, \"zerolinecolor\": \"white\", \"zerolinewidth\": 2}, \"yaxis\": {\"automargin\": true, \"gridcolor\": \"white\", \"linecolor\": \"white\", \"ticks\": \"\", \"title\": {\"standoff\": 15}, \"zerolinecolor\": \"white\", \"zerolinewidth\": 2}}}, \"xaxis\": {\"anchor\": \"y\", \"categoryorder\": \"total descending\", \"domain\": [0.0, 1.0], \"title\": {\"text\": \"filename\"}}, \"yaxis\": {\"anchor\": \"x\", \"domain\": [0.0, 1.0], \"title\": {\"text\": \"Acoustic_Complexity_Index__min\"}}},                        {\"responsive\": true}                    ).then(function(){\n",
       "                            \n",
       "var gd = document.getElementById('d2fe85eb-4ab5-480e-a1a1-568ff2eea0f3');\n",
       "var x = new MutationObserver(function (mutations, observer) {{\n",
       "        var display = window.getComputedStyle(gd).display;\n",
       "        if (!display || display === 'none') {{\n",
       "            console.log([gd, 'removed!']);\n",
       "            Plotly.purge(gd);\n",
       "            observer.disconnect();\n",
       "        }}\n",
       "}});\n",
       "\n",
       "// Listen for the removal of the full notebook cells\n",
       "var notebookContainer = gd.closest('#notebook-container');\n",
       "if (notebookContainer) {{\n",
       "    x.observe(notebookContainer, {childList: true});\n",
       "}}\n",
       "\n",
       "// Listen for the clearing of the current output cell\n",
       "var outputEl = gd.closest('.output');\n",
       "if (outputEl) {{\n",
       "    x.observe(outputEl, {childList: true});\n",
       "}}\n",
       "\n",
       "                        })                };                });            </script>        </div>"
      ]
     },
     "metadata": {},
     "output_type": "display_data"
    }
   ],
   "source": [
    "fig = px.bar(dfmerged, \n",
    "             x = 'filename',\n",
    "             y = 'Acoustic_Complexity_Index__min', \n",
    "             color = 'Site_type', \n",
    "             color_discrete_map = color_discrete_map,\n",
    "             text = \"Site\"\n",
    "            )\n",
    "fig.update_layout(xaxis = {'categoryorder':'total descending'})\n",
    "\n",
    "fig.show()"
   ]
  },
  {
   "cell_type": "markdown",
   "id": "offensive-exposure",
   "metadata": {},
   "source": [
    "### intuitively, I would still have a look at the 'Acoustic_Complexity_Index__mean'.."
   ]
  },
  {
   "cell_type": "code",
   "execution_count": 108,
   "id": "innovative-reach",
   "metadata": {},
   "outputs": [
    {
     "data": {
      "application/vnd.plotly.v1+json": {
       "config": {
        "plotlyServerURL": "https://plot.ly"
       },
       "data": [
        {
         "alignmentgroup": "True",
         "hovertemplate": "Site_type=salvage_logged_forest<br>filename=%{x}<br>Acoustic_Complexity_Index__mean=%{y}<br>Site=%{text}<extra></extra>",
         "legendgroup": "salvage_logged_forest",
         "marker": {
          "color": "LimeGreen"
         },
         "name": "salvage_logged_forest",
         "offsetgroup": "salvage_logged_forest",
         "orientation": "v",
         "showlegend": true,
         "text": [
          "D Matrix",
          "D Matrix",
          "C Matrix"
         ],
         "textposition": "auto",
         "type": "bar",
         "x": [
          "PC0000_0176",
          "PC0000_0177",
          "PC0000_0276"
         ],
         "xaxis": "x",
         "y": [
          158.41445241214225,
          155.51912921169642,
          161.23270229271947
         ],
         "yaxis": "y"
        },
        {
         "alignmentgroup": "True",
         "hovertemplate": "Site_type=selectively_logged_B<br>filename=%{x}<br>Acoustic_Complexity_Index__mean=%{y}<br>Site=%{text}<extra></extra>",
         "legendgroup": "selectively_logged_B",
         "marker": {
          "color": "MediumAquaMarine"
         },
         "name": "selectively_logged_B",
         "offsetgroup": "selectively_logged_B",
         "orientation": "v",
         "showlegend": true,
         "text": [
          "E1 648",
          "D100 641",
          "D100 641",
          "E100 edge",
          "E1 648"
         ],
         "textposition": "auto",
         "type": "bar",
         "x": [
          "PC0000_0181",
          "PC0000_0249",
          "PC0000_0250",
          "PC0000_0279",
          "AD0000_0045"
         ],
         "xaxis": "x",
         "y": [
          157.03162154238225,
          150.10615145205344,
          149.12146400303553,
          159.31218930984903,
          154.17805152126002
         ],
         "yaxis": "y"
        },
        {
         "alignmentgroup": "True",
         "hovertemplate": "Site_type=selectively_logged_A<br>filename=%{x}<br>Acoustic_Complexity_Index__mean=%{y}<br>Site=%{text}<extra></extra>",
         "legendgroup": "selectively_logged_A",
         "marker": {
          "color": "MediumSeaGreen"
         },
         "name": "selectively_logged_A",
         "offsetgroup": "selectively_logged_A",
         "orientation": "v",
         "showlegend": true,
         "text": [
          "B10",
          "B10",
          "C10 621",
          "B10",
          "C10 621",
          "B1 602"
         ],
         "textposition": "auto",
         "type": "bar",
         "x": [
          "PC0000_0187",
          "PC0000_0189",
          "PC0001_0010",
          "PC0001_0073",
          "PC0001_0828",
          "PC0001_1268"
         ],
         "xaxis": "x",
         "y": [
          152.5954996954786,
          149.14582572432067,
          165.0780291424905,
          149.4578454650195,
          155.630763588237,
          150.64502590160842
         ],
         "yaxis": "y"
        },
        {
         "alignmentgroup": "True",
         "hovertemplate": "Site_type=old_growth_forest<br>filename=%{x}<br>Acoustic_Complexity_Index__mean=%{y}<br>Site=%{text}<extra></extra>",
         "legendgroup": "old_growth_forest",
         "marker": {
          "color": "green"
         },
         "name": "old_growth_forest",
         "offsetgroup": "old_growth_forest",
         "orientation": "v",
         "showlegend": true,
         "text": [
          "Riparian 2",
          "VJR 1",
          "VJR 1",
          "VJR 2"
         ],
         "textposition": "auto",
         "type": "bar",
         "x": [
          "PC0001_0005",
          "PC0001_0091",
          "PC0001_0093",
          "PC0001_1178"
         ],
         "xaxis": "x",
         "y": [
          150.32128325701618,
          150.8252397992704,
          151.77713486938524,
          151.67341410372626
         ],
         "yaxis": "y"
        }
       ],
       "layout": {
        "autosize": true,
        "barmode": "relative",
        "legend": {
         "title": {
          "text": "Site_type"
         },
         "tracegroupgap": 0
        },
        "margin": {
         "t": 60
        },
        "template": {
         "data": {
          "bar": [
           {
            "error_x": {
             "color": "#2a3f5f"
            },
            "error_y": {
             "color": "#2a3f5f"
            },
            "marker": {
             "line": {
              "color": "#E5ECF6",
              "width": 0.5
             }
            },
            "type": "bar"
           }
          ],
          "barpolar": [
           {
            "marker": {
             "line": {
              "color": "#E5ECF6",
              "width": 0.5
             }
            },
            "type": "barpolar"
           }
          ],
          "carpet": [
           {
            "aaxis": {
             "endlinecolor": "#2a3f5f",
             "gridcolor": "white",
             "linecolor": "white",
             "minorgridcolor": "white",
             "startlinecolor": "#2a3f5f"
            },
            "baxis": {
             "endlinecolor": "#2a3f5f",
             "gridcolor": "white",
             "linecolor": "white",
             "minorgridcolor": "white",
             "startlinecolor": "#2a3f5f"
            },
            "type": "carpet"
           }
          ],
          "choropleth": [
           {
            "colorbar": {
             "outlinewidth": 0,
             "ticks": ""
            },
            "type": "choropleth"
           }
          ],
          "contour": [
           {
            "colorbar": {
             "outlinewidth": 0,
             "ticks": ""
            },
            "colorscale": [
             [
              0,
              "#0d0887"
             ],
             [
              0.1111111111111111,
              "#46039f"
             ],
             [
              0.2222222222222222,
              "#7201a8"
             ],
             [
              0.3333333333333333,
              "#9c179e"
             ],
             [
              0.4444444444444444,
              "#bd3786"
             ],
             [
              0.5555555555555556,
              "#d8576b"
             ],
             [
              0.6666666666666666,
              "#ed7953"
             ],
             [
              0.7777777777777778,
              "#fb9f3a"
             ],
             [
              0.8888888888888888,
              "#fdca26"
             ],
             [
              1,
              "#f0f921"
             ]
            ],
            "type": "contour"
           }
          ],
          "contourcarpet": [
           {
            "colorbar": {
             "outlinewidth": 0,
             "ticks": ""
            },
            "type": "contourcarpet"
           }
          ],
          "heatmap": [
           {
            "colorbar": {
             "outlinewidth": 0,
             "ticks": ""
            },
            "colorscale": [
             [
              0,
              "#0d0887"
             ],
             [
              0.1111111111111111,
              "#46039f"
             ],
             [
              0.2222222222222222,
              "#7201a8"
             ],
             [
              0.3333333333333333,
              "#9c179e"
             ],
             [
              0.4444444444444444,
              "#bd3786"
             ],
             [
              0.5555555555555556,
              "#d8576b"
             ],
             [
              0.6666666666666666,
              "#ed7953"
             ],
             [
              0.7777777777777778,
              "#fb9f3a"
             ],
             [
              0.8888888888888888,
              "#fdca26"
             ],
             [
              1,
              "#f0f921"
             ]
            ],
            "type": "heatmap"
           }
          ],
          "heatmapgl": [
           {
            "colorbar": {
             "outlinewidth": 0,
             "ticks": ""
            },
            "colorscale": [
             [
              0,
              "#0d0887"
             ],
             [
              0.1111111111111111,
              "#46039f"
             ],
             [
              0.2222222222222222,
              "#7201a8"
             ],
             [
              0.3333333333333333,
              "#9c179e"
             ],
             [
              0.4444444444444444,
              "#bd3786"
             ],
             [
              0.5555555555555556,
              "#d8576b"
             ],
             [
              0.6666666666666666,
              "#ed7953"
             ],
             [
              0.7777777777777778,
              "#fb9f3a"
             ],
             [
              0.8888888888888888,
              "#fdca26"
             ],
             [
              1,
              "#f0f921"
             ]
            ],
            "type": "heatmapgl"
           }
          ],
          "histogram": [
           {
            "marker": {
             "colorbar": {
              "outlinewidth": 0,
              "ticks": ""
             }
            },
            "type": "histogram"
           }
          ],
          "histogram2d": [
           {
            "colorbar": {
             "outlinewidth": 0,
             "ticks": ""
            },
            "colorscale": [
             [
              0,
              "#0d0887"
             ],
             [
              0.1111111111111111,
              "#46039f"
             ],
             [
              0.2222222222222222,
              "#7201a8"
             ],
             [
              0.3333333333333333,
              "#9c179e"
             ],
             [
              0.4444444444444444,
              "#bd3786"
             ],
             [
              0.5555555555555556,
              "#d8576b"
             ],
             [
              0.6666666666666666,
              "#ed7953"
             ],
             [
              0.7777777777777778,
              "#fb9f3a"
             ],
             [
              0.8888888888888888,
              "#fdca26"
             ],
             [
              1,
              "#f0f921"
             ]
            ],
            "type": "histogram2d"
           }
          ],
          "histogram2dcontour": [
           {
            "colorbar": {
             "outlinewidth": 0,
             "ticks": ""
            },
            "colorscale": [
             [
              0,
              "#0d0887"
             ],
             [
              0.1111111111111111,
              "#46039f"
             ],
             [
              0.2222222222222222,
              "#7201a8"
             ],
             [
              0.3333333333333333,
              "#9c179e"
             ],
             [
              0.4444444444444444,
              "#bd3786"
             ],
             [
              0.5555555555555556,
              "#d8576b"
             ],
             [
              0.6666666666666666,
              "#ed7953"
             ],
             [
              0.7777777777777778,
              "#fb9f3a"
             ],
             [
              0.8888888888888888,
              "#fdca26"
             ],
             [
              1,
              "#f0f921"
             ]
            ],
            "type": "histogram2dcontour"
           }
          ],
          "mesh3d": [
           {
            "colorbar": {
             "outlinewidth": 0,
             "ticks": ""
            },
            "type": "mesh3d"
           }
          ],
          "parcoords": [
           {
            "line": {
             "colorbar": {
              "outlinewidth": 0,
              "ticks": ""
             }
            },
            "type": "parcoords"
           }
          ],
          "pie": [
           {
            "automargin": true,
            "type": "pie"
           }
          ],
          "scatter": [
           {
            "marker": {
             "colorbar": {
              "outlinewidth": 0,
              "ticks": ""
             }
            },
            "type": "scatter"
           }
          ],
          "scatter3d": [
           {
            "line": {
             "colorbar": {
              "outlinewidth": 0,
              "ticks": ""
             }
            },
            "marker": {
             "colorbar": {
              "outlinewidth": 0,
              "ticks": ""
             }
            },
            "type": "scatter3d"
           }
          ],
          "scattercarpet": [
           {
            "marker": {
             "colorbar": {
              "outlinewidth": 0,
              "ticks": ""
             }
            },
            "type": "scattercarpet"
           }
          ],
          "scattergeo": [
           {
            "marker": {
             "colorbar": {
              "outlinewidth": 0,
              "ticks": ""
             }
            },
            "type": "scattergeo"
           }
          ],
          "scattergl": [
           {
            "marker": {
             "colorbar": {
              "outlinewidth": 0,
              "ticks": ""
             }
            },
            "type": "scattergl"
           }
          ],
          "scattermapbox": [
           {
            "marker": {
             "colorbar": {
              "outlinewidth": 0,
              "ticks": ""
             }
            },
            "type": "scattermapbox"
           }
          ],
          "scatterpolar": [
           {
            "marker": {
             "colorbar": {
              "outlinewidth": 0,
              "ticks": ""
             }
            },
            "type": "scatterpolar"
           }
          ],
          "scatterpolargl": [
           {
            "marker": {
             "colorbar": {
              "outlinewidth": 0,
              "ticks": ""
             }
            },
            "type": "scatterpolargl"
           }
          ],
          "scatterternary": [
           {
            "marker": {
             "colorbar": {
              "outlinewidth": 0,
              "ticks": ""
             }
            },
            "type": "scatterternary"
           }
          ],
          "surface": [
           {
            "colorbar": {
             "outlinewidth": 0,
             "ticks": ""
            },
            "colorscale": [
             [
              0,
              "#0d0887"
             ],
             [
              0.1111111111111111,
              "#46039f"
             ],
             [
              0.2222222222222222,
              "#7201a8"
             ],
             [
              0.3333333333333333,
              "#9c179e"
             ],
             [
              0.4444444444444444,
              "#bd3786"
             ],
             [
              0.5555555555555556,
              "#d8576b"
             ],
             [
              0.6666666666666666,
              "#ed7953"
             ],
             [
              0.7777777777777778,
              "#fb9f3a"
             ],
             [
              0.8888888888888888,
              "#fdca26"
             ],
             [
              1,
              "#f0f921"
             ]
            ],
            "type": "surface"
           }
          ],
          "table": [
           {
            "cells": {
             "fill": {
              "color": "#EBF0F8"
             },
             "line": {
              "color": "white"
             }
            },
            "header": {
             "fill": {
              "color": "#C8D4E3"
             },
             "line": {
              "color": "white"
             }
            },
            "type": "table"
           }
          ]
         },
         "layout": {
          "annotationdefaults": {
           "arrowcolor": "#2a3f5f",
           "arrowhead": 0,
           "arrowwidth": 1
          },
          "autotypenumbers": "strict",
          "coloraxis": {
           "colorbar": {
            "outlinewidth": 0,
            "ticks": ""
           }
          },
          "colorscale": {
           "diverging": [
            [
             0,
             "#8e0152"
            ],
            [
             0.1,
             "#c51b7d"
            ],
            [
             0.2,
             "#de77ae"
            ],
            [
             0.3,
             "#f1b6da"
            ],
            [
             0.4,
             "#fde0ef"
            ],
            [
             0.5,
             "#f7f7f7"
            ],
            [
             0.6,
             "#e6f5d0"
            ],
            [
             0.7,
             "#b8e186"
            ],
            [
             0.8,
             "#7fbc41"
            ],
            [
             0.9,
             "#4d9221"
            ],
            [
             1,
             "#276419"
            ]
           ],
           "sequential": [
            [
             0,
             "#0d0887"
            ],
            [
             0.1111111111111111,
             "#46039f"
            ],
            [
             0.2222222222222222,
             "#7201a8"
            ],
            [
             0.3333333333333333,
             "#9c179e"
            ],
            [
             0.4444444444444444,
             "#bd3786"
            ],
            [
             0.5555555555555556,
             "#d8576b"
            ],
            [
             0.6666666666666666,
             "#ed7953"
            ],
            [
             0.7777777777777778,
             "#fb9f3a"
            ],
            [
             0.8888888888888888,
             "#fdca26"
            ],
            [
             1,
             "#f0f921"
            ]
           ],
           "sequentialminus": [
            [
             0,
             "#0d0887"
            ],
            [
             0.1111111111111111,
             "#46039f"
            ],
            [
             0.2222222222222222,
             "#7201a8"
            ],
            [
             0.3333333333333333,
             "#9c179e"
            ],
            [
             0.4444444444444444,
             "#bd3786"
            ],
            [
             0.5555555555555556,
             "#d8576b"
            ],
            [
             0.6666666666666666,
             "#ed7953"
            ],
            [
             0.7777777777777778,
             "#fb9f3a"
            ],
            [
             0.8888888888888888,
             "#fdca26"
            ],
            [
             1,
             "#f0f921"
            ]
           ]
          },
          "colorway": [
           "#636efa",
           "#EF553B",
           "#00cc96",
           "#ab63fa",
           "#FFA15A",
           "#19d3f3",
           "#FF6692",
           "#B6E880",
           "#FF97FF",
           "#FECB52"
          ],
          "font": {
           "color": "#2a3f5f"
          },
          "geo": {
           "bgcolor": "white",
           "lakecolor": "white",
           "landcolor": "#E5ECF6",
           "showlakes": true,
           "showland": true,
           "subunitcolor": "white"
          },
          "hoverlabel": {
           "align": "left"
          },
          "hovermode": "closest",
          "mapbox": {
           "style": "light"
          },
          "paper_bgcolor": "white",
          "plot_bgcolor": "#E5ECF6",
          "polar": {
           "angularaxis": {
            "gridcolor": "white",
            "linecolor": "white",
            "ticks": ""
           },
           "bgcolor": "#E5ECF6",
           "radialaxis": {
            "gridcolor": "white",
            "linecolor": "white",
            "ticks": ""
           }
          },
          "scene": {
           "xaxis": {
            "backgroundcolor": "#E5ECF6",
            "gridcolor": "white",
            "gridwidth": 2,
            "linecolor": "white",
            "showbackground": true,
            "ticks": "",
            "zerolinecolor": "white"
           },
           "yaxis": {
            "backgroundcolor": "#E5ECF6",
            "gridcolor": "white",
            "gridwidth": 2,
            "linecolor": "white",
            "showbackground": true,
            "ticks": "",
            "zerolinecolor": "white"
           },
           "zaxis": {
            "backgroundcolor": "#E5ECF6",
            "gridcolor": "white",
            "gridwidth": 2,
            "linecolor": "white",
            "showbackground": true,
            "ticks": "",
            "zerolinecolor": "white"
           }
          },
          "shapedefaults": {
           "line": {
            "color": "#2a3f5f"
           }
          },
          "ternary": {
           "aaxis": {
            "gridcolor": "white",
            "linecolor": "white",
            "ticks": ""
           },
           "baxis": {
            "gridcolor": "white",
            "linecolor": "white",
            "ticks": ""
           },
           "bgcolor": "#E5ECF6",
           "caxis": {
            "gridcolor": "white",
            "linecolor": "white",
            "ticks": ""
           }
          },
          "title": {
           "x": 0.05
          },
          "xaxis": {
           "automargin": true,
           "gridcolor": "white",
           "linecolor": "white",
           "ticks": "",
           "title": {
            "standoff": 15
           },
           "zerolinecolor": "white",
           "zerolinewidth": 2
          },
          "yaxis": {
           "automargin": true,
           "gridcolor": "white",
           "linecolor": "white",
           "ticks": "",
           "title": {
            "standoff": 15
           },
           "zerolinecolor": "white",
           "zerolinewidth": 2
          }
         }
        },
        "xaxis": {
         "anchor": "y",
         "autorange": true,
         "categoryorder": "total descending",
         "domain": [
          0,
          1
         ],
         "range": [
          -0.5,
          17.5
         ],
         "title": {
          "text": "filename"
         },
         "type": "category"
        },
        "yaxis": {
         "anchor": "x",
         "autorange": true,
         "domain": [
          0,
          1
         ],
         "range": [
          0,
          173.76634646577946
         ],
         "title": {
          "text": "Acoustic_Complexity_Index__mean"
         },
         "type": "linear"
        }
       }
      },
      "image/png": "[encoded data removed]",
      "text/html": [
       "<div>                            <div id=\"a9afad18-940d-4c62-853c-d0eacbdff672\" class=\"plotly-graph-div\" style=\"height:525px; width:100%;\"></div>            <script type=\"text/javascript\">                require([\"plotly\"], function(Plotly) {                    window.PLOTLYENV=window.PLOTLYENV || {};                                    if (document.getElementById(\"a9afad18-940d-4c62-853c-d0eacbdff672\")) {                    Plotly.newPlot(                        \"a9afad18-940d-4c62-853c-d0eacbdff672\",                        [{\"alignmentgroup\": \"True\", \"hovertemplate\": \"Site_type=salvage_logged_forest<br>filename=%{x}<br>Acoustic_Complexity_Index__mean=%{y}<br>Site=%{text}<extra></extra>\", \"legendgroup\": \"salvage_logged_forest\", \"marker\": {\"color\": \"LimeGreen\"}, \"name\": \"salvage_logged_forest\", \"offsetgroup\": \"salvage_logged_forest\", \"orientation\": \"v\", \"showlegend\": true, \"text\": [\"D Matrix\", \"D Matrix\", \"C Matrix\"], \"textposition\": \"auto\", \"type\": \"bar\", \"x\": [\"PC0000_0176\", \"PC0000_0177\", \"PC0000_0276\"], \"xaxis\": \"x\", \"y\": [158.41445241214225, 155.51912921169642, 161.23270229271947], \"yaxis\": \"y\"}, {\"alignmentgroup\": \"True\", \"hovertemplate\": \"Site_type=selectively_logged_B<br>filename=%{x}<br>Acoustic_Complexity_Index__mean=%{y}<br>Site=%{text}<extra></extra>\", \"legendgroup\": \"selectively_logged_B\", \"marker\": {\"color\": \"MediumAquaMarine\"}, \"name\": \"selectively_logged_B\", \"offsetgroup\": \"selectively_logged_B\", \"orientation\": \"v\", \"showlegend\": true, \"text\": [\"E1 648\", \"D100 641\", \"D100 641\", \"E100 edge\", \"E1 648\"], \"textposition\": \"auto\", \"type\": \"bar\", \"x\": [\"PC0000_0181\", \"PC0000_0249\", \"PC0000_0250\", \"PC0000_0279\", \"AD0000_0045\"], \"xaxis\": \"x\", \"y\": [157.03162154238225, 150.10615145205344, 149.12146400303553, 159.31218930984903, 154.17805152126002], \"yaxis\": \"y\"}, {\"alignmentgroup\": \"True\", \"hovertemplate\": \"Site_type=selectively_logged_A<br>filename=%{x}<br>Acoustic_Complexity_Index__mean=%{y}<br>Site=%{text}<extra></extra>\", \"legendgroup\": \"selectively_logged_A\", \"marker\": {\"color\": \"MediumSeaGreen\"}, \"name\": \"selectively_logged_A\", \"offsetgroup\": \"selectively_logged_A\", \"orientation\": \"v\", \"showlegend\": true, \"text\": [\"B10\", \"B10\", \"C10 621\", \"B10\", \"C10 621\", \"B1 602\"], \"textposition\": \"auto\", \"type\": \"bar\", \"x\": [\"PC0000_0187\", \"PC0000_0189\", \"PC0001_0010\", \"PC0001_0073\", \"PC0001_0828\", \"PC0001_1268\"], \"xaxis\": \"x\", \"y\": [152.5954996954786, 149.14582572432067, 165.0780291424905, 149.4578454650195, 155.630763588237, 150.64502590160842], \"yaxis\": \"y\"}, {\"alignmentgroup\": \"True\", \"hovertemplate\": \"Site_type=old_growth_forest<br>filename=%{x}<br>Acoustic_Complexity_Index__mean=%{y}<br>Site=%{text}<extra></extra>\", \"legendgroup\": \"old_growth_forest\", \"marker\": {\"color\": \"green\"}, \"name\": \"old_growth_forest\", \"offsetgroup\": \"old_growth_forest\", \"orientation\": \"v\", \"showlegend\": true, \"text\": [\"Riparian 2\", \"VJR 1\", \"VJR 1\", \"VJR 2\"], \"textposition\": \"auto\", \"type\": \"bar\", \"x\": [\"PC0001_0005\", \"PC0001_0091\", \"PC0001_0093\", \"PC0001_1178\"], \"xaxis\": \"x\", \"y\": [150.32128325701618, 150.8252397992704, 151.77713486938524, 151.67341410372626], \"yaxis\": \"y\"}],                        {\"barmode\": \"relative\", \"legend\": {\"title\": {\"text\": \"Site_type\"}, \"tracegroupgap\": 0}, \"margin\": {\"t\": 60}, \"template\": {\"data\": {\"bar\": [{\"error_x\": {\"color\": \"#2a3f5f\"}, \"error_y\": {\"color\": \"#2a3f5f\"}, \"marker\": {\"line\": {\"color\": \"#E5ECF6\", \"width\": 0.5}}, \"type\": \"bar\"}], \"barpolar\": [{\"marker\": {\"line\": {\"color\": \"#E5ECF6\", \"width\": 0.5}}, \"type\": \"barpolar\"}], \"carpet\": [{\"aaxis\": {\"endlinecolor\": \"#2a3f5f\", \"gridcolor\": \"white\", \"linecolor\": \"white\", \"minorgridcolor\": \"white\", \"startlinecolor\": \"#2a3f5f\"}, \"baxis\": {\"endlinecolor\": \"#2a3f5f\", \"gridcolor\": \"white\", \"linecolor\": \"white\", \"minorgridcolor\": \"white\", \"startlinecolor\": \"#2a3f5f\"}, \"type\": \"carpet\"}], \"choropleth\": [{\"colorbar\": {\"outlinewidth\": 0, \"ticks\": \"\"}, \"type\": \"choropleth\"}], \"contour\": [{\"colorbar\": {\"outlinewidth\": 0, \"ticks\": \"\"}, \"colorscale\": [[0.0, \"#0d0887\"], [0.1111111111111111, \"#46039f\"], [0.2222222222222222, \"#7201a8\"], [0.3333333333333333, \"#9c179e\"], [0.4444444444444444, \"#bd3786\"], [0.5555555555555556, \"#d8576b\"], [0.6666666666666666, \"#ed7953\"], [0.7777777777777778, \"#fb9f3a\"], [0.8888888888888888, \"#fdca26\"], [1.0, \"#f0f921\"]], \"type\": \"contour\"}], \"contourcarpet\": [{\"colorbar\": {\"outlinewidth\": 0, \"ticks\": \"\"}, \"type\": \"contourcarpet\"}], \"heatmap\": [{\"colorbar\": {\"outlinewidth\": 0, \"ticks\": \"\"}, \"colorscale\": [[0.0, \"#0d0887\"], [0.1111111111111111, \"#46039f\"], [0.2222222222222222, \"#7201a8\"], [0.3333333333333333, \"#9c179e\"], [0.4444444444444444, \"#bd3786\"], [0.5555555555555556, \"#d8576b\"], [0.6666666666666666, \"#ed7953\"], [0.7777777777777778, \"#fb9f3a\"], [0.8888888888888888, \"#fdca26\"], [1.0, \"#f0f921\"]], \"type\": \"heatmap\"}], \"heatmapgl\": [{\"colorbar\": {\"outlinewidth\": 0, \"ticks\": \"\"}, \"colorscale\": [[0.0, \"#0d0887\"], [0.1111111111111111, \"#46039f\"], [0.2222222222222222, \"#7201a8\"], [0.3333333333333333, \"#9c179e\"], [0.4444444444444444, \"#bd3786\"], [0.5555555555555556, \"#d8576b\"], [0.6666666666666666, \"#ed7953\"], [0.7777777777777778, \"#fb9f3a\"], [0.8888888888888888, \"#fdca26\"], [1.0, \"#f0f921\"]], \"type\": \"heatmapgl\"}], \"histogram\": [{\"marker\": {\"colorbar\": {\"outlinewidth\": 0, \"ticks\": \"\"}}, \"type\": \"histogram\"}], \"histogram2d\": [{\"colorbar\": {\"outlinewidth\": 0, \"ticks\": \"\"}, \"colorscale\": [[0.0, \"#0d0887\"], [0.1111111111111111, \"#46039f\"], [0.2222222222222222, \"#7201a8\"], [0.3333333333333333, \"#9c179e\"], [0.4444444444444444, \"#bd3786\"], [0.5555555555555556, \"#d8576b\"], [0.6666666666666666, \"#ed7953\"], [0.7777777777777778, \"#fb9f3a\"], [0.8888888888888888, \"#fdca26\"], [1.0, \"#f0f921\"]], \"type\": \"histogram2d\"}], \"histogram2dcontour\": [{\"colorbar\": {\"outlinewidth\": 0, \"ticks\": \"\"}, \"colorscale\": [[0.0, \"#0d0887\"], [0.1111111111111111, \"#46039f\"], [0.2222222222222222, \"#7201a8\"], [0.3333333333333333, \"#9c179e\"], [0.4444444444444444, \"#bd3786\"], [0.5555555555555556, \"#d8576b\"], [0.6666666666666666, \"#ed7953\"], [0.7777777777777778, \"#fb9f3a\"], [0.8888888888888888, \"#fdca26\"], [1.0, \"#f0f921\"]], \"type\": \"histogram2dcontour\"}], \"mesh3d\": [{\"colorbar\": {\"outlinewidth\": 0, \"ticks\": \"\"}, \"type\": \"mesh3d\"}], \"parcoords\": [{\"line\": {\"colorbar\": {\"outlinewidth\": 0, \"ticks\": \"\"}}, \"type\": \"parcoords\"}], \"pie\": [{\"automargin\": true, \"type\": \"pie\"}], \"scatter\": [{\"marker\": {\"colorbar\": {\"outlinewidth\": 0, \"ticks\": \"\"}}, \"type\": \"scatter\"}], \"scatter3d\": [{\"line\": {\"colorbar\": {\"outlinewidth\": 0, \"ticks\": \"\"}}, \"marker\": {\"colorbar\": {\"outlinewidth\": 0, \"ticks\": \"\"}}, \"type\": \"scatter3d\"}], \"scattercarpet\": [{\"marker\": {\"colorbar\": {\"outlinewidth\": 0, \"ticks\": \"\"}}, \"type\": \"scattercarpet\"}], \"scattergeo\": [{\"marker\": {\"colorbar\": {\"outlinewidth\": 0, \"ticks\": \"\"}}, \"type\": \"scattergeo\"}], \"scattergl\": [{\"marker\": {\"colorbar\": {\"outlinewidth\": 0, \"ticks\": \"\"}}, \"type\": \"scattergl\"}], \"scattermapbox\": [{\"marker\": {\"colorbar\": {\"outlinewidth\": 0, \"ticks\": \"\"}}, \"type\": \"scattermapbox\"}], \"scatterpolar\": [{\"marker\": {\"colorbar\": {\"outlinewidth\": 0, \"ticks\": \"\"}}, \"type\": \"scatterpolar\"}], \"scatterpolargl\": [{\"marker\": {\"colorbar\": {\"outlinewidth\": 0, \"ticks\": \"\"}}, \"type\": \"scatterpolargl\"}], \"scatterternary\": [{\"marker\": {\"colorbar\": {\"outlinewidth\": 0, \"ticks\": \"\"}}, \"type\": \"scatterternary\"}], \"surface\": [{\"colorbar\": {\"outlinewidth\": 0, \"ticks\": \"\"}, \"colorscale\": [[0.0, \"#0d0887\"], [0.1111111111111111, \"#46039f\"], [0.2222222222222222, \"#7201a8\"], [0.3333333333333333, \"#9c179e\"], [0.4444444444444444, \"#bd3786\"], [0.5555555555555556, \"#d8576b\"], [0.6666666666666666, \"#ed7953\"], [0.7777777777777778, \"#fb9f3a\"], [0.8888888888888888, \"#fdca26\"], [1.0, \"#f0f921\"]], \"type\": \"surface\"}], \"table\": [{\"cells\": {\"fill\": {\"color\": \"#EBF0F8\"}, \"line\": {\"color\": \"white\"}}, \"header\": {\"fill\": {\"color\": \"#C8D4E3\"}, \"line\": {\"color\": \"white\"}}, \"type\": \"table\"}]}, \"layout\": {\"annotationdefaults\": {\"arrowcolor\": \"#2a3f5f\", \"arrowhead\": 0, \"arrowwidth\": 1}, \"autotypenumbers\": \"strict\", \"coloraxis\": {\"colorbar\": {\"outlinewidth\": 0, \"ticks\": \"\"}}, \"colorscale\": {\"diverging\": [[0, \"#8e0152\"], [0.1, \"#c51b7d\"], [0.2, \"#de77ae\"], [0.3, \"#f1b6da\"], [0.4, \"#fde0ef\"], [0.5, \"#f7f7f7\"], [0.6, \"#e6f5d0\"], [0.7, \"#b8e186\"], [0.8, \"#7fbc41\"], [0.9, \"#4d9221\"], [1, \"#276419\"]], \"sequential\": [[0.0, \"#0d0887\"], [0.1111111111111111, \"#46039f\"], [0.2222222222222222, \"#7201a8\"], [0.3333333333333333, \"#9c179e\"], [0.4444444444444444, \"#bd3786\"], [0.5555555555555556, \"#d8576b\"], [0.6666666666666666, \"#ed7953\"], [0.7777777777777778, \"#fb9f3a\"], [0.8888888888888888, \"#fdca26\"], [1.0, \"#f0f921\"]], \"sequentialminus\": [[0.0, \"#0d0887\"], [0.1111111111111111, \"#46039f\"], [0.2222222222222222, \"#7201a8\"], [0.3333333333333333, \"#9c179e\"], [0.4444444444444444, \"#bd3786\"], [0.5555555555555556, \"#d8576b\"], [0.6666666666666666, \"#ed7953\"], [0.7777777777777778, \"#fb9f3a\"], [0.8888888888888888, \"#fdca26\"], [1.0, \"#f0f921\"]]}, \"colorway\": [\"#636efa\", \"#EF553B\", \"#00cc96\", \"#ab63fa\", \"#FFA15A\", \"#19d3f3\", \"#FF6692\", \"#B6E880\", \"#FF97FF\", \"#FECB52\"], \"font\": {\"color\": \"#2a3f5f\"}, \"geo\": {\"bgcolor\": \"white\", \"lakecolor\": \"white\", \"landcolor\": \"#E5ECF6\", \"showlakes\": true, \"showland\": true, \"subunitcolor\": \"white\"}, \"hoverlabel\": {\"align\": \"left\"}, \"hovermode\": \"closest\", \"mapbox\": {\"style\": \"light\"}, \"paper_bgcolor\": \"white\", \"plot_bgcolor\": \"#E5ECF6\", \"polar\": {\"angularaxis\": {\"gridcolor\": \"white\", \"linecolor\": \"white\", \"ticks\": \"\"}, \"bgcolor\": \"#E5ECF6\", \"radialaxis\": {\"gridcolor\": \"white\", \"linecolor\": \"white\", \"ticks\": \"\"}}, \"scene\": {\"xaxis\": {\"backgroundcolor\": \"#E5ECF6\", \"gridcolor\": \"white\", \"gridwidth\": 2, \"linecolor\": \"white\", \"showbackground\": true, \"ticks\": \"\", \"zerolinecolor\": \"white\"}, \"yaxis\": {\"backgroundcolor\": \"#E5ECF6\", \"gridcolor\": \"white\", \"gridwidth\": 2, \"linecolor\": \"white\", \"showbackground\": true, \"ticks\": \"\", \"zerolinecolor\": \"white\"}, \"zaxis\": {\"backgroundcolor\": \"#E5ECF6\", \"gridcolor\": \"white\", \"gridwidth\": 2, \"linecolor\": \"white\", \"showbackground\": true, \"ticks\": \"\", \"zerolinecolor\": \"white\"}}, \"shapedefaults\": {\"line\": {\"color\": \"#2a3f5f\"}}, \"ternary\": {\"aaxis\": {\"gridcolor\": \"white\", \"linecolor\": \"white\", \"ticks\": \"\"}, \"baxis\": {\"gridcolor\": \"white\", \"linecolor\": \"white\", \"ticks\": \"\"}, \"bgcolor\": \"#E5ECF6\", \"caxis\": {\"gridcolor\": \"white\", \"linecolor\": \"white\", \"ticks\": \"\"}}, \"title\": {\"x\": 0.05}, \"xaxis\": {\"automargin\": true, \"gridcolor\": \"white\", \"linecolor\": \"white\", \"ticks\": \"\", \"title\": {\"standoff\": 15}, \"zerolinecolor\": \"white\", \"zerolinewidth\": 2}, \"yaxis\": {\"automargin\": true, \"gridcolor\": \"white\", \"linecolor\": \"white\", \"ticks\": \"\", \"title\": {\"standoff\": 15}, \"zerolinecolor\": \"white\", \"zerolinewidth\": 2}}}, \"xaxis\": {\"anchor\": \"y\", \"categoryorder\": \"total descending\", \"domain\": [0.0, 1.0], \"title\": {\"text\": \"filename\"}}, \"yaxis\": {\"anchor\": \"x\", \"domain\": [0.0, 1.0], \"title\": {\"text\": \"Acoustic_Complexity_Index__mean\"}}},                        {\"responsive\": true}                    ).then(function(){\n",
       "                            \n",
       "var gd = document.getElementById('a9afad18-940d-4c62-853c-d0eacbdff672');\n",
       "var x = new MutationObserver(function (mutations, observer) {{\n",
       "        var display = window.getComputedStyle(gd).display;\n",
       "        if (!display || display === 'none') {{\n",
       "            console.log([gd, 'removed!']);\n",
       "            Plotly.purge(gd);\n",
       "            observer.disconnect();\n",
       "        }}\n",
       "}});\n",
       "\n",
       "// Listen for the removal of the full notebook cells\n",
       "var notebookContainer = gd.closest('#notebook-container');\n",
       "if (notebookContainer) {{\n",
       "    x.observe(notebookContainer, {childList: true});\n",
       "}}\n",
       "\n",
       "// Listen for the clearing of the current output cell\n",
       "var outputEl = gd.closest('.output');\n",
       "if (outputEl) {{\n",
       "    x.observe(outputEl, {childList: true});\n",
       "}}\n",
       "\n",
       "                        })                };                });            </script>        </div>"
      ]
     },
     "metadata": {},
     "output_type": "display_data"
    }
   ],
   "source": [
    "fig = px.bar(dfmerged, \n",
    "             x = 'filename',\n",
    "             y = 'Acoustic_Complexity_Index__mean', \n",
    "             color = 'Site_type', \n",
    "             color_discrete_map = color_discrete_map,\n",
    "             text = \"Site\"\n",
    "            )\n",
    "fig.update_layout(xaxis = {'categoryorder':'total descending'})\n",
    "\n",
    "fig.show()"
   ]
  },
  {
   "cell_type": "code",
   "execution_count": null,
   "id": "raising-professor",
   "metadata": {},
   "outputs": [],
   "source": [
    "import chart_studio.plotly as py\n",
    "py.iplot(fig)"
   ]
  }
 ],
 "metadata": {
  "kernelspec": {
   "display_name": "Python 3",
   "language": "python",
   "name": "python3"
  },
  "language_info": {
   "codemirror_mode": {
    "name": "ipython",
    "version": 3
   },
   "file_extension": ".py",
   "mimetype": "text/x-python",
   "name": "python",
   "nbconvert_exporter": "python",
   "pygments_lexer": "ipython3",
   "version": "3.7.4"
  }
 },
 "nbformat": 4,
 "nbformat_minor": 5
}
