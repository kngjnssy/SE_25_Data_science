{
 "cells": [
  {
   "cell_type": "code",
   "execution_count": 1,
   "id": "domestic-branch",
   "metadata": {},
   "outputs": [],
   "source": [
    "import sys\n",
    "from scipy import signal, fftpack\n",
    "import numpy as np\n",
    "import matplotlib.pyplot as plt\n",
    "\n",
    "from scipy.io.wavfile import read as wavread\n",
    "from scipy.io.wavfile import write as wavwrite\n",
    "from os.path import basename\n",
    "\n",
    "\n",
    "import yaml\n",
    "from scipy import signal\n",
    "import csv"
   ]
  },
  {
   "cell_type": "code",
   "execution_count": 2,
   "id": "opposite-walnut",
   "metadata": {},
   "outputs": [
    {
     "data": {
      "text/plain": [
       "'6.0'"
      ]
     },
     "execution_count": 2,
     "metadata": {},
     "output_type": "execute_result"
    }
   ],
   "source": [
    "yaml.__version__\n"
   ]
  },
  {
   "cell_type": "code",
   "execution_count": 3,
   "id": "accurate-hacker",
   "metadata": {},
   "outputs": [],
   "source": [
    "import acoustic_index as aix\n",
    "import compute_indice as cix\n",
    "import main_test_indices as mt"
   ]
  },
  {
   "cell_type": "code",
   "execution_count": 4,
   "id": "designing-correction",
   "metadata": {},
   "outputs": [],
   "source": [
    "# mt??"
   ]
  },
  {
   "cell_type": "code",
   "execution_count": 7,
   "id": "dynamic-spoke",
   "metadata": {},
   "outputs": [
    {
     "name": "stdout",
     "output_type": "stream",
     "text": [
      "Read the audio file: ../data/wavs/PC0001_1178.wav\n"
     ]
    },
    {
     "name": "stderr",
     "output_type": "stream",
     "text": [
      "/Users/kingajanossy/Documents/UNI/CODE_CORE_4/data_science/Acoustic_Indices/acoustic_index.py:102: WavFileWarning: Chunk (non-data) not understood, skipping it.\n",
      "  sr, sig = wavread(file_path)\n"
     ]
    },
    {
     "name": "stdout",
     "output_type": "stream",
     "text": [
      "\tSuccessful read of the audio file: ../data/wavs/PC0001_1178.wav\n",
      "\tThe audio file contains more than one channel. Only the channel 0 will be used.\n"
     ]
    }
   ],
   "source": [
    "#Set config file\n",
    "yml_file = 'yaml_config/config_014_butter.yaml'\n",
    "\n",
    "# Read signal -------------------------------------\n",
    "filename = 'audio_files/BALMER-02_0_20150620_0445.wav'\n",
    "filename = '../data/wavs/PC0001_1178.wav'\n",
    "\n",
    "file = mt.AudioFile(filename, verbose=True)\n",
    "\n",
    "with open(yml_file, 'r') as stream:\n",
    "    data_config = yaml.load(stream, Loader=yaml.FullLoader)"
   ]
  },
  {
   "cell_type": "code",
   "execution_count": 8,
   "id": "billion-cooking",
   "metadata": {},
   "outputs": [],
   "source": [
    "ci = data_config['Indices'] # use to simplify the notation\n",
    "index_name = 'Acoustic_Complexity_Index'"
   ]
  },
  {
   "cell_type": "code",
   "execution_count": 9,
   "id": "durable-munich",
   "metadata": {},
   "outputs": [
    {
     "data": {
      "text/plain": [
       "{'Acoustic_Complexity_Index': {'function': 'compute_ACI',\n",
       "  'spectro': {'windowLength': 512,\n",
       "   'windowHop': 512,\n",
       "   'scale_audio': False,\n",
       "   'square': False,\n",
       "   'windowType': 'hamming',\n",
       "   'centered': False,\n",
       "   'normalized': True},\n",
       "  'arguments': {'j_bin': 5}},\n",
       " 'Acoustic_Diversity_Index': {'function': 'compute_ADI',\n",
       "  'arguments': {'max_freq': 10000, 'db_threshold': -50, 'freq_step': 1000}},\n",
       " 'Acoustic_Evenness_Index': {'function': 'compute_AEI',\n",
       "  'arguments': {'max_freq': 10000, 'db_threshold': -50, 'freq_step': 1000}},\n",
       " 'Bio_acoustic_Index': {'function': 'compute_BI',\n",
       "  'spectro': {'windowLength': 512,\n",
       "   'windowHop': 256,\n",
       "   'scale_audio': True,\n",
       "   'square': False,\n",
       "   'windowType': 'hanning',\n",
       "   'centered': False,\n",
       "   'normalized': False},\n",
       "  'arguments': {'min_freq': 2000, 'max_freq': 8000}},\n",
       " 'Normalized_Difference_Sound_Index': {'function': 'compute_NDSI',\n",
       "  'arguments': {'windowLength': 1024,\n",
       "   'anthrophony': [1000, 2000],\n",
       "   'biophony': [2000, 11000]}},\n",
       " 'RMS_energy': {'function': 'compute_rms_energy',\n",
       "  'arguments': {'windowLength': 512, 'windowHop': 256, 'integer': False}},\n",
       " 'Spectral_centroid': {'function': 'compute_spectral_centroid',\n",
       "  'spectro': {'windowLength': 512,\n",
       "   'windowHop': 256,\n",
       "   'scale_audio': True,\n",
       "   'square': False,\n",
       "   'windowType': 'hanning',\n",
       "   'centered': False,\n",
       "   'normalized': False}},\n",
       " 'Spectral_Entropy': {'function': 'compute_SH',\n",
       "  'spectro': {'windowLength': 512,\n",
       "   'windowHop': 256,\n",
       "   'scale_audio': True,\n",
       "   'square': False,\n",
       "   'windowType': 'hanning',\n",
       "   'centered': False,\n",
       "   'normalized': False}},\n",
       " 'Temporal_Entropy': {'function': 'compute_TH',\n",
       "  'arguments': {'integer': True}},\n",
       " 'ZCR': {'function': 'compute_zcr',\n",
       "  'arguments': {'windowLength': 512, 'windowHop': 256}},\n",
       " 'Wave_SNR': {'function': 'compute_wave_SNR',\n",
       "  'arguments': {'frame_length_e': 512,\n",
       "   'min_DB': -60,\n",
       "   'window_smoothing_e': 5,\n",
       "   'activity_threshold_dB': 3,\n",
       "   'hist_number_bins': 100,\n",
       "   'dB_range': 10}},\n",
       " 'NB_peaks': {'function': 'compute_NB_peaks',\n",
       "  'spectro': {'windowLength': 512,\n",
       "   'windowHop': 512,\n",
       "   'scale_audio': False,\n",
       "   'square': False,\n",
       "   'windowType': 'hamming',\n",
       "   'centered': False,\n",
       "   'normalized': True},\n",
       "  'arguments': {'freqband': 200,\n",
       "   'normalization': True,\n",
       "   'slopes': [0.01, 0.01]}},\n",
       " 'Acoustic_Diversity_Index_NR': {'function': 'compute_ADI',\n",
       "  'remove_noiseInSpectro': {'histo_relative_size': 8, 'window_smoothing': 5},\n",
       "  'arguments': {'max_freq': 10000, 'db_threshold': -50, 'freq_step': 1000}},\n",
       " 'Acoustic_Evenness_Index_NR': {'function': 'compute_AEI',\n",
       "  'remove_noiseInSpectro': {'histo_relative_size': 8, 'window_smoothing': 5},\n",
       "  'arguments': {'max_freq': 10000, 'db_threshold': -50, 'freq_step': 1000}},\n",
       " 'Bio_acoustic_Index_NR': {'function': 'compute_BI',\n",
       "  'remove_noiseInSpectro': {'histo_relative_size': 8, 'window_smoothing': 5},\n",
       "  'spectro': {'windowLength': 512,\n",
       "   'windowHop': 256,\n",
       "   'scale_audio': True,\n",
       "   'square': False,\n",
       "   'windowType': 'hanning',\n",
       "   'centered': False,\n",
       "   'normalized': False},\n",
       "  'arguments': {'min_freq': 2000, 'max_freq': 8000}},\n",
       " 'Spectral_Entropy_NR': {'function': 'compute_SH',\n",
       "  'remove_noiseInSpectro': {'histo_relative_size': 8, 'window_smoothing': 5},\n",
       "  'spectro': {'windowLength': 512,\n",
       "   'windowHop': 256,\n",
       "   'scale_audio': True,\n",
       "   'square': False,\n",
       "   'windowType': 'hanning',\n",
       "   'centered': False,\n",
       "   'normalized': False}}}"
      ]
     },
     "execution_count": 9,
     "metadata": {},
     "output_type": "execute_result"
    }
   ],
   "source": [
    "ci"
   ]
  },
  {
   "cell_type": "code",
   "execution_count": 10,
   "id": "referenced-proceeding",
   "metadata": {},
   "outputs": [],
   "source": [
    "spectro, _ = cix.compute_spectrogram(file, **ci[index_name]['spectro'])\n",
    "\n",
    "# methodToCall = globals().get(ci[index_name]['function'])\n",
    "# j_bin = int(ci[index_name]['arguments']['j_bin'] * file.sr / ci[index_name]['spectro']['windowHop']) # transform j_bin in samples\n",
    "# main_value, temporal_values = methodToCall(spectro, j_bin)\n",
    "# file.indices[index_name] = Index(index_name, temporal_values=temporal_values, main_value=main_value)"
   ]
  },
  {
   "cell_type": "code",
   "execution_count": 11,
   "id": "administrative-policy",
   "metadata": {},
   "outputs": [
    {
     "name": "stdout",
     "output_type": "stream",
     "text": [
      "compute_ACI\n"
     ]
    }
   ],
   "source": [
    "methodToCall = ci[index_name]['function']\n",
    "\n",
    "print(methodToCall)"
   ]
  },
  {
   "cell_type": "code",
   "execution_count": 14,
   "id": "mental-covering",
   "metadata": {},
   "outputs": [
    {
     "name": "stdout",
     "output_type": "stream",
     "text": [
      "None\n"
     ]
    }
   ],
   "source": [
    "print(globals().get(data_config['Indices']['Acoustic_Complexity_Index']['function']))"
   ]
  },
  {
   "cell_type": "code",
   "execution_count": 15,
   "id": "urban-martin",
   "metadata": {},
   "outputs": [
    {
     "ename": "TypeError",
     "evalue": "'str' object is not callable",
     "output_type": "error",
     "traceback": [
      "\u001b[0;31m---------------------------------------------------------------------------\u001b[0m",
      "\u001b[0;31mTypeError\u001b[0m                                 Traceback (most recent call last)",
      "\u001b[0;32m<ipython-input-15-9baeb0a13dbd>\u001b[0m in \u001b[0;36m<module>\u001b[0;34m\u001b[0m\n\u001b[1;32m      1\u001b[0m \u001b[0mj_bin\u001b[0m \u001b[0;34m=\u001b[0m \u001b[0mint\u001b[0m\u001b[0;34m(\u001b[0m\u001b[0mci\u001b[0m\u001b[0;34m[\u001b[0m\u001b[0mindex_name\u001b[0m\u001b[0;34m]\u001b[0m\u001b[0;34m[\u001b[0m\u001b[0;34m'arguments'\u001b[0m\u001b[0;34m]\u001b[0m\u001b[0;34m[\u001b[0m\u001b[0;34m'j_bin'\u001b[0m\u001b[0;34m]\u001b[0m \u001b[0;34m*\u001b[0m \u001b[0mfile\u001b[0m\u001b[0;34m.\u001b[0m\u001b[0msr\u001b[0m \u001b[0;34m/\u001b[0m \u001b[0mci\u001b[0m\u001b[0;34m[\u001b[0m\u001b[0mindex_name\u001b[0m\u001b[0;34m]\u001b[0m\u001b[0;34m[\u001b[0m\u001b[0;34m'spectro'\u001b[0m\u001b[0;34m]\u001b[0m\u001b[0;34m[\u001b[0m\u001b[0;34m'windowHop'\u001b[0m\u001b[0;34m]\u001b[0m\u001b[0;34m)\u001b[0m \u001b[0;31m# transform j_bin in samples\u001b[0m\u001b[0;34m\u001b[0m\u001b[0;34m\u001b[0m\u001b[0m\n\u001b[1;32m      2\u001b[0m \u001b[0;34m\u001b[0m\u001b[0m\n\u001b[0;32m----> 3\u001b[0;31m \u001b[0mmain_value\u001b[0m\u001b[0;34m,\u001b[0m \u001b[0mtemporal_values\u001b[0m \u001b[0;34m=\u001b[0m \u001b[0mmethodToCall\u001b[0m\u001b[0;34m(\u001b[0m\u001b[0mspectro\u001b[0m\u001b[0;34m,\u001b[0m \u001b[0mj_bin\u001b[0m\u001b[0;34m)\u001b[0m\u001b[0;34m\u001b[0m\u001b[0;34m\u001b[0m\u001b[0m\n\u001b[0m\u001b[1;32m      4\u001b[0m \u001b[0mfile\u001b[0m\u001b[0;34m.\u001b[0m\u001b[0mindices\u001b[0m\u001b[0;34m[\u001b[0m\u001b[0mindex_name\u001b[0m\u001b[0;34m]\u001b[0m \u001b[0;34m=\u001b[0m \u001b[0mIndex\u001b[0m\u001b[0;34m(\u001b[0m\u001b[0mindex_name\u001b[0m\u001b[0;34m,\u001b[0m \u001b[0mtemporal_values\u001b[0m\u001b[0;34m=\u001b[0m\u001b[0mtemporal_values\u001b[0m\u001b[0;34m,\u001b[0m \u001b[0mmain_value\u001b[0m\u001b[0;34m=\u001b[0m\u001b[0mmain_value\u001b[0m\u001b[0;34m)\u001b[0m\u001b[0;34m\u001b[0m\u001b[0;34m\u001b[0m\u001b[0m\n",
      "\u001b[0;31mTypeError\u001b[0m: 'str' object is not callable"
     ]
    }
   ],
   "source": [
    "j_bin = int(ci[index_name]['arguments']['j_bin'] * file.sr / ci[index_name]['spectro']['windowHop']) # transform j_bin in samples\n",
    "\n",
    "main_value, temporal_values = methodToCall(spectro, j_bin)\n",
    "file.indices[index_name] = Index(index_name, temporal_values=temporal_values, main_value=main_value)"
   ]
  },
  {
   "cell_type": "code",
   "execution_count": 16,
   "id": "corrected-stamp",
   "metadata": {},
   "outputs": [],
   "source": [
    "main_value, temporal_values = cix.compute_ACI(spectro, j_bin)"
   ]
  },
  {
   "cell_type": "code",
   "execution_count": 17,
   "id": "elementary-jewel",
   "metadata": {},
   "outputs": [
    {
     "data": {
      "text/plain": [
       "36856.63962720549"
      ]
     },
     "execution_count": 17,
     "metadata": {},
     "output_type": "execute_result"
    }
   ],
   "source": [
    "main_value"
   ]
  },
  {
   "cell_type": "code",
   "execution_count": 18,
   "id": "friendly-island",
   "metadata": {},
   "outputs": [
    {
     "data": {
      "text/plain": [
       "[223.12220995527747,\n",
       " 159.84578638510604,\n",
       " 154.10893968189123,\n",
       " 156.50244761762403,\n",
       " 150.18356854010787,\n",
       " 152.23355702277667,\n",
       " 149.59487327665985,\n",
       " 150.56291963168067,\n",
       " 149.88503607060466,\n",
       " 149.65844159711622,\n",
       " 148.63190156898537,\n",
       " 148.47548415134287,\n",
       " 150.07102859777072,\n",
       " 149.387748476757,\n",
       " 151.51544613398804,\n",
       " 149.2592512262458,\n",
       " 151.51337469270834,\n",
       " 150.53648899646427,\n",
       " 151.23010414109592,\n",
       " 149.1641824989321,\n",
       " 150.43542668457266,\n",
       " 151.4327740272395,\n",
       " 150.0133319455199,\n",
       " 152.96921236034953,\n",
       " 151.56498379936494,\n",
       " 149.88634634707765,\n",
       " 147.99029377101647,\n",
       " 149.28163252125051,\n",
       " 150.5392938740266,\n",
       " 148.58099279767416,\n",
       " 149.7251474660429,\n",
       " 150.88075391608055,\n",
       " 150.85178447797645,\n",
       " 149.7196636120985,\n",
       " 151.34992248541508,\n",
       " 150.2831614789547,\n",
       " 150.26110671587895,\n",
       " 150.7409564522303,\n",
       " 150.84780227090292,\n",
       " 151.22228281417978,\n",
       " 151.64111106874216,\n",
       " 151.8855279408607,\n",
       " 150.20252070669747,\n",
       " 152.65813447392097,\n",
       " 151.94217603702685,\n",
       " 152.13359339506005,\n",
       " 151.64671945778204,\n",
       " 152.35744462566115,\n",
       " 153.69347132762547,\n",
       " 152.61356184709547,\n",
       " 150.9609119108591,\n",
       " 153.23595824909043,\n",
       " 151.22738461665776,\n",
       " 154.08013960766317,\n",
       " 151.98897511743152,\n",
       " 152.8418962752762,\n",
       " 151.59171917470923,\n",
       " 150.6147247365478,\n",
       " 150.17881682724916,\n",
       " 150.27771357216002,\n",
       " 151.32408998853967,\n",
       " 152.8328566347567,\n",
       " 149.8901683830595,\n",
       " 150.97458497926448,\n",
       " 150.83892137094512,\n",
       " 150.51866704847214,\n",
       " 149.78079144149066,\n",
       " 150.90527797248245,\n",
       " 151.44694046905303,\n",
       " 151.64005418119683,\n",
       " 150.36511849738505,\n",
       " 150.6592973586539,\n",
       " 151.1865400118333,\n",
       " 150.8446446208222,\n",
       " 150.32755189126885,\n",
       " 151.18297357254528,\n",
       " 149.64428150725013,\n",
       " 150.35732010059942,\n",
       " 152.3845274831805,\n",
       " 151.2443027834495,\n",
       " 155.95078642841096,\n",
       " 159.56825542562493,\n",
       " 164.81593436727152,\n",
       " 177.64370266416353,\n",
       " 170.7792522364856,\n",
       " 158.61893193021464,\n",
       " 153.0922746757246,\n",
       " 152.62426368378567,\n",
       " 152.13020969678402,\n",
       " 150.71212901554364,\n",
       " 148.61065232351572,\n",
       " 152.23081937417746,\n",
       " 152.9485578815519,\n",
       " 153.25104060505197,\n",
       " 152.9776478097119,\n",
       " 151.83644082651324,\n",
       " 151.49685923084877,\n",
       " 149.88404171247763,\n",
       " 150.14033889786435,\n",
       " 151.49387550235298,\n",
       " 151.26641473040667,\n",
       " 150.00147282091572,\n",
       " 150.15254025030688,\n",
       " 150.88508156376125,\n",
       " 152.60780967125373,\n",
       " 150.8214225115824,\n",
       " 151.1374116491968,\n",
       " 150.32750687297136,\n",
       " 149.93937344710713,\n",
       " 150.35176040492087,\n",
       " 148.99533916135198,\n",
       " 149.61763055951675,\n",
       " 150.17511098980378,\n",
       " 151.28028026275797,\n",
       " 150.56088726517913,\n",
       " 149.71666261670552,\n",
       " 149.24248465364275,\n",
       " 149.44523549915127,\n",
       " 149.6968820752553,\n",
       " 151.11727225230396,\n",
       " 150.85458586978248,\n",
       " 150.06769220162772,\n",
       " 150.29315789951798,\n",
       " 150.5426644478192,\n",
       " 150.18725192303467,\n",
       " 149.22970512049326,\n",
       " 150.4815167030465,\n",
       " 151.48393033287832,\n",
       " 150.7729264603528,\n",
       " 151.33281679431218,\n",
       " 150.94153932288023,\n",
       " 149.83925955327132,\n",
       " 150.41810938744044,\n",
       " 150.897733179699,\n",
       " 149.7428271836459,\n",
       " 150.4960339492968,\n",
       " 148.98752432711115,\n",
       " 148.64366899643397,\n",
       " 150.02041950758158,\n",
       " 148.89332311535065,\n",
       " 149.8615884684802,\n",
       " 150.45423803357733,\n",
       " 148.05221606478491,\n",
       " 149.18158885492164,\n",
       " 148.84190250019392,\n",
       " 148.86171823954484,\n",
       " 148.5634258600615,\n",
       " 149.6920393916654,\n",
       " 150.21599830698764,\n",
       " 149.86538711619409,\n",
       " 150.34912872154808,\n",
       " 150.10128462388974,\n",
       " 149.82936346432186,\n",
       " 149.42593388623874,\n",
       " 149.81573479663322,\n",
       " 150.31318507879354,\n",
       " 148.6847560003885,\n",
       " 148.87253750573146,\n",
       " 149.68241339841768,\n",
       " 150.15265131946688,\n",
       " 150.22751688871472,\n",
       " 149.058642240659,\n",
       " 150.75424192494003,\n",
       " 148.85203887123856,\n",
       " 149.90882963153365,\n",
       " 149.59298651688596,\n",
       " 148.71852581368407,\n",
       " 148.76115703656933,\n",
       " 148.38969557142923,\n",
       " 149.585883853464,\n",
       " 149.85926178906877,\n",
       " 149.49145453339702,\n",
       " 149.73472026161542,\n",
       " 148.9674186547629,\n",
       " 149.03333329987402,\n",
       " 149.19436067505933,\n",
       " 149.27441488418015,\n",
       " 151.25713985387404,\n",
       " 149.8554470908025,\n",
       " 149.39540084139796,\n",
       " 150.40704211879648,\n",
       " 152.26973578839738,\n",
       " 148.547425979149,\n",
       " 148.11423597302704,\n",
       " 149.86125911345283,\n",
       " 149.7964607225266,\n",
       " 150.45666702007972,\n",
       " 152.90896734449313,\n",
       " 152.44155827947895,\n",
       " 149.4170474812909,\n",
       " 149.47886687193073,\n",
       " 152.49687922859457,\n",
       " 150.02699415908583,\n",
       " 150.06461003747506,\n",
       " 149.63867109596004,\n",
       " 149.7751329834242,\n",
       " 150.5751984566421,\n",
       " 149.48497229277967,\n",
       " 153.2493231523226,\n",
       " 149.42830810824097,\n",
       " 150.4607594982472,\n",
       " 153.62033674985128,\n",
       " 151.0800573410472,\n",
       " 150.44737778869634,\n",
       " 150.22779638615796,\n",
       " 151.73891077787349,\n",
       " 156.1054763836264,\n",
       " 153.94116354307957,\n",
       " 149.33796042954583,\n",
       " 152.3174099966478,\n",
       " 151.31872748645176,\n",
       " 150.8871267001373,\n",
       " 151.12519283619594,\n",
       " 151.7714802118815,\n",
       " 149.2685250168196,\n",
       " 153.70205943468181,\n",
       " 152.02005159158225,\n",
       " 149.84842022535346,\n",
       " 149.17656548801529,\n",
       " 151.3945111354073,\n",
       " 152.35975384198284,\n",
       " 150.10708980151958,\n",
       " 149.77686853127062,\n",
       " 152.3993791545627,\n",
       " 150.83715103979725,\n",
       " 150.09641825670622,\n",
       " 148.96033943325574,\n",
       " 150.41375348889662,\n",
       " 148.5841386193515,\n",
       " 149.8060923387508,\n",
       " 150.8780216759364,\n",
       " 148.68758015275372,\n",
       " 149.7714895914374,\n",
       " 149.91655531997148,\n",
       " 149.34031459276082,\n",
       " 150.24734800660306,\n",
       " 147.8116139711098,\n",
       " 149.04942353144284,\n",
       " 149.7655488226469,\n",
       " 151.4034777855931,\n",
       " 164.80968921229757,\n",
       " 169.7799258287943,\n",
       " 220.4264759475045]"
      ]
     },
     "execution_count": 18,
     "metadata": {},
     "output_type": "execute_result"
    }
   ],
   "source": [
    "temporal_values"
   ]
  },
  {
   "cell_type": "code",
   "execution_count": 19,
   "id": "classical-throat",
   "metadata": {},
   "outputs": [],
   "source": [
    "from scipy import signal\n",
    "import csv"
   ]
  },
  {
   "cell_type": "code",
   "execution_count": 20,
   "id": "valuable-chess",
   "metadata": {},
   "outputs": [],
   "source": [
    "file.indices[index_name] = aix.Index(index_name, temporal_values=temporal_values, main_value=main_value)"
   ]
  },
  {
   "cell_type": "code",
   "execution_count": 21,
   "id": "twelve-diamond",
   "metadata": {},
   "outputs": [
    {
     "name": "stdout",
     "output_type": "stream",
     "text": [
      "- Write Indices\n"
     ]
    },
    {
     "data": {
      "text/plain": [
       "148"
      ]
     },
     "execution_count": 21,
     "metadata": {},
     "output_type": "execute_result"
    }
   ],
   "source": [
    "print('- Write Indices')\n",
    "writer = csv.writer(open('dict.csv', 'w'))\n",
    "\n",
    "keys = ['filename']\n",
    "values = [file.file_name]\n",
    "for index, Index in file.indices.items():\n",
    "    for key, value in Index.__dict__.items():\n",
    "        if key != 'name':\n",
    "            keys.append(index + '__' + key)\n",
    "            values.append(value)\n",
    "writer.writerow(keys)\n",
    "writer.writerow(values)"
   ]
  },
  {
   "cell_type": "code",
   "execution_count": null,
   "id": "seeing-links",
   "metadata": {},
   "outputs": [],
   "source": []
  }
 ],
 "metadata": {
  "kernelspec": {
   "display_name": "Python 3",
   "language": "python",
   "name": "python3"
  },
  "language_info": {
   "codemirror_mode": {
    "name": "ipython",
    "version": 3
   },
   "file_extension": ".py",
   "mimetype": "text/x-python",
   "name": "python",
   "nbconvert_exporter": "python",
   "pygments_lexer": "ipython3",
   "version": "3.7.4"
  }
 },
 "nbformat": 4,
 "nbformat_minor": 5
}
