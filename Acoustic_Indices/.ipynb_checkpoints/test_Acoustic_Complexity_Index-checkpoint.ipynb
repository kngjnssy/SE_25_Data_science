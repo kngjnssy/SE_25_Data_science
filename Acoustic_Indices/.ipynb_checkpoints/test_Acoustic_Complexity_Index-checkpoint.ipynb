{
 "cells": [
  {
   "cell_type": "code",
   "execution_count": 49,
   "id": "about-irrigation",
   "metadata": {},
   "outputs": [],
   "source": [
    "import sys\n",
    "from scipy import signal, fftpack\n",
    "import numpy as np\n",
    "import matplotlib.pyplot as plt\n",
    "\n",
    "from scipy.io.wavfile import read as wavread\n",
    "from scipy.io.wavfile import write as wavwrite\n",
    "from os.path import basename\n",
    "\n",
    "\n",
    "import yaml\n",
    "from scipy import signal\n",
    "import csv"
   ]
  },
  {
   "cell_type": "code",
   "execution_count": 50,
   "id": "tender-contrary",
   "metadata": {},
   "outputs": [
    {
     "data": {
      "text/plain": [
       "'6.0'"
      ]
     },
     "execution_count": 50,
     "metadata": {},
     "output_type": "execute_result"
    }
   ],
   "source": [
    "yaml.__version__\n"
   ]
  },
  {
   "cell_type": "code",
   "execution_count": 51,
   "id": "employed-nowhere",
   "metadata": {},
   "outputs": [],
   "source": [
    "import acoustic_index as aix\n",
    "import compute_indice as cix\n",
    "import main_test_indices as mt"
   ]
  },
  {
   "cell_type": "code",
   "execution_count": 33,
   "id": "indirect-picking",
   "metadata": {},
   "outputs": [],
   "source": [
    "# mt??"
   ]
  },
  {
   "cell_type": "code",
   "execution_count": 52,
   "id": "private-basket",
   "metadata": {},
   "outputs": [
    {
     "name": "stdout",
     "output_type": "stream",
     "text": [
      "Read the audio file: audio_files/BALMER-02_0_20150620_0445.wav\n",
      "\tSuccessful read of the audio file: audio_files/BALMER-02_0_20150620_0445.wav\n"
     ]
    }
   ],
   "source": [
    "#Set config file\n",
    "yml_file = 'yaml_config/config_014_butter.yaml'\n",
    "\n",
    "# Read signal -------------------------------------\n",
    "filename = 'audio_files/BALMER-02_0_20150620_0445.wav'\n",
    "\n",
    "\n",
    "file = mt.AudioFile(filename, verbose=True)\n",
    "\n",
    "with open(yml_file, 'r') as stream:\n",
    "    data_config = yaml.load(stream, Loader=yaml.FullLoader)"
   ]
  },
  {
   "cell_type": "code",
   "execution_count": 53,
   "id": "powered-notebook",
   "metadata": {},
   "outputs": [],
   "source": [
    "ci = data_config['Indices'] # use to simplify the notation\n",
    "index_name = 'Acoustic_Complexity_Index'"
   ]
  },
  {
   "cell_type": "code",
   "execution_count": 55,
   "id": "inappropriate-process",
   "metadata": {},
   "outputs": [
    {
     "data": {
      "text/plain": [
       "{'Acoustic_Complexity_Index': {'function': 'compute_ACI',\n",
       "  'spectro': {'windowLength': 512,\n",
       "   'windowHop': 512,\n",
       "   'scale_audio': False,\n",
       "   'square': False,\n",
       "   'windowType': 'hamming',\n",
       "   'centered': False,\n",
       "   'normalized': True},\n",
       "  'arguments': {'j_bin': 5}},\n",
       " 'Acoustic_Diversity_Index': {'function': 'compute_ADI',\n",
       "  'arguments': {'max_freq': 10000, 'db_threshold': -50, 'freq_step': 1000}},\n",
       " 'Acoustic_Evenness_Index': {'function': 'compute_AEI',\n",
       "  'arguments': {'max_freq': 10000, 'db_threshold': -50, 'freq_step': 1000}},\n",
       " 'Bio_acoustic_Index': {'function': 'compute_BI',\n",
       "  'spectro': {'windowLength': 512,\n",
       "   'windowHop': 256,\n",
       "   'scale_audio': True,\n",
       "   'square': False,\n",
       "   'windowType': 'hanning',\n",
       "   'centered': False,\n",
       "   'normalized': False},\n",
       "  'arguments': {'min_freq': 2000, 'max_freq': 8000}},\n",
       " 'Normalized_Difference_Sound_Index': {'function': 'compute_NDSI',\n",
       "  'arguments': {'windowLength': 1024,\n",
       "   'anthrophony': [1000, 2000],\n",
       "   'biophony': [2000, 11000]}},\n",
       " 'RMS_energy': {'function': 'compute_rms_energy',\n",
       "  'arguments': {'windowLength': 512, 'windowHop': 256, 'integer': False}},\n",
       " 'Spectral_centroid': {'function': 'compute_spectral_centroid',\n",
       "  'spectro': {'windowLength': 512,\n",
       "   'windowHop': 256,\n",
       "   'scale_audio': True,\n",
       "   'square': False,\n",
       "   'windowType': 'hanning',\n",
       "   'centered': False,\n",
       "   'normalized': False}},\n",
       " 'Spectral_Entropy': {'function': 'compute_SH',\n",
       "  'spectro': {'windowLength': 512,\n",
       "   'windowHop': 256,\n",
       "   'scale_audio': True,\n",
       "   'square': False,\n",
       "   'windowType': 'hanning',\n",
       "   'centered': False,\n",
       "   'normalized': False}},\n",
       " 'Temporal_Entropy': {'function': 'compute_TH',\n",
       "  'arguments': {'integer': True}},\n",
       " 'ZCR': {'function': 'compute_zcr',\n",
       "  'arguments': {'windowLength': 512, 'windowHop': 256}},\n",
       " 'Wave_SNR': {'function': 'compute_wave_SNR',\n",
       "  'arguments': {'frame_length_e': 512,\n",
       "   'min_DB': -60,\n",
       "   'window_smoothing_e': 5,\n",
       "   'activity_threshold_dB': 3,\n",
       "   'hist_number_bins': 100,\n",
       "   'dB_range': 10}},\n",
       " 'NB_peaks': {'function': 'compute_NB_peaks',\n",
       "  'spectro': {'windowLength': 512,\n",
       "   'windowHop': 512,\n",
       "   'scale_audio': False,\n",
       "   'square': False,\n",
       "   'windowType': 'hamming',\n",
       "   'centered': False,\n",
       "   'normalized': True},\n",
       "  'arguments': {'freqband': 200,\n",
       "   'normalization': True,\n",
       "   'slopes': [0.01, 0.01]}},\n",
       " 'Acoustic_Diversity_Index_NR': {'function': 'compute_ADI',\n",
       "  'remove_noiseInSpectro': {'histo_relative_size': 8, 'window_smoothing': 5},\n",
       "  'arguments': {'max_freq': 10000, 'db_threshold': -50, 'freq_step': 1000}},\n",
       " 'Acoustic_Evenness_Index_NR': {'function': 'compute_AEI',\n",
       "  'remove_noiseInSpectro': {'histo_relative_size': 8, 'window_smoothing': 5},\n",
       "  'arguments': {'max_freq': 10000, 'db_threshold': -50, 'freq_step': 1000}},\n",
       " 'Bio_acoustic_Index_NR': {'function': 'compute_BI',\n",
       "  'remove_noiseInSpectro': {'histo_relative_size': 8, 'window_smoothing': 5},\n",
       "  'spectro': {'windowLength': 512,\n",
       "   'windowHop': 256,\n",
       "   'scale_audio': True,\n",
       "   'square': False,\n",
       "   'windowType': 'hanning',\n",
       "   'centered': False,\n",
       "   'normalized': False},\n",
       "  'arguments': {'min_freq': 2000, 'max_freq': 8000}},\n",
       " 'Spectral_Entropy_NR': {'function': 'compute_SH',\n",
       "  'remove_noiseInSpectro': {'histo_relative_size': 8, 'window_smoothing': 5},\n",
       "  'spectro': {'windowLength': 512,\n",
       "   'windowHop': 256,\n",
       "   'scale_audio': True,\n",
       "   'square': False,\n",
       "   'windowType': 'hanning',\n",
       "   'centered': False,\n",
       "   'normalized': False}}}"
      ]
     },
     "execution_count": 55,
     "metadata": {},
     "output_type": "execute_result"
    }
   ],
   "source": [
    "ci"
   ]
  },
  {
   "cell_type": "code",
   "execution_count": 60,
   "id": "experienced-narrow",
   "metadata": {},
   "outputs": [],
   "source": [
    "spectro, _ = cix.compute_spectrogram(file, **ci[index_name]['spectro'])\n",
    "\n",
    "# methodToCall = globals().get(ci[index_name]['function'])\n",
    "# j_bin = int(ci[index_name]['arguments']['j_bin'] * file.sr / ci[index_name]['spectro']['windowHop']) # transform j_bin in samples\n",
    "# main_value, temporal_values = methodToCall(spectro, j_bin)\n",
    "# file.indices[index_name] = Index(index_name, temporal_values=temporal_values, main_value=main_value)"
   ]
  },
  {
   "cell_type": "code",
   "execution_count": 61,
   "id": "binding-mobile",
   "metadata": {},
   "outputs": [
    {
     "name": "stdout",
     "output_type": "stream",
     "text": [
      "compute_ACI\n"
     ]
    }
   ],
   "source": [
    "methodToCall = ci[index_name]['function']\n",
    "\n",
    "print(methodToCall)"
   ]
  },
  {
   "cell_type": "code",
   "execution_count": 62,
   "id": "hybrid-timothy",
   "metadata": {},
   "outputs": [
    {
     "name": "stdout",
     "output_type": "stream",
     "text": [
      "None\n"
     ]
    }
   ],
   "source": [
    "print(globals().get(data_config['Indices']['Acoustic_Complexity_Index']['function']))"
   ]
  },
  {
   "cell_type": "code",
   "execution_count": 69,
   "id": "great-modern",
   "metadata": {},
   "outputs": [
    {
     "ename": "TypeError",
     "evalue": "'str' object is not callable",
     "output_type": "error",
     "traceback": [
      "\u001b[0;31m---------------------------------------------------------------------------\u001b[0m",
      "\u001b[0;31mTypeError\u001b[0m                                 Traceback (most recent call last)",
      "\u001b[0;32m<ipython-input-69-9baeb0a13dbd>\u001b[0m in \u001b[0;36m<module>\u001b[0;34m\u001b[0m\n\u001b[1;32m      1\u001b[0m \u001b[0mj_bin\u001b[0m \u001b[0;34m=\u001b[0m \u001b[0mint\u001b[0m\u001b[0;34m(\u001b[0m\u001b[0mci\u001b[0m\u001b[0;34m[\u001b[0m\u001b[0mindex_name\u001b[0m\u001b[0;34m]\u001b[0m\u001b[0;34m[\u001b[0m\u001b[0;34m'arguments'\u001b[0m\u001b[0;34m]\u001b[0m\u001b[0;34m[\u001b[0m\u001b[0;34m'j_bin'\u001b[0m\u001b[0;34m]\u001b[0m \u001b[0;34m*\u001b[0m \u001b[0mfile\u001b[0m\u001b[0;34m.\u001b[0m\u001b[0msr\u001b[0m \u001b[0;34m/\u001b[0m \u001b[0mci\u001b[0m\u001b[0;34m[\u001b[0m\u001b[0mindex_name\u001b[0m\u001b[0;34m]\u001b[0m\u001b[0;34m[\u001b[0m\u001b[0;34m'spectro'\u001b[0m\u001b[0;34m]\u001b[0m\u001b[0;34m[\u001b[0m\u001b[0;34m'windowHop'\u001b[0m\u001b[0;34m]\u001b[0m\u001b[0;34m)\u001b[0m \u001b[0;31m# transform j_bin in samples\u001b[0m\u001b[0;34m\u001b[0m\u001b[0;34m\u001b[0m\u001b[0m\n\u001b[1;32m      2\u001b[0m \u001b[0;34m\u001b[0m\u001b[0m\n\u001b[0;32m----> 3\u001b[0;31m \u001b[0mmain_value\u001b[0m\u001b[0;34m,\u001b[0m \u001b[0mtemporal_values\u001b[0m \u001b[0;34m=\u001b[0m \u001b[0mmethodToCall\u001b[0m\u001b[0;34m(\u001b[0m\u001b[0mspectro\u001b[0m\u001b[0;34m,\u001b[0m \u001b[0mj_bin\u001b[0m\u001b[0;34m)\u001b[0m\u001b[0;34m\u001b[0m\u001b[0;34m\u001b[0m\u001b[0m\n\u001b[0m\u001b[1;32m      4\u001b[0m \u001b[0mfile\u001b[0m\u001b[0;34m.\u001b[0m\u001b[0mindices\u001b[0m\u001b[0;34m[\u001b[0m\u001b[0mindex_name\u001b[0m\u001b[0;34m]\u001b[0m \u001b[0;34m=\u001b[0m \u001b[0mIndex\u001b[0m\u001b[0;34m(\u001b[0m\u001b[0mindex_name\u001b[0m\u001b[0;34m,\u001b[0m \u001b[0mtemporal_values\u001b[0m\u001b[0;34m=\u001b[0m\u001b[0mtemporal_values\u001b[0m\u001b[0;34m,\u001b[0m \u001b[0mmain_value\u001b[0m\u001b[0;34m=\u001b[0m\u001b[0mmain_value\u001b[0m\u001b[0;34m)\u001b[0m\u001b[0;34m\u001b[0m\u001b[0;34m\u001b[0m\u001b[0m\n",
      "\u001b[0;31mTypeError\u001b[0m: 'str' object is not callable"
     ]
    }
   ],
   "source": [
    "j_bin = int(ci[index_name]['arguments']['j_bin'] * file.sr / ci[index_name]['spectro']['windowHop']) # transform j_bin in samples\n",
    "\n",
    "main_value, temporal_values = methodToCall(spectro, j_bin)\n",
    "file.indices[index_name] = Index(index_name, temporal_values=temporal_values, main_value=main_value)"
   ]
  },
  {
   "cell_type": "code",
   "execution_count": 70,
   "id": "fantastic-isaac",
   "metadata": {},
   "outputs": [],
   "source": [
    "main_value, temporal_values = cix.compute_ACI(spectro, j_bin)"
   ]
  },
  {
   "cell_type": "code",
   "execution_count": 71,
   "id": "martial-resort",
   "metadata": {},
   "outputs": [
    {
     "data": {
      "text/plain": [
       "1801.6695500727164"
      ]
     },
     "execution_count": 71,
     "metadata": {},
     "output_type": "execute_result"
    }
   ],
   "source": [
    "main_value"
   ]
  },
  {
   "cell_type": "code",
   "execution_count": 72,
   "id": "regional-soldier",
   "metadata": {},
   "outputs": [
    {
     "data": {
      "text/plain": [
       "[150.23281050977826,\n",
       " 151.77502748193794,\n",
       " 149.97511536452106,\n",
       " 150.69520108955265,\n",
       " 150.76464075314286,\n",
       " 149.65656879094317,\n",
       " 149.11643244051103,\n",
       " 149.2254037805353,\n",
       " 150.69322067452308,\n",
       " 150.14128339867315,\n",
       " 149.83001863725244,\n",
       " 149.56382715134575]"
      ]
     },
     "execution_count": 72,
     "metadata": {},
     "output_type": "execute_result"
    }
   ],
   "source": [
    "temporal_values"
   ]
  },
  {
   "cell_type": "code",
   "execution_count": 73,
   "id": "pursuant-vancouver",
   "metadata": {},
   "outputs": [],
   "source": [
    "from scipy import signal\n",
    "import csv"
   ]
  },
  {
   "cell_type": "code",
   "execution_count": 75,
   "id": "grand-alias",
   "metadata": {},
   "outputs": [],
   "source": [
    "file.indices[index_name] = aix.Index(index_name, temporal_values=temporal_values, main_value=main_value)"
   ]
  },
  {
   "cell_type": "code",
   "execution_count": 77,
   "id": "broadband-minnesota",
   "metadata": {},
   "outputs": [
    {
     "name": "stdout",
     "output_type": "stream",
     "text": [
      "- Write Indices\n"
     ]
    },
    {
     "data": {
      "text/plain": [
       "163"
      ]
     },
     "execution_count": 77,
     "metadata": {},
     "output_type": "execute_result"
    }
   ],
   "source": [
    "print('- Write Indices')\n",
    "writer = csv.writer(open('dict.csv', 'w'))\n",
    "\n",
    "keys = ['filename']\n",
    "values = [file.file_name]\n",
    "for index, Index in file.indices.items():\n",
    "    for key, value in Index.__dict__.items():\n",
    "        if key != 'name':\n",
    "            keys.append(index + '__' + key)\n",
    "            values.append(value)\n",
    "writer.writerow(keys)\n",
    "writer.writerow(values)"
   ]
  }
 ],
 "metadata": {
  "kernelspec": {
   "display_name": "Python 3",
   "language": "python",
   "name": "python3"
  },
  "language_info": {
   "codemirror_mode": {
    "name": "ipython",
    "version": 3
   },
   "file_extension": ".py",
   "mimetype": "text/x-python",
   "name": "python",
   "nbconvert_exporter": "python",
   "pygments_lexer": "ipython3",
   "version": "3.7.4"
  }
 },
 "nbformat": 4,
 "nbformat_minor": 5
}
